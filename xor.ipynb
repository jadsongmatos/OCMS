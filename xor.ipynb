{
 "cells": [
  {
   "cell_type": "code",
   "execution_count": 1,
   "metadata": {},
   "outputs": [],
   "source": [
    "import numpy as np\n",
    "import sympy as sp"
   ]
  },
  {
   "cell_type": "code",
   "execution_count": 2,
   "metadata": {},
   "outputs": [],
   "source": [
    "def criar_vetor_de_simbolos(tamanho):\n",
    "    \"\"\"\n",
    "    Cria um vetor (lista) de símbolos SymPy com o tamanho especificado.\n",
    "\n",
    "    Parameters:\n",
    "    tamanho (int): O número de símbolos a serem criados.\n",
    "\n",
    "    Returns:\n",
    "    list: Lista contendo os símbolos criados.\n",
    "    \"\"\"\n",
    "    # Cria os símbolos usando sp.symbols\n",
    "    return sp.symbols(f'x1:{tamanho+1}')"
   ]
  },
  {
   "cell_type": "code",
   "execution_count": 3,
   "metadata": {},
   "outputs": [
    {
     "data": {
      "text/latex": [
       "$\\displaystyle \\left[\\begin{matrix}x_{1} & x_{2}\\\\x_{3} & x_{4}\\end{matrix}\\right]$"
      ],
      "text/plain": [
       "Matrix([\n",
       "[x1, x2],\n",
       "[x3, x4]])"
      ]
     },
     "execution_count": 3,
     "metadata": {},
     "output_type": "execute_result"
    }
   ],
   "source": [
    "sp.Matrix(np.array_split(criar_vetor_de_simbolos(4), 2))"
   ]
  },
  {
   "cell_type": "code",
   "execution_count": 4,
   "metadata": {},
   "outputs": [],
   "source": [
    "# Função para calcular o produto Kronecker considerando binário exclusivo\n",
    "def kronecker_binary(vectors):\n",
    "    result = np.array([1])  # Inicia com o elemento neutro da multiplicação\n",
    "    for v in vectors:\n",
    "        result = np.kron(result, v)\n",
    "    return result"
   ]
  },
  {
   "cell_type": "code",
   "execution_count": 5,
   "metadata": {},
   "outputs": [
    {
     "data": {
      "text/plain": [
       "array([0, 1, 0, 0])"
      ]
     },
     "execution_count": 5,
     "metadata": {},
     "output_type": "execute_result"
    }
   ],
   "source": [
    "kronecker_binary([[1,0],[0,1]])"
   ]
  },
  {
   "cell_type": "code",
   "execution_count": 6,
   "metadata": {},
   "outputs": [
    {
     "data": {
      "text/latex": [
       "$\\displaystyle \\left[\\begin{matrix}x_{1} x_{3}\\\\x_{1} x_{4}\\\\x_{2} x_{3}\\\\x_{2} x_{4}\\end{matrix}\\right]$"
      ],
      "text/plain": [
       "Matrix([\n",
       "[x1*x3],\n",
       "[x1*x4],\n",
       "[x2*x3],\n",
       "[x2*x4]])"
      ]
     },
     "execution_count": 6,
     "metadata": {},
     "output_type": "execute_result"
    }
   ],
   "source": [
    "variaveis = sp.Matrix(kronecker_binary(np.array_split(criar_vetor_de_simbolos(4), 2)))\n",
    "variaveis"
   ]
  },
  {
   "cell_type": "code",
   "execution_count": 7,
   "metadata": {},
   "outputs": [],
   "source": [
    "def decimal_para_binario_vetor(numero_decimal):\n",
    "    \"\"\"\n",
    "    Converte um número decimal para um vetor binário de 1 bits usando produtos de Kronecker.\n",
    "\n",
    "    Args:\n",
    "        numero_decimal (int): úmero decimal a ser convertido.\n",
    "\n",
    "    Returns:\n",
    "        np.ndarray: Vetor binário resultante.\n",
    "    \"\"\"\n",
    "    # Converter o número para uma string binária de 1 bits\n",
    "    numero_binario = format(numero_decimal, '01b')\n",
    "    \n",
    "    # Mapeamento simples para cada bit\n",
    "    mapeamento = {'0': [1, 0], '1': [0, 1]}\n",
    "    \n",
    "    # Inicializa o vetor com [1]\n",
    "    vetor = np.array([1])\n",
    "    \n",
    "    # Aplica o produto de Kronecker para cada bit\n",
    "    for bit in numero_binario:\n",
    "        vetor = np.kron(vetor, mapeamento[bit])\n",
    "    \n",
    "    return vetor"
   ]
  },
  {
   "cell_type": "code",
   "execution_count": 17,
   "metadata": {},
   "outputs": [
    {
     "data": {
      "text/latex": [
       "$\\displaystyle \\left[\\begin{matrix}1 & 0 & 0 & 1\\\\0 & 1 & 1 & 0\\end{matrix}\\right]$"
      ],
      "text/plain": [
       "Matrix([\n",
       "[1, 0, 0, 1],\n",
       "[0, 1, 1, 0]])"
      ]
     },
     "execution_count": 17,
     "metadata": {},
     "output_type": "execute_result"
    }
   ],
   "source": [
    "tabela_verdade = [0,1,1,0]\n",
    "vetores_binarios = []\n",
    "tamanho_bits = 1\n",
    "\n",
    "for numero in tabela_verdade:\n",
    "    try:\n",
    "        vetor = decimal_para_binario_vetor(numero)\n",
    "        vetores_binarios.append(vetor)\n",
    "    except (TypeError, ValueError) as e:\n",
    "        print(f\"Erro ao converter o número {numero}: {e}\")\n",
    "\n",
    "vetores_binarios = np.array(vetores_binarios).T\n",
    "sp.Matrix(vetores_binarios)"
   ]
  },
  {
   "cell_type": "code",
   "execution_count": 9,
   "metadata": {},
   "outputs": [
    {
     "data": {
      "text/latex": [
       "$\\displaystyle \\left[\\begin{matrix}x_{1} x_{3} + x_{2} x_{4}\\\\x_{1} x_{4} + x_{2} x_{3}\\end{matrix}\\right]$"
      ],
      "text/plain": [
       "Matrix([\n",
       "[x1*x3 + x2*x4],\n",
       "[x1*x4 + x2*x3]])"
      ]
     },
     "execution_count": 9,
     "metadata": {},
     "output_type": "execute_result"
    }
   ],
   "source": [
    "regra = sp.Matrix(np.dot(vetores_binarios, kronecker_binary(np.array_split(criar_vetor_de_simbolos(4), 2)))) # expressões simbólicas\n",
    "regra"
   ]
  },
  {
   "cell_type": "code",
   "execution_count": 10,
   "metadata": {},
   "outputs": [],
   "source": [
    "def criar_substituicoes(bits):\n",
    "    simbolos = criar_vetor_de_simbolos(bits * 2)\n",
    "    substituicoes = {simbolos[i+1]: 1-simbolos[i] for i in range(0, len(simbolos), 2)}\n",
    "    return substituicoes"
   ]
  },
  {
   "cell_type": "code",
   "execution_count": 11,
   "metadata": {},
   "outputs": [
    {
     "data": {
      "text/plain": [
       "{x2: 1 - x1, x4: 1 - x3, x6: 1 - x5}"
      ]
     },
     "execution_count": 11,
     "metadata": {},
     "output_type": "execute_result"
    }
   ],
   "source": [
    "substituicoes = criar_substituicoes(3)\n",
    "substituicoes"
   ]
  },
  {
   "cell_type": "code",
   "execution_count": 12,
   "metadata": {},
   "outputs": [
    {
     "data": {
      "text/latex": [
       "$\\displaystyle \\left[\\begin{matrix}x_{1} x_{3} + \\left(x_{1} - 1\\right) \\left(x_{3} - 1\\right)\\\\- 2 x_{1} x_{3} + x_{1} + x_{3}\\end{matrix}\\right]$"
      ],
      "text/plain": [
       "Matrix([\n",
       "[x1*x3 + (x1 - 1)*(x3 - 1)],\n",
       "[       -2*x1*x3 + x1 + x3]])"
      ]
     },
     "execution_count": 12,
     "metadata": {},
     "output_type": "execute_result"
    }
   ],
   "source": [
    "f = sp.simplify(regra.subs(substituicoes))\n",
    "f"
   ]
  },
  {
   "cell_type": "code",
   "execution_count": 15,
   "metadata": {},
   "outputs": [
    {
     "data": {
      "text/plain": [
       "[(0, 0), (0, 1), (1, 0), (1, 1)]"
      ]
     },
     "execution_count": 15,
     "metadata": {},
     "output_type": "execute_result"
    }
   ],
   "source": [
    "from itertools import product\n",
    "\n",
    "# Passo 3: Gerar todas as combinações de 0 e 1 para as 2 variáveis\n",
    "entradas = list(product([0, 1], repeat=2))\n",
    "entradas"
   ]
  },
  {
   "cell_type": "code",
   "execution_count": 21,
   "metadata": {},
   "outputs": [
    {
     "data": {
      "text/latex": [
       "$$ F_{1}(x1, x3) = x_{1} x_{3} + \\left(x_{1} - 1\\right) \\left(x_{3} - 1\\right) $$"
      ],
      "text/plain": [
       "<IPython.core.display.Latex object>"
      ]
     },
     "metadata": {},
     "output_type": "display_data"
    },
    {
     "data": {
      "text/latex": [
       "$$ F_{1}(0,0) = (0) (0) + \\left((0) - 1\\right) \\left((0) - 1\\right) = 1 $$"
      ],
      "text/plain": [
       "<IPython.core.display.Latex object>"
      ]
     },
     "metadata": {},
     "output_type": "display_data"
    },
    {
     "data": {
      "text/latex": [
       "$$ F_{1}(0,1) = (0) (1) + \\left((0) - 1\\right) \\left((1) - 1\\right) = 0 $$"
      ],
      "text/plain": [
       "<IPython.core.display.Latex object>"
      ]
     },
     "metadata": {},
     "output_type": "display_data"
    },
    {
     "data": {
      "text/latex": [
       "$$ F_{1}(1,0) = (1) (0) + \\left((1) - 1\\right) \\left((0) - 1\\right) = 0 $$"
      ],
      "text/plain": [
       "<IPython.core.display.Latex object>"
      ]
     },
     "metadata": {},
     "output_type": "display_data"
    },
    {
     "data": {
      "text/latex": [
       "$$ F_{1}(1,1) = (1) (1) + \\left((1) - 1\\right) \\left((1) - 1\\right) = 1 $$"
      ],
      "text/plain": [
       "<IPython.core.display.Latex object>"
      ]
     },
     "metadata": {},
     "output_type": "display_data"
    },
    {
     "data": {
      "text/latex": [
       "$$ \\text{Nenhuma coluna é igual a } x_{1} x_{3} + \\left(x_{1} - 1\\right) \\left(x_{3} - 1\\right) $$"
      ],
      "text/plain": [
       "<IPython.core.display.Latex object>"
      ]
     },
     "metadata": {},
     "output_type": "display_data"
    },
    {
     "data": {
      "text/latex": [
       "$$ F_{2}(x1, x3) = - 2 x_{1} x_{3} + x_{1} + x_{3} $$"
      ],
      "text/plain": [
       "<IPython.core.display.Latex object>"
      ]
     },
     "metadata": {},
     "output_type": "display_data"
    },
    {
     "data": {
      "text/latex": [
       "$$ F_{2}(0,0) = - 2 (0) (0) + (0) + (0) = 0 $$"
      ],
      "text/plain": [
       "<IPython.core.display.Latex object>"
      ]
     },
     "metadata": {},
     "output_type": "display_data"
    },
    {
     "data": {
      "text/latex": [
       "$$ F_{2}(0,1) = - 2 (0) (1) + (0) + (1) = 1 $$"
      ],
      "text/plain": [
       "<IPython.core.display.Latex object>"
      ]
     },
     "metadata": {},
     "output_type": "display_data"
    },
    {
     "data": {
      "text/latex": [
       "$$ F_{2}(1,0) = - 2 (1) (0) + (1) + (0) = 1 $$"
      ],
      "text/plain": [
       "<IPython.core.display.Latex object>"
      ]
     },
     "metadata": {},
     "output_type": "display_data"
    },
    {
     "data": {
      "text/latex": [
       "$$ F_{2}(1,1) = - 2 (1) (1) + (1) + (1) = 0 $$"
      ],
      "text/plain": [
       "<IPython.core.display.Latex object>"
      ]
     },
     "metadata": {},
     "output_type": "display_data"
    },
    {
     "data": {
      "text/latex": [
       "$$ \\text{Coluna } 1 \\text{ é igual a } - 2 x_{1} x_{3} + x_{1} + x_{3} $$"
      ],
      "text/plain": [
       "<IPython.core.display.Latex object>"
      ]
     },
     "metadata": {},
     "output_type": "display_data"
    }
   ],
   "source": [
    "from IPython.display import display, Latex\n",
    "import sympy as sp\n",
    "\n",
    "for i, e in enumerate(f):\n",
    "    # Ordena os símbolos por nome para manter consistência\n",
    "    variaveis_ordenadas = sorted(e.free_symbols, key=lambda s: s.name)\n",
    "    \n",
    "    # Exibe a forma simbólica da função\n",
    "    nome_funcao = f\"F_{{{i+1}}}({', '.join(str(s) for s in variaveis_ordenadas)})\"\n",
    "    display(Latex(rf\"$$ {nome_funcao} = {sp.latex(e)} $$\"))\n",
    "    \n",
    "    bin_valor = []\n",
    "\n",
    "    for linha_vals in entradas:\n",
    "        # Mapeia os valores de entrada para os símbolos\n",
    "        subs_dict = {var: linha_vals[j] for j, var in enumerate(variaveis_ordenadas)}\n",
    "        entrada_str = \",\".join(str(v) for v in linha_vals)\n",
    "        \n",
    "        # Constrói a expressão em LaTeX com substituição literal\n",
    "        expr_latex = sp.latex(e)\n",
    "        for var in variaveis_ordenadas:\n",
    "            expr_latex = expr_latex.replace(sp.latex(var), f\"({subs_dict[var]})\")\n",
    "        \n",
    "        # Calcula o valor real da expressão\n",
    "        resultado = e.subs(subs_dict)\n",
    "        bin_valor.append(resultado)\n",
    "        \n",
    "        # Exibe a linha: substituição literal e resultado\n",
    "        display(Latex(\n",
    "            rf\"$$ F_{{{i+1}}}({entrada_str}) = {expr_latex} = {sp.latex(resultado)} $$\"\n",
    "        ))\n",
    "\n",
    "    # Inverte os valores da função para comparar com a tabela verdade\n",
    "    bin_valor = bin_valor[::-1]\n",
    "    \n",
    "    # Exibe verificação com a tabela verdade\n",
    "    if tabela_verdade == bin_valor:\n",
    "        display(Latex(rf\"$$ \\text{{Coluna }} {i} \\text{{ é igual a }} {sp.latex(e)} $$\"))\n",
    "    else:\n",
    "        display(Latex(rf\"$$ \\text{{Nenhuma coluna é igual a }} {sp.latex(e)} $$\"))\n"
   ]
  },
  {
   "cell_type": "code",
   "execution_count": 14,
   "metadata": {},
   "outputs": [
    {
     "data": {
      "text/plain": [
       "[<function _lambdifygenerated(x1, x2, x3, x4)>,\n",
       " <function _lambdifygenerated(x1, x2, x3, x4)>]"
      ]
     },
     "execution_count": 14,
     "metadata": {},
     "output_type": "execute_result"
    }
   ],
   "source": [
    "#  Lista para armazenar as funções\n",
    "funcoes = []\n",
    "\n",
    "# Variáveis que as funções irão receber\n",
    "variaveis = criar_vetor_de_simbolos(4)\n",
    "\n",
    "# Iterar sobre cada elemento do vetor simbólico e criar uma função\n",
    "for expr in regra:\n",
    "    func = sp.lambdify(variaveis, expr)\n",
    "    funcoes.append(func)\n",
    "\n",
    "funcoes"
   ]
  },
  {
   "cell_type": "code",
   "execution_count": 15,
   "metadata": {},
   "outputs": [
    {
     "name": "stdout",
     "output_type": "stream",
     "text": [
      "lambda x1,x2,x3,x4: (x1*x3 + x2*x4)\n",
      "lambda x1,x2,x3,x4: (x1*x4 + x2*x3)\n"
     ]
    }
   ],
   "source": [
    "from sympy.utilities.lambdify import lambdastr\n",
    "\n",
    "# Variáveis que as funções irão receber\n",
    "variaveis = criar_vetor_de_simbolos(4)\n",
    "\n",
    "for expr in regra:\n",
    "    print(lambdastr(variaveis, expr))"
   ]
  },
  {
   "cell_type": "code",
   "execution_count": null,
   "metadata": {},
   "outputs": [
    {
     "name": "stdout",
     "output_type": "stream",
     "text": [
      "[1 0 1 0]\n"
     ]
    },
    {
     "data": {
      "text/plain": [
       "[1, 0, 0, 0]"
      ]
     },
     "execution_count": 173,
     "metadata": {},
     "output_type": "execute_result"
    }
   ],
   "source": [
    "valores = np.array([decimal_para_binario_vetor(0,1),decimal_para_binario_vetor(0,1)]).flatten()\n",
    "print(valores)\n",
    "\n",
    "# Calcular os resultados\n",
    "[f(*valores) for f in funcoes]"
   ]
  },
  {
   "cell_type": "code",
   "execution_count": 175,
   "metadata": {},
   "outputs": [
    {
     "data": {
      "text/latex": [
       "$\\displaystyle \\left[\\begin{matrix}0\\\\0\\\\1\\\\0\\end{matrix}\\right]$"
      ],
      "text/plain": [
       "Matrix([\n",
       "[0],\n",
       "[0],\n",
       "[1],\n",
       "[0]])"
      ]
     },
     "execution_count": 175,
     "metadata": {},
     "output_type": "execute_result"
    }
   ],
   "source": [
    "sp.Matrix(np.dot(vetores_binarios, [0,1,0,0]))"
   ]
  },
  {
   "cell_type": "code",
   "execution_count": 18,
   "metadata": {},
   "outputs": [
    {
     "name": "stdout",
     "output_type": "stream",
     "text": [
      "[1 0 1 0] [1, 0]\n",
      "[1 0 0 1] [0, 1]\n",
      "[0 1 1 0] [0, 1]\n",
      "[0 1 0 1] [1, 0]\n"
     ]
    }
   ],
   "source": [
    "import itertools\n",
    "\n",
    "# Usando produto cartesiano\n",
    "combinacoes = list(itertools.product([0, 1], repeat=2))\n",
    "\n",
    "for comb in combinacoes:\n",
    "\t# Converte cada bit da combinação para um vetor binário e achata em uma única dimensão\n",
    "\tvalores = np.array([decimal_para_binario_vetor(bit, 1) for bit in comb]).flatten()\n",
    "\tprint(valores,[f(*valores) for f in funcoes])"
   ]
  }
 ],
 "metadata": {
  "kernelspec": {
   "display_name": "base",
   "language": "python",
   "name": "python3"
  },
  "language_info": {
   "codemirror_mode": {
    "name": "ipython",
    "version": 3
   },
   "file_extension": ".py",
   "mimetype": "text/x-python",
   "name": "python",
   "nbconvert_exporter": "python",
   "pygments_lexer": "ipython3",
   "version": "3.12.7"
  }
 },
 "nbformat": 4,
 "nbformat_minor": 2
}
