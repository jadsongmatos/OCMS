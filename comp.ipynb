{
 "cells": [
  {
   "cell_type": "code",
   "execution_count": 1,
   "id": "89c75c22",
   "metadata": {},
   "outputs": [],
   "source": [
    "import numpy as np\n",
    "import sympy as sp"
   ]
  },
  {
   "cell_type": "code",
   "execution_count": 2,
   "id": "000ee946",
   "metadata": {},
   "outputs": [],
   "source": [
    "def criar_vetor_de_simbolos(tamanho):\n",
    "    \"\"\"\n",
    "    Cria um vetor (lista) de símbolos SymPy com o tamanho especificado.\n",
    "\n",
    "    Parameters:\n",
    "    tamanho (int): O número de símbolos a serem criados.\n",
    "\n",
    "    Returns:\n",
    "    list: Lista contendo os símbolos criados.\n",
    "    \"\"\"\n",
    "    # Cria os símbolos usando sp.symbols\n",
    "    return sp.symbols(f'x1:{tamanho+1}')"
   ]
  },
  {
   "cell_type": "code",
   "execution_count": 3,
   "id": "ba94d61a",
   "metadata": {},
   "outputs": [],
   "source": [
    "# Função para calcular o produto Kronecker considerando binário exclusivo\n",
    "def kronecker_binary(vectors):\n",
    "    result = np.array([1])  # Inicia com o elemento neutro da multiplicação\n",
    "    for v in vectors:\n",
    "        result = np.kron(result, v)\n",
    "    return result"
   ]
  },
  {
   "cell_type": "code",
   "execution_count": 4,
   "id": "d7ba8c55",
   "metadata": {},
   "outputs": [],
   "source": [
    "def decimal_para_binario_vetor(numero_decimal, tamanho_bits=8):\n",
    "    \"\"\"\n",
    "    Converte um número decimal para um vetor binário usando produtos de Kronecker.\n",
    "\n",
    "    Args:\n",
    "        numero_decimal (int): Número decimal a ser convertido.\n",
    "        tamanho_bits (int, opcional): Número de bits para representar o número binário. Padrão é 8.\n",
    "\n",
    "    Returns:\n",
    "        np.ndarray: Vetor resultante da conversão.\n",
    "    \n",
    "    Raises:\n",
    "        ValueError: Se o número decimal for negativo ou se o tamanho de bits for insuficiente.\n",
    "    \"\"\"\n",
    "    # Mapeamento dos caracteres binários para os vetores desejados\n",
    "    mapeamento = {'0': [1, 0], '1': [0, 1]}\n",
    "\n",
    "    # Verifica se o número é um inteiro não negativo\n",
    "    if not isinstance(numero_decimal, int):\n",
    "        print(numero_decimal)\n",
    "        raise TypeError(\"O número decimal deve ser um inteiro.\")\n",
    "    if numero_decimal < 0:\n",
    "        raise ValueError(\"A função não suporta números decimais negativos.\")\n",
    "\n",
    "    # Converter o número decimal para binário e remover o prefixo '0b'\n",
    "    numero_binario = bin(numero_decimal)[2:]\n",
    "\n",
    "    # Verifica se o número binário cabe no tamanho de bits desejado\n",
    "    if len(numero_binario) > tamanho_bits:\n",
    "        raise ValueError(f\"O número binário '{numero_binario}' excede o tamanho de bits especificado ({tamanho_bits} bits).\")\n",
    "\n",
    "    # Adiciona zeros à esquerda para completar o tamanho de bits desejado\n",
    "    numero_binario = numero_binario.zfill(tamanho_bits)\n",
    "\n",
    "    # Inicializa o vetor com 1 para o produto de Kronecker\n",
    "    vetor = np.array([1])\n",
    "    \n",
    "    # Aplica o produto de Kronecker para cada dígito binário\n",
    "    for digito in numero_binario:\n",
    "        vetor = np.kron(vetor, mapeamento[digito])\n",
    "\n",
    "    return vetor"
   ]
  },
  {
   "cell_type": "code",
   "execution_count": 5,
   "id": "715de1f0",
   "metadata": {},
   "outputs": [
    {
     "data": {
      "text/latex": [
       "$\\displaystyle \\left[\\begin{matrix}x_{1} x_{3} x_{5} x_{7}\\\\x_{1} x_{3} x_{5} x_{8}\\\\x_{1} x_{3} x_{6} x_{7}\\\\x_{1} x_{3} x_{6} x_{8}\\\\x_{1} x_{4} x_{5} x_{7}\\\\x_{1} x_{4} x_{5} x_{8}\\\\x_{1} x_{4} x_{6} x_{7}\\\\x_{1} x_{4} x_{6} x_{8}\\\\x_{2} x_{3} x_{5} x_{7}\\\\x_{2} x_{3} x_{5} x_{8}\\\\x_{2} x_{3} x_{6} x_{7}\\\\x_{2} x_{3} x_{6} x_{8}\\\\x_{2} x_{4} x_{5} x_{7}\\\\x_{2} x_{4} x_{5} x_{8}\\\\x_{2} x_{4} x_{6} x_{7}\\\\x_{2} x_{4} x_{6} x_{8}\\end{matrix}\\right]$"
      ],
      "text/plain": [
       "Matrix([\n",
       "[x1*x3*x5*x7],\n",
       "[x1*x3*x5*x8],\n",
       "[x1*x3*x6*x7],\n",
       "[x1*x3*x6*x8],\n",
       "[x1*x4*x5*x7],\n",
       "[x1*x4*x5*x8],\n",
       "[x1*x4*x6*x7],\n",
       "[x1*x4*x6*x8],\n",
       "[x2*x3*x5*x7],\n",
       "[x2*x3*x5*x8],\n",
       "[x2*x3*x6*x7],\n",
       "[x2*x3*x6*x8],\n",
       "[x2*x4*x5*x7],\n",
       "[x2*x4*x5*x8],\n",
       "[x2*x4*x6*x7],\n",
       "[x2*x4*x6*x8]])"
      ]
     },
     "execution_count": 5,
     "metadata": {},
     "output_type": "execute_result"
    }
   ],
   "source": [
    "bits = 4\n",
    "variaveis = sp.Matrix(kronecker_binary(np.array_split(criar_vetor_de_simbolos(bits*2), bits)))\n",
    "variaveis"
   ]
  },
  {
   "cell_type": "code",
   "execution_count": 6,
   "id": "8e39b1c0",
   "metadata": {},
   "outputs": [
    {
     "data": {
      "text/plain": [
       "[(0, 0, 0, 0),\n",
       " (0, 0, 0, 1),\n",
       " (0, 0, 1, 0),\n",
       " (0, 0, 1, 1),\n",
       " (0, 1, 0, 0),\n",
       " (0, 1, 0, 1),\n",
       " (0, 1, 1, 0),\n",
       " (0, 1, 1, 1),\n",
       " (1, 0, 0, 0),\n",
       " (1, 0, 0, 1),\n",
       " (1, 0, 1, 0),\n",
       " (1, 0, 1, 1),\n",
       " (1, 1, 0, 0),\n",
       " (1, 1, 0, 1),\n",
       " (1, 1, 1, 0),\n",
       " (1, 1, 1, 1)]"
      ]
     },
     "execution_count": 6,
     "metadata": {},
     "output_type": "execute_result"
    }
   ],
   "source": [
    "from itertools import product\n",
    "\n",
    "# Gerar todas as combinações de 0 e 1 para as 4 variáveis\n",
    "entradas = list(product([0, 1], repeat=4))\n",
    "entradas"
   ]
  },
  {
   "cell_type": "code",
   "execution_count": 9,
   "id": "eb697bfd",
   "metadata": {},
   "outputs": [
    {
     "data": {
      "application/vnd.microsoft.datawrangler.viewer.v0+json": {
       "columns": [
        {
         "name": "index",
         "rawType": "int64",
         "type": "integer"
        },
        {
         "name": "A0",
         "rawType": "int64",
         "type": "integer"
        },
        {
         "name": "A1",
         "rawType": "int64",
         "type": "integer"
        },
        {
         "name": "B0",
         "rawType": "int64",
         "type": "integer"
        },
        {
         "name": "B1",
         "rawType": "int64",
         "type": "integer"
        },
        {
         "name": "A < B",
         "rawType": "int64",
         "type": "integer"
        },
        {
         "name": "A = B",
         "rawType": "int64",
         "type": "integer"
        },
        {
         "name": "A > B",
         "rawType": "int64",
         "type": "integer"
        },
        {
         "name": "A + B par",
         "rawType": "int64",
         "type": "integer"
        }
       ],
       "conversionMethod": "pd.DataFrame",
       "ref": "3c2f3ca0-056b-4ee8-8b74-ee846234b04b",
       "rows": [
        [
         "0",
         "0",
         "0",
         "0",
         "0",
         "0",
         "1",
         "0",
         "0"
        ],
        [
         "1",
         "0",
         "0",
         "0",
         "1",
         "1",
         "0",
         "0",
         "1"
        ],
        [
         "2",
         "0",
         "0",
         "1",
         "0",
         "1",
         "0",
         "0",
         "1"
        ],
        [
         "3",
         "0",
         "0",
         "1",
         "1",
         "1",
         "0",
         "0",
         "0"
        ],
        [
         "4",
         "0",
         "1",
         "0",
         "0",
         "0",
         "0",
         "1",
         "1"
        ],
        [
         "5",
         "0",
         "1",
         "0",
         "1",
         "0",
         "1",
         "0",
         "0"
        ],
        [
         "6",
         "0",
         "1",
         "1",
         "0",
         "0",
         "1",
         "0",
         "0"
        ],
        [
         "7",
         "0",
         "1",
         "1",
         "1",
         "1",
         "0",
         "0",
         "1"
        ],
        [
         "8",
         "1",
         "0",
         "0",
         "0",
         "0",
         "0",
         "1",
         "1"
        ],
        [
         "9",
         "1",
         "0",
         "0",
         "1",
         "0",
         "1",
         "0",
         "0"
        ],
        [
         "10",
         "1",
         "0",
         "1",
         "0",
         "0",
         "1",
         "0",
         "0"
        ],
        [
         "11",
         "1",
         "0",
         "1",
         "1",
         "1",
         "0",
         "0",
         "1"
        ],
        [
         "12",
         "1",
         "1",
         "0",
         "0",
         "0",
         "0",
         "1",
         "0"
        ],
        [
         "13",
         "1",
         "1",
         "0",
         "1",
         "0",
         "0",
         "1",
         "1"
        ],
        [
         "14",
         "1",
         "1",
         "1",
         "0",
         "0",
         "0",
         "1",
         "1"
        ],
        [
         "15",
         "1",
         "1",
         "1",
         "1",
         "0",
         "1",
         "0",
         "0"
        ]
       ],
       "shape": {
        "columns": 8,
        "rows": 16
       }
      },
      "text/html": [
       "<div>\n",
       "<style scoped>\n",
       "    .dataframe tbody tr th:only-of-type {\n",
       "        vertical-align: middle;\n",
       "    }\n",
       "\n",
       "    .dataframe tbody tr th {\n",
       "        vertical-align: top;\n",
       "    }\n",
       "\n",
       "    .dataframe thead th {\n",
       "        text-align: right;\n",
       "    }\n",
       "</style>\n",
       "<table border=\"1\" class=\"dataframe\">\n",
       "  <thead>\n",
       "    <tr style=\"text-align: right;\">\n",
       "      <th></th>\n",
       "      <th>A0</th>\n",
       "      <th>A1</th>\n",
       "      <th>B0</th>\n",
       "      <th>B1</th>\n",
       "      <th>A &lt; B</th>\n",
       "      <th>A = B</th>\n",
       "      <th>A &gt; B</th>\n",
       "      <th>A + B par</th>\n",
       "    </tr>\n",
       "  </thead>\n",
       "  <tbody>\n",
       "    <tr>\n",
       "      <th>0</th>\n",
       "      <td>0</td>\n",
       "      <td>0</td>\n",
       "      <td>0</td>\n",
       "      <td>0</td>\n",
       "      <td>0</td>\n",
       "      <td>1</td>\n",
       "      <td>0</td>\n",
       "      <td>0</td>\n",
       "    </tr>\n",
       "    <tr>\n",
       "      <th>1</th>\n",
       "      <td>0</td>\n",
       "      <td>0</td>\n",
       "      <td>0</td>\n",
       "      <td>1</td>\n",
       "      <td>1</td>\n",
       "      <td>0</td>\n",
       "      <td>0</td>\n",
       "      <td>1</td>\n",
       "    </tr>\n",
       "    <tr>\n",
       "      <th>2</th>\n",
       "      <td>0</td>\n",
       "      <td>0</td>\n",
       "      <td>1</td>\n",
       "      <td>0</td>\n",
       "      <td>1</td>\n",
       "      <td>0</td>\n",
       "      <td>0</td>\n",
       "      <td>1</td>\n",
       "    </tr>\n",
       "    <tr>\n",
       "      <th>3</th>\n",
       "      <td>0</td>\n",
       "      <td>0</td>\n",
       "      <td>1</td>\n",
       "      <td>1</td>\n",
       "      <td>1</td>\n",
       "      <td>0</td>\n",
       "      <td>0</td>\n",
       "      <td>0</td>\n",
       "    </tr>\n",
       "    <tr>\n",
       "      <th>4</th>\n",
       "      <td>0</td>\n",
       "      <td>1</td>\n",
       "      <td>0</td>\n",
       "      <td>0</td>\n",
       "      <td>0</td>\n",
       "      <td>0</td>\n",
       "      <td>1</td>\n",
       "      <td>1</td>\n",
       "    </tr>\n",
       "    <tr>\n",
       "      <th>5</th>\n",
       "      <td>0</td>\n",
       "      <td>1</td>\n",
       "      <td>0</td>\n",
       "      <td>1</td>\n",
       "      <td>0</td>\n",
       "      <td>1</td>\n",
       "      <td>0</td>\n",
       "      <td>0</td>\n",
       "    </tr>\n",
       "    <tr>\n",
       "      <th>6</th>\n",
       "      <td>0</td>\n",
       "      <td>1</td>\n",
       "      <td>1</td>\n",
       "      <td>0</td>\n",
       "      <td>0</td>\n",
       "      <td>1</td>\n",
       "      <td>0</td>\n",
       "      <td>0</td>\n",
       "    </tr>\n",
       "    <tr>\n",
       "      <th>7</th>\n",
       "      <td>0</td>\n",
       "      <td>1</td>\n",
       "      <td>1</td>\n",
       "      <td>1</td>\n",
       "      <td>1</td>\n",
       "      <td>0</td>\n",
       "      <td>0</td>\n",
       "      <td>1</td>\n",
       "    </tr>\n",
       "    <tr>\n",
       "      <th>8</th>\n",
       "      <td>1</td>\n",
       "      <td>0</td>\n",
       "      <td>0</td>\n",
       "      <td>0</td>\n",
       "      <td>0</td>\n",
       "      <td>0</td>\n",
       "      <td>1</td>\n",
       "      <td>1</td>\n",
       "    </tr>\n",
       "    <tr>\n",
       "      <th>9</th>\n",
       "      <td>1</td>\n",
       "      <td>0</td>\n",
       "      <td>0</td>\n",
       "      <td>1</td>\n",
       "      <td>0</td>\n",
       "      <td>1</td>\n",
       "      <td>0</td>\n",
       "      <td>0</td>\n",
       "    </tr>\n",
       "    <tr>\n",
       "      <th>10</th>\n",
       "      <td>1</td>\n",
       "      <td>0</td>\n",
       "      <td>1</td>\n",
       "      <td>0</td>\n",
       "      <td>0</td>\n",
       "      <td>1</td>\n",
       "      <td>0</td>\n",
       "      <td>0</td>\n",
       "    </tr>\n",
       "    <tr>\n",
       "      <th>11</th>\n",
       "      <td>1</td>\n",
       "      <td>0</td>\n",
       "      <td>1</td>\n",
       "      <td>1</td>\n",
       "      <td>1</td>\n",
       "      <td>0</td>\n",
       "      <td>0</td>\n",
       "      <td>1</td>\n",
       "    </tr>\n",
       "    <tr>\n",
       "      <th>12</th>\n",
       "      <td>1</td>\n",
       "      <td>1</td>\n",
       "      <td>0</td>\n",
       "      <td>0</td>\n",
       "      <td>0</td>\n",
       "      <td>0</td>\n",
       "      <td>1</td>\n",
       "      <td>0</td>\n",
       "    </tr>\n",
       "    <tr>\n",
       "      <th>13</th>\n",
       "      <td>1</td>\n",
       "      <td>1</td>\n",
       "      <td>0</td>\n",
       "      <td>1</td>\n",
       "      <td>0</td>\n",
       "      <td>0</td>\n",
       "      <td>1</td>\n",
       "      <td>1</td>\n",
       "    </tr>\n",
       "    <tr>\n",
       "      <th>14</th>\n",
       "      <td>1</td>\n",
       "      <td>1</td>\n",
       "      <td>1</td>\n",
       "      <td>0</td>\n",
       "      <td>0</td>\n",
       "      <td>0</td>\n",
       "      <td>1</td>\n",
       "      <td>1</td>\n",
       "    </tr>\n",
       "    <tr>\n",
       "      <th>15</th>\n",
       "      <td>1</td>\n",
       "      <td>1</td>\n",
       "      <td>1</td>\n",
       "      <td>1</td>\n",
       "      <td>0</td>\n",
       "      <td>1</td>\n",
       "      <td>0</td>\n",
       "      <td>0</td>\n",
       "    </tr>\n",
       "  </tbody>\n",
       "</table>\n",
       "</div>"
      ],
      "text/plain": [
       "    A0  A1  B0  B1  A < B  A = B  A > B  A + B par\n",
       "0    0   0   0   0      0      1      0          0\n",
       "1    0   0   0   1      1      0      0          1\n",
       "2    0   0   1   0      1      0      0          1\n",
       "3    0   0   1   1      1      0      0          0\n",
       "4    0   1   0   0      0      0      1          1\n",
       "5    0   1   0   1      0      1      0          0\n",
       "6    0   1   1   0      0      1      0          0\n",
       "7    0   1   1   1      1      0      0          1\n",
       "8    1   0   0   0      0      0      1          1\n",
       "9    1   0   0   1      0      1      0          0\n",
       "10   1   0   1   0      0      1      0          0\n",
       "11   1   0   1   1      1      0      0          1\n",
       "12   1   1   0   0      0      0      1          0\n",
       "13   1   1   0   1      0      0      1          1\n",
       "14   1   1   1   0      0      0      1          1\n",
       "15   1   1   1   1      0      1      0          0"
      ]
     },
     "execution_count": 9,
     "metadata": {},
     "output_type": "execute_result"
    }
   ],
   "source": [
    "from itertools import product\n",
    "import pandas as pd\n",
    "\n",
    "# Gerar todas as combinações possíveis de 4 bits\n",
    "entradas = list(product([0, 1], repeat=4))\n",
    "\n",
    "# Criar as três colunas com base na comparação entre as somas\n",
    "dados = []\n",
    "for entrada in entradas:\n",
    "    soma_a = entrada[0] + entrada[1]\n",
    "    soma_b = entrada[2] + entrada[3]\n",
    "    menor = int(soma_a < soma_b)\n",
    "    igual = int(soma_a == soma_b)\n",
    "    maior = int(soma_a > soma_b)\n",
    "    par = (soma_a + soma_b) % 2\n",
    "    dados.append([menor, igual, maior,par])\n",
    "\n",
    "# Criar o DataFrame\n",
    "df = pd.DataFrame(dados, columns=[\"A < B\", \"A = B\", \"A > B\", \"A + B par\"])\n",
    "\n",
    "# Opcional: adicionar também as entradas no DataFrame, se quiser visualizar\n",
    "entradas_df = pd.DataFrame(entradas, columns=[\"A0\", \"A1\", \"B0\", \"B1\"])\n",
    "tabela_verdade = pd.concat([entradas_df, df], axis=1)\n",
    "tabela_verdade\n"
   ]
  },
  {
   "cell_type": "code",
   "execution_count": null,
   "id": "087ca7b0",
   "metadata": {},
   "outputs": [],
   "source": [
    "def binarios_para_decimais(matriz_binaria):\n",
    "    \"\"\"\n",
    "    Converte uma matriz binária para um vetor de valores decimais.\n",
    "    \n",
    "    Parâmetros:\n",
    "        matriz_binaria (np.ndarray): Matriz 2D de 0s e 1s, onde cada linha representa um número binário.\n",
    "    \n",
    "    Retorna:\n",
    "        np.ndarray: Vetor 1D com os valores decimais de cada linha da matriz.\n",
    "    \"\"\"\n",
    "    num_bits = matriz_binaria.shape[1]\n",
    "    pesos = 2 ** np.arange(num_bits - 1, -1, -1)\n",
    "    return matriz_binaria.dot(pesos)"
   ]
  },
  {
   "cell_type": "code",
   "execution_count": 26,
   "id": "2a4601af",
   "metadata": {},
   "outputs": [
    {
     "data": {
      "text/plain": [
       "array([2, 4, 4, 4, 1, 2, 2, 4, 1, 2, 2, 4, 1, 1, 1, 2])"
      ]
     },
     "execution_count": 26,
     "metadata": {},
     "output_type": "execute_result"
    }
   ],
   "source": [
    "df_saida = tabela_verdade[[\"A < B\", \"A = B\", \"A > B\"]]\n",
    "saida_vetor_dec = binarios_para_decimais(df_saida.to_numpy())\n",
    "saida_vetor_dec"
   ]
  },
  {
   "cell_type": "code",
   "execution_count": 24,
   "id": "d818a558",
   "metadata": {},
   "outputs": [
    {
     "data": {
      "text/plain": [
       "array([[0, 1, 0],\n",
       "       [1, 0, 0],\n",
       "       [1, 0, 0],\n",
       "       [1, 0, 0],\n",
       "       [0, 0, 1],\n",
       "       [0, 1, 0],\n",
       "       [0, 1, 0],\n",
       "       [1, 0, 0],\n",
       "       [0, 0, 1],\n",
       "       [0, 1, 0],\n",
       "       [0, 1, 0],\n",
       "       [1, 0, 0],\n",
       "       [0, 0, 1],\n",
       "       [0, 0, 1],\n",
       "       [0, 0, 1],\n",
       "       [0, 1, 0]])"
      ]
     },
     "execution_count": 24,
     "metadata": {},
     "output_type": "execute_result"
    }
   ],
   "source": [
    "df_saida.to_numpy()"
   ]
  },
  {
   "cell_type": "code",
   "execution_count": 27,
   "id": "f8f4baed",
   "metadata": {},
   "outputs": [
    {
     "data": {
      "application/vnd.microsoft.datawrangler.viewer.v0+json": {
       "columns": [
        {
         "name": "index",
         "rawType": "int64",
         "type": "integer"
        },
        {
         "name": "0",
         "rawType": "int64",
         "type": "integer"
        },
        {
         "name": "1",
         "rawType": "int64",
         "type": "integer"
        },
        {
         "name": "2",
         "rawType": "int64",
         "type": "integer"
        },
        {
         "name": "3",
         "rawType": "int64",
         "type": "integer"
        },
        {
         "name": "4",
         "rawType": "int64",
         "type": "integer"
        },
        {
         "name": "5",
         "rawType": "int64",
         "type": "integer"
        },
        {
         "name": "6",
         "rawType": "int64",
         "type": "integer"
        },
        {
         "name": "7",
         "rawType": "int64",
         "type": "integer"
        },
        {
         "name": "8",
         "rawType": "int64",
         "type": "integer"
        },
        {
         "name": "9",
         "rawType": "int64",
         "type": "integer"
        },
        {
         "name": "10",
         "rawType": "int64",
         "type": "integer"
        },
        {
         "name": "11",
         "rawType": "int64",
         "type": "integer"
        },
        {
         "name": "12",
         "rawType": "int64",
         "type": "integer"
        },
        {
         "name": "13",
         "rawType": "int64",
         "type": "integer"
        },
        {
         "name": "14",
         "rawType": "int64",
         "type": "integer"
        },
        {
         "name": "15",
         "rawType": "int64",
         "type": "integer"
        }
       ],
       "conversionMethod": "pd.DataFrame",
       "ref": "eecd082e-0dfa-4208-be26-9a58fc003cd0",
       "rows": [
        [
         "0",
         "0",
         "0",
         "0",
         "0",
         "0",
         "0",
         "0",
         "0",
         "0",
         "0",
         "0",
         "0",
         "0",
         "0",
         "0",
         "0"
        ],
        [
         "1",
         "0",
         "0",
         "0",
         "0",
         "1",
         "0",
         "0",
         "0",
         "1",
         "0",
         "0",
         "0",
         "1",
         "1",
         "1",
         "0"
        ],
        [
         "2",
         "1",
         "0",
         "0",
         "0",
         "0",
         "1",
         "1",
         "0",
         "0",
         "1",
         "1",
         "0",
         "0",
         "0",
         "0",
         "1"
        ],
        [
         "3",
         "0",
         "0",
         "0",
         "0",
         "0",
         "0",
         "0",
         "0",
         "0",
         "0",
         "0",
         "0",
         "0",
         "0",
         "0",
         "0"
        ],
        [
         "4",
         "0",
         "1",
         "1",
         "1",
         "0",
         "0",
         "0",
         "1",
         "0",
         "0",
         "0",
         "1",
         "0",
         "0",
         "0",
         "0"
        ],
        [
         "5",
         "0",
         "0",
         "0",
         "0",
         "0",
         "0",
         "0",
         "0",
         "0",
         "0",
         "0",
         "0",
         "0",
         "0",
         "0",
         "0"
        ],
        [
         "6",
         "0",
         "0",
         "0",
         "0",
         "0",
         "0",
         "0",
         "0",
         "0",
         "0",
         "0",
         "0",
         "0",
         "0",
         "0",
         "0"
        ],
        [
         "7",
         "0",
         "0",
         "0",
         "0",
         "0",
         "0",
         "0",
         "0",
         "0",
         "0",
         "0",
         "0",
         "0",
         "0",
         "0",
         "0"
        ]
       ],
       "shape": {
        "columns": 16,
        "rows": 8
       }
      },
      "text/html": [
       "<div>\n",
       "<style scoped>\n",
       "    .dataframe tbody tr th:only-of-type {\n",
       "        vertical-align: middle;\n",
       "    }\n",
       "\n",
       "    .dataframe tbody tr th {\n",
       "        vertical-align: top;\n",
       "    }\n",
       "\n",
       "    .dataframe thead th {\n",
       "        text-align: right;\n",
       "    }\n",
       "</style>\n",
       "<table border=\"1\" class=\"dataframe\">\n",
       "  <thead>\n",
       "    <tr style=\"text-align: right;\">\n",
       "      <th></th>\n",
       "      <th>0</th>\n",
       "      <th>1</th>\n",
       "      <th>2</th>\n",
       "      <th>3</th>\n",
       "      <th>4</th>\n",
       "      <th>5</th>\n",
       "      <th>6</th>\n",
       "      <th>7</th>\n",
       "      <th>8</th>\n",
       "      <th>9</th>\n",
       "      <th>10</th>\n",
       "      <th>11</th>\n",
       "      <th>12</th>\n",
       "      <th>13</th>\n",
       "      <th>14</th>\n",
       "      <th>15</th>\n",
       "    </tr>\n",
       "  </thead>\n",
       "  <tbody>\n",
       "    <tr>\n",
       "      <th>0</th>\n",
       "      <td>0</td>\n",
       "      <td>0</td>\n",
       "      <td>0</td>\n",
       "      <td>0</td>\n",
       "      <td>0</td>\n",
       "      <td>0</td>\n",
       "      <td>0</td>\n",
       "      <td>0</td>\n",
       "      <td>0</td>\n",
       "      <td>0</td>\n",
       "      <td>0</td>\n",
       "      <td>0</td>\n",
       "      <td>0</td>\n",
       "      <td>0</td>\n",
       "      <td>0</td>\n",
       "      <td>0</td>\n",
       "    </tr>\n",
       "    <tr>\n",
       "      <th>1</th>\n",
       "      <td>0</td>\n",
       "      <td>0</td>\n",
       "      <td>0</td>\n",
       "      <td>0</td>\n",
       "      <td>1</td>\n",
       "      <td>0</td>\n",
       "      <td>0</td>\n",
       "      <td>0</td>\n",
       "      <td>1</td>\n",
       "      <td>0</td>\n",
       "      <td>0</td>\n",
       "      <td>0</td>\n",
       "      <td>1</td>\n",
       "      <td>1</td>\n",
       "      <td>1</td>\n",
       "      <td>0</td>\n",
       "    </tr>\n",
       "    <tr>\n",
       "      <th>2</th>\n",
       "      <td>1</td>\n",
       "      <td>0</td>\n",
       "      <td>0</td>\n",
       "      <td>0</td>\n",
       "      <td>0</td>\n",
       "      <td>1</td>\n",
       "      <td>1</td>\n",
       "      <td>0</td>\n",
       "      <td>0</td>\n",
       "      <td>1</td>\n",
       "      <td>1</td>\n",
       "      <td>0</td>\n",
       "      <td>0</td>\n",
       "      <td>0</td>\n",
       "      <td>0</td>\n",
       "      <td>1</td>\n",
       "    </tr>\n",
       "    <tr>\n",
       "      <th>3</th>\n",
       "      <td>0</td>\n",
       "      <td>0</td>\n",
       "      <td>0</td>\n",
       "      <td>0</td>\n",
       "      <td>0</td>\n",
       "      <td>0</td>\n",
       "      <td>0</td>\n",
       "      <td>0</td>\n",
       "      <td>0</td>\n",
       "      <td>0</td>\n",
       "      <td>0</td>\n",
       "      <td>0</td>\n",
       "      <td>0</td>\n",
       "      <td>0</td>\n",
       "      <td>0</td>\n",
       "      <td>0</td>\n",
       "    </tr>\n",
       "    <tr>\n",
       "      <th>4</th>\n",
       "      <td>0</td>\n",
       "      <td>1</td>\n",
       "      <td>1</td>\n",
       "      <td>1</td>\n",
       "      <td>0</td>\n",
       "      <td>0</td>\n",
       "      <td>0</td>\n",
       "      <td>1</td>\n",
       "      <td>0</td>\n",
       "      <td>0</td>\n",
       "      <td>0</td>\n",
       "      <td>1</td>\n",
       "      <td>0</td>\n",
       "      <td>0</td>\n",
       "      <td>0</td>\n",
       "      <td>0</td>\n",
       "    </tr>\n",
       "    <tr>\n",
       "      <th>5</th>\n",
       "      <td>0</td>\n",
       "      <td>0</td>\n",
       "      <td>0</td>\n",
       "      <td>0</td>\n",
       "      <td>0</td>\n",
       "      <td>0</td>\n",
       "      <td>0</td>\n",
       "      <td>0</td>\n",
       "      <td>0</td>\n",
       "      <td>0</td>\n",
       "      <td>0</td>\n",
       "      <td>0</td>\n",
       "      <td>0</td>\n",
       "      <td>0</td>\n",
       "      <td>0</td>\n",
       "      <td>0</td>\n",
       "    </tr>\n",
       "    <tr>\n",
       "      <th>6</th>\n",
       "      <td>0</td>\n",
       "      <td>0</td>\n",
       "      <td>0</td>\n",
       "      <td>0</td>\n",
       "      <td>0</td>\n",
       "      <td>0</td>\n",
       "      <td>0</td>\n",
       "      <td>0</td>\n",
       "      <td>0</td>\n",
       "      <td>0</td>\n",
       "      <td>0</td>\n",
       "      <td>0</td>\n",
       "      <td>0</td>\n",
       "      <td>0</td>\n",
       "      <td>0</td>\n",
       "      <td>0</td>\n",
       "    </tr>\n",
       "    <tr>\n",
       "      <th>7</th>\n",
       "      <td>0</td>\n",
       "      <td>0</td>\n",
       "      <td>0</td>\n",
       "      <td>0</td>\n",
       "      <td>0</td>\n",
       "      <td>0</td>\n",
       "      <td>0</td>\n",
       "      <td>0</td>\n",
       "      <td>0</td>\n",
       "      <td>0</td>\n",
       "      <td>0</td>\n",
       "      <td>0</td>\n",
       "      <td>0</td>\n",
       "      <td>0</td>\n",
       "      <td>0</td>\n",
       "      <td>0</td>\n",
       "    </tr>\n",
       "  </tbody>\n",
       "</table>\n",
       "</div>"
      ],
      "text/plain": [
       "   0   1   2   3   4   5   6   7   8   9   10  11  12  13  14  15\n",
       "0   0   0   0   0   0   0   0   0   0   0   0   0   0   0   0   0\n",
       "1   0   0   0   0   1   0   0   0   1   0   0   0   1   1   1   0\n",
       "2   1   0   0   0   0   1   1   0   0   1   1   0   0   0   0   1\n",
       "3   0   0   0   0   0   0   0   0   0   0   0   0   0   0   0   0\n",
       "4   0   1   1   1   0   0   0   1   0   0   0   1   0   0   0   0\n",
       "5   0   0   0   0   0   0   0   0   0   0   0   0   0   0   0   0\n",
       "6   0   0   0   0   0   0   0   0   0   0   0   0   0   0   0   0\n",
       "7   0   0   0   0   0   0   0   0   0   0   0   0   0   0   0   0"
      ]
     },
     "execution_count": 27,
     "metadata": {},
     "output_type": "execute_result"
    }
   ],
   "source": [
    "vetores_binarios = []\n",
    "tamanho_bits = df_saida.columns.size\n",
    "\n",
    "for numero in saida_vetor_dec:\n",
    "    try:\n",
    "        vetor = decimal_para_binario_vetor(int(numero), tamanho_bits)\n",
    "        vetores_binarios.append(vetor)\n",
    "    except (TypeError, ValueError) as e:\n",
    "        print(f\"Erro ao converter o número {numero}: {e}\")\n",
    "\n",
    "vetores_binarios = np.array(vetores_binarios).T \n",
    "df = pd.DataFrame(vetores_binarios)\n",
    "vetores_binarios = sp.Matrix(vetores_binarios)\n",
    "df"
   ]
  },
  {
   "cell_type": "code",
   "execution_count": 28,
   "id": "33a53d43",
   "metadata": {},
   "outputs": [
    {
     "data": {
      "text/plain": [
       "(8, 16)"
      ]
     },
     "execution_count": 28,
     "metadata": {},
     "output_type": "execute_result"
    }
   ],
   "source": [
    "vetores_binarios.shape"
   ]
  },
  {
   "cell_type": "code",
   "execution_count": 29,
   "id": "6b896563",
   "metadata": {},
   "outputs": [],
   "source": [
    "import latexify\n",
    "from IPython.display import display, Latex\n",
    "\n",
    "A = sp.Matrix(vetores_binarios)\n",
    "identity_matrix = sp.eye(A.cols)"
   ]
  },
  {
   "cell_type": "code",
   "execution_count": 30,
   "id": "3ebb2e8c",
   "metadata": {},
   "outputs": [
    {
     "name": "stdout",
     "output_type": "stream",
     "text": [
      "0\n"
     ]
    },
    {
     "data": {
      "text/latex": [
       "$$ \\left[\\begin{array}{cccccccccccccccc}0 & 0 & 0 & 0 & 0 & 0 & 0 & 0 & 0 & 0 & 0 & 0 & 0 & 0 & 0 & 0\\\\0 & 0 & 0 & 0 & 1 & 0 & 0 & 0 & 1 & 0 & 0 & 0 & 1 & 1 & 1 & 0\\\\1 & 0 & 0 & 0 & 0 & 1 & 1 & 0 & 0 & 1 & 1 & 0 & 0 & 0 & 0 & 1\\\\0 & 0 & 0 & 0 & 0 & 0 & 0 & 0 & 0 & 0 & 0 & 0 & 0 & 0 & 0 & 0\\\\0 & 1 & 1 & 1 & 0 & 0 & 0 & 1 & 0 & 0 & 0 & 1 & 0 & 0 & 0 & 0\\\\0 & 0 & 0 & 0 & 0 & 0 & 0 & 0 & 0 & 0 & 0 & 0 & 0 & 0 & 0 & 0\\\\0 & 0 & 0 & 0 & 0 & 0 & 0 & 0 & 0 & 0 & 0 & 0 & 0 & 0 & 0 & 0\\\\0 & 0 & 0 & 0 & 0 & 0 & 0 & 0 & 0 & 0 & 0 & 0 & 0 & 0 & 0 & 0\\end{array}\\right] \\;\\cdot\\; \\left[\\begin{matrix}1\\\\0\\\\0\\\\0\\\\0\\\\0\\\\0\\\\0\\\\0\\\\0\\\\0\\\\0\\\\0\\\\0\\\\0\\\\0\\end{matrix}\\right] = \\left[\\begin{matrix}0\\\\0\\\\1\\\\0\\\\0\\\\0\\\\0\\\\0\\end{matrix}\\right] = 2 $$"
      ],
      "text/plain": [
       "<IPython.core.display.Latex object>"
      ]
     },
     "metadata": {},
     "output_type": "display_data"
    },
    {
     "name": "stdout",
     "output_type": "stream",
     "text": [
      "1\n"
     ]
    },
    {
     "data": {
      "text/latex": [
       "$$ \\left[\\begin{array}{cccccccccccccccc}0 & 0 & 0 & 0 & 0 & 0 & 0 & 0 & 0 & 0 & 0 & 0 & 0 & 0 & 0 & 0\\\\0 & 0 & 0 & 0 & 1 & 0 & 0 & 0 & 1 & 0 & 0 & 0 & 1 & 1 & 1 & 0\\\\1 & 0 & 0 & 0 & 0 & 1 & 1 & 0 & 0 & 1 & 1 & 0 & 0 & 0 & 0 & 1\\\\0 & 0 & 0 & 0 & 0 & 0 & 0 & 0 & 0 & 0 & 0 & 0 & 0 & 0 & 0 & 0\\\\0 & 1 & 1 & 1 & 0 & 0 & 0 & 1 & 0 & 0 & 0 & 1 & 0 & 0 & 0 & 0\\\\0 & 0 & 0 & 0 & 0 & 0 & 0 & 0 & 0 & 0 & 0 & 0 & 0 & 0 & 0 & 0\\\\0 & 0 & 0 & 0 & 0 & 0 & 0 & 0 & 0 & 0 & 0 & 0 & 0 & 0 & 0 & 0\\\\0 & 0 & 0 & 0 & 0 & 0 & 0 & 0 & 0 & 0 & 0 & 0 & 0 & 0 & 0 & 0\\end{array}\\right] \\;\\cdot\\; \\left[\\begin{matrix}0\\\\1\\\\0\\\\0\\\\0\\\\0\\\\0\\\\0\\\\0\\\\0\\\\0\\\\0\\\\0\\\\0\\\\0\\\\0\\end{matrix}\\right] = \\left[\\begin{matrix}0\\\\0\\\\0\\\\0\\\\1\\\\0\\\\0\\\\0\\end{matrix}\\right] = 4 $$"
      ],
      "text/plain": [
       "<IPython.core.display.Latex object>"
      ]
     },
     "metadata": {},
     "output_type": "display_data"
    },
    {
     "name": "stdout",
     "output_type": "stream",
     "text": [
      "2\n"
     ]
    },
    {
     "data": {
      "text/latex": [
       "$$ \\left[\\begin{array}{cccccccccccccccc}0 & 0 & 0 & 0 & 0 & 0 & 0 & 0 & 0 & 0 & 0 & 0 & 0 & 0 & 0 & 0\\\\0 & 0 & 0 & 0 & 1 & 0 & 0 & 0 & 1 & 0 & 0 & 0 & 1 & 1 & 1 & 0\\\\1 & 0 & 0 & 0 & 0 & 1 & 1 & 0 & 0 & 1 & 1 & 0 & 0 & 0 & 0 & 1\\\\0 & 0 & 0 & 0 & 0 & 0 & 0 & 0 & 0 & 0 & 0 & 0 & 0 & 0 & 0 & 0\\\\0 & 1 & 1 & 1 & 0 & 0 & 0 & 1 & 0 & 0 & 0 & 1 & 0 & 0 & 0 & 0\\\\0 & 0 & 0 & 0 & 0 & 0 & 0 & 0 & 0 & 0 & 0 & 0 & 0 & 0 & 0 & 0\\\\0 & 0 & 0 & 0 & 0 & 0 & 0 & 0 & 0 & 0 & 0 & 0 & 0 & 0 & 0 & 0\\\\0 & 0 & 0 & 0 & 0 & 0 & 0 & 0 & 0 & 0 & 0 & 0 & 0 & 0 & 0 & 0\\end{array}\\right] \\;\\cdot\\; \\left[\\begin{matrix}0\\\\0\\\\1\\\\0\\\\0\\\\0\\\\0\\\\0\\\\0\\\\0\\\\0\\\\0\\\\0\\\\0\\\\0\\\\0\\end{matrix}\\right] = \\left[\\begin{matrix}0\\\\0\\\\0\\\\0\\\\1\\\\0\\\\0\\\\0\\end{matrix}\\right] = 4 $$"
      ],
      "text/plain": [
       "<IPython.core.display.Latex object>"
      ]
     },
     "metadata": {},
     "output_type": "display_data"
    },
    {
     "name": "stdout",
     "output_type": "stream",
     "text": [
      "3\n"
     ]
    },
    {
     "data": {
      "text/latex": [
       "$$ \\left[\\begin{array}{cccccccccccccccc}0 & 0 & 0 & 0 & 0 & 0 & 0 & 0 & 0 & 0 & 0 & 0 & 0 & 0 & 0 & 0\\\\0 & 0 & 0 & 0 & 1 & 0 & 0 & 0 & 1 & 0 & 0 & 0 & 1 & 1 & 1 & 0\\\\1 & 0 & 0 & 0 & 0 & 1 & 1 & 0 & 0 & 1 & 1 & 0 & 0 & 0 & 0 & 1\\\\0 & 0 & 0 & 0 & 0 & 0 & 0 & 0 & 0 & 0 & 0 & 0 & 0 & 0 & 0 & 0\\\\0 & 1 & 1 & 1 & 0 & 0 & 0 & 1 & 0 & 0 & 0 & 1 & 0 & 0 & 0 & 0\\\\0 & 0 & 0 & 0 & 0 & 0 & 0 & 0 & 0 & 0 & 0 & 0 & 0 & 0 & 0 & 0\\\\0 & 0 & 0 & 0 & 0 & 0 & 0 & 0 & 0 & 0 & 0 & 0 & 0 & 0 & 0 & 0\\\\0 & 0 & 0 & 0 & 0 & 0 & 0 & 0 & 0 & 0 & 0 & 0 & 0 & 0 & 0 & 0\\end{array}\\right] \\;\\cdot\\; \\left[\\begin{matrix}0\\\\0\\\\0\\\\1\\\\0\\\\0\\\\0\\\\0\\\\0\\\\0\\\\0\\\\0\\\\0\\\\0\\\\0\\\\0\\end{matrix}\\right] = \\left[\\begin{matrix}0\\\\0\\\\0\\\\0\\\\1\\\\0\\\\0\\\\0\\end{matrix}\\right] = 4 $$"
      ],
      "text/plain": [
       "<IPython.core.display.Latex object>"
      ]
     },
     "metadata": {},
     "output_type": "display_data"
    },
    {
     "name": "stdout",
     "output_type": "stream",
     "text": [
      "4\n"
     ]
    },
    {
     "data": {
      "text/latex": [
       "$$ \\left[\\begin{array}{cccccccccccccccc}0 & 0 & 0 & 0 & 0 & 0 & 0 & 0 & 0 & 0 & 0 & 0 & 0 & 0 & 0 & 0\\\\0 & 0 & 0 & 0 & 1 & 0 & 0 & 0 & 1 & 0 & 0 & 0 & 1 & 1 & 1 & 0\\\\1 & 0 & 0 & 0 & 0 & 1 & 1 & 0 & 0 & 1 & 1 & 0 & 0 & 0 & 0 & 1\\\\0 & 0 & 0 & 0 & 0 & 0 & 0 & 0 & 0 & 0 & 0 & 0 & 0 & 0 & 0 & 0\\\\0 & 1 & 1 & 1 & 0 & 0 & 0 & 1 & 0 & 0 & 0 & 1 & 0 & 0 & 0 & 0\\\\0 & 0 & 0 & 0 & 0 & 0 & 0 & 0 & 0 & 0 & 0 & 0 & 0 & 0 & 0 & 0\\\\0 & 0 & 0 & 0 & 0 & 0 & 0 & 0 & 0 & 0 & 0 & 0 & 0 & 0 & 0 & 0\\\\0 & 0 & 0 & 0 & 0 & 0 & 0 & 0 & 0 & 0 & 0 & 0 & 0 & 0 & 0 & 0\\end{array}\\right] \\;\\cdot\\; \\left[\\begin{matrix}0\\\\0\\\\0\\\\0\\\\1\\\\0\\\\0\\\\0\\\\0\\\\0\\\\0\\\\0\\\\0\\\\0\\\\0\\\\0\\end{matrix}\\right] = \\left[\\begin{matrix}0\\\\1\\\\0\\\\0\\\\0\\\\0\\\\0\\\\0\\end{matrix}\\right] = 1 $$"
      ],
      "text/plain": [
       "<IPython.core.display.Latex object>"
      ]
     },
     "metadata": {},
     "output_type": "display_data"
    },
    {
     "name": "stdout",
     "output_type": "stream",
     "text": [
      "5\n"
     ]
    },
    {
     "data": {
      "text/latex": [
       "$$ \\left[\\begin{array}{cccccccccccccccc}0 & 0 & 0 & 0 & 0 & 0 & 0 & 0 & 0 & 0 & 0 & 0 & 0 & 0 & 0 & 0\\\\0 & 0 & 0 & 0 & 1 & 0 & 0 & 0 & 1 & 0 & 0 & 0 & 1 & 1 & 1 & 0\\\\1 & 0 & 0 & 0 & 0 & 1 & 1 & 0 & 0 & 1 & 1 & 0 & 0 & 0 & 0 & 1\\\\0 & 0 & 0 & 0 & 0 & 0 & 0 & 0 & 0 & 0 & 0 & 0 & 0 & 0 & 0 & 0\\\\0 & 1 & 1 & 1 & 0 & 0 & 0 & 1 & 0 & 0 & 0 & 1 & 0 & 0 & 0 & 0\\\\0 & 0 & 0 & 0 & 0 & 0 & 0 & 0 & 0 & 0 & 0 & 0 & 0 & 0 & 0 & 0\\\\0 & 0 & 0 & 0 & 0 & 0 & 0 & 0 & 0 & 0 & 0 & 0 & 0 & 0 & 0 & 0\\\\0 & 0 & 0 & 0 & 0 & 0 & 0 & 0 & 0 & 0 & 0 & 0 & 0 & 0 & 0 & 0\\end{array}\\right] \\;\\cdot\\; \\left[\\begin{matrix}0\\\\0\\\\0\\\\0\\\\0\\\\1\\\\0\\\\0\\\\0\\\\0\\\\0\\\\0\\\\0\\\\0\\\\0\\\\0\\end{matrix}\\right] = \\left[\\begin{matrix}0\\\\0\\\\1\\\\0\\\\0\\\\0\\\\0\\\\0\\end{matrix}\\right] = 2 $$"
      ],
      "text/plain": [
       "<IPython.core.display.Latex object>"
      ]
     },
     "metadata": {},
     "output_type": "display_data"
    },
    {
     "name": "stdout",
     "output_type": "stream",
     "text": [
      "6\n"
     ]
    },
    {
     "data": {
      "text/latex": [
       "$$ \\left[\\begin{array}{cccccccccccccccc}0 & 0 & 0 & 0 & 0 & 0 & 0 & 0 & 0 & 0 & 0 & 0 & 0 & 0 & 0 & 0\\\\0 & 0 & 0 & 0 & 1 & 0 & 0 & 0 & 1 & 0 & 0 & 0 & 1 & 1 & 1 & 0\\\\1 & 0 & 0 & 0 & 0 & 1 & 1 & 0 & 0 & 1 & 1 & 0 & 0 & 0 & 0 & 1\\\\0 & 0 & 0 & 0 & 0 & 0 & 0 & 0 & 0 & 0 & 0 & 0 & 0 & 0 & 0 & 0\\\\0 & 1 & 1 & 1 & 0 & 0 & 0 & 1 & 0 & 0 & 0 & 1 & 0 & 0 & 0 & 0\\\\0 & 0 & 0 & 0 & 0 & 0 & 0 & 0 & 0 & 0 & 0 & 0 & 0 & 0 & 0 & 0\\\\0 & 0 & 0 & 0 & 0 & 0 & 0 & 0 & 0 & 0 & 0 & 0 & 0 & 0 & 0 & 0\\\\0 & 0 & 0 & 0 & 0 & 0 & 0 & 0 & 0 & 0 & 0 & 0 & 0 & 0 & 0 & 0\\end{array}\\right] \\;\\cdot\\; \\left[\\begin{matrix}0\\\\0\\\\0\\\\0\\\\0\\\\0\\\\1\\\\0\\\\0\\\\0\\\\0\\\\0\\\\0\\\\0\\\\0\\\\0\\end{matrix}\\right] = \\left[\\begin{matrix}0\\\\0\\\\1\\\\0\\\\0\\\\0\\\\0\\\\0\\end{matrix}\\right] = 2 $$"
      ],
      "text/plain": [
       "<IPython.core.display.Latex object>"
      ]
     },
     "metadata": {},
     "output_type": "display_data"
    },
    {
     "name": "stdout",
     "output_type": "stream",
     "text": [
      "7\n"
     ]
    },
    {
     "data": {
      "text/latex": [
       "$$ \\left[\\begin{array}{cccccccccccccccc}0 & 0 & 0 & 0 & 0 & 0 & 0 & 0 & 0 & 0 & 0 & 0 & 0 & 0 & 0 & 0\\\\0 & 0 & 0 & 0 & 1 & 0 & 0 & 0 & 1 & 0 & 0 & 0 & 1 & 1 & 1 & 0\\\\1 & 0 & 0 & 0 & 0 & 1 & 1 & 0 & 0 & 1 & 1 & 0 & 0 & 0 & 0 & 1\\\\0 & 0 & 0 & 0 & 0 & 0 & 0 & 0 & 0 & 0 & 0 & 0 & 0 & 0 & 0 & 0\\\\0 & 1 & 1 & 1 & 0 & 0 & 0 & 1 & 0 & 0 & 0 & 1 & 0 & 0 & 0 & 0\\\\0 & 0 & 0 & 0 & 0 & 0 & 0 & 0 & 0 & 0 & 0 & 0 & 0 & 0 & 0 & 0\\\\0 & 0 & 0 & 0 & 0 & 0 & 0 & 0 & 0 & 0 & 0 & 0 & 0 & 0 & 0 & 0\\\\0 & 0 & 0 & 0 & 0 & 0 & 0 & 0 & 0 & 0 & 0 & 0 & 0 & 0 & 0 & 0\\end{array}\\right] \\;\\cdot\\; \\left[\\begin{matrix}0\\\\0\\\\0\\\\0\\\\0\\\\0\\\\0\\\\1\\\\0\\\\0\\\\0\\\\0\\\\0\\\\0\\\\0\\\\0\\end{matrix}\\right] = \\left[\\begin{matrix}0\\\\0\\\\0\\\\0\\\\1\\\\0\\\\0\\\\0\\end{matrix}\\right] = 4 $$"
      ],
      "text/plain": [
       "<IPython.core.display.Latex object>"
      ]
     },
     "metadata": {},
     "output_type": "display_data"
    },
    {
     "name": "stdout",
     "output_type": "stream",
     "text": [
      "8\n"
     ]
    },
    {
     "data": {
      "text/latex": [
       "$$ \\left[\\begin{array}{cccccccccccccccc}0 & 0 & 0 & 0 & 0 & 0 & 0 & 0 & 0 & 0 & 0 & 0 & 0 & 0 & 0 & 0\\\\0 & 0 & 0 & 0 & 1 & 0 & 0 & 0 & 1 & 0 & 0 & 0 & 1 & 1 & 1 & 0\\\\1 & 0 & 0 & 0 & 0 & 1 & 1 & 0 & 0 & 1 & 1 & 0 & 0 & 0 & 0 & 1\\\\0 & 0 & 0 & 0 & 0 & 0 & 0 & 0 & 0 & 0 & 0 & 0 & 0 & 0 & 0 & 0\\\\0 & 1 & 1 & 1 & 0 & 0 & 0 & 1 & 0 & 0 & 0 & 1 & 0 & 0 & 0 & 0\\\\0 & 0 & 0 & 0 & 0 & 0 & 0 & 0 & 0 & 0 & 0 & 0 & 0 & 0 & 0 & 0\\\\0 & 0 & 0 & 0 & 0 & 0 & 0 & 0 & 0 & 0 & 0 & 0 & 0 & 0 & 0 & 0\\\\0 & 0 & 0 & 0 & 0 & 0 & 0 & 0 & 0 & 0 & 0 & 0 & 0 & 0 & 0 & 0\\end{array}\\right] \\;\\cdot\\; \\left[\\begin{matrix}0\\\\0\\\\0\\\\0\\\\0\\\\0\\\\0\\\\0\\\\1\\\\0\\\\0\\\\0\\\\0\\\\0\\\\0\\\\0\\end{matrix}\\right] = \\left[\\begin{matrix}0\\\\1\\\\0\\\\0\\\\0\\\\0\\\\0\\\\0\\end{matrix}\\right] = 1 $$"
      ],
      "text/plain": [
       "<IPython.core.display.Latex object>"
      ]
     },
     "metadata": {},
     "output_type": "display_data"
    },
    {
     "name": "stdout",
     "output_type": "stream",
     "text": [
      "9\n"
     ]
    },
    {
     "data": {
      "text/latex": [
       "$$ \\left[\\begin{array}{cccccccccccccccc}0 & 0 & 0 & 0 & 0 & 0 & 0 & 0 & 0 & 0 & 0 & 0 & 0 & 0 & 0 & 0\\\\0 & 0 & 0 & 0 & 1 & 0 & 0 & 0 & 1 & 0 & 0 & 0 & 1 & 1 & 1 & 0\\\\1 & 0 & 0 & 0 & 0 & 1 & 1 & 0 & 0 & 1 & 1 & 0 & 0 & 0 & 0 & 1\\\\0 & 0 & 0 & 0 & 0 & 0 & 0 & 0 & 0 & 0 & 0 & 0 & 0 & 0 & 0 & 0\\\\0 & 1 & 1 & 1 & 0 & 0 & 0 & 1 & 0 & 0 & 0 & 1 & 0 & 0 & 0 & 0\\\\0 & 0 & 0 & 0 & 0 & 0 & 0 & 0 & 0 & 0 & 0 & 0 & 0 & 0 & 0 & 0\\\\0 & 0 & 0 & 0 & 0 & 0 & 0 & 0 & 0 & 0 & 0 & 0 & 0 & 0 & 0 & 0\\\\0 & 0 & 0 & 0 & 0 & 0 & 0 & 0 & 0 & 0 & 0 & 0 & 0 & 0 & 0 & 0\\end{array}\\right] \\;\\cdot\\; \\left[\\begin{matrix}0\\\\0\\\\0\\\\0\\\\0\\\\0\\\\0\\\\0\\\\0\\\\1\\\\0\\\\0\\\\0\\\\0\\\\0\\\\0\\end{matrix}\\right] = \\left[\\begin{matrix}0\\\\0\\\\1\\\\0\\\\0\\\\0\\\\0\\\\0\\end{matrix}\\right] = 2 $$"
      ],
      "text/plain": [
       "<IPython.core.display.Latex object>"
      ]
     },
     "metadata": {},
     "output_type": "display_data"
    },
    {
     "name": "stdout",
     "output_type": "stream",
     "text": [
      "10\n"
     ]
    },
    {
     "data": {
      "text/latex": [
       "$$ \\left[\\begin{array}{cccccccccccccccc}0 & 0 & 0 & 0 & 0 & 0 & 0 & 0 & 0 & 0 & 0 & 0 & 0 & 0 & 0 & 0\\\\0 & 0 & 0 & 0 & 1 & 0 & 0 & 0 & 1 & 0 & 0 & 0 & 1 & 1 & 1 & 0\\\\1 & 0 & 0 & 0 & 0 & 1 & 1 & 0 & 0 & 1 & 1 & 0 & 0 & 0 & 0 & 1\\\\0 & 0 & 0 & 0 & 0 & 0 & 0 & 0 & 0 & 0 & 0 & 0 & 0 & 0 & 0 & 0\\\\0 & 1 & 1 & 1 & 0 & 0 & 0 & 1 & 0 & 0 & 0 & 1 & 0 & 0 & 0 & 0\\\\0 & 0 & 0 & 0 & 0 & 0 & 0 & 0 & 0 & 0 & 0 & 0 & 0 & 0 & 0 & 0\\\\0 & 0 & 0 & 0 & 0 & 0 & 0 & 0 & 0 & 0 & 0 & 0 & 0 & 0 & 0 & 0\\\\0 & 0 & 0 & 0 & 0 & 0 & 0 & 0 & 0 & 0 & 0 & 0 & 0 & 0 & 0 & 0\\end{array}\\right] \\;\\cdot\\; \\left[\\begin{matrix}0\\\\0\\\\0\\\\0\\\\0\\\\0\\\\0\\\\0\\\\0\\\\0\\\\1\\\\0\\\\0\\\\0\\\\0\\\\0\\end{matrix}\\right] = \\left[\\begin{matrix}0\\\\0\\\\1\\\\0\\\\0\\\\0\\\\0\\\\0\\end{matrix}\\right] = 2 $$"
      ],
      "text/plain": [
       "<IPython.core.display.Latex object>"
      ]
     },
     "metadata": {},
     "output_type": "display_data"
    },
    {
     "name": "stdout",
     "output_type": "stream",
     "text": [
      "11\n"
     ]
    },
    {
     "data": {
      "text/latex": [
       "$$ \\left[\\begin{array}{cccccccccccccccc}0 & 0 & 0 & 0 & 0 & 0 & 0 & 0 & 0 & 0 & 0 & 0 & 0 & 0 & 0 & 0\\\\0 & 0 & 0 & 0 & 1 & 0 & 0 & 0 & 1 & 0 & 0 & 0 & 1 & 1 & 1 & 0\\\\1 & 0 & 0 & 0 & 0 & 1 & 1 & 0 & 0 & 1 & 1 & 0 & 0 & 0 & 0 & 1\\\\0 & 0 & 0 & 0 & 0 & 0 & 0 & 0 & 0 & 0 & 0 & 0 & 0 & 0 & 0 & 0\\\\0 & 1 & 1 & 1 & 0 & 0 & 0 & 1 & 0 & 0 & 0 & 1 & 0 & 0 & 0 & 0\\\\0 & 0 & 0 & 0 & 0 & 0 & 0 & 0 & 0 & 0 & 0 & 0 & 0 & 0 & 0 & 0\\\\0 & 0 & 0 & 0 & 0 & 0 & 0 & 0 & 0 & 0 & 0 & 0 & 0 & 0 & 0 & 0\\\\0 & 0 & 0 & 0 & 0 & 0 & 0 & 0 & 0 & 0 & 0 & 0 & 0 & 0 & 0 & 0\\end{array}\\right] \\;\\cdot\\; \\left[\\begin{matrix}0\\\\0\\\\0\\\\0\\\\0\\\\0\\\\0\\\\0\\\\0\\\\0\\\\0\\\\1\\\\0\\\\0\\\\0\\\\0\\end{matrix}\\right] = \\left[\\begin{matrix}0\\\\0\\\\0\\\\0\\\\1\\\\0\\\\0\\\\0\\end{matrix}\\right] = 4 $$"
      ],
      "text/plain": [
       "<IPython.core.display.Latex object>"
      ]
     },
     "metadata": {},
     "output_type": "display_data"
    },
    {
     "name": "stdout",
     "output_type": "stream",
     "text": [
      "12\n"
     ]
    },
    {
     "data": {
      "text/latex": [
       "$$ \\left[\\begin{array}{cccccccccccccccc}0 & 0 & 0 & 0 & 0 & 0 & 0 & 0 & 0 & 0 & 0 & 0 & 0 & 0 & 0 & 0\\\\0 & 0 & 0 & 0 & 1 & 0 & 0 & 0 & 1 & 0 & 0 & 0 & 1 & 1 & 1 & 0\\\\1 & 0 & 0 & 0 & 0 & 1 & 1 & 0 & 0 & 1 & 1 & 0 & 0 & 0 & 0 & 1\\\\0 & 0 & 0 & 0 & 0 & 0 & 0 & 0 & 0 & 0 & 0 & 0 & 0 & 0 & 0 & 0\\\\0 & 1 & 1 & 1 & 0 & 0 & 0 & 1 & 0 & 0 & 0 & 1 & 0 & 0 & 0 & 0\\\\0 & 0 & 0 & 0 & 0 & 0 & 0 & 0 & 0 & 0 & 0 & 0 & 0 & 0 & 0 & 0\\\\0 & 0 & 0 & 0 & 0 & 0 & 0 & 0 & 0 & 0 & 0 & 0 & 0 & 0 & 0 & 0\\\\0 & 0 & 0 & 0 & 0 & 0 & 0 & 0 & 0 & 0 & 0 & 0 & 0 & 0 & 0 & 0\\end{array}\\right] \\;\\cdot\\; \\left[\\begin{matrix}0\\\\0\\\\0\\\\0\\\\0\\\\0\\\\0\\\\0\\\\0\\\\0\\\\0\\\\0\\\\1\\\\0\\\\0\\\\0\\end{matrix}\\right] = \\left[\\begin{matrix}0\\\\1\\\\0\\\\0\\\\0\\\\0\\\\0\\\\0\\end{matrix}\\right] = 1 $$"
      ],
      "text/plain": [
       "<IPython.core.display.Latex object>"
      ]
     },
     "metadata": {},
     "output_type": "display_data"
    },
    {
     "name": "stdout",
     "output_type": "stream",
     "text": [
      "13\n"
     ]
    },
    {
     "data": {
      "text/latex": [
       "$$ \\left[\\begin{array}{cccccccccccccccc}0 & 0 & 0 & 0 & 0 & 0 & 0 & 0 & 0 & 0 & 0 & 0 & 0 & 0 & 0 & 0\\\\0 & 0 & 0 & 0 & 1 & 0 & 0 & 0 & 1 & 0 & 0 & 0 & 1 & 1 & 1 & 0\\\\1 & 0 & 0 & 0 & 0 & 1 & 1 & 0 & 0 & 1 & 1 & 0 & 0 & 0 & 0 & 1\\\\0 & 0 & 0 & 0 & 0 & 0 & 0 & 0 & 0 & 0 & 0 & 0 & 0 & 0 & 0 & 0\\\\0 & 1 & 1 & 1 & 0 & 0 & 0 & 1 & 0 & 0 & 0 & 1 & 0 & 0 & 0 & 0\\\\0 & 0 & 0 & 0 & 0 & 0 & 0 & 0 & 0 & 0 & 0 & 0 & 0 & 0 & 0 & 0\\\\0 & 0 & 0 & 0 & 0 & 0 & 0 & 0 & 0 & 0 & 0 & 0 & 0 & 0 & 0 & 0\\\\0 & 0 & 0 & 0 & 0 & 0 & 0 & 0 & 0 & 0 & 0 & 0 & 0 & 0 & 0 & 0\\end{array}\\right] \\;\\cdot\\; \\left[\\begin{matrix}0\\\\0\\\\0\\\\0\\\\0\\\\0\\\\0\\\\0\\\\0\\\\0\\\\0\\\\0\\\\0\\\\1\\\\0\\\\0\\end{matrix}\\right] = \\left[\\begin{matrix}0\\\\1\\\\0\\\\0\\\\0\\\\0\\\\0\\\\0\\end{matrix}\\right] = 1 $$"
      ],
      "text/plain": [
       "<IPython.core.display.Latex object>"
      ]
     },
     "metadata": {},
     "output_type": "display_data"
    },
    {
     "name": "stdout",
     "output_type": "stream",
     "text": [
      "14\n"
     ]
    },
    {
     "data": {
      "text/latex": [
       "$$ \\left[\\begin{array}{cccccccccccccccc}0 & 0 & 0 & 0 & 0 & 0 & 0 & 0 & 0 & 0 & 0 & 0 & 0 & 0 & 0 & 0\\\\0 & 0 & 0 & 0 & 1 & 0 & 0 & 0 & 1 & 0 & 0 & 0 & 1 & 1 & 1 & 0\\\\1 & 0 & 0 & 0 & 0 & 1 & 1 & 0 & 0 & 1 & 1 & 0 & 0 & 0 & 0 & 1\\\\0 & 0 & 0 & 0 & 0 & 0 & 0 & 0 & 0 & 0 & 0 & 0 & 0 & 0 & 0 & 0\\\\0 & 1 & 1 & 1 & 0 & 0 & 0 & 1 & 0 & 0 & 0 & 1 & 0 & 0 & 0 & 0\\\\0 & 0 & 0 & 0 & 0 & 0 & 0 & 0 & 0 & 0 & 0 & 0 & 0 & 0 & 0 & 0\\\\0 & 0 & 0 & 0 & 0 & 0 & 0 & 0 & 0 & 0 & 0 & 0 & 0 & 0 & 0 & 0\\\\0 & 0 & 0 & 0 & 0 & 0 & 0 & 0 & 0 & 0 & 0 & 0 & 0 & 0 & 0 & 0\\end{array}\\right] \\;\\cdot\\; \\left[\\begin{matrix}0\\\\0\\\\0\\\\0\\\\0\\\\0\\\\0\\\\0\\\\0\\\\0\\\\0\\\\0\\\\0\\\\0\\\\1\\\\0\\end{matrix}\\right] = \\left[\\begin{matrix}0\\\\1\\\\0\\\\0\\\\0\\\\0\\\\0\\\\0\\end{matrix}\\right] = 1 $$"
      ],
      "text/plain": [
       "<IPython.core.display.Latex object>"
      ]
     },
     "metadata": {},
     "output_type": "display_data"
    },
    {
     "name": "stdout",
     "output_type": "stream",
     "text": [
      "15\n"
     ]
    },
    {
     "data": {
      "text/latex": [
       "$$ \\left[\\begin{array}{cccccccccccccccc}0 & 0 & 0 & 0 & 0 & 0 & 0 & 0 & 0 & 0 & 0 & 0 & 0 & 0 & 0 & 0\\\\0 & 0 & 0 & 0 & 1 & 0 & 0 & 0 & 1 & 0 & 0 & 0 & 1 & 1 & 1 & 0\\\\1 & 0 & 0 & 0 & 0 & 1 & 1 & 0 & 0 & 1 & 1 & 0 & 0 & 0 & 0 & 1\\\\0 & 0 & 0 & 0 & 0 & 0 & 0 & 0 & 0 & 0 & 0 & 0 & 0 & 0 & 0 & 0\\\\0 & 1 & 1 & 1 & 0 & 0 & 0 & 1 & 0 & 0 & 0 & 1 & 0 & 0 & 0 & 0\\\\0 & 0 & 0 & 0 & 0 & 0 & 0 & 0 & 0 & 0 & 0 & 0 & 0 & 0 & 0 & 0\\\\0 & 0 & 0 & 0 & 0 & 0 & 0 & 0 & 0 & 0 & 0 & 0 & 0 & 0 & 0 & 0\\\\0 & 0 & 0 & 0 & 0 & 0 & 0 & 0 & 0 & 0 & 0 & 0 & 0 & 0 & 0 & 0\\end{array}\\right] \\;\\cdot\\; \\left[\\begin{matrix}0\\\\0\\\\0\\\\0\\\\0\\\\0\\\\0\\\\0\\\\0\\\\0\\\\0\\\\0\\\\0\\\\0\\\\0\\\\1\\end{matrix}\\right] = \\left[\\begin{matrix}0\\\\0\\\\1\\\\0\\\\0\\\\0\\\\0\\\\0\\end{matrix}\\right] = 2 $$"
      ],
      "text/plain": [
       "<IPython.core.display.Latex object>"
      ]
     },
     "metadata": {},
     "output_type": "display_data"
    }
   ],
   "source": [
    "@latexify.function(reduce_assignments=True, use_math_symbols=True)\n",
    "def matrix_column_product(matrix, column_vector):\n",
    "    \"\"\"\n",
    "    Retorna o produto de 'matrix' por 'column_vector'.\n",
    "    \"\"\"\n",
    "    return matrix * column_vector\n",
    "\n",
    "# Loop pelas colunas da identidade\n",
    "for i in range(A.cols):\n",
    "    print(i)\n",
    "    result_expr = matrix_column_product(A, identity_matrix.col(i))\n",
    "    pos_1 = result_expr.tolist().index([1])\n",
    "    # Monta e exibe a equação completa em LaTeX\n",
    "    display(Latex(\n",
    "        rf\"$$ {sp.latex(A)} \\;\\cdot\\; {sp.latex(identity_matrix.col(i))}\"\n",
    "        rf\" = {sp.latex(result_expr)} = {sp.latex(pos_1)} $$\"\n",
    "    ))"
   ]
  },
  {
   "cell_type": "code",
   "execution_count": 31,
   "id": "b6362e3a",
   "metadata": {},
   "outputs": [
    {
     "data": {
      "text/latex": [
       "$\\displaystyle \\left[\\begin{matrix}0\\\\x_{1} x_{4} x_{5} x_{7} + x_{2} x_{3} x_{5} x_{7} + x_{2} x_{4} x_{5} x_{7} + x_{2} x_{4} x_{5} x_{8} + x_{2} x_{4} x_{6} x_{7}\\\\x_{1} x_{3} x_{5} x_{7} + x_{1} x_{4} x_{5} x_{8} + x_{1} x_{4} x_{6} x_{7} + x_{2} x_{3} x_{5} x_{8} + x_{2} x_{3} x_{6} x_{7} + x_{2} x_{4} x_{6} x_{8}\\\\0\\\\x_{1} x_{3} x_{5} x_{8} + x_{1} x_{3} x_{6} x_{7} + x_{1} x_{3} x_{6} x_{8} + x_{1} x_{4} x_{6} x_{8} + x_{2} x_{3} x_{6} x_{8}\\\\0\\\\0\\\\0\\end{matrix}\\right]$"
      ],
      "text/plain": [
       "Matrix([\n",
       "[                                                                                0],\n",
       "[              x1*x4*x5*x7 + x2*x3*x5*x7 + x2*x4*x5*x7 + x2*x4*x5*x8 + x2*x4*x6*x7],\n",
       "[x1*x3*x5*x7 + x1*x4*x5*x8 + x1*x4*x6*x7 + x2*x3*x5*x8 + x2*x3*x6*x7 + x2*x4*x6*x8],\n",
       "[                                                                                0],\n",
       "[              x1*x3*x5*x8 + x1*x3*x6*x7 + x1*x3*x6*x8 + x1*x4*x6*x8 + x2*x3*x6*x8],\n",
       "[                                                                                0],\n",
       "[                                                                                0],\n",
       "[                                                                                0]])"
      ]
     },
     "execution_count": 31,
     "metadata": {},
     "output_type": "execute_result"
    }
   ],
   "source": [
    "regra = sp.Matrix(np.dot(vetores_binarios, variaveis)) # expressões simbólicas\n",
    "regra"
   ]
  },
  {
   "cell_type": "code",
   "execution_count": 32,
   "id": "3f4fca6c",
   "metadata": {},
   "outputs": [],
   "source": [
    "def criar_substituicoes(bits):\n",
    "    simb = criar_vetor_de_simbolos(bits * 2)\n",
    "    bools = sp.symbols(f'b1:{bits+1}')\n",
    "    subs = {}\n",
    "    for i in range(bits):\n",
    "        zero_sym, one_sym = simb[2*i], simb[2*i+1]\n",
    "        b = bools[i]\n",
    "        subs[ zero_sym ] = 1 - b   # coordenada “0” → 1-b\n",
    "        subs[ one_sym  ] = b       # coordenada “1” → b\n",
    "    return subs\n"
   ]
  },
  {
   "cell_type": "code",
   "execution_count": 33,
   "id": "7233443e",
   "metadata": {},
   "outputs": [
    {
     "name": "stdout",
     "output_type": "stream",
     "text": [
      "4\n",
      "{x₁: 1 - b₁, x₂: b₁, x₃: 1 - b₂, x₄: b₂, x₅: 1 - b₃, x₆: b₃, x₇: 1 - b₄, x₈: b₄}\n"
     ]
    }
   ],
   "source": [
    "print(bits)\n",
    "subs = criar_substituicoes(bits)\n",
    "sp.pprint(subs)"
   ]
  },
  {
   "cell_type": "code",
   "execution_count": 34,
   "id": "64eff115",
   "metadata": {},
   "outputs": [
    {
     "data": {
      "text/latex": [
       "$\\displaystyle \\left[\\begin{matrix}0\\\\- b_{1} b_{2} b_{3} \\left(b_{4} - 1\\right) - b_{1} b_{2} b_{4} \\left(b_{3} - 1\\right) + b_{1} b_{2} \\left(b_{3} - 1\\right) \\left(b_{4} - 1\\right) - b_{1} \\left(b_{2} - 1\\right) \\left(b_{3} - 1\\right) \\left(b_{4} - 1\\right) - b_{2} \\left(b_{1} - 1\\right) \\left(b_{3} - 1\\right) \\left(b_{4} - 1\\right)\\\\b_{1} b_{2} b_{3} b_{4} + b_{1} b_{3} \\left(b_{2} - 1\\right) \\left(b_{4} - 1\\right) + b_{1} b_{4} \\left(b_{2} - 1\\right) \\left(b_{3} - 1\\right) + b_{2} b_{3} \\left(b_{1} - 1\\right) \\left(b_{4} - 1\\right) + b_{2} b_{4} \\left(b_{1} - 1\\right) \\left(b_{3} - 1\\right) + \\left(b_{1} - 1\\right) \\left(b_{2} - 1\\right) \\left(b_{3} - 1\\right) \\left(b_{4} - 1\\right)\\\\0\\\\- b_{1} b_{3} b_{4} \\left(b_{2} - 1\\right) - b_{2} b_{3} b_{4} \\left(b_{1} - 1\\right) + b_{3} b_{4} \\left(b_{1} - 1\\right) \\left(b_{2} - 1\\right) - b_{3} \\left(b_{1} - 1\\right) \\left(b_{2} - 1\\right) \\left(b_{4} - 1\\right) - b_{4} \\left(b_{1} - 1\\right) \\left(b_{2} - 1\\right) \\left(b_{3} - 1\\right)\\\\0\\\\0\\\\0\\end{matrix}\\right]$"
      ],
      "text/plain": [
       "Matrix([\n",
       "[                                                                                                                                                        0],\n",
       "[                         -b1*b2*b3*(b4 - 1) - b1*b2*b4*(b3 - 1) + b1*b2*(b3 - 1)*(b4 - 1) - b1*(b2 - 1)*(b3 - 1)*(b4 - 1) - b2*(b1 - 1)*(b3 - 1)*(b4 - 1)],\n",
       "[b1*b2*b3*b4 + b1*b3*(b2 - 1)*(b4 - 1) + b1*b4*(b2 - 1)*(b3 - 1) + b2*b3*(b1 - 1)*(b4 - 1) + b2*b4*(b1 - 1)*(b3 - 1) + (b1 - 1)*(b2 - 1)*(b3 - 1)*(b4 - 1)],\n",
       "[                                                                                                                                                        0],\n",
       "[                         -b1*b3*b4*(b2 - 1) - b2*b3*b4*(b1 - 1) + b3*b4*(b1 - 1)*(b2 - 1) - b3*(b1 - 1)*(b2 - 1)*(b4 - 1) - b4*(b1 - 1)*(b2 - 1)*(b3 - 1)],\n",
       "[                                                                                                                                                        0],\n",
       "[                                                                                                                                                        0],\n",
       "[                                                                                                                                                        0]])"
      ]
     },
     "execution_count": 34,
     "metadata": {},
     "output_type": "execute_result"
    }
   ],
   "source": [
    "f_booleana = sp.simplify(regra.subs(subs))\n",
    "f_booleana"
   ]
  },
  {
   "cell_type": "code",
   "execution_count": 35,
   "id": "7f5e1bd9",
   "metadata": {},
   "outputs": [
    {
     "data": {
      "text/plain": [
       "[(0, 0, 0, 0),\n",
       " (0, 0, 0, 1),\n",
       " (0, 0, 1, 0),\n",
       " (0, 0, 1, 1),\n",
       " (0, 1, 0, 0),\n",
       " (0, 1, 0, 1),\n",
       " (0, 1, 1, 0),\n",
       " (0, 1, 1, 1),\n",
       " (1, 0, 0, 0),\n",
       " (1, 0, 0, 1),\n",
       " (1, 0, 1, 0),\n",
       " (1, 0, 1, 1),\n",
       " (1, 1, 0, 0),\n",
       " (1, 1, 0, 1),\n",
       " (1, 1, 1, 0),\n",
       " (1, 1, 1, 1)]"
      ]
     },
     "execution_count": 35,
     "metadata": {},
     "output_type": "execute_result"
    }
   ],
   "source": [
    "from itertools import product\n",
    "\n",
    "# Gerar todas as combinações de 0 e 1 para as 4 variáveis\n",
    "entradas = list(product([0, 1], repeat=4))\n",
    "entradas"
   ]
  },
  {
   "cell_type": "code",
   "execution_count": 36,
   "id": "457d25cb",
   "metadata": {},
   "outputs": [
    {
     "data": {
      "text/latex": [
       "$$ \\text{Coluna } 1 \\text{ é igual a } F_{2}(b1, b2, b3, b4) = - b_{1} b_{2} b_{3} \\left(b_{4} - 1\\right) - b_{1} b_{2} b_{4} \\left(b_{3} - 1\\right) + b_{1} b_{2} \\left(b_{3} - 1\\right) \\left(b_{4} - 1\\right) - b_{1} \\left(b_{2} - 1\\right) \\left(b_{3} - 1\\right) \\left(b_{4} - 1\\right) - b_{2} \\left(b_{1} - 1\\right) \\left(b_{3} - 1\\right) \\left(b_{4} - 1\\right) $$"
      ],
      "text/plain": [
       "<IPython.core.display.Latex object>"
      ]
     },
     "metadata": {},
     "output_type": "display_data"
    },
    {
     "data": {
      "text/latex": [
       "$$ \\text{Coluna } 2 \\text{ é igual a } F_{3}(b1, b2, b3, b4) = b_{1} b_{2} b_{3} b_{4} + b_{1} b_{3} \\left(b_{2} - 1\\right) \\left(b_{4} - 1\\right) + b_{1} b_{4} \\left(b_{2} - 1\\right) \\left(b_{3} - 1\\right) + b_{2} b_{3} \\left(b_{1} - 1\\right) \\left(b_{4} - 1\\right) + b_{2} b_{4} \\left(b_{1} - 1\\right) \\left(b_{3} - 1\\right) + \\left(b_{1} - 1\\right) \\left(b_{2} - 1\\right) \\left(b_{3} - 1\\right) \\left(b_{4} - 1\\right) $$"
      ],
      "text/plain": [
       "<IPython.core.display.Latex object>"
      ]
     },
     "metadata": {},
     "output_type": "display_data"
    },
    {
     "data": {
      "text/latex": [
       "$$ \\text{Coluna } 4 \\text{ é igual a } F_{5}(b1, b2, b3, b4) = - b_{1} b_{3} b_{4} \\left(b_{2} - 1\\right) - b_{2} b_{3} b_{4} \\left(b_{1} - 1\\right) + b_{3} b_{4} \\left(b_{1} - 1\\right) \\left(b_{2} - 1\\right) - b_{3} \\left(b_{1} - 1\\right) \\left(b_{2} - 1\\right) \\left(b_{4} - 1\\right) - b_{4} \\left(b_{1} - 1\\right) \\left(b_{2} - 1\\right) \\left(b_{3} - 1\\right) $$"
      ],
      "text/plain": [
       "<IPython.core.display.Latex object>"
      ]
     },
     "metadata": {},
     "output_type": "display_data"
    }
   ],
   "source": [
    "for i, e in enumerate(f_booleana):\n",
    "    # Ordena os símbolos por nome para manter consistência\n",
    "    variaveis_ordenadas = sorted(e.free_symbols, key=lambda s: s.name)\n",
    "    \n",
    "    # Exibe a forma simbólica da função\n",
    "    nome_funcao = f\"F_{{{i+1}}}({', '.join(str(s) for s in variaveis_ordenadas)})\"\n",
    "    \n",
    "    bin_valor = []\n",
    "\n",
    "    for linha_vals in entradas:\n",
    "        # Mapeia os valores de entrada para os símbolos\n",
    "        subs_dict = {var: linha_vals[j] for j, var in enumerate(variaveis_ordenadas)}\n",
    "        entrada_str = \",\".join(str(v) for v in linha_vals)\n",
    "        \n",
    "        # Constrói a expressão em LaTeX com substituição literal\n",
    "        expr_latex = sp.latex(e)\n",
    "        for var in variaveis_ordenadas:\n",
    "            expr_latex = expr_latex.replace(sp.latex(var), f\"({subs_dict[var]})\")\n",
    "        \n",
    "        # Calcula o valor real da expressão\n",
    "        resultado = e.subs(subs_dict)\n",
    "        bin_valor.append(resultado)\n",
    "   \n",
    "    # Verificando se teste é igual a alguma coluna\n",
    "    for coluna in tabela_verdade.columns:\n",
    "        if tabela_verdade[coluna].tolist() == bin_valor:\n",
    "            display(Latex(rf\"$$ \\text{{Coluna }} {i} \\text{{ é igual a }} {nome_funcao} = {sp.latex(e)} $$\"))"
   ]
  },
  {
   "cell_type": "code",
   "execution_count": 37,
   "id": "ad780267",
   "metadata": {},
   "outputs": [
    {
     "name": "stdout",
     "output_type": "stream",
     "text": [
      "F1() = 0\n",
      "-------------------------\n",
      "0 0 0 0 | 0\n",
      "0 0 0 1 | 0\n",
      "0 0 1 0 | 0\n",
      "0 0 1 1 | 0\n",
      "0 1 0 0 | 0\n",
      "0 1 0 1 | 0\n",
      "0 1 1 0 | 0\n",
      "0 1 1 1 | 0\n",
      "1 0 0 0 | 0\n",
      "1 0 0 1 | 0\n",
      "1 0 1 0 | 0\n",
      "1 0 1 1 | 0\n",
      "1 1 0 0 | 0\n",
      "1 1 0 1 | 0\n",
      "1 1 1 0 | 0\n",
      "1 1 1 1 | 0\n",
      "Nenhuma coluna é igual a 0\n",
      "F2(b1, b2, b3, b4) = -b1*b2*b3*(b4 - 1) - b1*b2*b4*(b3 - 1) + b1*b2*(b3 - 1)*(b4 - 1) - b1*(b2 - 1)*(b3 - 1)*(b4 - 1) - b2*(b1 - 1)*(b3 - 1)*(b4 - 1)\n",
      "-------------------------\n",
      "0 0 0 0 | 0\n",
      "0 0 0 1 | 0\n",
      "0 0 1 0 | 0\n",
      "0 0 1 1 | 0\n",
      "0 1 0 0 | 1\n",
      "0 1 0 1 | 0\n",
      "0 1 1 0 | 0\n",
      "0 1 1 1 | 0\n",
      "1 0 0 0 | 1\n",
      "1 0 0 1 | 0\n",
      "1 0 1 0 | 0\n",
      "1 0 1 1 | 0\n",
      "1 1 0 0 | 1\n",
      "1 1 0 1 | 1\n",
      "1 1 1 0 | 1\n",
      "1 1 1 1 | 0\n",
      "Coluna 'A > B' é igual a -b1*b2*b3*(b4 - 1) - b1*b2*b4*(b3 - 1) + b1*b2*(b3 - 1)*(b4 - 1) - b1*(b2 - 1)*(b3 - 1)*(b4 - 1) - b2*(b1 - 1)*(b3 - 1)*(b4 - 1)\n",
      "Nenhuma coluna é igual a -b1*b2*b3*(b4 - 1) - b1*b2*b4*(b3 - 1) + b1*b2*(b3 - 1)*(b4 - 1) - b1*(b2 - 1)*(b3 - 1)*(b4 - 1) - b2*(b1 - 1)*(b3 - 1)*(b4 - 1)\n",
      "F3(b1, b2, b3, b4) = b1*b2*b3*b4 + b1*b3*(b2 - 1)*(b4 - 1) + b1*b4*(b2 - 1)*(b3 - 1) + b2*b3*(b1 - 1)*(b4 - 1) + b2*b4*(b1 - 1)*(b3 - 1) + (b1 - 1)*(b2 - 1)*(b3 - 1)*(b4 - 1)\n",
      "-------------------------\n",
      "0 0 0 0 | 1\n",
      "0 0 0 1 | 0\n",
      "0 0 1 0 | 0\n",
      "0 0 1 1 | 0\n",
      "0 1 0 0 | 0\n",
      "0 1 0 1 | 1\n",
      "0 1 1 0 | 1\n",
      "0 1 1 1 | 0\n",
      "1 0 0 0 | 0\n",
      "1 0 0 1 | 1\n",
      "1 0 1 0 | 1\n",
      "1 0 1 1 | 0\n",
      "1 1 0 0 | 0\n",
      "1 1 0 1 | 0\n",
      "1 1 1 0 | 0\n",
      "1 1 1 1 | 1\n",
      "Coluna 'A = B' é igual a b1*b2*b3*b4 + b1*b3*(b2 - 1)*(b4 - 1) + b1*b4*(b2 - 1)*(b3 - 1) + b2*b3*(b1 - 1)*(b4 - 1) + b2*b4*(b1 - 1)*(b3 - 1) + (b1 - 1)*(b2 - 1)*(b3 - 1)*(b4 - 1)\n",
      "Nenhuma coluna é igual a b1*b2*b3*b4 + b1*b3*(b2 - 1)*(b4 - 1) + b1*b4*(b2 - 1)*(b3 - 1) + b2*b3*(b1 - 1)*(b4 - 1) + b2*b4*(b1 - 1)*(b3 - 1) + (b1 - 1)*(b2 - 1)*(b3 - 1)*(b4 - 1)\n",
      "F4() = 0\n",
      "-------------------------\n",
      "0 0 0 0 | 0\n",
      "0 0 0 1 | 0\n",
      "0 0 1 0 | 0\n",
      "0 0 1 1 | 0\n",
      "0 1 0 0 | 0\n",
      "0 1 0 1 | 0\n",
      "0 1 1 0 | 0\n",
      "0 1 1 1 | 0\n",
      "1 0 0 0 | 0\n",
      "1 0 0 1 | 0\n",
      "1 0 1 0 | 0\n",
      "1 0 1 1 | 0\n",
      "1 1 0 0 | 0\n",
      "1 1 0 1 | 0\n",
      "1 1 1 0 | 0\n",
      "1 1 1 1 | 0\n",
      "Nenhuma coluna é igual a 0\n",
      "F5(b1, b2, b3, b4) = -b1*b3*b4*(b2 - 1) - b2*b3*b4*(b1 - 1) + b3*b4*(b1 - 1)*(b2 - 1) - b3*(b1 - 1)*(b2 - 1)*(b4 - 1) - b4*(b1 - 1)*(b2 - 1)*(b3 - 1)\n",
      "-------------------------\n",
      "0 0 0 0 | 0\n",
      "0 0 0 1 | 1\n",
      "0 0 1 0 | 1\n",
      "0 0 1 1 | 1\n",
      "0 1 0 0 | 0\n",
      "0 1 0 1 | 0\n",
      "0 1 1 0 | 0\n",
      "0 1 1 1 | 1\n",
      "1 0 0 0 | 0\n",
      "1 0 0 1 | 0\n",
      "1 0 1 0 | 0\n",
      "1 0 1 1 | 1\n",
      "1 1 0 0 | 0\n",
      "1 1 0 1 | 0\n",
      "1 1 1 0 | 0\n",
      "1 1 1 1 | 0\n",
      "Coluna 'A < B' é igual a -b1*b3*b4*(b2 - 1) - b2*b3*b4*(b1 - 1) + b3*b4*(b1 - 1)*(b2 - 1) - b3*(b1 - 1)*(b2 - 1)*(b4 - 1) - b4*(b1 - 1)*(b2 - 1)*(b3 - 1)\n",
      "Nenhuma coluna é igual a -b1*b3*b4*(b2 - 1) - b2*b3*b4*(b1 - 1) + b3*b4*(b1 - 1)*(b2 - 1) - b3*(b1 - 1)*(b2 - 1)*(b4 - 1) - b4*(b1 - 1)*(b2 - 1)*(b3 - 1)\n",
      "F6() = 0\n",
      "-------------------------\n",
      "0 0 0 0 | 0\n",
      "0 0 0 1 | 0\n",
      "0 0 1 0 | 0\n",
      "0 0 1 1 | 0\n",
      "0 1 0 0 | 0\n",
      "0 1 0 1 | 0\n",
      "0 1 1 0 | 0\n",
      "0 1 1 1 | 0\n",
      "1 0 0 0 | 0\n",
      "1 0 0 1 | 0\n",
      "1 0 1 0 | 0\n",
      "1 0 1 1 | 0\n",
      "1 1 0 0 | 0\n",
      "1 1 0 1 | 0\n",
      "1 1 1 0 | 0\n",
      "1 1 1 1 | 0\n",
      "Nenhuma coluna é igual a 0\n",
      "F7() = 0\n",
      "-------------------------\n",
      "0 0 0 0 | 0\n",
      "0 0 0 1 | 0\n",
      "0 0 1 0 | 0\n",
      "0 0 1 1 | 0\n",
      "0 1 0 0 | 0\n",
      "0 1 0 1 | 0\n",
      "0 1 1 0 | 0\n",
      "0 1 1 1 | 0\n",
      "1 0 0 0 | 0\n",
      "1 0 0 1 | 0\n",
      "1 0 1 0 | 0\n",
      "1 0 1 1 | 0\n",
      "1 1 0 0 | 0\n",
      "1 1 0 1 | 0\n",
      "1 1 1 0 | 0\n",
      "1 1 1 1 | 0\n",
      "Nenhuma coluna é igual a 0\n",
      "F8() = 0\n",
      "-------------------------\n",
      "0 0 0 0 | 0\n",
      "0 0 0 1 | 0\n",
      "0 0 1 0 | 0\n",
      "0 0 1 1 | 0\n",
      "0 1 0 0 | 0\n",
      "0 1 0 1 | 0\n",
      "0 1 1 0 | 0\n",
      "0 1 1 1 | 0\n",
      "1 0 0 0 | 0\n",
      "1 0 0 1 | 0\n",
      "1 0 1 0 | 0\n",
      "1 0 1 1 | 0\n",
      "1 1 0 0 | 0\n",
      "1 1 0 1 | 0\n",
      "1 1 1 0 | 0\n",
      "1 1 1 1 | 0\n",
      "Nenhuma coluna é igual a 0\n"
     ]
    }
   ],
   "source": [
    "for i, e in enumerate(f_booleana):\n",
    "    variaveis_ordenadas = sorted(e.free_symbols, key=lambda s: s.name)\n",
    "    print(f\"F{i+1}({\", \".join(str(s) for s in variaveis_ordenadas)}) = {e}\")\n",
    "    print(\"-------------------------\")\n",
    "    bin_valor = []\n",
    "    for vals in entradas:\n",
    "        valor = e.subs({var: vals[i] for i, var in enumerate(variaveis_ordenadas)})\n",
    "        bin_valor.append(valor)\n",
    "        print(f\"{vals[0]} {vals[1]} {vals[2]} {vals[3]} | {valor}\")\n",
    "    \n",
    "    # Verificando se teste é igual a alguma coluna\n",
    "    for coluna in tabela_verdade.columns:\n",
    "        if tabela_verdade[coluna].tolist() == bin_valor:\n",
    "            print(f\"Coluna '{coluna}' é igual a\",e)\n",
    "    else:\n",
    "        print(\"Nenhuma coluna é igual a\",e)"
   ]
  }
 ],
 "metadata": {
  "kernelspec": {
   "display_name": "base",
   "language": "python",
   "name": "python3"
  },
  "language_info": {
   "codemirror_mode": {
    "name": "ipython",
    "version": 3
   },
   "file_extension": ".py",
   "mimetype": "text/x-python",
   "name": "python",
   "nbconvert_exporter": "python",
   "pygments_lexer": "ipython3",
   "version": "3.12.7"
  }
 },
 "nbformat": 4,
 "nbformat_minor": 5
}
