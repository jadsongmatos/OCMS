{
 "cells": [
  {
   "cell_type": "code",
   "execution_count": 74,
   "id": "89c75c22",
   "metadata": {},
   "outputs": [],
   "source": [
    "import numpy as np\n",
    "import sympy as sp"
   ]
  },
  {
   "cell_type": "code",
   "execution_count": 75,
   "id": "000ee946",
   "metadata": {},
   "outputs": [],
   "source": [
    "def criar_vetor_de_simbolos(tamanho):\n",
    "    \"\"\"\n",
    "    Cria um vetor (lista) de símbolos SymPy com o tamanho especificado.\n",
    "\n",
    "    Parameters:\n",
    "    tamanho (int): O número de símbolos a serem criados.\n",
    "\n",
    "    Returns:\n",
    "    list: Lista contendo os símbolos criados.\n",
    "    \"\"\"\n",
    "    # Cria os símbolos usando sp.symbols\n",
    "    return sp.symbols(f'x1:{tamanho+1}')"
   ]
  },
  {
   "cell_type": "code",
   "execution_count": 76,
   "id": "ba94d61a",
   "metadata": {},
   "outputs": [],
   "source": [
    "# Função para calcular o produto Kronecker considerando binário exclusivo\n",
    "def kronecker_binary(vectors):\n",
    "    result = np.array([1])  # Inicia com o elemento neutro da multiplicação\n",
    "    for v in vectors:\n",
    "        result = np.kron(result, v)\n",
    "    return result"
   ]
  },
  {
   "cell_type": "code",
   "execution_count": 77,
   "id": "d7ba8c55",
   "metadata": {},
   "outputs": [],
   "source": [
    "def decimal_para_binario_vetor(numero_decimal, tamanho_bits=8):\n",
    "    \"\"\"\n",
    "    Converte um número decimal para um vetor binário usando produtos de Kronecker.\n",
    "\n",
    "    Args:\n",
    "        numero_decimal (int): Número decimal a ser convertido.\n",
    "        tamanho_bits (int, opcional): Número de bits para representar o número binário. Padrão é 8.\n",
    "\n",
    "    Returns:\n",
    "        np.ndarray: Vetor resultante da conversão.\n",
    "    \n",
    "    Raises:\n",
    "        ValueError: Se o número decimal for negativo ou se o tamanho de bits for insuficiente.\n",
    "    \"\"\"\n",
    "    # Mapeamento dos caracteres binários para os vetores desejados\n",
    "    mapeamento = {'0': [1, 0], '1': [0, 1]}\n",
    "\n",
    "    # Verifica se o número é um inteiro não negativo\n",
    "    if not isinstance(numero_decimal, int):\n",
    "        print(numero_decimal)\n",
    "        raise TypeError(\"O número decimal deve ser um inteiro.\")\n",
    "    if numero_decimal < 0:\n",
    "        raise ValueError(\"A função não suporta números decimais negativos.\")\n",
    "\n",
    "    # Converter o número decimal para binário e remover o prefixo '0b'\n",
    "    numero_binario = bin(numero_decimal)[2:]\n",
    "\n",
    "    # Verifica se o número binário cabe no tamanho de bits desejado\n",
    "    if len(numero_binario) > tamanho_bits:\n",
    "        raise ValueError(f\"O número binário '{numero_binario}' excede o tamanho de bits especificado ({tamanho_bits} bits).\")\n",
    "\n",
    "    # Adiciona zeros à esquerda para completar o tamanho de bits desejado\n",
    "    numero_binario = numero_binario.zfill(tamanho_bits)\n",
    "\n",
    "    # Inicializa o vetor com 1 para o produto de Kronecker\n",
    "    vetor = np.array([1])\n",
    "    \n",
    "    # Aplica o produto de Kronecker para cada dígito binário\n",
    "    for digito in numero_binario:\n",
    "        vetor = np.kron(vetor, mapeamento[digito])\n",
    "\n",
    "    return vetor"
   ]
  },
  {
   "cell_type": "code",
   "execution_count": 78,
   "id": "715de1f0",
   "metadata": {},
   "outputs": [
    {
     "data": {
      "text/latex": [
       "$\\displaystyle \\left[\\begin{matrix}x_{1} x_{3} x_{5} x_{7}\\\\x_{1} x_{3} x_{5} x_{8}\\\\x_{1} x_{3} x_{6} x_{7}\\\\x_{1} x_{3} x_{6} x_{8}\\\\x_{1} x_{4} x_{5} x_{7}\\\\x_{1} x_{4} x_{5} x_{8}\\\\x_{1} x_{4} x_{6} x_{7}\\\\x_{1} x_{4} x_{6} x_{8}\\\\x_{2} x_{3} x_{5} x_{7}\\\\x_{2} x_{3} x_{5} x_{8}\\\\x_{2} x_{3} x_{6} x_{7}\\\\x_{2} x_{3} x_{6} x_{8}\\\\x_{2} x_{4} x_{5} x_{7}\\\\x_{2} x_{4} x_{5} x_{8}\\\\x_{2} x_{4} x_{6} x_{7}\\\\x_{2} x_{4} x_{6} x_{8}\\end{matrix}\\right]$"
      ],
      "text/plain": [
       "Matrix([\n",
       "[x1*x3*x5*x7],\n",
       "[x1*x3*x5*x8],\n",
       "[x1*x3*x6*x7],\n",
       "[x1*x3*x6*x8],\n",
       "[x1*x4*x5*x7],\n",
       "[x1*x4*x5*x8],\n",
       "[x1*x4*x6*x7],\n",
       "[x1*x4*x6*x8],\n",
       "[x2*x3*x5*x7],\n",
       "[x2*x3*x5*x8],\n",
       "[x2*x3*x6*x7],\n",
       "[x2*x3*x6*x8],\n",
       "[x2*x4*x5*x7],\n",
       "[x2*x4*x5*x8],\n",
       "[x2*x4*x6*x7],\n",
       "[x2*x4*x6*x8]])"
      ]
     },
     "execution_count": 78,
     "metadata": {},
     "output_type": "execute_result"
    }
   ],
   "source": [
    "bits = 4\n",
    "variaveis = sp.Matrix(kronecker_binary(np.array_split(criar_vetor_de_simbolos(bits*2), bits)))\n",
    "variaveis"
   ]
  },
  {
   "cell_type": "code",
   "execution_count": 79,
   "id": "55144764",
   "metadata": {},
   "outputs": [
    {
     "data": {
      "application/vnd.microsoft.datawrangler.viewer.v0+json": {
       "columns": [
        {
         "name": "index",
         "rawType": "int64",
         "type": "integer"
        },
        {
         "name": "S2",
         "rawType": "int64",
         "type": "integer"
        },
        {
         "name": "S1",
         "rawType": "int64",
         "type": "integer"
        },
        {
         "name": "S0",
         "rawType": "int64",
         "type": "integer"
        }
       ],
       "conversionMethod": "pd.DataFrame",
       "ref": "0fb8f1de-2a56-4a87-b633-f66446c7675d",
       "rows": [
        [
         "0",
         "0",
         "0",
         "0"
        ],
        [
         "1",
         "0",
         "0",
         "1"
        ],
        [
         "2",
         "0",
         "1",
         "0"
        ],
        [
         "3",
         "0",
         "1",
         "1"
        ],
        [
         "4",
         "0",
         "0",
         "1"
        ],
        [
         "5",
         "0",
         "1",
         "0"
        ],
        [
         "6",
         "0",
         "1",
         "1"
        ],
        [
         "7",
         "1",
         "0",
         "0"
        ],
        [
         "8",
         "0",
         "1",
         "0"
        ],
        [
         "9",
         "0",
         "1",
         "1"
        ],
        [
         "10",
         "1",
         "0",
         "0"
        ],
        [
         "11",
         "1",
         "0",
         "1"
        ],
        [
         "12",
         "0",
         "1",
         "1"
        ],
        [
         "13",
         "1",
         "0",
         "0"
        ],
        [
         "14",
         "1",
         "0",
         "1"
        ],
        [
         "15",
         "1",
         "1",
         "0"
        ]
       ],
       "shape": {
        "columns": 3,
        "rows": 16
       }
      },
      "text/html": [
       "<div>\n",
       "<style scoped>\n",
       "    .dataframe tbody tr th:only-of-type {\n",
       "        vertical-align: middle;\n",
       "    }\n",
       "\n",
       "    .dataframe tbody tr th {\n",
       "        vertical-align: top;\n",
       "    }\n",
       "\n",
       "    .dataframe thead th {\n",
       "        text-align: right;\n",
       "    }\n",
       "</style>\n",
       "<table border=\"1\" class=\"dataframe\">\n",
       "  <thead>\n",
       "    <tr style=\"text-align: right;\">\n",
       "      <th></th>\n",
       "      <th>S2</th>\n",
       "      <th>S1</th>\n",
       "      <th>S0</th>\n",
       "    </tr>\n",
       "  </thead>\n",
       "  <tbody>\n",
       "    <tr>\n",
       "      <th>0</th>\n",
       "      <td>0</td>\n",
       "      <td>0</td>\n",
       "      <td>0</td>\n",
       "    </tr>\n",
       "    <tr>\n",
       "      <th>1</th>\n",
       "      <td>0</td>\n",
       "      <td>0</td>\n",
       "      <td>1</td>\n",
       "    </tr>\n",
       "    <tr>\n",
       "      <th>2</th>\n",
       "      <td>0</td>\n",
       "      <td>1</td>\n",
       "      <td>0</td>\n",
       "    </tr>\n",
       "    <tr>\n",
       "      <th>3</th>\n",
       "      <td>0</td>\n",
       "      <td>1</td>\n",
       "      <td>1</td>\n",
       "    </tr>\n",
       "    <tr>\n",
       "      <th>4</th>\n",
       "      <td>0</td>\n",
       "      <td>0</td>\n",
       "      <td>1</td>\n",
       "    </tr>\n",
       "    <tr>\n",
       "      <th>5</th>\n",
       "      <td>0</td>\n",
       "      <td>1</td>\n",
       "      <td>0</td>\n",
       "    </tr>\n",
       "    <tr>\n",
       "      <th>6</th>\n",
       "      <td>0</td>\n",
       "      <td>1</td>\n",
       "      <td>1</td>\n",
       "    </tr>\n",
       "    <tr>\n",
       "      <th>7</th>\n",
       "      <td>1</td>\n",
       "      <td>0</td>\n",
       "      <td>0</td>\n",
       "    </tr>\n",
       "    <tr>\n",
       "      <th>8</th>\n",
       "      <td>0</td>\n",
       "      <td>1</td>\n",
       "      <td>0</td>\n",
       "    </tr>\n",
       "    <tr>\n",
       "      <th>9</th>\n",
       "      <td>0</td>\n",
       "      <td>1</td>\n",
       "      <td>1</td>\n",
       "    </tr>\n",
       "    <tr>\n",
       "      <th>10</th>\n",
       "      <td>1</td>\n",
       "      <td>0</td>\n",
       "      <td>0</td>\n",
       "    </tr>\n",
       "    <tr>\n",
       "      <th>11</th>\n",
       "      <td>1</td>\n",
       "      <td>0</td>\n",
       "      <td>1</td>\n",
       "    </tr>\n",
       "    <tr>\n",
       "      <th>12</th>\n",
       "      <td>0</td>\n",
       "      <td>1</td>\n",
       "      <td>1</td>\n",
       "    </tr>\n",
       "    <tr>\n",
       "      <th>13</th>\n",
       "      <td>1</td>\n",
       "      <td>0</td>\n",
       "      <td>0</td>\n",
       "    </tr>\n",
       "    <tr>\n",
       "      <th>14</th>\n",
       "      <td>1</td>\n",
       "      <td>0</td>\n",
       "      <td>1</td>\n",
       "    </tr>\n",
       "    <tr>\n",
       "      <th>15</th>\n",
       "      <td>1</td>\n",
       "      <td>1</td>\n",
       "      <td>0</td>\n",
       "    </tr>\n",
       "  </tbody>\n",
       "</table>\n",
       "</div>"
      ],
      "text/plain": [
       "    S2  S1  S0\n",
       "0    0   0   0\n",
       "1    0   0   1\n",
       "2    0   1   0\n",
       "3    0   1   1\n",
       "4    0   0   1\n",
       "5    0   1   0\n",
       "6    0   1   1\n",
       "7    1   0   0\n",
       "8    0   1   0\n",
       "9    0   1   1\n",
       "10   1   0   0\n",
       "11   1   0   1\n",
       "12   0   1   1\n",
       "13   1   0   0\n",
       "14   1   0   1\n",
       "15   1   1   0"
      ]
     },
     "execution_count": 79,
     "metadata": {},
     "output_type": "execute_result"
    }
   ],
   "source": [
    "import pandas as pd\n",
    "\n",
    "data = {\n",
    "  \"S2\": [\"0\", \"0\", \"0\", \"0\", \"0\", \"0\", \"0\", \"1\", \"0\", \"0\", \"1\", \"1\", \"0\", \"1\", \"1\", \"1\"],\n",
    "  \"S1\": [\"0\", \"0\", \"1\", \"1\", \"0\", \"1\", \"1\", \"0\", \"1\", \"1\", \"0\", \"0\", \"1\", \"0\", \"0\", \"1\"],\n",
    "  \"S0\": [\"0\", \"1\", \"0\", \"1\", \"1\", \"0\", \"1\", \"0\", \"0\", \"1\", \"0\", \"1\", \"1\", \"0\", \"1\", \"0\"]\n",
    "}\n",
    "\n",
    "tabela_verdade = pd.DataFrame(data)\n",
    "tabela_verdade = tabela_verdade.astype(int)\n",
    "tabela_verdade"
   ]
  },
  {
   "cell_type": "code",
   "execution_count": 80,
   "id": "3c9e909f",
   "metadata": {},
   "outputs": [
    {
     "name": "stdout",
     "output_type": "stream",
     "text": [
      "S2    int64\n",
      "S1    int64\n",
      "S0    int64\n",
      "dtype: object\n"
     ]
    }
   ],
   "source": [
    "print(tabela_verdade.dtypes)"
   ]
  },
  {
   "cell_type": "code",
   "execution_count": 81,
   "id": "6845aa89",
   "metadata": {},
   "outputs": [
    {
     "data": {
      "text/plain": [
       "array([0, 1, 2, 3, 1, 2, 3, 4, 2, 3, 4, 5, 3, 4, 5, 6])"
      ]
     },
     "execution_count": 81,
     "metadata": {},
     "output_type": "execute_result"
    }
   ],
   "source": [
    "vetor_dec = np.array([int(\"\".join(map(str, row)), 2) for row in tabela_verdade.to_numpy()])\n",
    "vetor_dec"
   ]
  },
  {
   "cell_type": "code",
   "execution_count": 82,
   "id": "f8f4baed",
   "metadata": {},
   "outputs": [
    {
     "data": {
      "text/latex": [
       "$\\displaystyle \\left[\\begin{array}{cccccccccccccccc}1 & 0 & 0 & 0 & 0 & 0 & 0 & 0 & 0 & 0 & 0 & 0 & 0 & 0 & 0 & 0\\\\0 & 1 & 0 & 0 & 1 & 0 & 0 & 0 & 0 & 0 & 0 & 0 & 0 & 0 & 0 & 0\\\\0 & 0 & 1 & 0 & 0 & 1 & 0 & 0 & 1 & 0 & 0 & 0 & 0 & 0 & 0 & 0\\\\0 & 0 & 0 & 1 & 0 & 0 & 1 & 0 & 0 & 1 & 0 & 0 & 1 & 0 & 0 & 0\\\\0 & 0 & 0 & 0 & 0 & 0 & 0 & 1 & 0 & 0 & 1 & 0 & 0 & 1 & 0 & 0\\\\0 & 0 & 0 & 0 & 0 & 0 & 0 & 0 & 0 & 0 & 0 & 1 & 0 & 0 & 1 & 0\\\\0 & 0 & 0 & 0 & 0 & 0 & 0 & 0 & 0 & 0 & 0 & 0 & 0 & 0 & 0 & 1\\\\0 & 0 & 0 & 0 & 0 & 0 & 0 & 0 & 0 & 0 & 0 & 0 & 0 & 0 & 0 & 0\\end{array}\\right]$"
      ],
      "text/plain": [
       "Matrix([\n",
       "[1, 0, 0, 0, 0, 0, 0, 0, 0, 0, 0, 0, 0, 0, 0, 0],\n",
       "[0, 1, 0, 0, 1, 0, 0, 0, 0, 0, 0, 0, 0, 0, 0, 0],\n",
       "[0, 0, 1, 0, 0, 1, 0, 0, 1, 0, 0, 0, 0, 0, 0, 0],\n",
       "[0, 0, 0, 1, 0, 0, 1, 0, 0, 1, 0, 0, 1, 0, 0, 0],\n",
       "[0, 0, 0, 0, 0, 0, 0, 1, 0, 0, 1, 0, 0, 1, 0, 0],\n",
       "[0, 0, 0, 0, 0, 0, 0, 0, 0, 0, 0, 1, 0, 0, 1, 0],\n",
       "[0, 0, 0, 0, 0, 0, 0, 0, 0, 0, 0, 0, 0, 0, 0, 1],\n",
       "[0, 0, 0, 0, 0, 0, 0, 0, 0, 0, 0, 0, 0, 0, 0, 0]])"
      ]
     },
     "execution_count": 82,
     "metadata": {},
     "output_type": "execute_result"
    }
   ],
   "source": [
    "vetores_binarios = []\n",
    "tamanho_bits = tabela_verdade.columns.size\n",
    "\n",
    "for numero in vetor_dec:\n",
    "    try:\n",
    "        vetor = decimal_para_binario_vetor(int(numero), tamanho_bits)\n",
    "        vetores_binarios.append(vetor)\n",
    "    except (TypeError, ValueError) as e:\n",
    "        print(f\"Erro ao converter o número {numero}: {e}\")\n",
    "\n",
    "vetores_binarios = np.array(vetores_binarios).T\n",
    "sp.Matrix(vetores_binarios)"
   ]
  },
  {
   "cell_type": "code",
   "execution_count": 83,
   "id": "33a53d43",
   "metadata": {},
   "outputs": [
    {
     "data": {
      "text/plain": [
       "(8, 16)"
      ]
     },
     "execution_count": 83,
     "metadata": {},
     "output_type": "execute_result"
    }
   ],
   "source": [
    "vetores_binarios.shape"
   ]
  },
  {
   "cell_type": "code",
   "execution_count": 90,
   "id": "b6362e3a",
   "metadata": {},
   "outputs": [
    {
     "data": {
      "text/latex": [
       "$\\displaystyle \\left[\\begin{matrix}x_{1} x_{3} x_{5} x_{7}\\\\x_{1} x_{3} x_{5} x_{8} + x_{1} x_{4} x_{5} x_{7}\\\\x_{1} x_{3} x_{6} x_{7} + x_{1} x_{4} x_{5} x_{8} + x_{2} x_{3} x_{5} x_{7}\\\\x_{1} x_{3} x_{6} x_{8} + x_{1} x_{4} x_{6} x_{7} + x_{2} x_{3} x_{5} x_{8} + x_{2} x_{4} x_{5} x_{7}\\\\x_{1} x_{4} x_{6} x_{8} + x_{2} x_{3} x_{6} x_{7} + x_{2} x_{4} x_{5} x_{8}\\\\x_{2} x_{3} x_{6} x_{8} + x_{2} x_{4} x_{6} x_{7}\\\\x_{2} x_{4} x_{6} x_{8}\\\\0\\end{matrix}\\right]$"
      ],
      "text/plain": [
       "Matrix([\n",
       "[                                          x1*x3*x5*x7],\n",
       "[                            x1*x3*x5*x8 + x1*x4*x5*x7],\n",
       "[              x1*x3*x6*x7 + x1*x4*x5*x8 + x2*x3*x5*x7],\n",
       "[x1*x3*x6*x8 + x1*x4*x6*x7 + x2*x3*x5*x8 + x2*x4*x5*x7],\n",
       "[              x1*x4*x6*x8 + x2*x3*x6*x7 + x2*x4*x5*x8],\n",
       "[                            x2*x3*x6*x8 + x2*x4*x6*x7],\n",
       "[                                          x2*x4*x6*x8],\n",
       "[                                                    0]])"
      ]
     },
     "execution_count": 90,
     "metadata": {},
     "output_type": "execute_result"
    }
   ],
   "source": [
    "regra = sp.Matrix(np.dot(vetores_binarios, variaveis)) # expressões simbólicas\n",
    "regra"
   ]
  },
  {
   "cell_type": "code",
   "execution_count": 91,
   "id": "0d017a42",
   "metadata": {},
   "outputs": [],
   "source": [
    "def criar_substituicoes(bits):\n",
    "    simbolos = criar_vetor_de_simbolos(bits * 2)\n",
    "    substituicoes = {simbolos[i+1]: 1-simbolos[i] for i in range(0, len(simbolos), 2)}\n",
    "    return substituicoes"
   ]
  },
  {
   "cell_type": "code",
   "execution_count": 92,
   "id": "7233443e",
   "metadata": {},
   "outputs": [
    {
     "name": "stdout",
     "output_type": "stream",
     "text": [
      "4\n"
     ]
    },
    {
     "data": {
      "text/plain": [
       "{x2: 1 - x1, x4: 1 - x3, x6: 1 - x5, x8: 1 - x7}"
      ]
     },
     "execution_count": 92,
     "metadata": {},
     "output_type": "execute_result"
    }
   ],
   "source": [
    "print(bits)\n",
    "substituicoes = criar_substituicoes(bits)\n",
    "substituicoes"
   ]
  },
  {
   "cell_type": "code",
   "execution_count": 93,
   "id": "64eff115",
   "metadata": {},
   "outputs": [
    {
     "data": {
      "text/latex": [
       "$\\displaystyle \\left[\\begin{matrix}x_{1} x_{3} x_{5} x_{7}\\\\x_{1} x_{5} \\left(- 2 x_{3} x_{7} + x_{3} + x_{7}\\right)\\\\- x_{1} x_{3} x_{7} \\left(x_{5} - 1\\right) + x_{1} x_{5} \\left(x_{3} - 1\\right) \\left(x_{7} - 1\\right) - x_{3} x_{5} x_{7} \\left(x_{1} - 1\\right)\\\\x_{1} x_{3} \\left(x_{5} - 1\\right) \\left(x_{7} - 1\\right) + x_{1} x_{7} \\left(x_{3} - 1\\right) \\left(x_{5} - 1\\right) + x_{3} x_{5} \\left(x_{1} - 1\\right) \\left(x_{7} - 1\\right) + x_{5} x_{7} \\left(x_{1} - 1\\right) \\left(x_{3} - 1\\right)\\\\- x_{1} \\left(x_{3} - 1\\right) \\left(x_{5} - 1\\right) \\left(x_{7} - 1\\right) + x_{3} x_{7} \\left(x_{1} - 1\\right) \\left(x_{5} - 1\\right) - x_{5} \\left(x_{1} - 1\\right) \\left(x_{3} - 1\\right) \\left(x_{7} - 1\\right)\\\\\\left(x_{1} - 1\\right) \\left(x_{5} - 1\\right) \\left(- x_{3} \\left(x_{7} - 1\\right) - x_{7} \\left(x_{3} - 1\\right)\\right)\\\\\\left(x_{1} - 1\\right) \\left(x_{3} - 1\\right) \\left(x_{5} - 1\\right) \\left(x_{7} - 1\\right)\\\\0\\end{matrix}\\right]$"
      ],
      "text/plain": [
       "Matrix([\n",
       "[                                                                                          x1*x3*x5*x7],\n",
       "[                                                                           x1*x5*(-2*x3*x7 + x3 + x7)],\n",
       "[                                     -x1*x3*x7*(x5 - 1) + x1*x5*(x3 - 1)*(x7 - 1) - x3*x5*x7*(x1 - 1)],\n",
       "[x1*x3*(x5 - 1)*(x7 - 1) + x1*x7*(x3 - 1)*(x5 - 1) + x3*x5*(x1 - 1)*(x7 - 1) + x5*x7*(x1 - 1)*(x3 - 1)],\n",
       "[             -x1*(x3 - 1)*(x5 - 1)*(x7 - 1) + x3*x7*(x1 - 1)*(x5 - 1) - x5*(x1 - 1)*(x3 - 1)*(x7 - 1)],\n",
       "[                                                       (x1 - 1)*(x5 - 1)*(-x3*(x7 - 1) - x7*(x3 - 1))],\n",
       "[                                                                  (x1 - 1)*(x3 - 1)*(x5 - 1)*(x7 - 1)],\n",
       "[                                                                                                    0]])"
      ]
     },
     "execution_count": 93,
     "metadata": {},
     "output_type": "execute_result"
    }
   ],
   "source": [
    "f = sp.simplify(regra.subs(substituicoes))\n",
    "f"
   ]
  },
  {
   "cell_type": "code",
   "execution_count": 94,
   "id": "7f5e1bd9",
   "metadata": {},
   "outputs": [
    {
     "data": {
      "text/plain": [
       "[(0, 0, 0, 0),\n",
       " (0, 0, 0, 1),\n",
       " (0, 0, 1, 0),\n",
       " (0, 0, 1, 1),\n",
       " (0, 1, 0, 0),\n",
       " (0, 1, 0, 1),\n",
       " (0, 1, 1, 0),\n",
       " (0, 1, 1, 1),\n",
       " (1, 0, 0, 0),\n",
       " (1, 0, 0, 1),\n",
       " (1, 0, 1, 0),\n",
       " (1, 0, 1, 1),\n",
       " (1, 1, 0, 0),\n",
       " (1, 1, 0, 1),\n",
       " (1, 1, 1, 0),\n",
       " (1, 1, 1, 1)]"
      ]
     },
     "execution_count": 94,
     "metadata": {},
     "output_type": "execute_result"
    }
   ],
   "source": [
    "from itertools import product\n",
    "\n",
    "# Gerar todas as combinações de 0 e 1 para as 4 variáveis\n",
    "entradas = list(product([0, 1], repeat=4))\n",
    "entradas"
   ]
  },
  {
   "cell_type": "code",
   "execution_count": 95,
   "id": "ad780267",
   "metadata": {},
   "outputs": [
    {
     "name": "stdout",
     "output_type": "stream",
     "text": [
      "F1(x1, x3, x5, x7) = x1*x3*x5*x7\n",
      "-------------------------\n",
      "0 0 0 0 | 0\n",
      "0 0 0 1 | 0\n",
      "0 0 1 0 | 0\n",
      "0 0 1 1 | 0\n",
      "0 1 0 0 | 0\n",
      "0 1 0 1 | 0\n",
      "0 1 1 0 | 0\n",
      "0 1 1 1 | 0\n",
      "1 0 0 0 | 0\n",
      "1 0 0 1 | 0\n",
      "1 0 1 0 | 0\n",
      "1 0 1 1 | 0\n",
      "1 1 0 0 | 0\n",
      "1 1 0 1 | 0\n",
      "1 1 1 0 | 0\n",
      "1 1 1 1 | 1\n",
      "Nenhuma coluna é igual a x1*x3*x5*x7\n",
      "F2(x1, x3, x5, x7) = x1*x5*(-2*x3*x7 + x3 + x7)\n",
      "-------------------------\n",
      "0 0 0 0 | 0\n",
      "0 0 0 1 | 0\n",
      "0 0 1 0 | 0\n",
      "0 0 1 1 | 0\n",
      "0 1 0 0 | 0\n",
      "0 1 0 1 | 0\n",
      "0 1 1 0 | 0\n",
      "0 1 1 1 | 0\n",
      "1 0 0 0 | 0\n",
      "1 0 0 1 | 0\n",
      "1 0 1 0 | 0\n",
      "1 0 1 1 | 1\n",
      "1 1 0 0 | 0\n",
      "1 1 0 1 | 0\n",
      "1 1 1 0 | 1\n",
      "1 1 1 1 | 0\n",
      "Nenhuma coluna é igual a x1*x5*(-2*x3*x7 + x3 + x7)\n",
      "F3(x1, x3, x5, x7) = -x1*x3*x7*(x5 - 1) + x1*x5*(x3 - 1)*(x7 - 1) - x3*x5*x7*(x1 - 1)\n",
      "-------------------------\n",
      "0 0 0 0 | 0\n",
      "0 0 0 1 | 0\n",
      "0 0 1 0 | 0\n",
      "0 0 1 1 | 0\n",
      "0 1 0 0 | 0\n",
      "0 1 0 1 | 0\n",
      "0 1 1 0 | 0\n",
      "0 1 1 1 | 1\n",
      "1 0 0 0 | 0\n",
      "1 0 0 1 | 0\n",
      "1 0 1 0 | 1\n",
      "1 0 1 1 | 0\n",
      "1 1 0 0 | 0\n",
      "1 1 0 1 | 1\n",
      "1 1 1 0 | 0\n",
      "1 1 1 1 | 0\n",
      "Nenhuma coluna é igual a -x1*x3*x7*(x5 - 1) + x1*x5*(x3 - 1)*(x7 - 1) - x3*x5*x7*(x1 - 1)\n",
      "F4(x1, x3, x5, x7) = x1*x3*(x5 - 1)*(x7 - 1) + x1*x7*(x3 - 1)*(x5 - 1) + x3*x5*(x1 - 1)*(x7 - 1) + x5*x7*(x1 - 1)*(x3 - 1)\n",
      "-------------------------\n",
      "0 0 0 0 | 0\n",
      "0 0 0 1 | 0\n",
      "0 0 1 0 | 0\n",
      "0 0 1 1 | 1\n",
      "0 1 0 0 | 0\n",
      "0 1 0 1 | 0\n",
      "0 1 1 0 | 1\n",
      "0 1 1 1 | 0\n",
      "1 0 0 0 | 0\n",
      "1 0 0 1 | 1\n",
      "1 0 1 0 | 0\n",
      "1 0 1 1 | 0\n",
      "1 1 0 0 | 1\n",
      "1 1 0 1 | 0\n",
      "1 1 1 0 | 0\n",
      "1 1 1 1 | 0\n",
      "Nenhuma coluna é igual a x1*x3*(x5 - 1)*(x7 - 1) + x1*x7*(x3 - 1)*(x5 - 1) + x3*x5*(x1 - 1)*(x7 - 1) + x5*x7*(x1 - 1)*(x3 - 1)\n",
      "F5(x1, x3, x5, x7) = -x1*(x3 - 1)*(x5 - 1)*(x7 - 1) + x3*x7*(x1 - 1)*(x5 - 1) - x5*(x1 - 1)*(x3 - 1)*(x7 - 1)\n",
      "-------------------------\n",
      "0 0 0 0 | 0\n",
      "0 0 0 1 | 0\n",
      "0 0 1 0 | 1\n",
      "0 0 1 1 | 0\n",
      "0 1 0 0 | 0\n",
      "0 1 0 1 | 1\n",
      "0 1 1 0 | 0\n",
      "0 1 1 1 | 0\n",
      "1 0 0 0 | 1\n",
      "1 0 0 1 | 0\n",
      "1 0 1 0 | 0\n",
      "1 0 1 1 | 0\n",
      "1 1 0 0 | 0\n",
      "1 1 0 1 | 0\n",
      "1 1 1 0 | 0\n",
      "1 1 1 1 | 0\n",
      "Nenhuma coluna é igual a -x1*(x3 - 1)*(x5 - 1)*(x7 - 1) + x3*x7*(x1 - 1)*(x5 - 1) - x5*(x1 - 1)*(x3 - 1)*(x7 - 1)\n",
      "F6(x1, x3, x5, x7) = (x1 - 1)*(x5 - 1)*(-x3*(x7 - 1) - x7*(x3 - 1))\n",
      "-------------------------\n",
      "0 0 0 0 | 0\n",
      "0 0 0 1 | 1\n",
      "0 0 1 0 | 0\n",
      "0 0 1 1 | 0\n",
      "0 1 0 0 | 1\n",
      "0 1 0 1 | 0\n",
      "0 1 1 0 | 0\n",
      "0 1 1 1 | 0\n",
      "1 0 0 0 | 0\n",
      "1 0 0 1 | 0\n",
      "1 0 1 0 | 0\n",
      "1 0 1 1 | 0\n",
      "1 1 0 0 | 0\n",
      "1 1 0 1 | 0\n",
      "1 1 1 0 | 0\n",
      "1 1 1 1 | 0\n",
      "Nenhuma coluna é igual a (x1 - 1)*(x5 - 1)*(-x3*(x7 - 1) - x7*(x3 - 1))\n",
      "F7(x1, x3, x5, x7) = (x1 - 1)*(x3 - 1)*(x5 - 1)*(x7 - 1)\n",
      "-------------------------\n",
      "0 0 0 0 | 1\n",
      "0 0 0 1 | 0\n",
      "0 0 1 0 | 0\n",
      "0 0 1 1 | 0\n",
      "0 1 0 0 | 0\n",
      "0 1 0 1 | 0\n",
      "0 1 1 0 | 0\n",
      "0 1 1 1 | 0\n",
      "1 0 0 0 | 0\n",
      "1 0 0 1 | 0\n",
      "1 0 1 0 | 0\n",
      "1 0 1 1 | 0\n",
      "1 1 0 0 | 0\n",
      "1 1 0 1 | 0\n",
      "1 1 1 0 | 0\n",
      "1 1 1 1 | 0\n",
      "Nenhuma coluna é igual a (x1 - 1)*(x3 - 1)*(x5 - 1)*(x7 - 1)\n",
      "F8() = 0\n",
      "-------------------------\n",
      "0 0 0 0 | 0\n",
      "0 0 0 1 | 0\n",
      "0 0 1 0 | 0\n",
      "0 0 1 1 | 0\n",
      "0 1 0 0 | 0\n",
      "0 1 0 1 | 0\n",
      "0 1 1 0 | 0\n",
      "0 1 1 1 | 0\n",
      "1 0 0 0 | 0\n",
      "1 0 0 1 | 0\n",
      "1 0 1 0 | 0\n",
      "1 0 1 1 | 0\n",
      "1 1 0 0 | 0\n",
      "1 1 0 1 | 0\n",
      "1 1 1 0 | 0\n",
      "1 1 1 1 | 0\n",
      "Nenhuma coluna é igual a 0\n"
     ]
    }
   ],
   "source": [
    "for i, e in enumerate(f):\n",
    "    variaveis_ordenadas = sorted(e.free_symbols, key=lambda s: s.name)\n",
    "    print(f\"F{i+1}({\", \".join(str(s) for s in variaveis_ordenadas)}) = {e}\")\n",
    "    print(\"-------------------------\")\n",
    "    bin_valor = []\n",
    "    for vals in entradas:\n",
    "        valor = e.subs({var: vals[i] for i, var in enumerate(variaveis_ordenadas)})\n",
    "        bin_valor.append(valor)\n",
    "        print(f\"{vals[0]} {vals[1]} {vals[2]} {vals[3]} | {valor}\")\n",
    "    \n",
    "    bin_valor = bin_valor[::-1]\n",
    "    # Verificando se teste é igual a alguma coluna\n",
    "    for coluna in tabela_verdade.columns:\n",
    "        if tabela_verdade[coluna].tolist() == bin_valor:\n",
    "            print(f\"Coluna '{coluna}' é igual a\",e)\n",
    "    else:\n",
    "        print(\"Nenhuma coluna é igual a\",e)"
   ]
  }
 ],
 "metadata": {
  "kernelspec": {
   "display_name": "base",
   "language": "python",
   "name": "python3"
  },
  "language_info": {
   "codemirror_mode": {
    "name": "ipython",
    "version": 3
   },
   "file_extension": ".py",
   "mimetype": "text/x-python",
   "name": "python",
   "nbconvert_exporter": "python",
   "pygments_lexer": "ipython3",
   "version": "3.12.7"
  }
 },
 "nbformat": 4,
 "nbformat_minor": 5
}
