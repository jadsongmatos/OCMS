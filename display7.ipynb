{
 "cells": [
  {
   "cell_type": "code",
   "execution_count": null,
   "metadata": {},
   "outputs": [],
   "source": [
    "import numpy as np\n",
    "import sympy as sp"
   ]
  },
  {
   "cell_type": "code",
   "execution_count": null,
   "metadata": {},
   "outputs": [],
   "source": [
    "def criar_vetor_de_simbolos(tamanho):\n",
    "    \"\"\"\n",
    "    Cria um vetor (lista) de símbolos SymPy com o tamanho especificado.\n",
    "\n",
    "    Parameters:\n",
    "    tamanho (int): O número de símbolos a serem criados.\n",
    "\n",
    "    Returns:\n",
    "    list: Lista contendo os símbolos criados.\n",
    "    \"\"\"\n",
    "    # Cria os símbolos usando sp.symbols\n",
    "    return sp.symbols(f'x1:{tamanho+1}')"
   ]
  },
  {
   "cell_type": "code",
   "execution_count": null,
   "metadata": {},
   "outputs": [],
   "source": [
    "sp.Matrix(np.array_split(criar_vetor_de_simbolos(4), 2))"
   ]
  },
  {
   "cell_type": "code",
   "execution_count": null,
   "metadata": {},
   "outputs": [],
   "source": [
    "# Função para calcular o produto Kronecker considerando binário exclusivo\n",
    "def kronecker_binary(vectors):\n",
    "    result = np.array([1])  # Inicia com o elemento neutro da multiplicação\n",
    "    for v in vectors:\n",
    "        result = np.kron(result, v)\n",
    "    return result"
   ]
  },
  {
   "cell_type": "code",
   "execution_count": null,
   "metadata": {},
   "outputs": [],
   "source": [
    "kronecker_binary([[1,0],[0,1]])"
   ]
  },
  {
   "cell_type": "code",
   "execution_count": null,
   "metadata": {},
   "outputs": [],
   "source": [
    "bits = 2\n",
    "variaveis = sp.Matrix(kronecker_binary(np.array_split(criar_vetor_de_simbolos(bits*2), bits)))\n",
    "variaveis"
   ]
  },
  {
   "cell_type": "code",
   "execution_count": null,
   "metadata": {},
   "outputs": [],
   "source": [
    "bits = 4\n",
    "variaveis = sp.Matrix(kronecker_binary(np.array_split(criar_vetor_de_simbolos(bits*2), bits)))\n",
    "variaveis"
   ]
  },
  {
   "cell_type": "code",
   "execution_count": null,
   "metadata": {},
   "outputs": [],
   "source": [
    "# Iterando pelo vetor com o índice e o valor\n",
    "for linha, elemento in enumerate(variaveis):\n",
    "    print(f\"Linha {linha}: {elemento}\")"
   ]
  },
  {
   "cell_type": "code",
   "execution_count": null,
   "metadata": {},
   "outputs": [],
   "source": [
    "def decimal_para_binario_vetor(numero_decimal, tamanho_bits=8):\n",
    "    \"\"\"\n",
    "    Converte um número decimal para um vetor binário usando produtos de Kronecker.\n",
    "\n",
    "    Args:\n",
    "        numero_decimal (int): Número decimal a ser convertido.\n",
    "        tamanho_bits (int, opcional): Número de bits para representar o número binário. Padrão é 8.\n",
    "\n",
    "    Returns:\n",
    "        np.ndarray: Vetor resultante da conversão.\n",
    "    \n",
    "    Raises:\n",
    "        ValueError: Se o número decimal for negativo ou se o tamanho de bits for insuficiente.\n",
    "    \"\"\"\n",
    "    # Mapeamento dos caracteres binários para os vetores desejados\n",
    "    mapeamento = {'0': [1, 0], '1': [0, 1]}\n",
    "\n",
    "    # Verifica se o número é um inteiro não negativo\n",
    "    if not isinstance(numero_decimal, int):\n",
    "        raise TypeError(\"O número decimal deve ser um inteiro.\")\n",
    "    if numero_decimal < 0:\n",
    "        raise ValueError(\"A função não suporta números decimais negativos.\")\n",
    "\n",
    "    # Converter o número decimal para binário e remover o prefixo '0b'\n",
    "    numero_binario = bin(numero_decimal)[2:]\n",
    "\n",
    "    # Verifica se o número binário cabe no tamanho de bits desejado\n",
    "    if len(numero_binario) > tamanho_bits:\n",
    "        raise ValueError(f\"O número binário '{numero_binario}' excede o tamanho de bits especificado ({tamanho_bits} bits).\")\n",
    "\n",
    "    # Adiciona zeros à esquerda para completar o tamanho de bits desejado\n",
    "    numero_binario = numero_binario.zfill(tamanho_bits)\n",
    "\n",
    "    # Inicializa o vetor com 1 para o produto de Kronecker\n",
    "    vetor = np.array([1])\n",
    "    \n",
    "    # Aplica o produto de Kronecker para cada dígito binário\n",
    "    for digito in numero_binario:\n",
    "        vetor = np.kron(vetor, mapeamento[digito])\n",
    "\n",
    "    return vetor"
   ]
  },
  {
   "cell_type": "code",
   "execution_count": null,
   "metadata": {},
   "outputs": [],
   "source": [
    "saida_tabela = [\n",
    "    [0, 1, 1, 1, 1, 1, 1],\n",
    "    [0, 0, 0, 0, 1, 1, 0],\n",
    "    [1, 0, 1, 1, 0, 1, 1],\n",
    "    [1, 0, 0, 1, 1, 1, 1],\n",
    "    [1, 1, 0, 0, 0, 1, 1],\n",
    "    [1, 1, 0, 1, 1, 0, 1],\n",
    "    [1, 1, 1, 1, 1, 0, 1],\n",
    "    [0, 0, 0, 0, 1, 1, 1],\n",
    "    [1, 1, 1, 1, 1, 1, 1],\n",
    "    [1, 1, 0, 1, 1, 1, 1],\n",
    "    [1, 1, 1, 0, 1, 1, 1],\n",
    "    [1, 1, 1, 1, 1, 0, 0],\n",
    "    [0, 1, 1, 1, 0, 0, 1],\n",
    "    [1, 0, 1, 1, 1, 1, 0],\n",
    "    [1, 1, 1, 1, 0, 0, 1],\n",
    "    [1, 1, 1, 0, 0, 0, 1]\n",
    "]\n",
    "\n",
    "#saida_tabela = [linha[::-1] for linha in saida_tabela]\n",
    "\n",
    "vetores_binarios = []\n",
    "\n",
    "for comb in saida_tabela:\n",
    "\tvetor = kronecker_binary(np.array([decimal_para_binario_vetor(bit, 1) for bit in comb]))\n",
    "\tvetores_binarios.append(vetor)\n",
    "\n",
    "vetores_binarios = np.array(vetores_binarios).T\n",
    "sp.Matrix(vetores_binarios)"
   ]
  },
  {
   "cell_type": "code",
   "execution_count": null,
   "metadata": {},
   "outputs": [],
   "source": [
    "vetores_binarios.tolist()"
   ]
  },
  {
   "cell_type": "code",
   "execution_count": null,
   "metadata": {},
   "outputs": [],
   "source": [
    "from sympy import symbols\n",
    "from sympy.logic.boolalg import And, Or, Not, Xor\n",
    "from sympy import simplify_logic\n",
    "\n",
    "def matrix_to_boolean_function_general(matrix):\n",
    "    \"\"\"\n",
    "    Converte uma matriz binária (0/1) de transformação linear discreta\n",
    "    em expressões booleanas para cada bit de saída, com qualquer número\n",
    "    de bits de entrada e saída (matriz pode ser retangular).\n",
    "    \"\"\"\n",
    "    n_outputs = len(matrix)       # número de linhas\n",
    "    n_inputs = len(matrix[0])     # número de colunas\n",
    "\n",
    "    # Calcula quantos bits são necessários para codificar entradas e saídas\n",
    "    input_bits_count = (n_inputs - 1).bit_length()\n",
    "    output_bits_count = (n_outputs - 1).bit_length()\n",
    "\n",
    "    # Gera variáveis simbólicas para os bits de entrada\n",
    "    input_symbols = symbols(' '.join(f'x{i}' for i in range(input_bits_count)))\n",
    "\n",
    "    def index_to_bits(i, width):\n",
    "        return tuple((i >> k) & 1 for k in reversed(range(width)))\n",
    "\n",
    "    output_expressions = []\n",
    "\n",
    "    for output_bit in range(output_bits_count):\n",
    "        minterms = []\n",
    "\n",
    "        for col in range(n_inputs):\n",
    "            col_vector = [matrix[row][col] for row in range(n_outputs)]\n",
    "            if any(col_vector):\n",
    "                output_vector_index = col_vector.index(1)\n",
    "                output_bits = index_to_bits(output_vector_index, output_bits_count)\n",
    "                if output_bits[output_bit] == 1:\n",
    "                    input_bits = index_to_bits(col, input_bits_count)\n",
    "                    term = []\n",
    "                    for idx, val in enumerate(input_bits):\n",
    "                        symbol = input_symbols[idx]\n",
    "                        term.append(symbol if val else Not(symbol))\n",
    "                    minterms.append(And(*term))\n",
    "\n",
    "        if minterms:\n",
    "            output_expr = simplify_logic(Or(*minterms), form='dnf')\n",
    "        else:\n",
    "            output_expr = 0\n",
    "\n",
    "        output_expressions.append((f'bit {output_bit}', output_expr))\n",
    "\n",
    "    return input_symbols, output_expressions\n",
    "\n",
    "\n",
    "input_symbols, exprs_general = matrix_to_boolean_function_general(vetores_binarios)"
   ]
  },
  {
   "cell_type": "code",
   "execution_count": null,
   "metadata": {},
   "outputs": [],
   "source": [
    "def generate_function_from_exprs_general(exprs_with_vars, fn_name=\"logic_fn\"):\n",
    "    \"\"\"\n",
    "    Gera código Python para uma função lógica baseada em expressões booleanas\n",
    "    e símbolos de entrada arbitrários (não limitado a a, b).\n",
    "    \"\"\"\n",
    "    input_symbols, exprs_text = exprs_with_vars\n",
    "    param_list = \", \".join(str(sym) for sym in input_symbols)\n",
    "\n",
    "    # Construir o corpo da função com cada bit de saída\n",
    "    lines = []\n",
    "    for i, (bit_name, expr) in enumerate(exprs_text):\n",
    "        lines.append(f\"    bit{i} = {expr}\")\n",
    "    lines.append(f\"    return ({', '.join([f'bit{i}' for i in range(len(exprs_text))])})\")\n",
    "\n",
    "    # Construir a função completa como string\n",
    "    fn_code = f\"def {fn_name}({param_list}):\\n\" + \"\\n\".join(lines)\n",
    "    return fn_code\n",
    "\n",
    "# Aplicar ao exemplo anterior com 2 bits de entrada → 3 bits de saída\n",
    "generated_code_general = generate_function_from_exprs_general((input_symbols, exprs_general), fn_name=\"bit_expander\")\n",
    "print(generated_code_general)"
   ]
  },
  {
   "cell_type": "code",
   "execution_count": null,
   "metadata": {},
   "outputs": [],
   "source": [
    "def bit_expander(x0, x1, x2, x3):\n",
    "    bit0 = (x0 & x3) | (x0 & ~x1) | (x2 & ~x1) | (x2 & ~x3) | (x1 & ~x0 & ~x2)\n",
    "    bit1 = (x0 & x2) | (x0 & ~x1) | (x1 & ~x3) | (~x2 & ~x3) | (x1 & ~x0 & ~x2)\n",
    "    bit2 = (x0 & x1) | (x0 & x2) | (x2 & ~x3) | (~x1 & ~x3)\n",
    "    bit3 = (x0 & ~x2) | (x1 & x2 & ~x3) | (x1 & x3 & ~x2) | (x2 & x3 & ~x1) | (~x0 & ~x1 & ~x3)\n",
    "    bit4 = (x0 & ~x1) | (x3 & ~x0) | (x3 & ~x2) | (~x1 & ~x2) | (x1 & x2 & ~x0)\n",
    "    bit5 = (~x0 & ~x1) | (~x1 & ~x3) | (x0 & x3 & ~x2) | (x2 & x3 & ~x0) | (~x0 & ~x2 & ~x3)\n",
    "    bit6 = ~x3 | (x1 & x2) | (x1 & ~x0) | (x2 & ~x0) | (x0 & ~x1 & ~x2)\n",
    "    return (bit0, bit1, bit2, bit3, bit4, bit5, bit6)"
   ]
  },
  {
   "cell_type": "code",
   "execution_count": null,
   "metadata": {},
   "outputs": [],
   "source": [
    "custom_logic(0,0,0,1)"
   ]
  },
  {
   "cell_type": "code",
   "execution_count": null,
   "metadata": {},
   "outputs": [],
   "source": [
    "# Lista para armazenar os índices de cada linha\n",
    "resultado = []\n",
    "\n",
    "# Percorre cada linha da matriz\n",
    "for linha in vetores_binarios:\n",
    "    indices = [i for i, val in enumerate(linha) if val == 1]\n",
    "    resultado.append(indices if indices else [None])\n",
    "    \n",
    "resultado"
   ]
  },
  {
   "cell_type": "code",
   "execution_count": null,
   "metadata": {},
   "outputs": [],
   "source": [
    "regra = sp.Matrix(np.dot(vetores_binarios, variaveis)) # expressões simbólicas\n",
    "regra"
   ]
  },
  {
   "cell_type": "code",
   "execution_count": null,
   "metadata": {},
   "outputs": [],
   "source": [
    "regra.shape"
   ]
  },
  {
   "cell_type": "code",
   "execution_count": null,
   "metadata": {},
   "outputs": [],
   "source": [
    "# Iterando pelo vetor com o índice e o valor\n",
    "for linha, elemento in enumerate(regra):\n",
    "    print(f\"Linha {linha}: {elemento}\")"
   ]
  },
  {
   "cell_type": "code",
   "execution_count": null,
   "metadata": {},
   "outputs": [],
   "source": [
    "lista = regra.tolist()[0]\n",
    "list(set([x for x in lista if lista.count(x) > 1]))"
   ]
  },
  {
   "cell_type": "code",
   "execution_count": null,
   "metadata": {},
   "outputs": [],
   "source": [
    "#Sumulando saidas\n",
    "teste = np.dot(vetores_binarios, decimal_para_binario_vetor(0, 4))\n",
    "teste"
   ]
  },
  {
   "cell_type": "code",
   "execution_count": null,
   "metadata": {},
   "outputs": [],
   "source": [
    "teste.size"
   ]
  },
  {
   "cell_type": "code",
   "execution_count": null,
   "metadata": {},
   "outputs": [],
   "source": [
    "[i for i, val in enumerate(teste) if val == 1]"
   ]
  },
  {
   "cell_type": "code",
   "execution_count": null,
   "metadata": {},
   "outputs": [],
   "source": [
    "# Lista para armazenar os índices de cada linha\n",
    "resultado = []\n",
    "\n",
    "# Percorre cada linha da matriz\n",
    "for linha in vetores_binarios:\n",
    "    indices = [i for i, val in enumerate(linha) if val == 1]\n",
    "    resultado.append(indices if indices else [None])\n",
    "    \n",
    "resultado"
   ]
  },
  {
   "cell_type": "code",
   "execution_count": null,
   "metadata": {},
   "outputs": [],
   "source": [
    "from sympy.utilities.lambdify import lambdastr\n",
    "\n",
    "#  Lista para armazenar as funções\n",
    "funcoes = []\n",
    "\n",
    "# Variáveis que as funções irão receber\n",
    "variaveis = criar_vetor_de_simbolos(bits*2)\n",
    "\n",
    "# Iterar sobre cada elemento do vetor simbólico e criar uma função\n",
    "for expr in regra:\n",
    "    func = sp.lambdify(variaveis, expr)\n",
    "    funcoes.append(func)\n"
   ]
  },
  {
   "cell_type": "code",
   "execution_count": null,
   "metadata": {},
   "outputs": [],
   "source": [
    "from sympy.utilities.lambdify import lambdastr\n",
    "\n",
    "# Variáveis que as funções irão receber\n",
    "variaveis = criar_vetor_de_simbolos(bits*2)\n",
    "\n",
    "for expr in regra:\n",
    "    print(lambdastr(variaveis, expr))"
   ]
  },
  {
   "cell_type": "code",
   "execution_count": null,
   "metadata": {},
   "outputs": [],
   "source": [
    "import itertools\n",
    "\n",
    "# Usando produto cartesiano\n",
    "combinacoes = list(itertools.product([0, 1], repeat=4))\n",
    "\n",
    "for comb in combinacoes:\n",
    "\t# Converte cada bit da combinação para um vetor binário e achata em uma única dimensão\n",
    "\tvalores = np.array([decimal_para_binario_vetor(bit, 1) for bit in comb]).flatten()\n",
    "\tprint(valores,[f(*valores) for f in funcoes])"
   ]
  },
  {
   "cell_type": "code",
   "execution_count": null,
   "metadata": {},
   "outputs": [],
   "source": [
    "list(itertools.product([0, 1], repeat=7))"
   ]
  },
  {
   "cell_type": "code",
   "execution_count": null,
   "metadata": {},
   "outputs": [],
   "source": [
    "\"\\overline{ab}cd+\\overline{ab}c\\overline{d}+ab\\overline{c}d+\\overline{a}b\\overline{cd}+\\overline{a}b\\overline{c}d+a\\overline{b}\\overline{c}d+abcd+a\\overline{b}c\\overline{d}+abc\\overline{d}+a\\overline{b}cd+\\overline{a}bc\\overline{d}+a\\overline{bcd}\"\n",
    "\n",
    "\"https://www.boolean-algebra.com/?q=YWJ7Y2R9K3thYmNkfSt7YWJ9Y3tkfSthYntjfWQrYWJjZCthe2J9Y3tkfSthYmN7ZH0rYXtifWNkK3thfWJje2R9K2F7Yn17Y2R9\"\n",
    "\n",
    "\"https://www.boolean-algebra.com/?q=YWJ7Y2R9K3thYmNkfSt7YWJ9Y2Qre2FifWN7ZH0rYWJ7Y31kK3thfWJ7Y31kK2F7Yn17Y31kK2FiY3tkfSthe2J9Y2Qre2F9YmN7ZH0rYXtifXtjZH0=\"\n",
    "\n",
    "\"https://www.boolean-algebra.com/?q=e2FifXtjfWQre2F9YmNkK3thYmNkfSt7YWJ9Y2QrYWJ7Y31kK3thfWJ7Y31kK2F7Yn17Y31kK2F7Yn1je2R9K2F7Yn1jZCt7YX1iY3tkfSthe2J9e2NkfQ==\""
   ]
  }
 ],
 "metadata": {
  "kernelspec": {
   "display_name": "base",
   "language": "python",
   "name": "python3"
  },
  "language_info": {
   "codemirror_mode": {
    "name": "ipython",
    "version": 3
   },
   "file_extension": ".py",
   "mimetype": "text/x-python",
   "name": "python",
   "nbconvert_exporter": "python",
   "pygments_lexer": "ipython3",
   "version": "3.12.7"
  }
 },
 "nbformat": 4,
 "nbformat_minor": 2
}
