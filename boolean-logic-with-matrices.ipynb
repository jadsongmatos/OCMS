{
 "cells": [
  {
   "cell_type": "code",
   "execution_count": 1,
   "metadata": {},
   "outputs": [],
   "source": [
    "import numpy as np\n",
    "import sympy as sp"
   ]
  },
  {
   "cell_type": "code",
   "execution_count": 2,
   "metadata": {},
   "outputs": [],
   "source": [
    "def criar_vetor_de_simbolos(tamanho):\n",
    "    \"\"\"\n",
    "    Cria um vetor (lista) de símbolos SymPy com o tamanho especificado.\n",
    "\n",
    "    Parameters:\n",
    "    tamanho (int): O número de símbolos a serem criados.\n",
    "\n",
    "    Returns:\n",
    "    list: Lista contendo os símbolos criados.\n",
    "    \"\"\"\n",
    "    # Cria os símbolos usando sp.symbols\n",
    "    return sp.symbols(f'x1:{tamanho+1}')"
   ]
  },
  {
   "cell_type": "code",
   "execution_count": 3,
   "metadata": {},
   "outputs": [
    {
     "data": {
      "text/latex": [
       "$\\displaystyle \\left[\\begin{matrix}x_{1} & x_{2}\\\\x_{3} & x_{4}\\end{matrix}\\right]$"
      ],
      "text/plain": [
       "Matrix([\n",
       "[x1, x2],\n",
       "[x3, x4]])"
      ]
     },
     "execution_count": 3,
     "metadata": {},
     "output_type": "execute_result"
    }
   ],
   "source": [
    "sp.Matrix(np.array_split(criar_vetor_de_simbolos(4), 2))"
   ]
  },
  {
   "cell_type": "code",
   "execution_count": 4,
   "metadata": {},
   "outputs": [],
   "source": [
    "# Função para calcular o produto Kronecker considerando binário exclusivo\n",
    "def kronecker_binary(vectors):\n",
    "    result = np.array([1])  # Inicia com o elemento neutro da multiplicação\n",
    "    for v in vectors:\n",
    "        result = np.kron(result, v)\n",
    "    return result"
   ]
  },
  {
   "cell_type": "code",
   "execution_count": 5,
   "metadata": {},
   "outputs": [
    {
     "data": {
      "text/plain": [
       "array([0, 1, 0, 0])"
      ]
     },
     "execution_count": 5,
     "metadata": {},
     "output_type": "execute_result"
    }
   ],
   "source": [
    "kronecker_binary([[1,0],[0,1]])"
   ]
  },
  {
   "cell_type": "code",
   "execution_count": 6,
   "metadata": {},
   "outputs": [
    {
     "data": {
      "text/latex": [
       "$\\displaystyle \\left[\\begin{matrix}x_{1} x_{3}\\\\x_{1} x_{4}\\\\x_{2} x_{3}\\\\x_{2} x_{4}\\end{matrix}\\right]$"
      ],
      "text/plain": [
       "Matrix([\n",
       "[x1*x3],\n",
       "[x1*x4],\n",
       "[x2*x3],\n",
       "[x2*x4]])"
      ]
     },
     "execution_count": 6,
     "metadata": {},
     "output_type": "execute_result"
    }
   ],
   "source": [
    "variaveis = sp.Matrix(kronecker_binary(np.array_split(criar_vetor_de_simbolos(4), 2)))\n",
    "variaveis"
   ]
  },
  {
   "cell_type": "code",
   "execution_count": 7,
   "metadata": {},
   "outputs": [],
   "source": [
    "def decimal_para_binario_vetor(numero_decimal, tamanho_bits=8):\n",
    "    \"\"\"\n",
    "    Converte um número decimal para um vetor binário usando produtos de Kronecker.\n",
    "\n",
    "    Args:\n",
    "        numero_decimal (int): Número decimal a ser convertido.\n",
    "        tamanho_bits (int, opcional): Número de bits para representar o número binário. Padrão é 8.\n",
    "\n",
    "    Returns:\n",
    "        np.ndarray: Vetor resultante da conversão.\n",
    "    \n",
    "    Raises:\n",
    "        ValueError: Se o número decimal for negativo ou se o tamanho de bits for insuficiente.\n",
    "    \"\"\"\n",
    "    # Mapeamento dos caracteres binários para os vetores desejados\n",
    "    mapeamento = {'0': [1, 0], '1': [0, 1]}\n",
    "\n",
    "    # Verifica se o número é um inteiro não negativo\n",
    "    if not isinstance(numero_decimal, int):\n",
    "        raise TypeError(\"O número decimal deve ser um inteiro.\")\n",
    "    if numero_decimal < 0:\n",
    "        raise ValueError(\"A função não suporta números decimais negativos.\")\n",
    "\n",
    "    # Converter o número decimal para binário e remover o prefixo '0b'\n",
    "    numero_binario = bin(numero_decimal)[2:]\n",
    "\n",
    "    # Verifica se o número binário cabe no tamanho de bits desejado\n",
    "    if len(numero_binario) > tamanho_bits:\n",
    "        raise ValueError(f\"O número binário '{numero_binario}' excede o tamanho de bits especificado ({tamanho_bits} bits).\")\n",
    "\n",
    "    # Adiciona zeros à esquerda para completar o tamanho de bits desejado\n",
    "    numero_binario = numero_binario.zfill(tamanho_bits)\n",
    "\n",
    "    # Inicializa o vetor com 1 para o produto de Kronecker\n",
    "    vetor = np.array([1])\n",
    "    \n",
    "    # Aplica o produto de Kronecker para cada dígito binário\n",
    "    for digito in numero_binario:\n",
    "        vetor = np.kron(vetor, mapeamento[digito])\n",
    "\n",
    "    return vetor"
   ]
  },
  {
   "cell_type": "code",
   "execution_count": 8,
   "metadata": {},
   "outputs": [
    {
     "data": {
      "text/latex": [
       "$\\displaystyle \\left[\\begin{matrix}1 & 0 & 0 & 0\\\\0 & 0 & 0 & 1\\\\0 & 1 & 1 & 0\\\\0 & 0 & 0 & 0\\end{matrix}\\right]$"
      ],
      "text/plain": [
       "Matrix([\n",
       "[1, 0, 0, 0],\n",
       "[0, 0, 0, 1],\n",
       "[0, 1, 1, 0],\n",
       "[0, 0, 0, 0]])"
      ]
     },
     "execution_count": 8,
     "metadata": {},
     "output_type": "execute_result"
    }
   ],
   "source": [
    "numeros_decimais = [0,2,2,1]\n",
    "vetores_binarios = []\n",
    "tamanho_bits = int(len(numeros_decimais)/2)\n",
    "\n",
    "for numero in numeros_decimais:\n",
    "    try:\n",
    "        vetor = decimal_para_binario_vetor(numero, tamanho_bits)\n",
    "        vetores_binarios.append(vetor)\n",
    "    except (TypeError, ValueError) as e:\n",
    "        print(f\"Erro ao converter o número {numero}: {e}\")\n",
    "\n",
    "vetores_binarios = np.array(vetores_binarios).T\n",
    "sp.Matrix(vetores_binarios)"
   ]
  },
  {
   "cell_type": "code",
   "execution_count": 9,
   "metadata": {},
   "outputs": [
    {
     "data": {
      "text/plain": [
       "array([[1, 0, 0, 0],\n",
       "       [0, 0, 0, 1],\n",
       "       [0, 1, 1, 0],\n",
       "       [0, 0, 0, 0]])"
      ]
     },
     "execution_count": 9,
     "metadata": {},
     "output_type": "execute_result"
    }
   ],
   "source": [
    "vetores_binarios"
   ]
  },
  {
   "cell_type": "code",
   "execution_count": 10,
   "metadata": {},
   "outputs": [
    {
     "data": {
      "text/plain": [
       "[[0], [3], [1, 2], [None]]"
      ]
     },
     "execution_count": 10,
     "metadata": {},
     "output_type": "execute_result"
    }
   ],
   "source": [
    "# Lista para armazenar os índices de cada linha\n",
    "resultado = []\n",
    "\n",
    "# Percorre cada linha da matriz\n",
    "for linha in vetores_binarios:\n",
    "    indices = [i for i, val in enumerate(linha) if val == 1]\n",
    "    resultado.append(indices if indices else [None])\n",
    "    \n",
    "resultado"
   ]
  },
  {
   "cell_type": "code",
   "execution_count": 31,
   "metadata": {},
   "outputs": [
    {
     "data": {
      "text/latex": [
       "$\\displaystyle \\left[\\begin{matrix}x_{1} x_{3}\\\\x_{2} x_{4}\\\\x_{1} x_{4} + x_{2} x_{3}\\\\0\\end{matrix}\\right]$"
      ],
      "text/plain": [
       "Matrix([\n",
       "[        x1*x3],\n",
       "[        x2*x4],\n",
       "[x1*x4 + x2*x3],\n",
       "[            0]])"
      ]
     },
     "execution_count": 31,
     "metadata": {},
     "output_type": "execute_result"
    }
   ],
   "source": [
    "regra = sp.Matrix(np.dot(vetores_binarios, kronecker_binary(np.array_split(criar_vetor_de_simbolos(4), 2)))) # expressões simbólicas\n",
    "regra"
   ]
  },
  {
   "cell_type": "code",
   "execution_count": 12,
   "metadata": {},
   "outputs": [
    {
     "data": {
      "text/plain": [
       "[x1*x3, x1*x4 + x2*x3]"
      ]
     },
     "execution_count": 12,
     "metadata": {},
     "output_type": "execute_result"
    }
   ],
   "source": [
    "saidas = regra[0::2]\n",
    "saidas"
   ]
  },
  {
   "cell_type": "code",
   "execution_count": 14,
   "metadata": {},
   "outputs": [
    {
     "data": {
      "text/latex": [
       "$\\displaystyle \\left[\\begin{matrix}x_{1} x_{3}\\\\- x_{1} x_{3}\\\\- x_{1} x_{3}\\\\x_{1} x_{3}\\end{matrix}\\right]$"
      ],
      "text/plain": [
       "Matrix([\n",
       "[ x1*x3],\n",
       "[-x1*x3],\n",
       "[-x1*x3],\n",
       "[ x1*x3]])"
      ]
     },
     "execution_count": 14,
     "metadata": {},
     "output_type": "execute_result"
    }
   ],
   "source": [
    "def criar_substituicoes(bits):\n",
    "    simbolos = criar_vetor_de_simbolos(bits * 2)\n",
    "    substituicoes = {simbolos[i+1]: -simbolos[i] for i in range(0, len(simbolos), 2)}\n",
    "    return substituicoes\n",
    "\n",
    "# Aplica substituições\n",
    "substituicoes = criar_substituicoes(2)\n",
    "variaveis_substituidas = variaveis.subs(substituicoes)\n",
    "variaveis_substituidas"
   ]
  },
  {
   "cell_type": "code",
   "execution_count": 33,
   "metadata": {},
   "outputs": [],
   "source": [
    "def criar_substituicoes(bits):\n",
    "    simbolos = criar_vetor_de_simbolos(bits * 2)\n",
    "    substituicoes = {simbolos[i+1]: 1-simbolos[i] for i in range(0, len(simbolos), 2)}\n",
    "    return substituicoes"
   ]
  },
  {
   "cell_type": "code",
   "execution_count": 34,
   "metadata": {},
   "outputs": [
    {
     "data": {
      "text/plain": [
       "{x2: 1 - x1, x4: 1 - x3}"
      ]
     },
     "execution_count": 34,
     "metadata": {},
     "output_type": "execute_result"
    }
   ],
   "source": [
    "substituicoes = criar_substituicoes(2)\n",
    "substituicoes"
   ]
  },
  {
   "cell_type": "code",
   "execution_count": 41,
   "metadata": {},
   "outputs": [
    {
     "data": {
      "text/latex": [
       "$\\displaystyle \\left[\\begin{matrix}x_{1} x_{3}\\\\\\left(x_{1} - 1\\right) \\left(x_{3} - 1\\right)\\\\- 2 x_{1} x_{3} + x_{1} + x_{3}\\\\0\\end{matrix}\\right]$"
      ],
      "text/plain": [
       "Matrix([\n",
       "[             x1*x3],\n",
       "[ (x1 - 1)*(x3 - 1)],\n",
       "[-2*x1*x3 + x1 + x3],\n",
       "[                 0]])"
      ]
     },
     "execution_count": 41,
     "metadata": {},
     "output_type": "execute_result"
    }
   ],
   "source": [
    "f = sp.simplify(regra.subs(substituicoes))\n",
    "f"
   ]
  },
  {
   "cell_type": "code",
   "execution_count": 42,
   "metadata": {},
   "outputs": [
    {
     "data": {
      "text/plain": [
       "[x1*x3, x1*x4 + x2*x3]"
      ]
     },
     "execution_count": 42,
     "metadata": {},
     "output_type": "execute_result"
    }
   ],
   "source": [
    "regra[0::2]"
   ]
  },
  {
   "cell_type": "code",
   "execution_count": 43,
   "metadata": {},
   "outputs": [
    {
     "data": {
      "text/plain": [
       "[x2*x4, 0]"
      ]
     },
     "execution_count": 43,
     "metadata": {},
     "output_type": "execute_result"
    }
   ],
   "source": [
    "regra[1::2]"
   ]
  },
  {
   "cell_type": "code",
   "execution_count": 39,
   "metadata": {},
   "outputs": [
    {
     "data": {
      "text/latex": [
       "$\\displaystyle \\left[\\begin{matrix}0 & 0 & 0\\\\0 & 0 & 1\\\\0 & 1 & 0\\\\0 & 1 & 1\\\\1 & 0 & 0\\\\1 & 0 & 1\\\\1 & 1 & 0\\\\1 & 1 & 1\\end{matrix}\\right]$"
      ],
      "text/plain": [
       "Matrix([\n",
       "[0, 0, 0],\n",
       "[0, 0, 1],\n",
       "[0, 1, 0],\n",
       "[0, 1, 1],\n",
       "[1, 0, 0],\n",
       "[1, 0, 1],\n",
       "[1, 1, 0],\n",
       "[1, 1, 1]])"
      ]
     },
     "execution_count": 39,
     "metadata": {},
     "output_type": "execute_result"
    }
   ],
   "source": [
    "from itertools import product\n",
    "\n",
    "# Passo 3: Gerar todas as combinações de 0 e 1 para as 3 variáveis\n",
    "entradas = list(product([0, 1], repeat=3))\n",
    "sp.Matrix(entradas)"
   ]
  },
  {
   "cell_type": "code",
   "execution_count": null,
   "metadata": {},
   "outputs": [],
   "source": [
    "x1, x3, x5 = sp.symbols('x1 x3 x5')\n",
    "\n",
    "print(\"x1 x3 x5 | f(x1, x3, x5)\")\n",
    "print(\"-------------------------\")\n",
    "for vals in entradas:\n",
    "    valor = f[0].subs({x1: vals[0], x3: vals[1], x5: vals[2]})\n",
    "    valor = int(valor)  # Garante que o valor seja 0 ou 1\n",
    "    print(f\"{vals[0]}  {vals[1]}  {vals[2]}  |    {valor}\")"
   ]
  },
  {
   "cell_type": "code",
   "execution_count": null,
   "metadata": {},
   "outputs": [
    {
     "ename": "NameError",
     "evalue": "name 'x' is not defined",
     "output_type": "error",
     "traceback": [
      "\u001b[0;31m---------------------------------------------------------------------------\u001b[0m",
      "\u001b[0;31mNameError\u001b[0m                                 Traceback (most recent call last)",
      "Cell \u001b[0;32mIn[13], line 45\u001b[0m\n\u001b[1;32m     42\u001b[0m expr_list \u001b[38;5;241m=\u001b[39m [simplify_logic(expr, force\u001b[38;5;241m=\u001b[39m\u001b[38;5;28;01mTrue\u001b[39;00m) \u001b[38;5;28;01mfor\u001b[39;00m expr \u001b[38;5;129;01min\u001b[39;00m M_transformed]\n\u001b[1;32m     44\u001b[0m \u001b[38;5;66;03m# Função para calcular a tabela-verdade de uma expressão\u001b[39;00m\n\u001b[0;32m---> 45\u001b[0m \u001b[38;5;28;01mdef\u001b[39;00m \u001b[38;5;21mget_truth_table\u001b[39m(expr, variables\u001b[38;5;241m=\u001b[39m[x, y]):\n\u001b[1;32m     46\u001b[0m     tt \u001b[38;5;241m=\u001b[39m {}\n\u001b[1;32m     47\u001b[0m     \u001b[38;5;28;01mfor\u001b[39;00m vals \u001b[38;5;129;01min\u001b[39;00m itertools\u001b[38;5;241m.\u001b[39mproduct([\u001b[38;5;241m0\u001b[39m, \u001b[38;5;241m1\u001b[39m], repeat\u001b[38;5;241m=\u001b[39m\u001b[38;5;28mlen\u001b[39m(variables)):\n",
      "\u001b[0;31mNameError\u001b[0m: name 'x' is not defined"
     ]
    }
   ],
   "source": [
    "from sympy import symbols\n",
    "from sympy import symbols, Matrix, simplify_logic\n",
    "\n",
    "def criar_mapping(bits):\n",
    "    \"\"\"\n",
    "    Cria um dicionário de mapeamento dinâmico para substituir as variáveis x1, x2, ..., x(2*bits)\n",
    "    usando novas variáveis v1, v2, ..., v(bits).\n",
    "\n",
    "    Parameters:\n",
    "    bits (int): O número de bits, determinando 2*bits variáveis a serem mapeadas.\n",
    "\n",
    "    Returns:\n",
    "    dict: Dicionário contendo as substituições de x_i em termos de v_i.\n",
    "    \"\"\"\n",
    "    # Criação das variáveis originais x1, x2, ..., x(2*bits)\n",
    "    variaveis_originais = symbols(f'x1:{2*bits+1}')\n",
    "    \n",
    "    # Criação das novas variáveis v1, v2, ..., v(bits)\n",
    "    novas_variaveis = symbols(f'v1:{bits+1}')\n",
    "    \n",
    "    # Construção do mapeamento dinâmico\n",
    "    mapping = {}\n",
    "    for i in range(bits):\n",
    "        x_impar = variaveis_originais[2 * i]    # x1, x3, x5, ...\n",
    "        x_par = variaveis_originais[2 * i + 1]  # x2, x4, x6, ...\n",
    "        v = novas_variaveis[i]  # v1, v2, v3, ...\n",
    "\n",
    "        # Mapeamento baseado no padrão identificado\n",
    "        mapping[x_impar] = 1 - v\n",
    "        mapping[x_par] = v\n",
    "\n",
    "    return mapping\n",
    "\n",
    "# Testando a função com 3 bits\n",
    "bits = 2\n",
    "mapping = criar_mapping(bits)\n",
    "\n",
    "# Aplica a substituição na matriz\n",
    "M_transformed = regra.subs(mapping)\n",
    "\n",
    "# Extrai as expressões resultantes\n",
    "expr_list = [simplify_logic(expr, force=True) for expr in M_transformed]\n",
    "\n",
    "# Função para calcular a tabela-verdade de uma expressão\n",
    "def get_truth_table(expr, variables=[x, y]):\n",
    "    tt = {}\n",
    "    for vals in itertools.product([0, 1], repeat=len(variables)):\n",
    "        assignment = dict(zip(variables, vals))\n",
    "        val = int(bool(expr.subs(assignment)))\n",
    "        tt[vals] = val\n",
    "    return tt\n",
    "\n",
    "# Função para comparar duas tabelas-verdade\n",
    "def tt_equal(tt1, tt2):\n",
    "    return all(tt1[k] == tt2[k] for k in tt1)\n",
    "\n",
    "\n",
    "\n",
    "# Procura quais das expressões da matriz correspondem a cada função\n",
    "sum_candidates = []\n",
    "carry_candidates = []\n",
    "\n",
    "for i, expr in enumerate(expr_list):\n",
    "    tt_expr = get_truth_table(expr)\n",
    "    print(f\"Expressão {i+1}: {expr}, tabela-verdade: {tt_expr}\")\n",
    "    if tt_equal(tt_expr, tt_expected_sum):\n",
    "        sum_candidates.append(expr)\n",
    "    if tt_equal(tt_expr, tt_expected_carry):\n",
    "        carry_candidates.append(expr)\n",
    "\n",
    "# Se houver mais de um candidato para cada saída, combina-os com OR\n",
    "if sum_candidates:\n",
    "    final_sum = sum_candidates[0]\n",
    "    for expr in sum_candidates[1:]:\n",
    "        final_sum = simplify_logic(Or(final_sum, expr), force=True)\n",
    "else:\n",
    "    final_sum = None\n",
    "\n",
    "if carry_candidates:\n",
    "    final_carry = carry_candidates[0]\n",
    "    for expr in carry_candidates[1:]:\n",
    "        final_carry = simplify_logic(Or(final_carry, expr), force=True)\n",
    "else:\n",
    "    final_carry = None\n",
    "\n",
    "print(\"\\nExpressão final da soma (Sum):\", final_sum)\n",
    "print(\"Expressão final do carry:\", final_carry)"
   ]
  },
  {
   "cell_type": "code",
   "execution_count": null,
   "metadata": {},
   "outputs": [
    {
     "name": "stdout",
     "output_type": "stream",
     "text": [
      "Expressão 1: (1 - x)*(1 - y), tabela-verdade: {(0, 0): 1, (0, 1): 0, (1, 0): 0, (1, 1): 0}\n",
      "Expressão 2: x*y, tabela-verdade: {(0, 0): 0, (0, 1): 0, (1, 0): 0, (1, 1): 1}\n",
      "Expressão 3: x*(1 - y) + y*(1 - x), tabela-verdade: {(0, 0): 0, (0, 1): 1, (1, 0): 1, (1, 1): 0}\n",
      "Expressão 4: 0, tabela-verdade: {(0, 0): 0, (0, 1): 0, (1, 0): 0, (1, 1): 0}\n",
      "\n",
      "Expressão final da soma (Sum): x*(1 - y) + y*(1 - x)\n",
      "Expressão final do carry: x*y\n"
     ]
    }
   ],
   "source": [
    "from sympy import symbols, Matrix, simplify_logic\n",
    "from sympy.logic.boolalg import Or\n",
    "import itertools\n",
    "\n",
    "\n",
    "# Extrai as expressões resultantes\n",
    "expr_list = [simplify_logic(expr, force=True) for expr in M_transformed]\n",
    "\n",
    "# Função para calcular a tabela-verdade de uma expressão\n",
    "def get_truth_table(expr, variables=[x, y]):\n",
    "    tt = {}\n",
    "    for vals in itertools.product([0, 1], repeat=len(variables)):\n",
    "        assignment = dict(zip(variables, vals))\n",
    "        val = int(bool(expr.subs(assignment)))\n",
    "        tt[vals] = val\n",
    "    return tt\n",
    "\n",
    "# Função para comparar duas tabelas-verdade\n",
    "def tt_equal(tt1, tt2):\n",
    "    return all(tt1[k] == tt2[k] for k in tt1)\n",
    "\n",
    "# Define as funções esperadas:\n",
    "expected_sum = simplify_logic(x + y - 2*x*y, force=True)  # XOR\n",
    "expected_carry = simplify_logic(x*y, force=True)  # AND\n",
    "\n",
    "tt_expected_sum = get_truth_table(expected_sum)\n",
    "tt_expected_carry = get_truth_table(expected_carry)\n",
    "\n",
    "# Procura quais das expressões da matriz correspondem a cada função\n",
    "sum_candidates = []\n",
    "carry_candidates = []\n",
    "\n",
    "for i, expr in enumerate(expr_list):\n",
    "    tt_expr = get_truth_table(expr)\n",
    "    print(f\"Expressão {i+1}: {expr}, tabela-verdade: {tt_expr}\")\n",
    "    if tt_equal(tt_expr, tt_expected_sum):\n",
    "        sum_candidates.append(expr)\n",
    "    if tt_equal(tt_expr, tt_expected_carry):\n",
    "        carry_candidates.append(expr)\n",
    "\n",
    "# Se houver mais de um candidato para cada saída, combina-os com OR\n",
    "if sum_candidates:\n",
    "    final_sum = sum_candidates[0]\n",
    "    for expr in sum_candidates[1:]:\n",
    "        final_sum = simplify_logic(Or(final_sum, expr), force=True)\n",
    "else:\n",
    "    final_sum = None\n",
    "\n",
    "if carry_candidates:\n",
    "    final_carry = carry_candidates[0]\n",
    "    for expr in carry_candidates[1:]:\n",
    "        final_carry = simplify_logic(Or(final_carry, expr), force=True)\n",
    "else:\n",
    "    final_carry = None\n",
    "\n",
    "print(\"\\nExpressão final da soma (Sum):\", final_sum)\n",
    "print(\"Expressão final do carry:\", final_carry)"
   ]
  },
  {
   "cell_type": "code",
   "execution_count": null,
   "metadata": {},
   "outputs": [
    {
     "data": {
      "text/plain": [
       "[<function _lambdifygenerated(x1, x2, x3, x4)>,\n",
       " <function _lambdifygenerated(x1, x2, x3, x4)>,\n",
       " <function _lambdifygenerated(x1, x2, x3, x4)>,\n",
       " <function _lambdifygenerated(x1, x2, x3, x4)>]"
      ]
     },
     "execution_count": 115,
     "metadata": {},
     "output_type": "execute_result"
    }
   ],
   "source": [
    "from sympy.utilities.lambdify import lambdastr\n",
    "\n",
    "#  Lista para armazenar as funções\n",
    "funcoes = []\n",
    "\n",
    "# Variáveis que as funções irão receber\n",
    "variaveis = criar_vetor_de_simbolos(4)\n",
    "\n",
    "# Iterar sobre cada elemento do vetor simbólico e criar uma função\n",
    "for expr in regra:\n",
    "    func = sp.lambdify(variaveis, expr)\n",
    "    funcoes.append(func)\n",
    "\n",
    "funcoes"
   ]
  },
  {
   "cell_type": "code",
   "execution_count": null,
   "metadata": {},
   "outputs": [
    {
     "data": {
      "text/plain": [
       "['lambda x1,x2,x3,x4: (x1*x3)',\n",
       " 'lambda x1,x2,x3,x4: (x2*x4)',\n",
       " 'lambda x1,x2,x3,x4: (x1*x4 + x2*x3)',\n",
       " 'lambda x1,x2,x3,x4: (0)']"
      ]
     },
     "execution_count": 114,
     "metadata": {},
     "output_type": "execute_result"
    }
   ],
   "source": [
    "from sympy.utilities.lambdify import lambdastr\n",
    "\n",
    "#  Lista para armazenar as funções\n",
    "funcoes = []\n",
    "\n",
    "# Variáveis que as funções irão receber\n",
    "variaveis = criar_vetor_de_simbolos(4)\n",
    "\n",
    "# Iterar sobre cada elemento do vetor simbólico e criar uma função\n",
    "for expr in regra:\n",
    "    func = lambdastr(variaveis, expr)\n",
    "    funcoes.append(func)\n",
    "\n",
    "funcoes"
   ]
  },
  {
   "cell_type": "code",
   "execution_count": null,
   "metadata": {},
   "outputs": [
    {
     "name": "stdout",
     "output_type": "stream",
     "text": [
      "[1 0 1 0]\n"
     ]
    },
    {
     "data": {
      "text/plain": [
       "[1, 0, 0, 0]"
      ]
     },
     "execution_count": 173,
     "metadata": {},
     "output_type": "execute_result"
    }
   ],
   "source": [
    "valores = np.array([decimal_para_binario_vetor(0,1),decimal_para_binario_vetor(0,1)]).flatten()\n",
    "print(valores)\n",
    "\n",
    "# Calcular os resultados\n",
    "[f(*valores) for f in funcoes]"
   ]
  },
  {
   "cell_type": "code",
   "execution_count": null,
   "metadata": {},
   "outputs": [
    {
     "data": {
      "text/latex": [
       "$\\displaystyle \\left[\\begin{matrix}0\\\\0\\\\1\\\\0\\end{matrix}\\right]$"
      ],
      "text/plain": [
       "Matrix([\n",
       "[0],\n",
       "[0],\n",
       "[1],\n",
       "[0]])"
      ]
     },
     "execution_count": 175,
     "metadata": {},
     "output_type": "execute_result"
    }
   ],
   "source": [
    "sp.Matrix(np.dot(vetores_binarios, [0,1,0,0]))"
   ]
  },
  {
   "cell_type": "code",
   "execution_count": null,
   "metadata": {},
   "outputs": [
    {
     "name": "stdout",
     "output_type": "stream",
     "text": [
      "[1 0 1 0] [1, 0, 0, 0]\n",
      "[1 0 0 1] [0, 0, 1, 0]\n",
      "[0 1 1 0] [0, 0, 1, 0]\n",
      "[0 1 0 1] [0, 1, 0, 0]\n"
     ]
    }
   ],
   "source": [
    "import itertools\n",
    "\n",
    "# Usando produto cartesiano\n",
    "combinacoes = list(itertools.product([0, 1], repeat=2))\n",
    "\n",
    "for comb in combinacoes:\n",
    "\t# Converte cada bit da combinação para um vetor binário e achata em uma única dimensão\n",
    "\tvalores = np.array([decimal_para_binario_vetor(bit, 1) for bit in comb]).flatten()\n",
    "\tprint(valores,[f(*valores) for f in funcoes])"
   ]
  }
 ],
 "metadata": {
  "kernelspec": {
   "display_name": "base",
   "language": "python",
   "name": "python3"
  },
  "language_info": {
   "codemirror_mode": {
    "name": "ipython",
    "version": 3
   },
   "file_extension": ".py",
   "mimetype": "text/x-python",
   "name": "python",
   "nbconvert_exporter": "python",
   "pygments_lexer": "ipython3",
   "version": "3.12.7"
  }
 },
 "nbformat": 4,
 "nbformat_minor": 2
}
