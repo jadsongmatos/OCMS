{
 "cells": [
  {
   "cell_type": "code",
   "execution_count": 6,
   "metadata": {},
   "outputs": [],
   "source": [
    "import numpy as np\n",
    "import sympy as sp"
   ]
  },
  {
   "cell_type": "code",
   "execution_count": null,
   "metadata": {},
   "outputs": [
    {
     "name": "stdout",
     "output_type": "stream",
     "text": [
      "Primeira expressão (x2*x3) transformada e simplificada:\n",
      "x*(1 - y)\n",
      "\n",
      "Segunda expressão (x1*x3 + x1*x4 + x2*x4) transformada e simplificada:\n",
      "x*y + y*(1 - x) + (1 - x)*(1 - y)\n"
     ]
    }
   ],
   "source": [
    "from sympy import symbols, Matrix, simplify_logic\n",
    "from sympy.logic.boolalg import Not\n",
    "\n",
    "# Define os símbolos para a matriz original\n",
    "x1, x2, x3, x4 = symbols('x1 x2 x3 x4')\n",
    "\n",
    "# Define as variáveis booleanas de interesse\n",
    "x, y = symbols('x y')\n",
    "\n",
    "# Define a matriz que representa a função booleana\n",
    "M = Matrix([\n",
    "    x2 * x3,\n",
    "    x1 * x3 + x1 * x4 + x2 * x4\n",
    "])\n",
    "\n",
    "# Define o mapeamento corrigido:\n",
    "# x1 = 1 - x, x2 = x, x3 = Not(y) = 1 - y, x4 = y\n",
    "mapping = {x1: 1 - x, x2: x, x3: 1 - y, x4: y}\n",
    "\n",
    "# Aplica a substituição na matriz\n",
    "M_transformed = M.subs(mapping)\n",
    "\n",
    "# Simplifica as expressões usando simplify_logic\n",
    "expr1 = simplify_logic(M_transformed[0], force=True)\n",
    "expr2 = simplify_logic(M_transformed[1], force=True)\n",
    "\n",
    "print(\"Primeira expressão (x2*x3) transformada e simplificada:\")\n",
    "print(expr1)  # Espera-se: x & Not(y) ou x & (1 - y)\n",
    "\n",
    "print(\"\\nSegunda expressão (x1*x3 + x1*x4 + x2*x4) transformada e simplificada:\")\n",
    "print(expr2)  # Espera-se: Not(x) | y ou (1 - x) | y"
   ]
  },
  {
   "cell_type": "code",
   "execution_count": 39,
   "metadata": {},
   "outputs": [
    {
     "name": "stdout",
     "output_type": "stream",
     "text": [
      "Primeira expressão:\n",
      "x1*(1 - x2)\n",
      "\n",
      "Segunda expressão:\n",
      "x1*x2 + x2*(1 - x1) + (1 - x1)*(1 - x2)\n"
     ]
    }
   ],
   "source": [
    "from sympy import symbols\n",
    "\n",
    "def criar_mapping(bits):\n",
    "    \"\"\"\n",
    "    Cria um dicionário de mapeamento dinâmico para substituir as variáveis x1, x2, ..., x(2*bits)\n",
    "    usando novas variáveis v1, v2, ..., v(bits).\n",
    "\n",
    "    Parameters:\n",
    "    bits (int): O número de bits, determinando 2*bits variáveis a serem mapeadas.\n",
    "\n",
    "    Returns:\n",
    "    dict: Dicionário contendo as substituições de x_i em termos de v_i.\n",
    "    \"\"\"\n",
    "    # Criação das variáveis originais x1, x2, ..., x(2*bits)\n",
    "    variaveis_originais = symbols(f'x1:{2*bits+1}')\n",
    "    \n",
    "    # Criação das novas variáveis v1, v2, ..., v(bits)\n",
    "    novas_variaveis = symbols(f'v1:{bits+1}')\n",
    "    \n",
    "    # Construção do mapeamento dinâmico\n",
    "    mapping = {}\n",
    "    for i in range(bits):\n",
    "        x_impar = variaveis_originais[2 * i]    # x1, x3, x5, ...\n",
    "        x_par = variaveis_originais[2 * i + 1]  # x2, x4, x6, ...\n",
    "        v = novas_variaveis[i]  # v1, v2, v3, ...\n",
    "\n",
    "        # Mapeamento baseado no padrão identificado\n",
    "        mapping[x_impar] = 1 - v\n",
    "        mapping[x_par] = v\n",
    "\n",
    "    return mapping\n",
    "\n",
    "# Testando a função com 3 bits\n",
    "bits = 2\n",
    "mapping_dinamico = criar_mapping(bits)\n",
    "\n",
    "# Aplica a substituição na matriz\n",
    "M_transformed = M.subs(mapping)\n",
    "\n",
    "# Simplifica as expressões usando simplify_logic\n",
    "expr1 = simplify_logic(M_transformed[0], force=True)\n",
    "expr2 = simplify_logic(M_transformed[1], force=True)\n",
    "\n",
    "print(\"Primeira expressão:\")\n",
    "print(expr1)\n",
    "\n",
    "print(\"\\nSegunda expressão:\")\n",
    "print(expr2)"
   ]
  },
  {
   "cell_type": "code",
   "execution_count": 35,
   "metadata": {},
   "outputs": [
    {
     "data": {
      "text/plain": [
       "sympy.core.add.Add"
      ]
     },
     "execution_count": 35,
     "metadata": {},
     "output_type": "execute_result"
    }
   ],
   "source": [
    "type(expr2)"
   ]
  },
  {
   "cell_type": "code",
   "execution_count": 2,
   "metadata": {},
   "outputs": [],
   "source": [
    "def criar_vetor_de_simbolos(tamanho):\n",
    "    \"\"\"\n",
    "    Cria um vetor (lista) de símbolos SymPy com o tamanho especificado.\n",
    "\n",
    "    Parameters:\n",
    "    tamanho (int): O número de símbolos a serem criados.\n",
    "\n",
    "    Returns:\n",
    "    list: Lista contendo os símbolos criados.\n",
    "    \"\"\"\n",
    "    # Cria os símbolos usando sp.symbols\n",
    "    return sp.symbols(f'x1:{tamanho+1}')"
   ]
  },
  {
   "cell_type": "code",
   "execution_count": 3,
   "metadata": {},
   "outputs": [
    {
     "data": {
      "text/latex": [
       "$\\displaystyle \\left[\\begin{matrix}x_{1} & x_{2}\\\\x_{3} & x_{4}\\end{matrix}\\right]$"
      ],
      "text/plain": [
       "Matrix([\n",
       "[x1, x2],\n",
       "[x3, x4]])"
      ]
     },
     "execution_count": 3,
     "metadata": {},
     "output_type": "execute_result"
    }
   ],
   "source": [
    "sp.Matrix(np.array_split(criar_vetor_de_simbolos(4), 2))"
   ]
  },
  {
   "cell_type": "code",
   "execution_count": 4,
   "metadata": {},
   "outputs": [],
   "source": [
    "# Função para calcular o produto Kronecker considerando binário exclusivo\n",
    "def kronecker_binary(vectors):\n",
    "    result = np.array([1])  # Inicia com o elemento neutro da multiplicação\n",
    "    for v in vectors:\n",
    "        result = np.kron(result, v)\n",
    "    return result"
   ]
  },
  {
   "cell_type": "code",
   "execution_count": 5,
   "metadata": {},
   "outputs": [
    {
     "data": {
      "text/plain": [
       "array([0, 1, 0, 0])"
      ]
     },
     "execution_count": 5,
     "metadata": {},
     "output_type": "execute_result"
    }
   ],
   "source": [
    "kronecker_binary([[1,0],[0,1]])"
   ]
  },
  {
   "cell_type": "code",
   "execution_count": 6,
   "metadata": {},
   "outputs": [
    {
     "data": {
      "text/latex": [
       "$\\displaystyle \\left[\\begin{matrix}x_{1} x_{3}\\\\x_{1} x_{4}\\\\x_{2} x_{3}\\\\x_{2} x_{4}\\end{matrix}\\right]$"
      ],
      "text/plain": [
       "Matrix([\n",
       "[x1*x3],\n",
       "[x1*x4],\n",
       "[x2*x3],\n",
       "[x2*x4]])"
      ]
     },
     "execution_count": 6,
     "metadata": {},
     "output_type": "execute_result"
    }
   ],
   "source": [
    "bits = 2\n",
    "variaveis = sp.Matrix(kronecker_binary(np.array_split(criar_vetor_de_simbolos(bits*2), bits)))\n",
    "variaveis"
   ]
  },
  {
   "cell_type": "code",
   "execution_count": 7,
   "metadata": {},
   "outputs": [
    {
     "name": "stdout",
     "output_type": "stream",
     "text": [
      "Linha 0: x1*x3\n",
      "Linha 1: x1*x4\n",
      "Linha 2: x2*x3\n",
      "Linha 3: x2*x4\n"
     ]
    }
   ],
   "source": [
    "# Iterando pelo vetor com o índice e o valor\n",
    "for linha, elemento in enumerate(variaveis):\n",
    "    print(f\"Linha {linha}: {elemento}\")"
   ]
  },
  {
   "cell_type": "code",
   "execution_count": 3,
   "metadata": {},
   "outputs": [],
   "source": [
    "def decimal_para_binario_vetor(numero_decimal, tamanho_bits=8):\n",
    "    \"\"\"\n",
    "    Converte um número decimal para um vetor binário usando produtos de Kronecker.\n",
    "\n",
    "    Args:\n",
    "        numero_decimal (int): Número decimal a ser convertido.\n",
    "        tamanho_bits (int, opcional): Número de bits para representar o número binário. Padrão é 8.\n",
    "\n",
    "    Returns:\n",
    "        np.ndarray: Vetor resultante da conversão.\n",
    "    \n",
    "    Raises:\n",
    "        ValueError: Se o número decimal for negativo ou se o tamanho de bits for insuficiente.\n",
    "    \"\"\"\n",
    "    # Mapeamento dos caracteres binários para os vetores desejados\n",
    "    mapeamento = {'0': [1, 0], '1': [0, 1]}\n",
    "\n",
    "    # Verifica se o número é um inteiro não negativo\n",
    "    if not isinstance(numero_decimal, int):\n",
    "        raise TypeError(\"O número decimal deve ser um inteiro.\")\n",
    "    if numero_decimal < 0:\n",
    "        raise ValueError(\"A função não suporta números decimais negativos.\")\n",
    "\n",
    "    # Converter o número decimal para binário e remover o prefixo '0b'\n",
    "    numero_binario = bin(numero_decimal)[2:]\n",
    "\n",
    "    # Verifica se o número binário cabe no tamanho de bits desejado\n",
    "    if len(numero_binario) > tamanho_bits:\n",
    "        raise ValueError(f\"O número binário '{numero_binario}' excede o tamanho de bits especificado ({tamanho_bits} bits).\")\n",
    "\n",
    "    # Adiciona zeros à esquerda para completar o tamanho de bits desejado\n",
    "    numero_binario = numero_binario.zfill(tamanho_bits)\n",
    "\n",
    "    # Inicializa o vetor com 1 para o produto de Kronecker\n",
    "    vetor = np.array([1])\n",
    "    \n",
    "    # Aplica o produto de Kronecker para cada dígito binário\n",
    "    for digito in numero_binario:\n",
    "        vetor = np.kron(vetor, mapeamento[digito])\n",
    "\n",
    "    return vetor"
   ]
  },
  {
   "cell_type": "code",
   "execution_count": 12,
   "metadata": {},
   "outputs": [
    {
     "data": {
      "text/latex": [
       "$\\displaystyle \\left[\\begin{matrix}0 & 0 & 1 & 0\\\\1 & 1 & 0 & 1\\end{matrix}\\right]$"
      ],
      "text/plain": [
       "Matrix([\n",
       "[0, 0, 1, 0],\n",
       "[1, 1, 0, 1]])"
      ]
     },
     "execution_count": 12,
     "metadata": {},
     "output_type": "execute_result"
    }
   ],
   "source": [
    "saida_tabela = [\n",
    "\t[1],\n",
    "\t[1],\n",
    "\t[0],\n",
    "\t[1],\n",
    "]\n",
    "\n",
    "vetores_binarios = []\n",
    "\n",
    "for comb in saida_tabela:\n",
    "\tvetor = kronecker_binary(np.array([decimal_para_binario_vetor(bit, 1) for bit in comb]))\n",
    "\tvetores_binarios.append(vetor)\n",
    "\n",
    "vetores_binarios = np.array(vetores_binarios).T\n",
    "sp.Matrix(vetores_binarios)"
   ]
  },
  {
   "cell_type": "code",
   "execution_count": 12,
   "metadata": {},
   "outputs": [
    {
     "data": {
      "text/latex": [
       "$\\displaystyle \\left[\\begin{matrix}1 & 0 & 0 & 0\\\\0 & 0 & 0 & 1\\\\0 & 1 & 1 & 0\\\\0 & 0 & 0 & 0\\end{matrix}\\right]$"
      ],
      "text/plain": [
       "Matrix([\n",
       "[1, 0, 0, 0],\n",
       "[0, 0, 0, 1],\n",
       "[0, 1, 1, 0],\n",
       "[0, 0, 0, 0]])"
      ]
     },
     "execution_count": 12,
     "metadata": {},
     "output_type": "execute_result"
    }
   ],
   "source": [
    "saida_tabela = [\n",
    "    [0,0],\n",
    "    [0,1],\n",
    "\t[0,1],\n",
    "\t[1,0]\n",
    "]\n",
    "\n",
    "saida_tabela = [linha[::-1] for linha in saida_tabela]\n",
    "\n",
    "vetores_binarios = []\n",
    "\n",
    "for comb in saida_tabela:\n",
    "\tvetor = kronecker_binary(np.array([decimal_para_binario_vetor(bit, 1) for bit in comb]))\n",
    "\tvetores_binarios.append(vetor)\n",
    "\n",
    "vetores_binarios = np.array(vetores_binarios).T\n",
    "sp.Matrix(vetores_binarios)"
   ]
  },
  {
   "cell_type": "code",
   "execution_count": 13,
   "metadata": {},
   "outputs": [
    {
     "data": {
      "text/latex": [
       "$\\displaystyle \\left[\\begin{matrix}x_{2} x_{3}\\\\x_{1} x_{3} + x_{1} x_{4} + x_{2} x_{4}\\end{matrix}\\right]$"
      ],
      "text/plain": [
       "Matrix([\n",
       "[                x2*x3],\n",
       "[x1*x3 + x1*x4 + x2*x4]])"
      ]
     },
     "execution_count": 13,
     "metadata": {},
     "output_type": "execute_result"
    }
   ],
   "source": [
    "regra = sp.Matrix(np.dot(vetores_binarios, variaveis)) # expressões simbólicas\n",
    "regra"
   ]
  },
  {
   "cell_type": "code",
   "execution_count": 11,
   "metadata": {},
   "outputs": [
    {
     "name": "stdout",
     "output_type": "stream",
     "text": [
      "Linha 0: x1*x3 + x1*x4 + x2*x3\n",
      "Linha 1: x2*x4\n"
     ]
    }
   ],
   "source": [
    "# Iterando pelo vetor com o índice e o valor\n",
    "for linha, elemento in enumerate(regra):\n",
    "    print(f\"Linha {linha}: {elemento}\")"
   ]
  },
  {
   "cell_type": "code",
   "execution_count": 12,
   "metadata": {},
   "outputs": [
    {
     "data": {
      "text/plain": [
       "[]"
      ]
     },
     "execution_count": 12,
     "metadata": {},
     "output_type": "execute_result"
    }
   ],
   "source": [
    "lista = regra.tolist()[0]\n",
    "list(set([x for x in lista if lista.count(x) > 1]))"
   ]
  },
  {
   "cell_type": "code",
   "execution_count": 13,
   "metadata": {},
   "outputs": [
    {
     "ename": "ValueError",
     "evalue": "shapes (2,4) and (16,) not aligned: 4 (dim 1) != 16 (dim 0)",
     "output_type": "error",
     "traceback": [
      "\u001b[0;31m---------------------------------------------------------------------------\u001b[0m",
      "\u001b[0;31mValueError\u001b[0m                                Traceback (most recent call last)",
      "Cell \u001b[0;32mIn[13], line 1\u001b[0m\n\u001b[0;32m----> 1\u001b[0m np\u001b[38;5;241m.\u001b[39mdot(vetores_binarios, decimal_para_binario_vetor(\u001b[38;5;241m2\u001b[39m, \u001b[38;5;241m4\u001b[39m))\n",
      "\u001b[0;31mValueError\u001b[0m: shapes (2,4) and (16,) not aligned: 4 (dim 1) != 16 (dim 0)"
     ]
    }
   ],
   "source": [
    "np.dot(vetores_binarios, decimal_para_binario_vetor(2, 4))"
   ]
  },
  {
   "cell_type": "code",
   "execution_count": null,
   "metadata": {},
   "outputs": [],
   "source": [
    "from sympy.utilities.lambdify import lambdastr\n",
    "\n",
    "#  Lista para armazenar as funções\n",
    "funcoes = []\n",
    "\n",
    "# Variáveis que as funções irão receber\n",
    "variaveis = criar_vetor_de_simbolos(bits*2)\n",
    "\n",
    "# Iterar sobre cada elemento do vetor simbólico e criar uma função\n",
    "for expr in regra:\n",
    "    func = sp.lambdify(variaveis, expr)\n",
    "    funcoes.append(func)\n"
   ]
  },
  {
   "cell_type": "code",
   "execution_count": null,
   "metadata": {},
   "outputs": [
    {
     "name": "stdout",
     "output_type": "stream",
     "text": [
      "lambda x1,x2,x3,x4,x5,x6,x7,x8: (0)\n",
      "lambda x1,x2,x3,x4,x5,x6,x7,x8: (0)\n",
      "lambda x1,x2,x3,x4,x5,x6,x7,x8: (0)\n",
      "lambda x1,x2,x3,x4,x5,x6,x7,x8: (0)\n",
      "lambda x1,x2,x3,x4,x5,x6,x7,x8: (0)\n",
      "lambda x1,x2,x3,x4,x5,x6,x7,x8: (0)\n",
      "lambda x1,x2,x3,x4,x5,x6,x7,x8: (x1*x3*x5*x8)\n",
      "lambda x1,x2,x3,x4,x5,x6,x7,x8: (x1*x4*x6*x8)\n",
      "lambda x1,x2,x3,x4,x5,x6,x7,x8: (0)\n",
      "lambda x1,x2,x3,x4,x5,x6,x7,x8: (0)\n",
      "lambda x1,x2,x3,x4,x5,x6,x7,x8: (0)\n",
      "lambda x1,x2,x3,x4,x5,x6,x7,x8: (0)\n",
      "lambda x1,x2,x3,x4,x5,x6,x7,x8: (0)\n",
      "lambda x1,x2,x3,x4,x5,x6,x7,x8: (0)\n",
      "lambda x1,x2,x3,x4,x5,x6,x7,x8: (0)\n",
      "lambda x1,x2,x3,x4,x5,x6,x7,x8: (0)\n",
      "lambda x1,x2,x3,x4,x5,x6,x7,x8: (0)\n",
      "lambda x1,x2,x3,x4,x5,x6,x7,x8: (0)\n",
      "lambda x1,x2,x3,x4,x5,x6,x7,x8: (0)\n",
      "lambda x1,x2,x3,x4,x5,x6,x7,x8: (0)\n",
      "lambda x1,x2,x3,x4,x5,x6,x7,x8: (0)\n",
      "lambda x1,x2,x3,x4,x5,x6,x7,x8: (0)\n",
      "lambda x1,x2,x3,x4,x5,x6,x7,x8: (0)\n",
      "lambda x1,x2,x3,x4,x5,x6,x7,x8: (0)\n",
      "lambda x1,x2,x3,x4,x5,x6,x7,x8: (0)\n",
      "lambda x1,x2,x3,x4,x5,x6,x7,x8: (0)\n",
      "lambda x1,x2,x3,x4,x5,x6,x7,x8: (0)\n",
      "lambda x1,x2,x3,x4,x5,x6,x7,x8: (0)\n",
      "lambda x1,x2,x3,x4,x5,x6,x7,x8: (0)\n",
      "lambda x1,x2,x3,x4,x5,x6,x7,x8: (0)\n",
      "lambda x1,x2,x3,x4,x5,x6,x7,x8: (0)\n",
      "lambda x1,x2,x3,x4,x5,x6,x7,x8: (0)\n",
      "lambda x1,x2,x3,x4,x5,x6,x7,x8: (0)\n",
      "lambda x1,x2,x3,x4,x5,x6,x7,x8: (0)\n",
      "lambda x1,x2,x3,x4,x5,x6,x7,x8: (0)\n",
      "lambda x1,x2,x3,x4,x5,x6,x7,x8: (0)\n",
      "lambda x1,x2,x3,x4,x5,x6,x7,x8: (0)\n",
      "lambda x1,x2,x3,x4,x5,x6,x7,x8: (0)\n",
      "lambda x1,x2,x3,x4,x5,x6,x7,x8: (0)\n",
      "lambda x1,x2,x3,x4,x5,x6,x7,x8: (0)\n",
      "lambda x1,x2,x3,x4,x5,x6,x7,x8: (0)\n",
      "lambda x1,x2,x3,x4,x5,x6,x7,x8: (0)\n",
      "lambda x1,x2,x3,x4,x5,x6,x7,x8: (0)\n",
      "lambda x1,x2,x3,x4,x5,x6,x7,x8: (0)\n",
      "lambda x1,x2,x3,x4,x5,x6,x7,x8: (0)\n",
      "lambda x1,x2,x3,x4,x5,x6,x7,x8: (0)\n",
      "lambda x1,x2,x3,x4,x5,x6,x7,x8: (0)\n",
      "lambda x1,x2,x3,x4,x5,x6,x7,x8: (0)\n",
      "lambda x1,x2,x3,x4,x5,x6,x7,x8: (0)\n",
      "lambda x1,x2,x3,x4,x5,x6,x7,x8: (0)\n",
      "lambda x1,x2,x3,x4,x5,x6,x7,x8: (0)\n",
      "lambda x1,x2,x3,x4,x5,x6,x7,x8: (0)\n",
      "lambda x1,x2,x3,x4,x5,x6,x7,x8: (0)\n",
      "lambda x1,x2,x3,x4,x5,x6,x7,x8: (0)\n",
      "lambda x1,x2,x3,x4,x5,x6,x7,x8: (0)\n",
      "lambda x1,x2,x3,x4,x5,x6,x7,x8: (0)\n",
      "lambda x1,x2,x3,x4,x5,x6,x7,x8: (0)\n",
      "lambda x1,x2,x3,x4,x5,x6,x7,x8: (x2*x4*x5*x7)\n",
      "lambda x1,x2,x3,x4,x5,x6,x7,x8: (0)\n",
      "lambda x1,x2,x3,x4,x5,x6,x7,x8: (0)\n",
      "lambda x1,x2,x3,x4,x5,x6,x7,x8: (0)\n",
      "lambda x1,x2,x3,x4,x5,x6,x7,x8: (0)\n",
      "lambda x1,x2,x3,x4,x5,x6,x7,x8: (0)\n",
      "lambda x1,x2,x3,x4,x5,x6,x7,x8: (x1*x3*x5*x7)\n",
      "lambda x1,x2,x3,x4,x5,x6,x7,x8: (0)\n",
      "lambda x1,x2,x3,x4,x5,x6,x7,x8: (0)\n",
      "lambda x1,x2,x3,x4,x5,x6,x7,x8: (0)\n",
      "lambda x1,x2,x3,x4,x5,x6,x7,x8: (0)\n",
      "lambda x1,x2,x3,x4,x5,x6,x7,x8: (0)\n",
      "lambda x1,x2,x3,x4,x5,x6,x7,x8: (0)\n",
      "lambda x1,x2,x3,x4,x5,x6,x7,x8: (0)\n",
      "lambda x1,x2,x3,x4,x5,x6,x7,x8: (0)\n",
      "lambda x1,x2,x3,x4,x5,x6,x7,x8: (0)\n",
      "lambda x1,x2,x3,x4,x5,x6,x7,x8: (0)\n",
      "lambda x1,x2,x3,x4,x5,x6,x7,x8: (0)\n",
      "lambda x1,x2,x3,x4,x5,x6,x7,x8: (0)\n",
      "lambda x1,x2,x3,x4,x5,x6,x7,x8: (0)\n",
      "lambda x1,x2,x3,x4,x5,x6,x7,x8: (0)\n",
      "lambda x1,x2,x3,x4,x5,x6,x7,x8: (0)\n",
      "lambda x1,x2,x3,x4,x5,x6,x7,x8: (x1*x3*x6*x8)\n",
      "lambda x1,x2,x3,x4,x5,x6,x7,x8: (0)\n",
      "lambda x1,x2,x3,x4,x5,x6,x7,x8: (0)\n",
      "lambda x1,x2,x3,x4,x5,x6,x7,x8: (0)\n",
      "lambda x1,x2,x3,x4,x5,x6,x7,x8: (0)\n",
      "lambda x1,x2,x3,x4,x5,x6,x7,x8: (0)\n",
      "lambda x1,x2,x3,x4,x5,x6,x7,x8: (0)\n",
      "lambda x1,x2,x3,x4,x5,x6,x7,x8: (0)\n",
      "lambda x1,x2,x3,x4,x5,x6,x7,x8: (0)\n",
      "lambda x1,x2,x3,x4,x5,x6,x7,x8: (0)\n",
      "lambda x1,x2,x3,x4,x5,x6,x7,x8: (0)\n",
      "lambda x1,x2,x3,x4,x5,x6,x7,x8: (0)\n",
      "lambda x1,x2,x3,x4,x5,x6,x7,x8: (x1*x3*x6*x7)\n",
      "lambda x1,x2,x3,x4,x5,x6,x7,x8: (0)\n",
      "lambda x1,x2,x3,x4,x5,x6,x7,x8: (0)\n",
      "lambda x1,x2,x3,x4,x5,x6,x7,x8: (x2*x4*x5*x8)\n",
      "lambda x1,x2,x3,x4,x5,x6,x7,x8: (0)\n",
      "lambda x1,x2,x3,x4,x5,x6,x7,x8: (0)\n",
      "lambda x1,x2,x3,x4,x5,x6,x7,x8: (0)\n",
      "lambda x1,x2,x3,x4,x5,x6,x7,x8: (0)\n",
      "lambda x1,x2,x3,x4,x5,x6,x7,x8: (x1*x4*x5*x7)\n",
      "lambda x1,x2,x3,x4,x5,x6,x7,x8: (0)\n",
      "lambda x1,x2,x3,x4,x5,x6,x7,x8: (0)\n",
      "lambda x1,x2,x3,x4,x5,x6,x7,x8: (0)\n",
      "lambda x1,x2,x3,x4,x5,x6,x7,x8: (0)\n",
      "lambda x1,x2,x3,x4,x5,x6,x7,x8: (0)\n",
      "lambda x1,x2,x3,x4,x5,x6,x7,x8: (0)\n",
      "lambda x1,x2,x3,x4,x5,x6,x7,x8: (0)\n",
      "lambda x1,x2,x3,x4,x5,x6,x7,x8: (0)\n",
      "lambda x1,x2,x3,x4,x5,x6,x7,x8: (0)\n",
      "lambda x1,x2,x3,x4,x5,x6,x7,x8: (x1*x4*x5*x8)\n",
      "lambda x1,x2,x3,x4,x5,x6,x7,x8: (0)\n",
      "lambda x1,x2,x3,x4,x5,x6,x7,x8: (x2*x3*x5*x8)\n",
      "lambda x1,x2,x3,x4,x5,x6,x7,x8: (0)\n",
      "lambda x1,x2,x3,x4,x5,x6,x7,x8: (x2*x4*x6*x8)\n",
      "lambda x1,x2,x3,x4,x5,x6,x7,x8: (0)\n",
      "lambda x1,x2,x3,x4,x5,x6,x7,x8: (0)\n",
      "lambda x1,x2,x3,x4,x5,x6,x7,x8: (0)\n",
      "lambda x1,x2,x3,x4,x5,x6,x7,x8: (0)\n",
      "lambda x1,x2,x3,x4,x5,x6,x7,x8: (0)\n",
      "lambda x1,x2,x3,x4,x5,x6,x7,x8: (x2*x3*x6*x7)\n",
      "lambda x1,x2,x3,x4,x5,x6,x7,x8: (0)\n",
      "lambda x1,x2,x3,x4,x5,x6,x7,x8: (x2*x4*x6*x7)\n",
      "lambda x1,x2,x3,x4,x5,x6,x7,x8: (0)\n",
      "lambda x1,x2,x3,x4,x5,x6,x7,x8: (0)\n",
      "lambda x1,x2,x3,x4,x5,x6,x7,x8: (x2*x3*x6*x8)\n",
      "lambda x1,x2,x3,x4,x5,x6,x7,x8: (x1*x4*x6*x7)\n",
      "lambda x1,x2,x3,x4,x5,x6,x7,x8: (0)\n",
      "lambda x1,x2,x3,x4,x5,x6,x7,x8: (x2*x3*x5*x7)\n"
     ]
    }
   ],
   "source": [
    "from sympy.utilities.lambdify import lambdastr\n",
    "\n",
    "# Variáveis que as funções irão receber\n",
    "variaveis = criar_vetor_de_simbolos(bits*2)\n",
    "\n",
    "for expr in regra:\n",
    "    print(lambdastr(variaveis, expr))"
   ]
  },
  {
   "cell_type": "code",
   "execution_count": null,
   "metadata": {},
   "outputs": [
    {
     "name": "stdout",
     "output_type": "stream",
     "text": [
      "[1 0 1 0 1 0 1 0] [0, 0, 0, 0, 0, 0, 0, 0, 0, 0, 0, 0, 0, 0, 0, 0, 0, 0, 0, 0, 0, 0, 0, 0, 0, 0, 0, 0, 0, 0, 0, 0, 0, 0, 0, 0, 0, 0, 0, 0, 0, 0, 0, 0, 0, 0, 0, 0, 0, 0, 0, 0, 0, 0, 0, 0, 0, 0, 0, 0, 0, 0, 0, 1, 0, 0, 0, 0, 0, 0, 0, 0, 0, 0, 0, 0, 0, 0, 0, 0, 0, 0, 0, 0, 0, 0, 0, 0, 0, 0, 0, 0, 0, 0, 0, 0, 0, 0, 0, 0, 0, 0, 0, 0, 0, 0, 0, 0, 0, 0, 0, 0, 0, 0, 0, 0, 0, 0, 0, 0, 0, 0, 0, 0, 0, 0, 0, 0]\n",
      "[1 0 1 0 1 0 0 1] [0, 0, 0, 0, 0, 0, 1, 0, 0, 0, 0, 0, 0, 0, 0, 0, 0, 0, 0, 0, 0, 0, 0, 0, 0, 0, 0, 0, 0, 0, 0, 0, 0, 0, 0, 0, 0, 0, 0, 0, 0, 0, 0, 0, 0, 0, 0, 0, 0, 0, 0, 0, 0, 0, 0, 0, 0, 0, 0, 0, 0, 0, 0, 0, 0, 0, 0, 0, 0, 0, 0, 0, 0, 0, 0, 0, 0, 0, 0, 0, 0, 0, 0, 0, 0, 0, 0, 0, 0, 0, 0, 0, 0, 0, 0, 0, 0, 0, 0, 0, 0, 0, 0, 0, 0, 0, 0, 0, 0, 0, 0, 0, 0, 0, 0, 0, 0, 0, 0, 0, 0, 0, 0, 0, 0, 0, 0, 0]\n",
      "[1 0 1 0 0 1 1 0] [0, 0, 0, 0, 0, 0, 0, 0, 0, 0, 0, 0, 0, 0, 0, 0, 0, 0, 0, 0, 0, 0, 0, 0, 0, 0, 0, 0, 0, 0, 0, 0, 0, 0, 0, 0, 0, 0, 0, 0, 0, 0, 0, 0, 0, 0, 0, 0, 0, 0, 0, 0, 0, 0, 0, 0, 0, 0, 0, 0, 0, 0, 0, 0, 0, 0, 0, 0, 0, 0, 0, 0, 0, 0, 0, 0, 0, 0, 0, 0, 0, 0, 0, 0, 0, 0, 0, 0, 0, 0, 0, 1, 0, 0, 0, 0, 0, 0, 0, 0, 0, 0, 0, 0, 0, 0, 0, 0, 0, 0, 0, 0, 0, 0, 0, 0, 0, 0, 0, 0, 0, 0, 0, 0, 0, 0, 0, 0]\n",
      "[1 0 1 0 0 1 0 1] [0, 0, 0, 0, 0, 0, 0, 0, 0, 0, 0, 0, 0, 0, 0, 0, 0, 0, 0, 0, 0, 0, 0, 0, 0, 0, 0, 0, 0, 0, 0, 0, 0, 0, 0, 0, 0, 0, 0, 0, 0, 0, 0, 0, 0, 0, 0, 0, 0, 0, 0, 0, 0, 0, 0, 0, 0, 0, 0, 0, 0, 0, 0, 0, 0, 0, 0, 0, 0, 0, 0, 0, 0, 0, 0, 0, 0, 0, 0, 1, 0, 0, 0, 0, 0, 0, 0, 0, 0, 0, 0, 0, 0, 0, 0, 0, 0, 0, 0, 0, 0, 0, 0, 0, 0, 0, 0, 0, 0, 0, 0, 0, 0, 0, 0, 0, 0, 0, 0, 0, 0, 0, 0, 0, 0, 0, 0, 0]\n",
      "[1 0 0 1 1 0 1 0] [0, 0, 0, 0, 0, 0, 0, 0, 0, 0, 0, 0, 0, 0, 0, 0, 0, 0, 0, 0, 0, 0, 0, 0, 0, 0, 0, 0, 0, 0, 0, 0, 0, 0, 0, 0, 0, 0, 0, 0, 0, 0, 0, 0, 0, 0, 0, 0, 0, 0, 0, 0, 0, 0, 0, 0, 0, 0, 0, 0, 0, 0, 0, 0, 0, 0, 0, 0, 0, 0, 0, 0, 0, 0, 0, 0, 0, 0, 0, 0, 0, 0, 0, 0, 0, 0, 0, 0, 0, 0, 0, 0, 0, 0, 0, 0, 0, 0, 0, 1, 0, 0, 0, 0, 0, 0, 0, 0, 0, 0, 0, 0, 0, 0, 0, 0, 0, 0, 0, 0, 0, 0, 0, 0, 0, 0, 0, 0]\n",
      "[1 0 0 1 1 0 0 1] [0, 0, 0, 0, 0, 0, 0, 0, 0, 0, 0, 0, 0, 0, 0, 0, 0, 0, 0, 0, 0, 0, 0, 0, 0, 0, 0, 0, 0, 0, 0, 0, 0, 0, 0, 0, 0, 0, 0, 0, 0, 0, 0, 0, 0, 0, 0, 0, 0, 0, 0, 0, 0, 0, 0, 0, 0, 0, 0, 0, 0, 0, 0, 0, 0, 0, 0, 0, 0, 0, 0, 0, 0, 0, 0, 0, 0, 0, 0, 0, 0, 0, 0, 0, 0, 0, 0, 0, 0, 0, 0, 0, 0, 0, 0, 0, 0, 0, 0, 0, 0, 0, 0, 0, 0, 0, 0, 0, 0, 1, 0, 0, 0, 0, 0, 0, 0, 0, 0, 0, 0, 0, 0, 0, 0, 0, 0, 0]\n",
      "[1 0 0 1 0 1 1 0] [0, 0, 0, 0, 0, 0, 0, 0, 0, 0, 0, 0, 0, 0, 0, 0, 0, 0, 0, 0, 0, 0, 0, 0, 0, 0, 0, 0, 0, 0, 0, 0, 0, 0, 0, 0, 0, 0, 0, 0, 0, 0, 0, 0, 0, 0, 0, 0, 0, 0, 0, 0, 0, 0, 0, 0, 0, 0, 0, 0, 0, 0, 0, 0, 0, 0, 0, 0, 0, 0, 0, 0, 0, 0, 0, 0, 0, 0, 0, 0, 0, 0, 0, 0, 0, 0, 0, 0, 0, 0, 0, 0, 0, 0, 0, 0, 0, 0, 0, 0, 0, 0, 0, 0, 0, 0, 0, 0, 0, 0, 0, 0, 0, 0, 0, 0, 0, 0, 0, 0, 0, 0, 0, 0, 0, 1, 0, 0]\n",
      "[1 0 0 1 0 1 0 1] [0, 0, 0, 0, 0, 0, 0, 1, 0, 0, 0, 0, 0, 0, 0, 0, 0, 0, 0, 0, 0, 0, 0, 0, 0, 0, 0, 0, 0, 0, 0, 0, 0, 0, 0, 0, 0, 0, 0, 0, 0, 0, 0, 0, 0, 0, 0, 0, 0, 0, 0, 0, 0, 0, 0, 0, 0, 0, 0, 0, 0, 0, 0, 0, 0, 0, 0, 0, 0, 0, 0, 0, 0, 0, 0, 0, 0, 0, 0, 0, 0, 0, 0, 0, 0, 0, 0, 0, 0, 0, 0, 0, 0, 0, 0, 0, 0, 0, 0, 0, 0, 0, 0, 0, 0, 0, 0, 0, 0, 0, 0, 0, 0, 0, 0, 0, 0, 0, 0, 0, 0, 0, 0, 0, 0, 0, 0, 0]\n",
      "[0 1 1 0 1 0 1 0] [0, 0, 0, 0, 0, 0, 0, 0, 0, 0, 0, 0, 0, 0, 0, 0, 0, 0, 0, 0, 0, 0, 0, 0, 0, 0, 0, 0, 0, 0, 0, 0, 0, 0, 0, 0, 0, 0, 0, 0, 0, 0, 0, 0, 0, 0, 0, 0, 0, 0, 0, 0, 0, 0, 0, 0, 0, 0, 0, 0, 0, 0, 0, 0, 0, 0, 0, 0, 0, 0, 0, 0, 0, 0, 0, 0, 0, 0, 0, 0, 0, 0, 0, 0, 0, 0, 0, 0, 0, 0, 0, 0, 0, 0, 0, 0, 0, 0, 0, 0, 0, 0, 0, 0, 0, 0, 0, 0, 0, 0, 0, 0, 0, 0, 0, 0, 0, 0, 0, 0, 0, 0, 0, 0, 0, 0, 0, 1]\n",
      "[0 1 1 0 1 0 0 1] [0, 0, 0, 0, 0, 0, 0, 0, 0, 0, 0, 0, 0, 0, 0, 0, 0, 0, 0, 0, 0, 0, 0, 0, 0, 0, 0, 0, 0, 0, 0, 0, 0, 0, 0, 0, 0, 0, 0, 0, 0, 0, 0, 0, 0, 0, 0, 0, 0, 0, 0, 0, 0, 0, 0, 0, 0, 0, 0, 0, 0, 0, 0, 0, 0, 0, 0, 0, 0, 0, 0, 0, 0, 0, 0, 0, 0, 0, 0, 0, 0, 0, 0, 0, 0, 0, 0, 0, 0, 0, 0, 0, 0, 0, 0, 0, 0, 0, 0, 0, 0, 0, 0, 0, 0, 0, 0, 0, 0, 0, 0, 1, 0, 0, 0, 0, 0, 0, 0, 0, 0, 0, 0, 0, 0, 0, 0, 0]\n",
      "[0 1 1 0 0 1 1 0] [0, 0, 0, 0, 0, 0, 0, 0, 0, 0, 0, 0, 0, 0, 0, 0, 0, 0, 0, 0, 0, 0, 0, 0, 0, 0, 0, 0, 0, 0, 0, 0, 0, 0, 0, 0, 0, 0, 0, 0, 0, 0, 0, 0, 0, 0, 0, 0, 0, 0, 0, 0, 0, 0, 0, 0, 0, 0, 0, 0, 0, 0, 0, 0, 0, 0, 0, 0, 0, 0, 0, 0, 0, 0, 0, 0, 0, 0, 0, 0, 0, 0, 0, 0, 0, 0, 0, 0, 0, 0, 0, 0, 0, 0, 0, 0, 0, 0, 0, 0, 0, 0, 0, 0, 0, 0, 0, 0, 0, 0, 0, 0, 0, 0, 0, 0, 0, 0, 0, 1, 0, 0, 0, 0, 0, 0, 0, 0]\n",
      "[0 1 1 0 0 1 0 1] [0, 0, 0, 0, 0, 0, 0, 0, 0, 0, 0, 0, 0, 0, 0, 0, 0, 0, 0, 0, 0, 0, 0, 0, 0, 0, 0, 0, 0, 0, 0, 0, 0, 0, 0, 0, 0, 0, 0, 0, 0, 0, 0, 0, 0, 0, 0, 0, 0, 0, 0, 0, 0, 0, 0, 0, 0, 0, 0, 0, 0, 0, 0, 0, 0, 0, 0, 0, 0, 0, 0, 0, 0, 0, 0, 0, 0, 0, 0, 0, 0, 0, 0, 0, 0, 0, 0, 0, 0, 0, 0, 0, 0, 0, 0, 0, 0, 0, 0, 0, 0, 0, 0, 0, 0, 0, 0, 0, 0, 0, 0, 0, 0, 0, 0, 0, 0, 0, 0, 0, 0, 0, 0, 0, 1, 0, 0, 0]\n",
      "[0 1 0 1 1 0 1 0] [0, 0, 0, 0, 0, 0, 0, 0, 0, 0, 0, 0, 0, 0, 0, 0, 0, 0, 0, 0, 0, 0, 0, 0, 0, 0, 0, 0, 0, 0, 0, 0, 0, 0, 0, 0, 0, 0, 0, 0, 0, 0, 0, 0, 0, 0, 0, 0, 0, 0, 0, 0, 0, 0, 0, 0, 0, 1, 0, 0, 0, 0, 0, 0, 0, 0, 0, 0, 0, 0, 0, 0, 0, 0, 0, 0, 0, 0, 0, 0, 0, 0, 0, 0, 0, 0, 0, 0, 0, 0, 0, 0, 0, 0, 0, 0, 0, 0, 0, 0, 0, 0, 0, 0, 0, 0, 0, 0, 0, 0, 0, 0, 0, 0, 0, 0, 0, 0, 0, 0, 0, 0, 0, 0, 0, 0, 0, 0]\n",
      "[0 1 0 1 1 0 0 1] [0, 0, 0, 0, 0, 0, 0, 0, 0, 0, 0, 0, 0, 0, 0, 0, 0, 0, 0, 0, 0, 0, 0, 0, 0, 0, 0, 0, 0, 0, 0, 0, 0, 0, 0, 0, 0, 0, 0, 0, 0, 0, 0, 0, 0, 0, 0, 0, 0, 0, 0, 0, 0, 0, 0, 0, 0, 0, 0, 0, 0, 0, 0, 0, 0, 0, 0, 0, 0, 0, 0, 0, 0, 0, 0, 0, 0, 0, 0, 0, 0, 0, 0, 0, 0, 0, 0, 0, 0, 0, 0, 0, 0, 0, 1, 0, 0, 0, 0, 0, 0, 0, 0, 0, 0, 0, 0, 0, 0, 0, 0, 0, 0, 0, 0, 0, 0, 0, 0, 0, 0, 0, 0, 0, 0, 0, 0, 0]\n",
      "[0 1 0 1 0 1 1 0] [0, 0, 0, 0, 0, 0, 0, 0, 0, 0, 0, 0, 0, 0, 0, 0, 0, 0, 0, 0, 0, 0, 0, 0, 0, 0, 0, 0, 0, 0, 0, 0, 0, 0, 0, 0, 0, 0, 0, 0, 0, 0, 0, 0, 0, 0, 0, 0, 0, 0, 0, 0, 0, 0, 0, 0, 0, 0, 0, 0, 0, 0, 0, 0, 0, 0, 0, 0, 0, 0, 0, 0, 0, 0, 0, 0, 0, 0, 0, 0, 0, 0, 0, 0, 0, 0, 0, 0, 0, 0, 0, 0, 0, 0, 0, 0, 0, 0, 0, 0, 0, 0, 0, 0, 0, 0, 0, 0, 0, 0, 0, 0, 0, 0, 0, 0, 0, 0, 0, 0, 0, 1, 0, 0, 0, 0, 0, 0]\n",
      "[0 1 0 1 0 1 0 1] [0, 0, 0, 0, 0, 0, 0, 0, 0, 0, 0, 0, 0, 0, 0, 0, 0, 0, 0, 0, 0, 0, 0, 0, 0, 0, 0, 0, 0, 0, 0, 0, 0, 0, 0, 0, 0, 0, 0, 0, 0, 0, 0, 0, 0, 0, 0, 0, 0, 0, 0, 0, 0, 0, 0, 0, 0, 0, 0, 0, 0, 0, 0, 0, 0, 0, 0, 0, 0, 0, 0, 0, 0, 0, 0, 0, 0, 0, 0, 0, 0, 0, 0, 0, 0, 0, 0, 0, 0, 0, 0, 0, 0, 0, 0, 0, 0, 0, 0, 0, 0, 0, 0, 0, 0, 0, 0, 0, 0, 0, 0, 0, 0, 1, 0, 0, 0, 0, 0, 0, 0, 0, 0, 0, 0, 0, 0, 0]\n"
     ]
    }
   ],
   "source": [
    "import itertools\n",
    "\n",
    "# Usando produto cartesiano\n",
    "combinacoes = list(itertools.product([0, 1], repeat=4))\n",
    "\n",
    "for comb in combinacoes:\n",
    "\t# Converte cada bit da combinação para um vetor binário e achata em uma única dimensão\n",
    "\tvalores = np.array([decimal_para_binario_vetor(bit, 1) for bit in comb]).flatten()\n",
    "\tprint(valores,[f(*valores) for f in funcoes])"
   ]
  }
 ],
 "metadata": {
  "kernelspec": {
   "display_name": "base",
   "language": "python",
   "name": "python3"
  },
  "language_info": {
   "codemirror_mode": {
    "name": "ipython",
    "version": 3
   },
   "file_extension": ".py",
   "mimetype": "text/x-python",
   "name": "python",
   "nbconvert_exporter": "python",
   "pygments_lexer": "ipython3",
   "version": "3.11.8"
  }
 },
 "nbformat": 4,
 "nbformat_minor": 2
}
