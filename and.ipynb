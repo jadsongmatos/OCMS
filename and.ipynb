{
 "cells": [
  {
   "cell_type": "code",
   "execution_count": 2,
   "metadata": {},
   "outputs": [],
   "source": [
    "import numpy as np\n",
    "import sympy as sp"
   ]
  },
  {
   "cell_type": "code",
   "execution_count": 3,
   "metadata": {},
   "outputs": [],
   "source": [
    "def criar_vetor_de_simbolos(tamanho):\n",
    "    \"\"\"\n",
    "    Cria um vetor (lista) de símbolos SymPy com o tamanho especificado.\n",
    "\n",
    "    Parameters:\n",
    "    tamanho (int): O número de símbolos a serem criados.\n",
    "\n",
    "    Returns:\n",
    "    list: Lista contendo os símbolos criados.\n",
    "    \"\"\"\n",
    "    # Cria os símbolos usando sp.symbols\n",
    "    return sp.symbols(f'x1:{tamanho+1}')"
   ]
  },
  {
   "cell_type": "code",
   "execution_count": 4,
   "metadata": {},
   "outputs": [
    {
     "data": {
      "text/latex": [
       "$\\displaystyle \\left[\\begin{matrix}x_{1} & x_{2}\\\\x_{3} & x_{4}\\end{matrix}\\right]$"
      ],
      "text/plain": [
       "Matrix([\n",
       "[x1, x2],\n",
       "[x3, x4]])"
      ]
     },
     "execution_count": 4,
     "metadata": {},
     "output_type": "execute_result"
    }
   ],
   "source": [
    "sp.Matrix(np.array_split(criar_vetor_de_simbolos(4), 2))"
   ]
  },
  {
   "cell_type": "code",
   "execution_count": 5,
   "metadata": {},
   "outputs": [],
   "source": [
    "# Função para calcular o produto Kronecker considerando binário exclusivo\n",
    "def kronecker_binary(vectors):\n",
    "    result = np.array([1])  # Inicia com o elemento neutro da multiplicação\n",
    "    for v in vectors:\n",
    "        result = np.kron(result, v)\n",
    "    return result"
   ]
  },
  {
   "cell_type": "code",
   "execution_count": 6,
   "metadata": {},
   "outputs": [
    {
     "data": {
      "text/plain": [
       "array([0, 1, 0, 0])"
      ]
     },
     "execution_count": 6,
     "metadata": {},
     "output_type": "execute_result"
    }
   ],
   "source": [
    "kronecker_binary([[1,0],[0,1]])"
   ]
  },
  {
   "cell_type": "code",
   "execution_count": 7,
   "metadata": {},
   "outputs": [
    {
     "data": {
      "text/latex": [
       "$\\displaystyle \\left[\\begin{matrix}x_{1} x_{3} x_{5}\\\\x_{1} x_{3} x_{6}\\\\x_{1} x_{4} x_{5}\\\\x_{1} x_{4} x_{6}\\\\x_{2} x_{3} x_{5}\\\\x_{2} x_{3} x_{6}\\\\x_{2} x_{4} x_{5}\\\\x_{2} x_{4} x_{6}\\end{matrix}\\right]$"
      ],
      "text/plain": [
       "Matrix([\n",
       "[x1*x3*x5],\n",
       "[x1*x3*x6],\n",
       "[x1*x4*x5],\n",
       "[x1*x4*x6],\n",
       "[x2*x3*x5],\n",
       "[x2*x3*x6],\n",
       "[x2*x4*x5],\n",
       "[x2*x4*x6]])"
      ]
     },
     "execution_count": 7,
     "metadata": {},
     "output_type": "execute_result"
    }
   ],
   "source": [
    "bits = 3\n",
    "variaveis = sp.Matrix(kronecker_binary(np.array_split(criar_vetor_de_simbolos(bits*2), bits)))\n",
    "variaveis"
   ]
  },
  {
   "cell_type": "code",
   "execution_count": 8,
   "metadata": {},
   "outputs": [
    {
     "name": "stdout",
     "output_type": "stream",
     "text": [
      "Linha 0: x1*x3*x5\n",
      "Linha 1: x1*x3*x6\n",
      "Linha 2: x1*x4*x5\n",
      "Linha 3: x1*x4*x6\n",
      "Linha 4: x2*x3*x5\n",
      "Linha 5: x2*x3*x6\n",
      "Linha 6: x2*x4*x5\n",
      "Linha 7: x2*x4*x6\n"
     ]
    }
   ],
   "source": [
    "# Iterando pelo vetor com o índice e o valor\n",
    "for linha, elemento in enumerate(variaveis):\n",
    "    print(f\"Linha {linha}: {elemento}\")"
   ]
  },
  {
   "cell_type": "code",
   "execution_count": 9,
   "metadata": {},
   "outputs": [],
   "source": [
    "def decimal_para_binario_vetor(numero_decimal, tamanho_bits=8):\n",
    "    \"\"\"\n",
    "    Converte um número decimal para um vetor binário usando produtos de Kronecker.\n",
    "\n",
    "    Args:\n",
    "        numero_decimal (int): Número decimal a ser convertido.\n",
    "        tamanho_bits (int, opcional): Número de bits para representar o número binário. Padrão é 8.\n",
    "\n",
    "    Returns:\n",
    "        np.ndarray: Vetor resultante da conversão.\n",
    "    \n",
    "    Raises:\n",
    "        ValueError: Se o número decimal for negativo ou se o tamanho de bits for insuficiente.\n",
    "    \"\"\"\n",
    "    # Mapeamento dos caracteres binários para os vetores desejados\n",
    "    mapeamento = {'0': [1, 0], '1': [0, 1]}\n",
    "\n",
    "    # Verifica se o número é um inteiro não negativo\n",
    "    if not isinstance(numero_decimal, int):\n",
    "        raise TypeError(\"O número decimal deve ser um inteiro.\")\n",
    "    if numero_decimal < 0:\n",
    "        raise ValueError(\"A função não suporta números decimais negativos.\")\n",
    "\n",
    "    # Converter o número decimal para binário e remover o prefixo '0b'\n",
    "    numero_binario = bin(numero_decimal)[2:]\n",
    "\n",
    "    # Verifica se o número binário cabe no tamanho de bits desejado\n",
    "    if len(numero_binario) > tamanho_bits:\n",
    "        raise ValueError(f\"O número binário '{numero_binario}' excede o tamanho de bits especificado ({tamanho_bits} bits).\")\n",
    "\n",
    "    # Adiciona zeros à esquerda para completar o tamanho de bits desejado\n",
    "    numero_binario = numero_binario.zfill(tamanho_bits)\n",
    "\n",
    "    # Inicializa o vetor com 1 para o produto de Kronecker\n",
    "    vetor = np.array([1])\n",
    "    \n",
    "    # Aplica o produto de Kronecker para cada dígito binário\n",
    "    for digito in numero_binario:\n",
    "        vetor = np.kron(vetor, mapeamento[digito])\n",
    "\n",
    "    return vetor"
   ]
  },
  {
   "cell_type": "code",
   "execution_count": 10,
   "metadata": {},
   "outputs": [
    {
     "data": {
      "text/latex": [
       "$\\displaystyle \\left[\\begin{matrix}1 & 1 & 1 & 1 & 1 & 1 & 1 & 0\\\\0 & 0 & 0 & 0 & 0 & 0 & 0 & 1\\end{matrix}\\right]$"
      ],
      "text/plain": [
       "Matrix([\n",
       "[1, 1, 1, 1, 1, 1, 1, 0],\n",
       "[0, 0, 0, 0, 0, 0, 0, 1]])"
      ]
     },
     "execution_count": 10,
     "metadata": {},
     "output_type": "execute_result"
    }
   ],
   "source": [
    "vetor_dec = [\n",
    "\t0,\n",
    "\t0,\n",
    "\t0,\n",
    "\t0,\n",
    "\t0,\n",
    "\t0,\n",
    "\t0,\n",
    "\t1,\n",
    "]\n",
    "\n",
    "vetores_binarios = []\n",
    "tamanho_bits = 1\n",
    "\n",
    "for numero in vetor_dec:\n",
    "    try:\n",
    "        vetor = decimal_para_binario_vetor(int(numero), tamanho_bits)\n",
    "        vetores_binarios.append(vetor)\n",
    "    except (TypeError, ValueError) as e:\n",
    "        print(f\"Erro ao converter o número {numero}: {e}\")\n",
    "\n",
    "vetores_binarios = np.array(vetores_binarios).T\n",
    "sp.Matrix(vetores_binarios)"
   ]
  },
  {
   "cell_type": "code",
   "execution_count": 11,
   "metadata": {},
   "outputs": [
    {
     "data": {
      "text/plain": [
       "array([[0],\n",
       "       [0],\n",
       "       [0],\n",
       "       [0],\n",
       "       [0],\n",
       "       [0],\n",
       "       [0],\n",
       "       [1]])"
      ]
     },
     "execution_count": 11,
     "metadata": {},
     "output_type": "execute_result"
    }
   ],
   "source": [
    "vetor_dec = np.array(vetor_dec).reshape(-1, 1)\n",
    "vetor_dec"
   ]
  },
  {
   "cell_type": "code",
   "execution_count": 12,
   "metadata": {},
   "outputs": [
    {
     "data": {
      "text/latex": [
       "$\\displaystyle \\left[\\begin{matrix}1 & 1 & 1 & 1 & 1 & 1 & 1 & 0\\\\0 & 0 & 0 & 0 & 0 & 0 & 0 & 1\\end{matrix}\\right]$"
      ],
      "text/plain": [
       "Matrix([\n",
       "[1, 1, 1, 1, 1, 1, 1, 0],\n",
       "[0, 0, 0, 0, 0, 0, 0, 1]])"
      ]
     },
     "execution_count": 12,
     "metadata": {},
     "output_type": "execute_result"
    }
   ],
   "source": [
    "vetores_binarios = []\n",
    "\n",
    "for comb in vetor_dec:\n",
    "\tvetor = kronecker_binary(np.array([decimal_para_binario_vetor(int(bit), 1) for bit in comb]))\n",
    "\tvetores_binarios.append(vetor)\n",
    "\n",
    "vetores_binarios = np.array(vetores_binarios).T\n",
    "sp.Matrix(vetores_binarios)"
   ]
  },
  {
   "cell_type": "code",
   "execution_count": 13,
   "metadata": {},
   "outputs": [
    {
     "data": {
      "text/latex": [
       "$\\displaystyle \\left[\\begin{matrix}x_{1} x_{3} x_{5} + x_{1} x_{3} x_{6} + x_{1} x_{4} x_{5} + x_{1} x_{4} x_{6} + x_{2} x_{3} x_{5} + x_{2} x_{3} x_{6} + x_{2} x_{4} x_{5}\\\\x_{2} x_{4} x_{6}\\end{matrix}\\right]$"
      ],
      "text/plain": [
       "Matrix([\n",
       "[x1*x3*x5 + x1*x3*x6 + x1*x4*x5 + x1*x4*x6 + x2*x3*x5 + x2*x3*x6 + x2*x4*x5],\n",
       "[                                                                  x2*x4*x6]])"
      ]
     },
     "execution_count": 13,
     "metadata": {},
     "output_type": "execute_result"
    }
   ],
   "source": [
    "regra = sp.Matrix(np.dot(vetores_binarios, variaveis)) # expressões simbólicas\n",
    "regra"
   ]
  },
  {
   "cell_type": "code",
   "execution_count": 14,
   "metadata": {},
   "outputs": [],
   "source": [
    "def criar_substituicoes(bits):\n",
    "    simbolos = criar_vetor_de_simbolos(bits * 2)\n",
    "    substituicoes = {simbolos[i+1]: 1-simbolos[i] for i in range(0, len(simbolos), 2)}\n",
    "    return substituicoes"
   ]
  },
  {
   "cell_type": "code",
   "execution_count": 15,
   "metadata": {},
   "outputs": [
    {
     "data": {
      "text/plain": [
       "{x2: 1 - x1, x4: 1 - x3, x6: 1 - x5}"
      ]
     },
     "execution_count": 15,
     "metadata": {},
     "output_type": "execute_result"
    }
   ],
   "source": [
    "substituicoes = criar_substituicoes(3)\n",
    "substituicoes"
   ]
  },
  {
   "cell_type": "code",
   "execution_count": 37,
   "metadata": {},
   "outputs": [
    {
     "data": {
      "text/latex": [
       "$\\displaystyle \\left[\\begin{matrix}x_{1} x_{3} x_{5} - x_{1} x_{3} - x_{1} x_{5} + x_{1} - x_{3} x_{5} + x_{3} + x_{5}\\\\- \\left(x_{1} - 1\\right) \\left(x_{3} - 1\\right) \\left(x_{5} - 1\\right)\\end{matrix}\\right]$"
      ],
      "text/plain": [
       "Matrix([\n",
       "[x1*x3*x5 - x1*x3 - x1*x5 + x1 - x3*x5 + x3 + x5],\n",
       "[                    -(x1 - 1)*(x3 - 1)*(x5 - 1)]])"
      ]
     },
     "execution_count": 37,
     "metadata": {},
     "output_type": "execute_result"
    }
   ],
   "source": [
    "f = sp.simplify(regra.subs(substituicoes))\n",
    "f"
   ]
  },
  {
   "cell_type": "code",
   "execution_count": 26,
   "metadata": {},
   "outputs": [
    {
     "data": {
      "text/plain": [
       "{x1, x3, x5}"
      ]
     },
     "execution_count": 26,
     "metadata": {},
     "output_type": "execute_result"
    }
   ],
   "source": [
    "variaveis[0].free_symbols"
   ]
  },
  {
   "cell_type": "code",
   "execution_count": 41,
   "metadata": {},
   "outputs": [
    {
     "data": {
      "text/plain": [
       "{x1, x3, x5}"
      ]
     },
     "execution_count": 41,
     "metadata": {},
     "output_type": "execute_result"
    }
   ],
   "source": [
    "f[0].free_symbols"
   ]
  },
  {
   "cell_type": "code",
   "execution_count": 40,
   "metadata": {},
   "outputs": [
    {
     "data": {
      "text/plain": [
       "[(0, 0, 0),\n",
       " (0, 0, 1),\n",
       " (0, 1, 0),\n",
       " (0, 1, 1),\n",
       " (1, 0, 0),\n",
       " (1, 0, 1),\n",
       " (1, 1, 0),\n",
       " (1, 1, 1)]"
      ]
     },
     "execution_count": 40,
     "metadata": {},
     "output_type": "execute_result"
    }
   ],
   "source": [
    "from itertools import product\n",
    "\n",
    "# Passo 3: Gerar todas as combinações de 0 e 1 para as 3 variáveis\n",
    "entradas = list(product([0, 1], repeat=3))\n",
    "entradas"
   ]
  },
  {
   "cell_type": "code",
   "execution_count": 49,
   "metadata": {},
   "outputs": [
    {
     "data": {
      "text/plain": [
       "'x5, x1, x3'"
      ]
     },
     "execution_count": 49,
     "metadata": {},
     "output_type": "execute_result"
    }
   ],
   "source": [
    "\", \".join(str(s) for s in f[0].free_symbols)"
   ]
  },
  {
   "cell_type": "code",
   "execution_count": 53,
   "metadata": {},
   "outputs": [
    {
     "name": "stdout",
     "output_type": "stream",
     "text": [
      "F1(x1, x3, x5) = x1*x3*x5 - x1*x3 - x1*x5 + x1 - x3*x5 + x3 + x5\n",
      "-------------------------\n",
      "0  0  0  |    0\n",
      "0  0  1  |    1\n",
      "0  1  0  |    1\n",
      "0  1  1  |    1\n",
      "1  0  0  |    1\n",
      "1  0  1  |    1\n",
      "1  1  0  |    1\n",
      "1  1  1  |    1\n",
      "F2(x1, x3, x5) = -(x1 - 1)*(x3 - 1)*(x5 - 1)\n",
      "-------------------------\n",
      "0  0  0  |    1\n",
      "0  0  1  |    0\n",
      "0  1  0  |    0\n",
      "0  1  1  |    0\n",
      "1  0  0  |    0\n",
      "1  0  1  |    0\n",
      "1  1  0  |    0\n",
      "1  1  1  |    0\n"
     ]
    }
   ],
   "source": [
    "for i, e in enumerate(f):\n",
    "    variaveis_ordenadas = sorted(e.free_symbols, key=lambda s: s.name)\n",
    "    print(f\"F{i+1}({\", \".join(str(s) for s in variaveis_ordenadas)}) = {e}\")\n",
    "    print(\"-------------------------\")\n",
    "    for vals in entradas:\n",
    "        valor = e.subs({var: vals[i] for i, var in enumerate(variaveis_ordenadas)})\n",
    "        print(f\"{vals[0]}  {vals[1]}  {vals[2]}  |    {valor}\")"
   ]
  },
  {
   "cell_type": "code",
   "execution_count": null,
   "metadata": {},
   "outputs": [
    {
     "name": "stdout",
     "output_type": "stream",
     "text": [
      "x1 x3 x5 | f(x1, x3, x5)\n",
      "-------------------------\n",
      "0  0  0  |    0\n",
      "0  0  1  |    1\n",
      "0  1  0  |    1\n",
      "0  1  1  |    1\n",
      "1  0  0  |    1\n",
      "1  0  1  |    1\n",
      "1  1  0  |    1\n",
      "1  1  1  |    1\n"
     ]
    }
   ],
   "source": [
    "x1, x3, x5 = sp.symbols('x1 x3 x5')\n",
    "\n",
    "print(\"x1 x3 x5 | f(x1, x3, x5)\")\n",
    "print(\"-------------------------\")\n",
    "for vals in entradas:\n",
    "    valor = f[0].subs({x1: vals[0], x3: vals[1], x5: vals[2]})\n",
    "    valor = int(valor)  # Garante que o valor seja 0 ou 1\n",
    "    print(f\"{vals[0]}  {vals[1]}  {vals[2]}  |    {valor}\")"
   ]
  },
  {
   "cell_type": "code",
   "execution_count": 13,
   "metadata": {},
   "outputs": [
    {
     "name": "stdout",
     "output_type": "stream",
     "text": [
      "Linha 0: x1*x3*x5 + x1*x3*x6 + x1*x4*x5 + x1*x4*x6 + x2*x3*x5 + x2*x3*x6 + x2*x4*x5\n",
      "Linha 1: x2*x4*x6\n"
     ]
    }
   ],
   "source": [
    "# Iterando pelo vetor com o índice e o valor\n",
    "for linha, elemento in enumerate(regra):\n",
    "    print(f\"Linha {linha}: {elemento}\")"
   ]
  },
  {
   "cell_type": "code",
   "execution_count": 14,
   "metadata": {},
   "outputs": [
    {
     "data": {
      "text/plain": [
       "[]"
      ]
     },
     "execution_count": 14,
     "metadata": {},
     "output_type": "execute_result"
    }
   ],
   "source": [
    "lista = regra.tolist()[0]\n",
    "list(set([x for x in lista if lista.count(x) > 1]))"
   ]
  },
  {
   "cell_type": "code",
   "execution_count": 15,
   "metadata": {},
   "outputs": [
    {
     "ename": "ValueError",
     "evalue": "shapes (2,8) and (16,) not aligned: 8 (dim 1) != 16 (dim 0)",
     "output_type": "error",
     "traceback": [
      "\u001b[0;31m---------------------------------------------------------------------------\u001b[0m",
      "\u001b[0;31mValueError\u001b[0m                                Traceback (most recent call last)",
      "Cell \u001b[0;32mIn[15], line 1\u001b[0m\n\u001b[0;32m----> 1\u001b[0m np\u001b[38;5;241m.\u001b[39mdot(vetores_binarios, decimal_para_binario_vetor(\u001b[38;5;241m2\u001b[39m, \u001b[38;5;241m4\u001b[39m))\n",
      "\u001b[0;31mValueError\u001b[0m: shapes (2,8) and (16,) not aligned: 8 (dim 1) != 16 (dim 0)"
     ]
    }
   ],
   "source": [
    "np.dot(vetores_binarios, decimal_para_binario_vetor(2, 4))"
   ]
  },
  {
   "cell_type": "code",
   "execution_count": null,
   "metadata": {},
   "outputs": [],
   "source": [
    "from sympy.utilities.lambdify import lambdastr\n",
    "\n",
    "#  Lista para armazenar as funções\n",
    "funcoes = []\n",
    "\n",
    "# Variáveis que as funções irão receber\n",
    "variaveis = criar_vetor_de_simbolos(bits*2)\n",
    "\n",
    "# Iterar sobre cada elemento do vetor simbólico e criar uma função\n",
    "for expr in regra:\n",
    "    func = sp.lambdify(variaveis, expr)\n",
    "    funcoes.append(func)\n"
   ]
  },
  {
   "cell_type": "code",
   "execution_count": null,
   "metadata": {},
   "outputs": [
    {
     "name": "stdout",
     "output_type": "stream",
     "text": [
      "lambda x1,x2,x3,x4,x5,x6,x7,x8: (0)\n",
      "lambda x1,x2,x3,x4,x5,x6,x7,x8: (0)\n",
      "lambda x1,x2,x3,x4,x5,x6,x7,x8: (0)\n",
      "lambda x1,x2,x3,x4,x5,x6,x7,x8: (0)\n",
      "lambda x1,x2,x3,x4,x5,x6,x7,x8: (0)\n",
      "lambda x1,x2,x3,x4,x5,x6,x7,x8: (0)\n",
      "lambda x1,x2,x3,x4,x5,x6,x7,x8: (x1*x3*x5*x8)\n",
      "lambda x1,x2,x3,x4,x5,x6,x7,x8: (x1*x4*x6*x8)\n",
      "lambda x1,x2,x3,x4,x5,x6,x7,x8: (0)\n",
      "lambda x1,x2,x3,x4,x5,x6,x7,x8: (0)\n",
      "lambda x1,x2,x3,x4,x5,x6,x7,x8: (0)\n",
      "lambda x1,x2,x3,x4,x5,x6,x7,x8: (0)\n",
      "lambda x1,x2,x3,x4,x5,x6,x7,x8: (0)\n",
      "lambda x1,x2,x3,x4,x5,x6,x7,x8: (0)\n",
      "lambda x1,x2,x3,x4,x5,x6,x7,x8: (0)\n",
      "lambda x1,x2,x3,x4,x5,x6,x7,x8: (0)\n",
      "lambda x1,x2,x3,x4,x5,x6,x7,x8: (0)\n",
      "lambda x1,x2,x3,x4,x5,x6,x7,x8: (0)\n",
      "lambda x1,x2,x3,x4,x5,x6,x7,x8: (0)\n",
      "lambda x1,x2,x3,x4,x5,x6,x7,x8: (0)\n",
      "lambda x1,x2,x3,x4,x5,x6,x7,x8: (0)\n",
      "lambda x1,x2,x3,x4,x5,x6,x7,x8: (0)\n",
      "lambda x1,x2,x3,x4,x5,x6,x7,x8: (0)\n",
      "lambda x1,x2,x3,x4,x5,x6,x7,x8: (0)\n",
      "lambda x1,x2,x3,x4,x5,x6,x7,x8: (0)\n",
      "lambda x1,x2,x3,x4,x5,x6,x7,x8: (0)\n",
      "lambda x1,x2,x3,x4,x5,x6,x7,x8: (0)\n",
      "lambda x1,x2,x3,x4,x5,x6,x7,x8: (0)\n",
      "lambda x1,x2,x3,x4,x5,x6,x7,x8: (0)\n",
      "lambda x1,x2,x3,x4,x5,x6,x7,x8: (0)\n",
      "lambda x1,x2,x3,x4,x5,x6,x7,x8: (0)\n",
      "lambda x1,x2,x3,x4,x5,x6,x7,x8: (0)\n",
      "lambda x1,x2,x3,x4,x5,x6,x7,x8: (0)\n",
      "lambda x1,x2,x3,x4,x5,x6,x7,x8: (0)\n",
      "lambda x1,x2,x3,x4,x5,x6,x7,x8: (0)\n",
      "lambda x1,x2,x3,x4,x5,x6,x7,x8: (0)\n",
      "lambda x1,x2,x3,x4,x5,x6,x7,x8: (0)\n",
      "lambda x1,x2,x3,x4,x5,x6,x7,x8: (0)\n",
      "lambda x1,x2,x3,x4,x5,x6,x7,x8: (0)\n",
      "lambda x1,x2,x3,x4,x5,x6,x7,x8: (0)\n",
      "lambda x1,x2,x3,x4,x5,x6,x7,x8: (0)\n",
      "lambda x1,x2,x3,x4,x5,x6,x7,x8: (0)\n",
      "lambda x1,x2,x3,x4,x5,x6,x7,x8: (0)\n",
      "lambda x1,x2,x3,x4,x5,x6,x7,x8: (0)\n",
      "lambda x1,x2,x3,x4,x5,x6,x7,x8: (0)\n",
      "lambda x1,x2,x3,x4,x5,x6,x7,x8: (0)\n",
      "lambda x1,x2,x3,x4,x5,x6,x7,x8: (0)\n",
      "lambda x1,x2,x3,x4,x5,x6,x7,x8: (0)\n",
      "lambda x1,x2,x3,x4,x5,x6,x7,x8: (0)\n",
      "lambda x1,x2,x3,x4,x5,x6,x7,x8: (0)\n",
      "lambda x1,x2,x3,x4,x5,x6,x7,x8: (0)\n",
      "lambda x1,x2,x3,x4,x5,x6,x7,x8: (0)\n",
      "lambda x1,x2,x3,x4,x5,x6,x7,x8: (0)\n",
      "lambda x1,x2,x3,x4,x5,x6,x7,x8: (0)\n",
      "lambda x1,x2,x3,x4,x5,x6,x7,x8: (0)\n",
      "lambda x1,x2,x3,x4,x5,x6,x7,x8: (0)\n",
      "lambda x1,x2,x3,x4,x5,x6,x7,x8: (0)\n",
      "lambda x1,x2,x3,x4,x5,x6,x7,x8: (x2*x4*x5*x7)\n",
      "lambda x1,x2,x3,x4,x5,x6,x7,x8: (0)\n",
      "lambda x1,x2,x3,x4,x5,x6,x7,x8: (0)\n",
      "lambda x1,x2,x3,x4,x5,x6,x7,x8: (0)\n",
      "lambda x1,x2,x3,x4,x5,x6,x7,x8: (0)\n",
      "lambda x1,x2,x3,x4,x5,x6,x7,x8: (0)\n",
      "lambda x1,x2,x3,x4,x5,x6,x7,x8: (x1*x3*x5*x7)\n",
      "lambda x1,x2,x3,x4,x5,x6,x7,x8: (0)\n",
      "lambda x1,x2,x3,x4,x5,x6,x7,x8: (0)\n",
      "lambda x1,x2,x3,x4,x5,x6,x7,x8: (0)\n",
      "lambda x1,x2,x3,x4,x5,x6,x7,x8: (0)\n",
      "lambda x1,x2,x3,x4,x5,x6,x7,x8: (0)\n",
      "lambda x1,x2,x3,x4,x5,x6,x7,x8: (0)\n",
      "lambda x1,x2,x3,x4,x5,x6,x7,x8: (0)\n",
      "lambda x1,x2,x3,x4,x5,x6,x7,x8: (0)\n",
      "lambda x1,x2,x3,x4,x5,x6,x7,x8: (0)\n",
      "lambda x1,x2,x3,x4,x5,x6,x7,x8: (0)\n",
      "lambda x1,x2,x3,x4,x5,x6,x7,x8: (0)\n",
      "lambda x1,x2,x3,x4,x5,x6,x7,x8: (0)\n",
      "lambda x1,x2,x3,x4,x5,x6,x7,x8: (0)\n",
      "lambda x1,x2,x3,x4,x5,x6,x7,x8: (0)\n",
      "lambda x1,x2,x3,x4,x5,x6,x7,x8: (0)\n",
      "lambda x1,x2,x3,x4,x5,x6,x7,x8: (x1*x3*x6*x8)\n",
      "lambda x1,x2,x3,x4,x5,x6,x7,x8: (0)\n",
      "lambda x1,x2,x3,x4,x5,x6,x7,x8: (0)\n",
      "lambda x1,x2,x3,x4,x5,x6,x7,x8: (0)\n",
      "lambda x1,x2,x3,x4,x5,x6,x7,x8: (0)\n",
      "lambda x1,x2,x3,x4,x5,x6,x7,x8: (0)\n",
      "lambda x1,x2,x3,x4,x5,x6,x7,x8: (0)\n",
      "lambda x1,x2,x3,x4,x5,x6,x7,x8: (0)\n",
      "lambda x1,x2,x3,x4,x5,x6,x7,x8: (0)\n",
      "lambda x1,x2,x3,x4,x5,x6,x7,x8: (0)\n",
      "lambda x1,x2,x3,x4,x5,x6,x7,x8: (0)\n",
      "lambda x1,x2,x3,x4,x5,x6,x7,x8: (0)\n",
      "lambda x1,x2,x3,x4,x5,x6,x7,x8: (x1*x3*x6*x7)\n",
      "lambda x1,x2,x3,x4,x5,x6,x7,x8: (0)\n",
      "lambda x1,x2,x3,x4,x5,x6,x7,x8: (0)\n",
      "lambda x1,x2,x3,x4,x5,x6,x7,x8: (x2*x4*x5*x8)\n",
      "lambda x1,x2,x3,x4,x5,x6,x7,x8: (0)\n",
      "lambda x1,x2,x3,x4,x5,x6,x7,x8: (0)\n",
      "lambda x1,x2,x3,x4,x5,x6,x7,x8: (0)\n",
      "lambda x1,x2,x3,x4,x5,x6,x7,x8: (0)\n",
      "lambda x1,x2,x3,x4,x5,x6,x7,x8: (x1*x4*x5*x7)\n",
      "lambda x1,x2,x3,x4,x5,x6,x7,x8: (0)\n",
      "lambda x1,x2,x3,x4,x5,x6,x7,x8: (0)\n",
      "lambda x1,x2,x3,x4,x5,x6,x7,x8: (0)\n",
      "lambda x1,x2,x3,x4,x5,x6,x7,x8: (0)\n",
      "lambda x1,x2,x3,x4,x5,x6,x7,x8: (0)\n",
      "lambda x1,x2,x3,x4,x5,x6,x7,x8: (0)\n",
      "lambda x1,x2,x3,x4,x5,x6,x7,x8: (0)\n",
      "lambda x1,x2,x3,x4,x5,x6,x7,x8: (0)\n",
      "lambda x1,x2,x3,x4,x5,x6,x7,x8: (0)\n",
      "lambda x1,x2,x3,x4,x5,x6,x7,x8: (x1*x4*x5*x8)\n",
      "lambda x1,x2,x3,x4,x5,x6,x7,x8: (0)\n",
      "lambda x1,x2,x3,x4,x5,x6,x7,x8: (x2*x3*x5*x8)\n",
      "lambda x1,x2,x3,x4,x5,x6,x7,x8: (0)\n",
      "lambda x1,x2,x3,x4,x5,x6,x7,x8: (x2*x4*x6*x8)\n",
      "lambda x1,x2,x3,x4,x5,x6,x7,x8: (0)\n",
      "lambda x1,x2,x3,x4,x5,x6,x7,x8: (0)\n",
      "lambda x1,x2,x3,x4,x5,x6,x7,x8: (0)\n",
      "lambda x1,x2,x3,x4,x5,x6,x7,x8: (0)\n",
      "lambda x1,x2,x3,x4,x5,x6,x7,x8: (0)\n",
      "lambda x1,x2,x3,x4,x5,x6,x7,x8: (x2*x3*x6*x7)\n",
      "lambda x1,x2,x3,x4,x5,x6,x7,x8: (0)\n",
      "lambda x1,x2,x3,x4,x5,x6,x7,x8: (x2*x4*x6*x7)\n",
      "lambda x1,x2,x3,x4,x5,x6,x7,x8: (0)\n",
      "lambda x1,x2,x3,x4,x5,x6,x7,x8: (0)\n",
      "lambda x1,x2,x3,x4,x5,x6,x7,x8: (x2*x3*x6*x8)\n",
      "lambda x1,x2,x3,x4,x5,x6,x7,x8: (x1*x4*x6*x7)\n",
      "lambda x1,x2,x3,x4,x5,x6,x7,x8: (0)\n",
      "lambda x1,x2,x3,x4,x5,x6,x7,x8: (x2*x3*x5*x7)\n"
     ]
    }
   ],
   "source": [
    "from sympy.utilities.lambdify import lambdastr\n",
    "\n",
    "# Variáveis que as funções irão receber\n",
    "variaveis = criar_vetor_de_simbolos(bits*2)\n",
    "\n",
    "for expr in regra:\n",
    "    print(lambdastr(variaveis, expr))"
   ]
  },
  {
   "cell_type": "code",
   "execution_count": null,
   "metadata": {},
   "outputs": [
    {
     "name": "stdout",
     "output_type": "stream",
     "text": [
      "[1 0 1 0 1 0 1 0] [0, 0, 0, 0, 0, 0, 0, 0, 0, 0, 0, 0, 0, 0, 0, 0, 0, 0, 0, 0, 0, 0, 0, 0, 0, 0, 0, 0, 0, 0, 0, 0, 0, 0, 0, 0, 0, 0, 0, 0, 0, 0, 0, 0, 0, 0, 0, 0, 0, 0, 0, 0, 0, 0, 0, 0, 0, 0, 0, 0, 0, 0, 0, 1, 0, 0, 0, 0, 0, 0, 0, 0, 0, 0, 0, 0, 0, 0, 0, 0, 0, 0, 0, 0, 0, 0, 0, 0, 0, 0, 0, 0, 0, 0, 0, 0, 0, 0, 0, 0, 0, 0, 0, 0, 0, 0, 0, 0, 0, 0, 0, 0, 0, 0, 0, 0, 0, 0, 0, 0, 0, 0, 0, 0, 0, 0, 0, 0]\n",
      "[1 0 1 0 1 0 0 1] [0, 0, 0, 0, 0, 0, 1, 0, 0, 0, 0, 0, 0, 0, 0, 0, 0, 0, 0, 0, 0, 0, 0, 0, 0, 0, 0, 0, 0, 0, 0, 0, 0, 0, 0, 0, 0, 0, 0, 0, 0, 0, 0, 0, 0, 0, 0, 0, 0, 0, 0, 0, 0, 0, 0, 0, 0, 0, 0, 0, 0, 0, 0, 0, 0, 0, 0, 0, 0, 0, 0, 0, 0, 0, 0, 0, 0, 0, 0, 0, 0, 0, 0, 0, 0, 0, 0, 0, 0, 0, 0, 0, 0, 0, 0, 0, 0, 0, 0, 0, 0, 0, 0, 0, 0, 0, 0, 0, 0, 0, 0, 0, 0, 0, 0, 0, 0, 0, 0, 0, 0, 0, 0, 0, 0, 0, 0, 0]\n",
      "[1 0 1 0 0 1 1 0] [0, 0, 0, 0, 0, 0, 0, 0, 0, 0, 0, 0, 0, 0, 0, 0, 0, 0, 0, 0, 0, 0, 0, 0, 0, 0, 0, 0, 0, 0, 0, 0, 0, 0, 0, 0, 0, 0, 0, 0, 0, 0, 0, 0, 0, 0, 0, 0, 0, 0, 0, 0, 0, 0, 0, 0, 0, 0, 0, 0, 0, 0, 0, 0, 0, 0, 0, 0, 0, 0, 0, 0, 0, 0, 0, 0, 0, 0, 0, 0, 0, 0, 0, 0, 0, 0, 0, 0, 0, 0, 0, 1, 0, 0, 0, 0, 0, 0, 0, 0, 0, 0, 0, 0, 0, 0, 0, 0, 0, 0, 0, 0, 0, 0, 0, 0, 0, 0, 0, 0, 0, 0, 0, 0, 0, 0, 0, 0]\n",
      "[1 0 1 0 0 1 0 1] [0, 0, 0, 0, 0, 0, 0, 0, 0, 0, 0, 0, 0, 0, 0, 0, 0, 0, 0, 0, 0, 0, 0, 0, 0, 0, 0, 0, 0, 0, 0, 0, 0, 0, 0, 0, 0, 0, 0, 0, 0, 0, 0, 0, 0, 0, 0, 0, 0, 0, 0, 0, 0, 0, 0, 0, 0, 0, 0, 0, 0, 0, 0, 0, 0, 0, 0, 0, 0, 0, 0, 0, 0, 0, 0, 0, 0, 0, 0, 1, 0, 0, 0, 0, 0, 0, 0, 0, 0, 0, 0, 0, 0, 0, 0, 0, 0, 0, 0, 0, 0, 0, 0, 0, 0, 0, 0, 0, 0, 0, 0, 0, 0, 0, 0, 0, 0, 0, 0, 0, 0, 0, 0, 0, 0, 0, 0, 0]\n",
      "[1 0 0 1 1 0 1 0] [0, 0, 0, 0, 0, 0, 0, 0, 0, 0, 0, 0, 0, 0, 0, 0, 0, 0, 0, 0, 0, 0, 0, 0, 0, 0, 0, 0, 0, 0, 0, 0, 0, 0, 0, 0, 0, 0, 0, 0, 0, 0, 0, 0, 0, 0, 0, 0, 0, 0, 0, 0, 0, 0, 0, 0, 0, 0, 0, 0, 0, 0, 0, 0, 0, 0, 0, 0, 0, 0, 0, 0, 0, 0, 0, 0, 0, 0, 0, 0, 0, 0, 0, 0, 0, 0, 0, 0, 0, 0, 0, 0, 0, 0, 0, 0, 0, 0, 0, 1, 0, 0, 0, 0, 0, 0, 0, 0, 0, 0, 0, 0, 0, 0, 0, 0, 0, 0, 0, 0, 0, 0, 0, 0, 0, 0, 0, 0]\n",
      "[1 0 0 1 1 0 0 1] [0, 0, 0, 0, 0, 0, 0, 0, 0, 0, 0, 0, 0, 0, 0, 0, 0, 0, 0, 0, 0, 0, 0, 0, 0, 0, 0, 0, 0, 0, 0, 0, 0, 0, 0, 0, 0, 0, 0, 0, 0, 0, 0, 0, 0, 0, 0, 0, 0, 0, 0, 0, 0, 0, 0, 0, 0, 0, 0, 0, 0, 0, 0, 0, 0, 0, 0, 0, 0, 0, 0, 0, 0, 0, 0, 0, 0, 0, 0, 0, 0, 0, 0, 0, 0, 0, 0, 0, 0, 0, 0, 0, 0, 0, 0, 0, 0, 0, 0, 0, 0, 0, 0, 0, 0, 0, 0, 0, 0, 1, 0, 0, 0, 0, 0, 0, 0, 0, 0, 0, 0, 0, 0, 0, 0, 0, 0, 0]\n",
      "[1 0 0 1 0 1 1 0] [0, 0, 0, 0, 0, 0, 0, 0, 0, 0, 0, 0, 0, 0, 0, 0, 0, 0, 0, 0, 0, 0, 0, 0, 0, 0, 0, 0, 0, 0, 0, 0, 0, 0, 0, 0, 0, 0, 0, 0, 0, 0, 0, 0, 0, 0, 0, 0, 0, 0, 0, 0, 0, 0, 0, 0, 0, 0, 0, 0, 0, 0, 0, 0, 0, 0, 0, 0, 0, 0, 0, 0, 0, 0, 0, 0, 0, 0, 0, 0, 0, 0, 0, 0, 0, 0, 0, 0, 0, 0, 0, 0, 0, 0, 0, 0, 0, 0, 0, 0, 0, 0, 0, 0, 0, 0, 0, 0, 0, 0, 0, 0, 0, 0, 0, 0, 0, 0, 0, 0, 0, 0, 0, 0, 0, 1, 0, 0]\n",
      "[1 0 0 1 0 1 0 1] [0, 0, 0, 0, 0, 0, 0, 1, 0, 0, 0, 0, 0, 0, 0, 0, 0, 0, 0, 0, 0, 0, 0, 0, 0, 0, 0, 0, 0, 0, 0, 0, 0, 0, 0, 0, 0, 0, 0, 0, 0, 0, 0, 0, 0, 0, 0, 0, 0, 0, 0, 0, 0, 0, 0, 0, 0, 0, 0, 0, 0, 0, 0, 0, 0, 0, 0, 0, 0, 0, 0, 0, 0, 0, 0, 0, 0, 0, 0, 0, 0, 0, 0, 0, 0, 0, 0, 0, 0, 0, 0, 0, 0, 0, 0, 0, 0, 0, 0, 0, 0, 0, 0, 0, 0, 0, 0, 0, 0, 0, 0, 0, 0, 0, 0, 0, 0, 0, 0, 0, 0, 0, 0, 0, 0, 0, 0, 0]\n",
      "[0 1 1 0 1 0 1 0] [0, 0, 0, 0, 0, 0, 0, 0, 0, 0, 0, 0, 0, 0, 0, 0, 0, 0, 0, 0, 0, 0, 0, 0, 0, 0, 0, 0, 0, 0, 0, 0, 0, 0, 0, 0, 0, 0, 0, 0, 0, 0, 0, 0, 0, 0, 0, 0, 0, 0, 0, 0, 0, 0, 0, 0, 0, 0, 0, 0, 0, 0, 0, 0, 0, 0, 0, 0, 0, 0, 0, 0, 0, 0, 0, 0, 0, 0, 0, 0, 0, 0, 0, 0, 0, 0, 0, 0, 0, 0, 0, 0, 0, 0, 0, 0, 0, 0, 0, 0, 0, 0, 0, 0, 0, 0, 0, 0, 0, 0, 0, 0, 0, 0, 0, 0, 0, 0, 0, 0, 0, 0, 0, 0, 0, 0, 0, 1]\n",
      "[0 1 1 0 1 0 0 1] [0, 0, 0, 0, 0, 0, 0, 0, 0, 0, 0, 0, 0, 0, 0, 0, 0, 0, 0, 0, 0, 0, 0, 0, 0, 0, 0, 0, 0, 0, 0, 0, 0, 0, 0, 0, 0, 0, 0, 0, 0, 0, 0, 0, 0, 0, 0, 0, 0, 0, 0, 0, 0, 0, 0, 0, 0, 0, 0, 0, 0, 0, 0, 0, 0, 0, 0, 0, 0, 0, 0, 0, 0, 0, 0, 0, 0, 0, 0, 0, 0, 0, 0, 0, 0, 0, 0, 0, 0, 0, 0, 0, 0, 0, 0, 0, 0, 0, 0, 0, 0, 0, 0, 0, 0, 0, 0, 0, 0, 0, 0, 1, 0, 0, 0, 0, 0, 0, 0, 0, 0, 0, 0, 0, 0, 0, 0, 0]\n",
      "[0 1 1 0 0 1 1 0] [0, 0, 0, 0, 0, 0, 0, 0, 0, 0, 0, 0, 0, 0, 0, 0, 0, 0, 0, 0, 0, 0, 0, 0, 0, 0, 0, 0, 0, 0, 0, 0, 0, 0, 0, 0, 0, 0, 0, 0, 0, 0, 0, 0, 0, 0, 0, 0, 0, 0, 0, 0, 0, 0, 0, 0, 0, 0, 0, 0, 0, 0, 0, 0, 0, 0, 0, 0, 0, 0, 0, 0, 0, 0, 0, 0, 0, 0, 0, 0, 0, 0, 0, 0, 0, 0, 0, 0, 0, 0, 0, 0, 0, 0, 0, 0, 0, 0, 0, 0, 0, 0, 0, 0, 0, 0, 0, 0, 0, 0, 0, 0, 0, 0, 0, 0, 0, 0, 0, 1, 0, 0, 0, 0, 0, 0, 0, 0]\n",
      "[0 1 1 0 0 1 0 1] [0, 0, 0, 0, 0, 0, 0, 0, 0, 0, 0, 0, 0, 0, 0, 0, 0, 0, 0, 0, 0, 0, 0, 0, 0, 0, 0, 0, 0, 0, 0, 0, 0, 0, 0, 0, 0, 0, 0, 0, 0, 0, 0, 0, 0, 0, 0, 0, 0, 0, 0, 0, 0, 0, 0, 0, 0, 0, 0, 0, 0, 0, 0, 0, 0, 0, 0, 0, 0, 0, 0, 0, 0, 0, 0, 0, 0, 0, 0, 0, 0, 0, 0, 0, 0, 0, 0, 0, 0, 0, 0, 0, 0, 0, 0, 0, 0, 0, 0, 0, 0, 0, 0, 0, 0, 0, 0, 0, 0, 0, 0, 0, 0, 0, 0, 0, 0, 0, 0, 0, 0, 0, 0, 0, 1, 0, 0, 0]\n",
      "[0 1 0 1 1 0 1 0] [0, 0, 0, 0, 0, 0, 0, 0, 0, 0, 0, 0, 0, 0, 0, 0, 0, 0, 0, 0, 0, 0, 0, 0, 0, 0, 0, 0, 0, 0, 0, 0, 0, 0, 0, 0, 0, 0, 0, 0, 0, 0, 0, 0, 0, 0, 0, 0, 0, 0, 0, 0, 0, 0, 0, 0, 0, 1, 0, 0, 0, 0, 0, 0, 0, 0, 0, 0, 0, 0, 0, 0, 0, 0, 0, 0, 0, 0, 0, 0, 0, 0, 0, 0, 0, 0, 0, 0, 0, 0, 0, 0, 0, 0, 0, 0, 0, 0, 0, 0, 0, 0, 0, 0, 0, 0, 0, 0, 0, 0, 0, 0, 0, 0, 0, 0, 0, 0, 0, 0, 0, 0, 0, 0, 0, 0, 0, 0]\n",
      "[0 1 0 1 1 0 0 1] [0, 0, 0, 0, 0, 0, 0, 0, 0, 0, 0, 0, 0, 0, 0, 0, 0, 0, 0, 0, 0, 0, 0, 0, 0, 0, 0, 0, 0, 0, 0, 0, 0, 0, 0, 0, 0, 0, 0, 0, 0, 0, 0, 0, 0, 0, 0, 0, 0, 0, 0, 0, 0, 0, 0, 0, 0, 0, 0, 0, 0, 0, 0, 0, 0, 0, 0, 0, 0, 0, 0, 0, 0, 0, 0, 0, 0, 0, 0, 0, 0, 0, 0, 0, 0, 0, 0, 0, 0, 0, 0, 0, 0, 0, 1, 0, 0, 0, 0, 0, 0, 0, 0, 0, 0, 0, 0, 0, 0, 0, 0, 0, 0, 0, 0, 0, 0, 0, 0, 0, 0, 0, 0, 0, 0, 0, 0, 0]\n",
      "[0 1 0 1 0 1 1 0] [0, 0, 0, 0, 0, 0, 0, 0, 0, 0, 0, 0, 0, 0, 0, 0, 0, 0, 0, 0, 0, 0, 0, 0, 0, 0, 0, 0, 0, 0, 0, 0, 0, 0, 0, 0, 0, 0, 0, 0, 0, 0, 0, 0, 0, 0, 0, 0, 0, 0, 0, 0, 0, 0, 0, 0, 0, 0, 0, 0, 0, 0, 0, 0, 0, 0, 0, 0, 0, 0, 0, 0, 0, 0, 0, 0, 0, 0, 0, 0, 0, 0, 0, 0, 0, 0, 0, 0, 0, 0, 0, 0, 0, 0, 0, 0, 0, 0, 0, 0, 0, 0, 0, 0, 0, 0, 0, 0, 0, 0, 0, 0, 0, 0, 0, 0, 0, 0, 0, 0, 0, 1, 0, 0, 0, 0, 0, 0]\n",
      "[0 1 0 1 0 1 0 1] [0, 0, 0, 0, 0, 0, 0, 0, 0, 0, 0, 0, 0, 0, 0, 0, 0, 0, 0, 0, 0, 0, 0, 0, 0, 0, 0, 0, 0, 0, 0, 0, 0, 0, 0, 0, 0, 0, 0, 0, 0, 0, 0, 0, 0, 0, 0, 0, 0, 0, 0, 0, 0, 0, 0, 0, 0, 0, 0, 0, 0, 0, 0, 0, 0, 0, 0, 0, 0, 0, 0, 0, 0, 0, 0, 0, 0, 0, 0, 0, 0, 0, 0, 0, 0, 0, 0, 0, 0, 0, 0, 0, 0, 0, 0, 0, 0, 0, 0, 0, 0, 0, 0, 0, 0, 0, 0, 0, 0, 0, 0, 0, 0, 1, 0, 0, 0, 0, 0, 0, 0, 0, 0, 0, 0, 0, 0, 0]\n"
     ]
    }
   ],
   "source": [
    "import itertools\n",
    "\n",
    "# Usando produto cartesiano\n",
    "combinacoes = list(itertools.product([0, 1], repeat=4))\n",
    "\n",
    "for comb in combinacoes:\n",
    "\t# Converte cada bit da combinação para um vetor binário e achata em uma única dimensão\n",
    "\tvalores = np.array([decimal_para_binario_vetor(bit, 1) for bit in comb]).flatten()\n",
    "\tprint(valores,[f(*valores) for f in funcoes])"
   ]
  }
 ],
 "metadata": {
  "kernelspec": {
   "display_name": "base",
   "language": "python",
   "name": "python3"
  },
  "language_info": {
   "codemirror_mode": {
    "name": "ipython",
    "version": 3
   },
   "file_extension": ".py",
   "mimetype": "text/x-python",
   "name": "python",
   "nbconvert_exporter": "python",
   "pygments_lexer": "ipython3",
   "version": "3.12.7"
  }
 },
 "nbformat": 4,
 "nbformat_minor": 2
}
