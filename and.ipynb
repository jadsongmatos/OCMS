{
 "cells": [
  {
   "cell_type": "code",
   "execution_count": 4,
   "metadata": {},
   "outputs": [],
   "source": [
    "import numpy as np\n",
    "import sympy as sp"
   ]
  },
  {
   "cell_type": "code",
   "execution_count": 6,
   "metadata": {},
   "outputs": [],
   "source": [
    "def criar_vetor_de_simbolos(tamanho):\n",
    "    \"\"\"\n",
    "    Cria um vetor (lista) de símbolos SymPy com o tamanho especificado.\n",
    "\n",
    "    Parameters:\n",
    "    tamanho (int): O número de símbolos a serem criados.\n",
    "\n",
    "    Returns:\n",
    "    list: Lista contendo os símbolos criados.\n",
    "    \"\"\"\n",
    "    # Cria os símbolos usando sp.symbols\n",
    "    return sp.symbols(f'x1:{tamanho+1}')"
   ]
  },
  {
   "cell_type": "code",
   "execution_count": 5,
   "metadata": {},
   "outputs": [
    {
     "data": {
      "text/latex": [
       "$\\displaystyle \\left[\\begin{matrix}x_{1} & x_{2}\\\\x_{3} & x_{4}\\end{matrix}\\right]$"
      ],
      "text/plain": [
       "Matrix([\n",
       "[x1, x2],\n",
       "[x3, x4]])"
      ]
     },
     "execution_count": 5,
     "metadata": {},
     "output_type": "execute_result"
    }
   ],
   "source": [
    "sp.Matrix(np.array_split(criar_vetor_de_simbolos(4), 2))"
   ]
  },
  {
   "cell_type": "code",
   "execution_count": 7,
   "metadata": {},
   "outputs": [],
   "source": [
    "# Função para calcular o produto Kronecker considerando binário exclusivo\n",
    "def kronecker_binary(vectors):\n",
    "    result = np.array([1])  # Inicia com o elemento neutro da multiplicação\n",
    "    for v in vectors:\n",
    "        result = np.kron(result, v)\n",
    "    return result"
   ]
  },
  {
   "cell_type": "code",
   "execution_count": 8,
   "metadata": {},
   "outputs": [
    {
     "data": {
      "text/plain": [
       "array([0, 1, 0, 0])"
      ]
     },
     "execution_count": 8,
     "metadata": {},
     "output_type": "execute_result"
    }
   ],
   "source": [
    "kronecker_binary([[1,0],[0,1]])"
   ]
  },
  {
   "cell_type": "code",
   "execution_count": null,
   "metadata": {},
   "outputs": [
    {
     "data": {
      "text/latex": [
       "$\\displaystyle \\left[\\begin{matrix}x_{1} x_{3} x_{5}\\\\x_{1} x_{3} x_{6}\\\\x_{1} x_{4} x_{5}\\\\x_{1} x_{4} x_{6}\\\\x_{2} x_{3} x_{5}\\\\x_{2} x_{3} x_{6}\\\\x_{2} x_{4} x_{5}\\\\x_{2} x_{4} x_{6}\\end{matrix}\\right]$"
      ],
      "text/plain": [
       "Matrix([\n",
       "[x1*x3*x5],\n",
       "[x1*x3*x6],\n",
       "[x1*x4*x5],\n",
       "[x1*x4*x6],\n",
       "[x2*x3*x5],\n",
       "[x2*x3*x6],\n",
       "[x2*x4*x5],\n",
       "[x2*x4*x6]])"
      ]
     },
     "execution_count": 10,
     "metadata": {},
     "output_type": "execute_result"
    }
   ],
   "source": [
    "bits = 3\n",
    "variaveis = sp.Matrix(kronecker_binary(np.array_split(criar_vetor_de_simbolos(bits*2), bits)))\n",
    "variaveis"
   ]
  },
  {
   "cell_type": "code",
   "execution_count": 11,
   "metadata": {},
   "outputs": [
    {
     "name": "stdout",
     "output_type": "stream",
     "text": [
      "Linha 0: x1*x3*x5\n",
      "Linha 1: x1*x3*x6\n",
      "Linha 2: x1*x4*x5\n",
      "Linha 3: x1*x4*x6\n",
      "Linha 4: x2*x3*x5\n",
      "Linha 5: x2*x3*x6\n",
      "Linha 6: x2*x4*x5\n",
      "Linha 7: x2*x4*x6\n"
     ]
    }
   ],
   "source": [
    "# Iterando pelo vetor com o índice e o valor\n",
    "for linha, elemento in enumerate(variaveis):\n",
    "    print(f\"Linha {linha}: {elemento}\")"
   ]
  },
  {
   "cell_type": "code",
   "execution_count": 12,
   "metadata": {},
   "outputs": [],
   "source": [
    "def decimal_para_binario_vetor(numero_decimal, tamanho_bits=8):\n",
    "    \"\"\"\n",
    "    Converte um número decimal para um vetor binário usando produtos de Kronecker.\n",
    "\n",
    "    Args:\n",
    "        numero_decimal (int): Número decimal a ser convertido.\n",
    "        tamanho_bits (int, opcional): Número de bits para representar o número binário. Padrão é 8.\n",
    "\n",
    "    Returns:\n",
    "        np.ndarray: Vetor resultante da conversão.\n",
    "    \n",
    "    Raises:\n",
    "        ValueError: Se o número decimal for negativo ou se o tamanho de bits for insuficiente.\n",
    "    \"\"\"\n",
    "    # Mapeamento dos caracteres binários para os vetores desejados\n",
    "    mapeamento = {'0': [1, 0], '1': [0, 1]}\n",
    "\n",
    "    # Verifica se o número é um inteiro não negativo\n",
    "    if not isinstance(numero_decimal, int):\n",
    "        raise TypeError(\"O número decimal deve ser um inteiro.\")\n",
    "    if numero_decimal < 0:\n",
    "        raise ValueError(\"A função não suporta números decimais negativos.\")\n",
    "\n",
    "    # Converter o número decimal para binário e remover o prefixo '0b'\n",
    "    numero_binario = bin(numero_decimal)[2:]\n",
    "\n",
    "    # Verifica se o número binário cabe no tamanho de bits desejado\n",
    "    if len(numero_binario) > tamanho_bits:\n",
    "        raise ValueError(f\"O número binário '{numero_binario}' excede o tamanho de bits especificado ({tamanho_bits} bits).\")\n",
    "\n",
    "    # Adiciona zeros à esquerda para completar o tamanho de bits desejado\n",
    "    numero_binario = numero_binario.zfill(tamanho_bits)\n",
    "\n",
    "    # Inicializa o vetor com 1 para o produto de Kronecker\n",
    "    vetor = np.array([1])\n",
    "    \n",
    "    # Aplica o produto de Kronecker para cada dígito binário\n",
    "    for digito in numero_binario:\n",
    "        vetor = np.kron(vetor, mapeamento[digito])\n",
    "\n",
    "    return vetor"
   ]
  },
  {
   "cell_type": "code",
   "execution_count": 13,
   "metadata": {},
   "outputs": [
    {
     "data": {
      "text/latex": [
       "$\\displaystyle \\left[\\begin{matrix}1 & 1 & 1 & 1 & 1 & 1 & 1 & 0\\\\0 & 0 & 0 & 0 & 0 & 0 & 0 & 1\\end{matrix}\\right]$"
      ],
      "text/plain": [
       "Matrix([\n",
       "[1, 1, 1, 1, 1, 1, 1, 0],\n",
       "[0, 0, 0, 0, 0, 0, 0, 1]])"
      ]
     },
     "execution_count": 13,
     "metadata": {},
     "output_type": "execute_result"
    }
   ],
   "source": [
    "saida_tabela = [\n",
    "\t[0],\n",
    "\t[0],\n",
    "\t[0],\n",
    "\t[0],\n",
    "\t[0],\n",
    "\t[0],\n",
    "\t[0],\n",
    "\t[1],\n",
    "]\n",
    "\n",
    "vetores_binarios = []\n",
    "\n",
    "for comb in saida_tabela:\n",
    "\tvetor = kronecker_binary(np.array([decimal_para_binario_vetor(bit, 1) for bit in comb]))\n",
    "\tvetores_binarios.append(vetor)\n",
    "\n",
    "vetores_binarios = np.array(vetores_binarios).T\n",
    "sp.Matrix(vetores_binarios)"
   ]
  },
  {
   "cell_type": "code",
   "execution_count": 14,
   "metadata": {},
   "outputs": [
    {
     "data": {
      "text/latex": [
       "$\\displaystyle \\left[\\begin{matrix}x_{1} x_{3} x_{5} + x_{1} x_{3} x_{6} + x_{1} x_{4} x_{5} + x_{1} x_{4} x_{6} + x_{2} x_{3} x_{5} + x_{2} x_{3} x_{6} + x_{2} x_{4} x_{5}\\\\x_{2} x_{4} x_{6}\\end{matrix}\\right]$"
      ],
      "text/plain": [
       "Matrix([\n",
       "[x1*x3*x5 + x1*x3*x6 + x1*x4*x5 + x1*x4*x6 + x2*x3*x5 + x2*x3*x6 + x2*x4*x5],\n",
       "[                                                                  x2*x4*x6]])"
      ]
     },
     "execution_count": 14,
     "metadata": {},
     "output_type": "execute_result"
    }
   ],
   "source": [
    "regra = sp.Matrix(np.dot(vetores_binarios, variaveis)) # expressões simbólicas\n",
    "regra"
   ]
  },
  {
   "cell_type": "code",
   "execution_count": null,
   "metadata": {},
   "outputs": [
    {
     "name": "stdout",
     "output_type": "stream",
     "text": [
      "Linha 0: 0\n",
      "Linha 1: 0\n",
      "Linha 2: 0\n",
      "Linha 3: 0\n",
      "Linha 4: 0\n",
      "Linha 5: 0\n",
      "Linha 6: x1*x3*x5*x8\n",
      "Linha 7: x1*x4*x6*x8\n",
      "Linha 8: 0\n",
      "Linha 9: 0\n",
      "Linha 10: 0\n",
      "Linha 11: 0\n",
      "Linha 12: 0\n",
      "Linha 13: 0\n",
      "Linha 14: 0\n",
      "Linha 15: 0\n",
      "Linha 16: 0\n",
      "Linha 17: 0\n",
      "Linha 18: 0\n",
      "Linha 19: 0\n",
      "Linha 20: 0\n",
      "Linha 21: 0\n",
      "Linha 22: 0\n",
      "Linha 23: 0\n",
      "Linha 24: 0\n",
      "Linha 25: 0\n",
      "Linha 26: 0\n",
      "Linha 27: 0\n",
      "Linha 28: 0\n",
      "Linha 29: 0\n",
      "Linha 30: 0\n",
      "Linha 31: 0\n",
      "Linha 32: 0\n",
      "Linha 33: 0\n",
      "Linha 34: 0\n",
      "Linha 35: 0\n",
      "Linha 36: 0\n",
      "Linha 37: 0\n",
      "Linha 38: 0\n",
      "Linha 39: 0\n",
      "Linha 40: 0\n",
      "Linha 41: 0\n",
      "Linha 42: 0\n",
      "Linha 43: 0\n",
      "Linha 44: 0\n",
      "Linha 45: 0\n",
      "Linha 46: 0\n",
      "Linha 47: 0\n",
      "Linha 48: 0\n",
      "Linha 49: 0\n",
      "Linha 50: 0\n",
      "Linha 51: 0\n",
      "Linha 52: 0\n",
      "Linha 53: 0\n",
      "Linha 54: 0\n",
      "Linha 55: 0\n",
      "Linha 56: 0\n",
      "Linha 57: x2*x4*x5*x7\n",
      "Linha 58: 0\n",
      "Linha 59: 0\n",
      "Linha 60: 0\n",
      "Linha 61: 0\n",
      "Linha 62: 0\n",
      "Linha 63: x1*x3*x5*x7\n",
      "Linha 64: 0\n",
      "Linha 65: 0\n",
      "Linha 66: 0\n",
      "Linha 67: 0\n",
      "Linha 68: 0\n",
      "Linha 69: 0\n",
      "Linha 70: 0\n",
      "Linha 71: 0\n",
      "Linha 72: 0\n",
      "Linha 73: 0\n",
      "Linha 74: 0\n",
      "Linha 75: 0\n",
      "Linha 76: 0\n",
      "Linha 77: 0\n",
      "Linha 78: 0\n",
      "Linha 79: x1*x3*x6*x8\n",
      "Linha 80: 0\n",
      "Linha 81: 0\n",
      "Linha 82: 0\n",
      "Linha 83: 0\n",
      "Linha 84: 0\n",
      "Linha 85: 0\n",
      "Linha 86: 0\n",
      "Linha 87: 0\n",
      "Linha 88: 0\n",
      "Linha 89: 0\n",
      "Linha 90: 0\n",
      "Linha 91: x1*x3*x6*x7\n",
      "Linha 92: 0\n",
      "Linha 93: 0\n",
      "Linha 94: x2*x4*x5*x8\n",
      "Linha 95: 0\n",
      "Linha 96: 0\n",
      "Linha 97: 0\n",
      "Linha 98: 0\n",
      "Linha 99: x1*x4*x5*x7\n",
      "Linha 100: 0\n",
      "Linha 101: 0\n",
      "Linha 102: 0\n",
      "Linha 103: 0\n",
      "Linha 104: 0\n",
      "Linha 105: 0\n",
      "Linha 106: 0\n",
      "Linha 107: 0\n",
      "Linha 108: 0\n",
      "Linha 109: x1*x4*x5*x8\n",
      "Linha 110: 0\n",
      "Linha 111: x2*x3*x5*x8\n",
      "Linha 112: 0\n",
      "Linha 113: x2*x4*x6*x8\n",
      "Linha 114: 0\n",
      "Linha 115: 0\n",
      "Linha 116: 0\n",
      "Linha 117: 0\n",
      "Linha 118: 0\n",
      "Linha 119: x2*x3*x6*x7\n",
      "Linha 120: 0\n",
      "Linha 121: x2*x4*x6*x7\n",
      "Linha 122: 0\n",
      "Linha 123: 0\n",
      "Linha 124: x2*x3*x6*x8\n",
      "Linha 125: x1*x4*x6*x7\n",
      "Linha 126: 0\n",
      "Linha 127: x2*x3*x5*x7\n"
     ]
    }
   ],
   "source": [
    "# Iterando pelo vetor com o índice e o valor\n",
    "for linha, elemento in enumerate(regra):\n",
    "    print(f\"Linha {linha}: {elemento}\")"
   ]
  },
  {
   "cell_type": "code",
   "execution_count": null,
   "metadata": {},
   "outputs": [
    {
     "data": {
      "text/plain": [
       "[]"
      ]
     },
     "execution_count": 10,
     "metadata": {},
     "output_type": "execute_result"
    }
   ],
   "source": [
    "lista = regra.tolist()[0]\n",
    "list(set([x for x in lista if lista.count(x) > 1]))"
   ]
  },
  {
   "cell_type": "code",
   "execution_count": null,
   "metadata": {},
   "outputs": [
    {
     "data": {
      "text/plain": [
       "array([0, 0, 0, 0, 0, 0, 0, 0, 0, 0, 0, 0, 0, 0, 0, 0, 0, 0, 0, 0, 0, 0,\n",
       "       0, 0, 0, 0, 0, 0, 0, 0, 0, 0, 0, 0, 0, 0, 0, 0, 0, 0, 0, 0, 0, 0,\n",
       "       0, 0, 0, 0, 0, 0, 0, 0, 0, 0, 0, 0, 0, 0, 0, 0, 0, 0, 0, 0, 0, 0,\n",
       "       0, 0, 0, 0, 0, 0, 0, 0, 0, 0, 0, 0, 0, 0, 0, 0, 0, 0, 0, 0, 0, 0,\n",
       "       0, 0, 0, 1, 0, 0, 0, 0, 0, 0, 0, 0, 0, 0, 0, 0, 0, 0, 0, 0, 0, 0,\n",
       "       0, 0, 0, 0, 0, 0, 0, 0, 0, 0, 0, 0, 0, 0, 0, 0, 0, 0])"
      ]
     },
     "execution_count": 11,
     "metadata": {},
     "output_type": "execute_result"
    }
   ],
   "source": [
    "np.dot(vetores_binarios, decimal_para_binario_vetor(2, 4))"
   ]
  },
  {
   "cell_type": "code",
   "execution_count": null,
   "metadata": {},
   "outputs": [],
   "source": [
    "from sympy.utilities.lambdify import lambdastr\n",
    "\n",
    "#  Lista para armazenar as funções\n",
    "funcoes = []\n",
    "\n",
    "# Variáveis que as funções irão receber\n",
    "variaveis = criar_vetor_de_simbolos(bits*2)\n",
    "\n",
    "# Iterar sobre cada elemento do vetor simbólico e criar uma função\n",
    "for expr in regra:\n",
    "    func = sp.lambdify(variaveis, expr)\n",
    "    funcoes.append(func)\n"
   ]
  },
  {
   "cell_type": "code",
   "execution_count": null,
   "metadata": {},
   "outputs": [
    {
     "name": "stdout",
     "output_type": "stream",
     "text": [
      "lambda x1,x2,x3,x4,x5,x6,x7,x8: (0)\n",
      "lambda x1,x2,x3,x4,x5,x6,x7,x8: (0)\n",
      "lambda x1,x2,x3,x4,x5,x6,x7,x8: (0)\n",
      "lambda x1,x2,x3,x4,x5,x6,x7,x8: (0)\n",
      "lambda x1,x2,x3,x4,x5,x6,x7,x8: (0)\n",
      "lambda x1,x2,x3,x4,x5,x6,x7,x8: (0)\n",
      "lambda x1,x2,x3,x4,x5,x6,x7,x8: (x1*x3*x5*x8)\n",
      "lambda x1,x2,x3,x4,x5,x6,x7,x8: (x1*x4*x6*x8)\n",
      "lambda x1,x2,x3,x4,x5,x6,x7,x8: (0)\n",
      "lambda x1,x2,x3,x4,x5,x6,x7,x8: (0)\n",
      "lambda x1,x2,x3,x4,x5,x6,x7,x8: (0)\n",
      "lambda x1,x2,x3,x4,x5,x6,x7,x8: (0)\n",
      "lambda x1,x2,x3,x4,x5,x6,x7,x8: (0)\n",
      "lambda x1,x2,x3,x4,x5,x6,x7,x8: (0)\n",
      "lambda x1,x2,x3,x4,x5,x6,x7,x8: (0)\n",
      "lambda x1,x2,x3,x4,x5,x6,x7,x8: (0)\n",
      "lambda x1,x2,x3,x4,x5,x6,x7,x8: (0)\n",
      "lambda x1,x2,x3,x4,x5,x6,x7,x8: (0)\n",
      "lambda x1,x2,x3,x4,x5,x6,x7,x8: (0)\n",
      "lambda x1,x2,x3,x4,x5,x6,x7,x8: (0)\n",
      "lambda x1,x2,x3,x4,x5,x6,x7,x8: (0)\n",
      "lambda x1,x2,x3,x4,x5,x6,x7,x8: (0)\n",
      "lambda x1,x2,x3,x4,x5,x6,x7,x8: (0)\n",
      "lambda x1,x2,x3,x4,x5,x6,x7,x8: (0)\n",
      "lambda x1,x2,x3,x4,x5,x6,x7,x8: (0)\n",
      "lambda x1,x2,x3,x4,x5,x6,x7,x8: (0)\n",
      "lambda x1,x2,x3,x4,x5,x6,x7,x8: (0)\n",
      "lambda x1,x2,x3,x4,x5,x6,x7,x8: (0)\n",
      "lambda x1,x2,x3,x4,x5,x6,x7,x8: (0)\n",
      "lambda x1,x2,x3,x4,x5,x6,x7,x8: (0)\n",
      "lambda x1,x2,x3,x4,x5,x6,x7,x8: (0)\n",
      "lambda x1,x2,x3,x4,x5,x6,x7,x8: (0)\n",
      "lambda x1,x2,x3,x4,x5,x6,x7,x8: (0)\n",
      "lambda x1,x2,x3,x4,x5,x6,x7,x8: (0)\n",
      "lambda x1,x2,x3,x4,x5,x6,x7,x8: (0)\n",
      "lambda x1,x2,x3,x4,x5,x6,x7,x8: (0)\n",
      "lambda x1,x2,x3,x4,x5,x6,x7,x8: (0)\n",
      "lambda x1,x2,x3,x4,x5,x6,x7,x8: (0)\n",
      "lambda x1,x2,x3,x4,x5,x6,x7,x8: (0)\n",
      "lambda x1,x2,x3,x4,x5,x6,x7,x8: (0)\n",
      "lambda x1,x2,x3,x4,x5,x6,x7,x8: (0)\n",
      "lambda x1,x2,x3,x4,x5,x6,x7,x8: (0)\n",
      "lambda x1,x2,x3,x4,x5,x6,x7,x8: (0)\n",
      "lambda x1,x2,x3,x4,x5,x6,x7,x8: (0)\n",
      "lambda x1,x2,x3,x4,x5,x6,x7,x8: (0)\n",
      "lambda x1,x2,x3,x4,x5,x6,x7,x8: (0)\n",
      "lambda x1,x2,x3,x4,x5,x6,x7,x8: (0)\n",
      "lambda x1,x2,x3,x4,x5,x6,x7,x8: (0)\n",
      "lambda x1,x2,x3,x4,x5,x6,x7,x8: (0)\n",
      "lambda x1,x2,x3,x4,x5,x6,x7,x8: (0)\n",
      "lambda x1,x2,x3,x4,x5,x6,x7,x8: (0)\n",
      "lambda x1,x2,x3,x4,x5,x6,x7,x8: (0)\n",
      "lambda x1,x2,x3,x4,x5,x6,x7,x8: (0)\n",
      "lambda x1,x2,x3,x4,x5,x6,x7,x8: (0)\n",
      "lambda x1,x2,x3,x4,x5,x6,x7,x8: (0)\n",
      "lambda x1,x2,x3,x4,x5,x6,x7,x8: (0)\n",
      "lambda x1,x2,x3,x4,x5,x6,x7,x8: (0)\n",
      "lambda x1,x2,x3,x4,x5,x6,x7,x8: (x2*x4*x5*x7)\n",
      "lambda x1,x2,x3,x4,x5,x6,x7,x8: (0)\n",
      "lambda x1,x2,x3,x4,x5,x6,x7,x8: (0)\n",
      "lambda x1,x2,x3,x4,x5,x6,x7,x8: (0)\n",
      "lambda x1,x2,x3,x4,x5,x6,x7,x8: (0)\n",
      "lambda x1,x2,x3,x4,x5,x6,x7,x8: (0)\n",
      "lambda x1,x2,x3,x4,x5,x6,x7,x8: (x1*x3*x5*x7)\n",
      "lambda x1,x2,x3,x4,x5,x6,x7,x8: (0)\n",
      "lambda x1,x2,x3,x4,x5,x6,x7,x8: (0)\n",
      "lambda x1,x2,x3,x4,x5,x6,x7,x8: (0)\n",
      "lambda x1,x2,x3,x4,x5,x6,x7,x8: (0)\n",
      "lambda x1,x2,x3,x4,x5,x6,x7,x8: (0)\n",
      "lambda x1,x2,x3,x4,x5,x6,x7,x8: (0)\n",
      "lambda x1,x2,x3,x4,x5,x6,x7,x8: (0)\n",
      "lambda x1,x2,x3,x4,x5,x6,x7,x8: (0)\n",
      "lambda x1,x2,x3,x4,x5,x6,x7,x8: (0)\n",
      "lambda x1,x2,x3,x4,x5,x6,x7,x8: (0)\n",
      "lambda x1,x2,x3,x4,x5,x6,x7,x8: (0)\n",
      "lambda x1,x2,x3,x4,x5,x6,x7,x8: (0)\n",
      "lambda x1,x2,x3,x4,x5,x6,x7,x8: (0)\n",
      "lambda x1,x2,x3,x4,x5,x6,x7,x8: (0)\n",
      "lambda x1,x2,x3,x4,x5,x6,x7,x8: (0)\n",
      "lambda x1,x2,x3,x4,x5,x6,x7,x8: (x1*x3*x6*x8)\n",
      "lambda x1,x2,x3,x4,x5,x6,x7,x8: (0)\n",
      "lambda x1,x2,x3,x4,x5,x6,x7,x8: (0)\n",
      "lambda x1,x2,x3,x4,x5,x6,x7,x8: (0)\n",
      "lambda x1,x2,x3,x4,x5,x6,x7,x8: (0)\n",
      "lambda x1,x2,x3,x4,x5,x6,x7,x8: (0)\n",
      "lambda x1,x2,x3,x4,x5,x6,x7,x8: (0)\n",
      "lambda x1,x2,x3,x4,x5,x6,x7,x8: (0)\n",
      "lambda x1,x2,x3,x4,x5,x6,x7,x8: (0)\n",
      "lambda x1,x2,x3,x4,x5,x6,x7,x8: (0)\n",
      "lambda x1,x2,x3,x4,x5,x6,x7,x8: (0)\n",
      "lambda x1,x2,x3,x4,x5,x6,x7,x8: (0)\n",
      "lambda x1,x2,x3,x4,x5,x6,x7,x8: (x1*x3*x6*x7)\n",
      "lambda x1,x2,x3,x4,x5,x6,x7,x8: (0)\n",
      "lambda x1,x2,x3,x4,x5,x6,x7,x8: (0)\n",
      "lambda x1,x2,x3,x4,x5,x6,x7,x8: (x2*x4*x5*x8)\n",
      "lambda x1,x2,x3,x4,x5,x6,x7,x8: (0)\n",
      "lambda x1,x2,x3,x4,x5,x6,x7,x8: (0)\n",
      "lambda x1,x2,x3,x4,x5,x6,x7,x8: (0)\n",
      "lambda x1,x2,x3,x4,x5,x6,x7,x8: (0)\n",
      "lambda x1,x2,x3,x4,x5,x6,x7,x8: (x1*x4*x5*x7)\n",
      "lambda x1,x2,x3,x4,x5,x6,x7,x8: (0)\n",
      "lambda x1,x2,x3,x4,x5,x6,x7,x8: (0)\n",
      "lambda x1,x2,x3,x4,x5,x6,x7,x8: (0)\n",
      "lambda x1,x2,x3,x4,x5,x6,x7,x8: (0)\n",
      "lambda x1,x2,x3,x4,x5,x6,x7,x8: (0)\n",
      "lambda x1,x2,x3,x4,x5,x6,x7,x8: (0)\n",
      "lambda x1,x2,x3,x4,x5,x6,x7,x8: (0)\n",
      "lambda x1,x2,x3,x4,x5,x6,x7,x8: (0)\n",
      "lambda x1,x2,x3,x4,x5,x6,x7,x8: (0)\n",
      "lambda x1,x2,x3,x4,x5,x6,x7,x8: (x1*x4*x5*x8)\n",
      "lambda x1,x2,x3,x4,x5,x6,x7,x8: (0)\n",
      "lambda x1,x2,x3,x4,x5,x6,x7,x8: (x2*x3*x5*x8)\n",
      "lambda x1,x2,x3,x4,x5,x6,x7,x8: (0)\n",
      "lambda x1,x2,x3,x4,x5,x6,x7,x8: (x2*x4*x6*x8)\n",
      "lambda x1,x2,x3,x4,x5,x6,x7,x8: (0)\n",
      "lambda x1,x2,x3,x4,x5,x6,x7,x8: (0)\n",
      "lambda x1,x2,x3,x4,x5,x6,x7,x8: (0)\n",
      "lambda x1,x2,x3,x4,x5,x6,x7,x8: (0)\n",
      "lambda x1,x2,x3,x4,x5,x6,x7,x8: (0)\n",
      "lambda x1,x2,x3,x4,x5,x6,x7,x8: (x2*x3*x6*x7)\n",
      "lambda x1,x2,x3,x4,x5,x6,x7,x8: (0)\n",
      "lambda x1,x2,x3,x4,x5,x6,x7,x8: (x2*x4*x6*x7)\n",
      "lambda x1,x2,x3,x4,x5,x6,x7,x8: (0)\n",
      "lambda x1,x2,x3,x4,x5,x6,x7,x8: (0)\n",
      "lambda x1,x2,x3,x4,x5,x6,x7,x8: (x2*x3*x6*x8)\n",
      "lambda x1,x2,x3,x4,x5,x6,x7,x8: (x1*x4*x6*x7)\n",
      "lambda x1,x2,x3,x4,x5,x6,x7,x8: (0)\n",
      "lambda x1,x2,x3,x4,x5,x6,x7,x8: (x2*x3*x5*x7)\n"
     ]
    }
   ],
   "source": [
    "from sympy.utilities.lambdify import lambdastr\n",
    "\n",
    "# Variáveis que as funções irão receber\n",
    "variaveis = criar_vetor_de_simbolos(bits*2)\n",
    "\n",
    "for expr in regra:\n",
    "    print(lambdastr(variaveis, expr))"
   ]
  },
  {
   "cell_type": "code",
   "execution_count": null,
   "metadata": {},
   "outputs": [
    {
     "name": "stdout",
     "output_type": "stream",
     "text": [
      "[1 0 1 0 1 0 1 0] [0, 0, 0, 0, 0, 0, 0, 0, 0, 0, 0, 0, 0, 0, 0, 0, 0, 0, 0, 0, 0, 0, 0, 0, 0, 0, 0, 0, 0, 0, 0, 0, 0, 0, 0, 0, 0, 0, 0, 0, 0, 0, 0, 0, 0, 0, 0, 0, 0, 0, 0, 0, 0, 0, 0, 0, 0, 0, 0, 0, 0, 0, 0, 1, 0, 0, 0, 0, 0, 0, 0, 0, 0, 0, 0, 0, 0, 0, 0, 0, 0, 0, 0, 0, 0, 0, 0, 0, 0, 0, 0, 0, 0, 0, 0, 0, 0, 0, 0, 0, 0, 0, 0, 0, 0, 0, 0, 0, 0, 0, 0, 0, 0, 0, 0, 0, 0, 0, 0, 0, 0, 0, 0, 0, 0, 0, 0, 0]\n",
      "[1 0 1 0 1 0 0 1] [0, 0, 0, 0, 0, 0, 1, 0, 0, 0, 0, 0, 0, 0, 0, 0, 0, 0, 0, 0, 0, 0, 0, 0, 0, 0, 0, 0, 0, 0, 0, 0, 0, 0, 0, 0, 0, 0, 0, 0, 0, 0, 0, 0, 0, 0, 0, 0, 0, 0, 0, 0, 0, 0, 0, 0, 0, 0, 0, 0, 0, 0, 0, 0, 0, 0, 0, 0, 0, 0, 0, 0, 0, 0, 0, 0, 0, 0, 0, 0, 0, 0, 0, 0, 0, 0, 0, 0, 0, 0, 0, 0, 0, 0, 0, 0, 0, 0, 0, 0, 0, 0, 0, 0, 0, 0, 0, 0, 0, 0, 0, 0, 0, 0, 0, 0, 0, 0, 0, 0, 0, 0, 0, 0, 0, 0, 0, 0]\n",
      "[1 0 1 0 0 1 1 0] [0, 0, 0, 0, 0, 0, 0, 0, 0, 0, 0, 0, 0, 0, 0, 0, 0, 0, 0, 0, 0, 0, 0, 0, 0, 0, 0, 0, 0, 0, 0, 0, 0, 0, 0, 0, 0, 0, 0, 0, 0, 0, 0, 0, 0, 0, 0, 0, 0, 0, 0, 0, 0, 0, 0, 0, 0, 0, 0, 0, 0, 0, 0, 0, 0, 0, 0, 0, 0, 0, 0, 0, 0, 0, 0, 0, 0, 0, 0, 0, 0, 0, 0, 0, 0, 0, 0, 0, 0, 0, 0, 1, 0, 0, 0, 0, 0, 0, 0, 0, 0, 0, 0, 0, 0, 0, 0, 0, 0, 0, 0, 0, 0, 0, 0, 0, 0, 0, 0, 0, 0, 0, 0, 0, 0, 0, 0, 0]\n",
      "[1 0 1 0 0 1 0 1] [0, 0, 0, 0, 0, 0, 0, 0, 0, 0, 0, 0, 0, 0, 0, 0, 0, 0, 0, 0, 0, 0, 0, 0, 0, 0, 0, 0, 0, 0, 0, 0, 0, 0, 0, 0, 0, 0, 0, 0, 0, 0, 0, 0, 0, 0, 0, 0, 0, 0, 0, 0, 0, 0, 0, 0, 0, 0, 0, 0, 0, 0, 0, 0, 0, 0, 0, 0, 0, 0, 0, 0, 0, 0, 0, 0, 0, 0, 0, 1, 0, 0, 0, 0, 0, 0, 0, 0, 0, 0, 0, 0, 0, 0, 0, 0, 0, 0, 0, 0, 0, 0, 0, 0, 0, 0, 0, 0, 0, 0, 0, 0, 0, 0, 0, 0, 0, 0, 0, 0, 0, 0, 0, 0, 0, 0, 0, 0]\n",
      "[1 0 0 1 1 0 1 0] [0, 0, 0, 0, 0, 0, 0, 0, 0, 0, 0, 0, 0, 0, 0, 0, 0, 0, 0, 0, 0, 0, 0, 0, 0, 0, 0, 0, 0, 0, 0, 0, 0, 0, 0, 0, 0, 0, 0, 0, 0, 0, 0, 0, 0, 0, 0, 0, 0, 0, 0, 0, 0, 0, 0, 0, 0, 0, 0, 0, 0, 0, 0, 0, 0, 0, 0, 0, 0, 0, 0, 0, 0, 0, 0, 0, 0, 0, 0, 0, 0, 0, 0, 0, 0, 0, 0, 0, 0, 0, 0, 0, 0, 0, 0, 0, 0, 0, 0, 1, 0, 0, 0, 0, 0, 0, 0, 0, 0, 0, 0, 0, 0, 0, 0, 0, 0, 0, 0, 0, 0, 0, 0, 0, 0, 0, 0, 0]\n",
      "[1 0 0 1 1 0 0 1] [0, 0, 0, 0, 0, 0, 0, 0, 0, 0, 0, 0, 0, 0, 0, 0, 0, 0, 0, 0, 0, 0, 0, 0, 0, 0, 0, 0, 0, 0, 0, 0, 0, 0, 0, 0, 0, 0, 0, 0, 0, 0, 0, 0, 0, 0, 0, 0, 0, 0, 0, 0, 0, 0, 0, 0, 0, 0, 0, 0, 0, 0, 0, 0, 0, 0, 0, 0, 0, 0, 0, 0, 0, 0, 0, 0, 0, 0, 0, 0, 0, 0, 0, 0, 0, 0, 0, 0, 0, 0, 0, 0, 0, 0, 0, 0, 0, 0, 0, 0, 0, 0, 0, 0, 0, 0, 0, 0, 0, 1, 0, 0, 0, 0, 0, 0, 0, 0, 0, 0, 0, 0, 0, 0, 0, 0, 0, 0]\n",
      "[1 0 0 1 0 1 1 0] [0, 0, 0, 0, 0, 0, 0, 0, 0, 0, 0, 0, 0, 0, 0, 0, 0, 0, 0, 0, 0, 0, 0, 0, 0, 0, 0, 0, 0, 0, 0, 0, 0, 0, 0, 0, 0, 0, 0, 0, 0, 0, 0, 0, 0, 0, 0, 0, 0, 0, 0, 0, 0, 0, 0, 0, 0, 0, 0, 0, 0, 0, 0, 0, 0, 0, 0, 0, 0, 0, 0, 0, 0, 0, 0, 0, 0, 0, 0, 0, 0, 0, 0, 0, 0, 0, 0, 0, 0, 0, 0, 0, 0, 0, 0, 0, 0, 0, 0, 0, 0, 0, 0, 0, 0, 0, 0, 0, 0, 0, 0, 0, 0, 0, 0, 0, 0, 0, 0, 0, 0, 0, 0, 0, 0, 1, 0, 0]\n",
      "[1 0 0 1 0 1 0 1] [0, 0, 0, 0, 0, 0, 0, 1, 0, 0, 0, 0, 0, 0, 0, 0, 0, 0, 0, 0, 0, 0, 0, 0, 0, 0, 0, 0, 0, 0, 0, 0, 0, 0, 0, 0, 0, 0, 0, 0, 0, 0, 0, 0, 0, 0, 0, 0, 0, 0, 0, 0, 0, 0, 0, 0, 0, 0, 0, 0, 0, 0, 0, 0, 0, 0, 0, 0, 0, 0, 0, 0, 0, 0, 0, 0, 0, 0, 0, 0, 0, 0, 0, 0, 0, 0, 0, 0, 0, 0, 0, 0, 0, 0, 0, 0, 0, 0, 0, 0, 0, 0, 0, 0, 0, 0, 0, 0, 0, 0, 0, 0, 0, 0, 0, 0, 0, 0, 0, 0, 0, 0, 0, 0, 0, 0, 0, 0]\n",
      "[0 1 1 0 1 0 1 0] [0, 0, 0, 0, 0, 0, 0, 0, 0, 0, 0, 0, 0, 0, 0, 0, 0, 0, 0, 0, 0, 0, 0, 0, 0, 0, 0, 0, 0, 0, 0, 0, 0, 0, 0, 0, 0, 0, 0, 0, 0, 0, 0, 0, 0, 0, 0, 0, 0, 0, 0, 0, 0, 0, 0, 0, 0, 0, 0, 0, 0, 0, 0, 0, 0, 0, 0, 0, 0, 0, 0, 0, 0, 0, 0, 0, 0, 0, 0, 0, 0, 0, 0, 0, 0, 0, 0, 0, 0, 0, 0, 0, 0, 0, 0, 0, 0, 0, 0, 0, 0, 0, 0, 0, 0, 0, 0, 0, 0, 0, 0, 0, 0, 0, 0, 0, 0, 0, 0, 0, 0, 0, 0, 0, 0, 0, 0, 1]\n",
      "[0 1 1 0 1 0 0 1] [0, 0, 0, 0, 0, 0, 0, 0, 0, 0, 0, 0, 0, 0, 0, 0, 0, 0, 0, 0, 0, 0, 0, 0, 0, 0, 0, 0, 0, 0, 0, 0, 0, 0, 0, 0, 0, 0, 0, 0, 0, 0, 0, 0, 0, 0, 0, 0, 0, 0, 0, 0, 0, 0, 0, 0, 0, 0, 0, 0, 0, 0, 0, 0, 0, 0, 0, 0, 0, 0, 0, 0, 0, 0, 0, 0, 0, 0, 0, 0, 0, 0, 0, 0, 0, 0, 0, 0, 0, 0, 0, 0, 0, 0, 0, 0, 0, 0, 0, 0, 0, 0, 0, 0, 0, 0, 0, 0, 0, 0, 0, 1, 0, 0, 0, 0, 0, 0, 0, 0, 0, 0, 0, 0, 0, 0, 0, 0]\n",
      "[0 1 1 0 0 1 1 0] [0, 0, 0, 0, 0, 0, 0, 0, 0, 0, 0, 0, 0, 0, 0, 0, 0, 0, 0, 0, 0, 0, 0, 0, 0, 0, 0, 0, 0, 0, 0, 0, 0, 0, 0, 0, 0, 0, 0, 0, 0, 0, 0, 0, 0, 0, 0, 0, 0, 0, 0, 0, 0, 0, 0, 0, 0, 0, 0, 0, 0, 0, 0, 0, 0, 0, 0, 0, 0, 0, 0, 0, 0, 0, 0, 0, 0, 0, 0, 0, 0, 0, 0, 0, 0, 0, 0, 0, 0, 0, 0, 0, 0, 0, 0, 0, 0, 0, 0, 0, 0, 0, 0, 0, 0, 0, 0, 0, 0, 0, 0, 0, 0, 0, 0, 0, 0, 0, 0, 1, 0, 0, 0, 0, 0, 0, 0, 0]\n",
      "[0 1 1 0 0 1 0 1] [0, 0, 0, 0, 0, 0, 0, 0, 0, 0, 0, 0, 0, 0, 0, 0, 0, 0, 0, 0, 0, 0, 0, 0, 0, 0, 0, 0, 0, 0, 0, 0, 0, 0, 0, 0, 0, 0, 0, 0, 0, 0, 0, 0, 0, 0, 0, 0, 0, 0, 0, 0, 0, 0, 0, 0, 0, 0, 0, 0, 0, 0, 0, 0, 0, 0, 0, 0, 0, 0, 0, 0, 0, 0, 0, 0, 0, 0, 0, 0, 0, 0, 0, 0, 0, 0, 0, 0, 0, 0, 0, 0, 0, 0, 0, 0, 0, 0, 0, 0, 0, 0, 0, 0, 0, 0, 0, 0, 0, 0, 0, 0, 0, 0, 0, 0, 0, 0, 0, 0, 0, 0, 0, 0, 1, 0, 0, 0]\n",
      "[0 1 0 1 1 0 1 0] [0, 0, 0, 0, 0, 0, 0, 0, 0, 0, 0, 0, 0, 0, 0, 0, 0, 0, 0, 0, 0, 0, 0, 0, 0, 0, 0, 0, 0, 0, 0, 0, 0, 0, 0, 0, 0, 0, 0, 0, 0, 0, 0, 0, 0, 0, 0, 0, 0, 0, 0, 0, 0, 0, 0, 0, 0, 1, 0, 0, 0, 0, 0, 0, 0, 0, 0, 0, 0, 0, 0, 0, 0, 0, 0, 0, 0, 0, 0, 0, 0, 0, 0, 0, 0, 0, 0, 0, 0, 0, 0, 0, 0, 0, 0, 0, 0, 0, 0, 0, 0, 0, 0, 0, 0, 0, 0, 0, 0, 0, 0, 0, 0, 0, 0, 0, 0, 0, 0, 0, 0, 0, 0, 0, 0, 0, 0, 0]\n",
      "[0 1 0 1 1 0 0 1] [0, 0, 0, 0, 0, 0, 0, 0, 0, 0, 0, 0, 0, 0, 0, 0, 0, 0, 0, 0, 0, 0, 0, 0, 0, 0, 0, 0, 0, 0, 0, 0, 0, 0, 0, 0, 0, 0, 0, 0, 0, 0, 0, 0, 0, 0, 0, 0, 0, 0, 0, 0, 0, 0, 0, 0, 0, 0, 0, 0, 0, 0, 0, 0, 0, 0, 0, 0, 0, 0, 0, 0, 0, 0, 0, 0, 0, 0, 0, 0, 0, 0, 0, 0, 0, 0, 0, 0, 0, 0, 0, 0, 0, 0, 1, 0, 0, 0, 0, 0, 0, 0, 0, 0, 0, 0, 0, 0, 0, 0, 0, 0, 0, 0, 0, 0, 0, 0, 0, 0, 0, 0, 0, 0, 0, 0, 0, 0]\n",
      "[0 1 0 1 0 1 1 0] [0, 0, 0, 0, 0, 0, 0, 0, 0, 0, 0, 0, 0, 0, 0, 0, 0, 0, 0, 0, 0, 0, 0, 0, 0, 0, 0, 0, 0, 0, 0, 0, 0, 0, 0, 0, 0, 0, 0, 0, 0, 0, 0, 0, 0, 0, 0, 0, 0, 0, 0, 0, 0, 0, 0, 0, 0, 0, 0, 0, 0, 0, 0, 0, 0, 0, 0, 0, 0, 0, 0, 0, 0, 0, 0, 0, 0, 0, 0, 0, 0, 0, 0, 0, 0, 0, 0, 0, 0, 0, 0, 0, 0, 0, 0, 0, 0, 0, 0, 0, 0, 0, 0, 0, 0, 0, 0, 0, 0, 0, 0, 0, 0, 0, 0, 0, 0, 0, 0, 0, 0, 1, 0, 0, 0, 0, 0, 0]\n",
      "[0 1 0 1 0 1 0 1] [0, 0, 0, 0, 0, 0, 0, 0, 0, 0, 0, 0, 0, 0, 0, 0, 0, 0, 0, 0, 0, 0, 0, 0, 0, 0, 0, 0, 0, 0, 0, 0, 0, 0, 0, 0, 0, 0, 0, 0, 0, 0, 0, 0, 0, 0, 0, 0, 0, 0, 0, 0, 0, 0, 0, 0, 0, 0, 0, 0, 0, 0, 0, 0, 0, 0, 0, 0, 0, 0, 0, 0, 0, 0, 0, 0, 0, 0, 0, 0, 0, 0, 0, 0, 0, 0, 0, 0, 0, 0, 0, 0, 0, 0, 0, 0, 0, 0, 0, 0, 0, 0, 0, 0, 0, 0, 0, 0, 0, 0, 0, 0, 0, 1, 0, 0, 0, 0, 0, 0, 0, 0, 0, 0, 0, 0, 0, 0]\n"
     ]
    }
   ],
   "source": [
    "import itertools\n",
    "\n",
    "# Usando produto cartesiano\n",
    "combinacoes = list(itertools.product([0, 1], repeat=4))\n",
    "\n",
    "for comb in combinacoes:\n",
    "\t# Converte cada bit da combinação para um vetor binário e achata em uma única dimensão\n",
    "\tvalores = np.array([decimal_para_binario_vetor(bit, 1) for bit in comb]).flatten()\n",
    "\tprint(valores,[f(*valores) for f in funcoes])"
   ]
  }
 ],
 "metadata": {
  "kernelspec": {
   "display_name": "base",
   "language": "python",
   "name": "python3"
  },
  "language_info": {
   "codemirror_mode": {
    "name": "ipython",
    "version": 3
   },
   "file_extension": ".py",
   "mimetype": "text/x-python",
   "name": "python",
   "nbconvert_exporter": "python",
   "pygments_lexer": "ipython3",
   "version": "3.11.8"
  }
 },
 "nbformat": 4,
 "nbformat_minor": 2
}
