{
 "cells": [
  {
   "cell_type": "code",
   "execution_count": 18,
   "metadata": {},
   "outputs": [],
   "source": [
    "import numpy as np\n",
    "import sympy as sp"
   ]
  },
  {
   "cell_type": "code",
   "execution_count": 19,
   "metadata": {},
   "outputs": [],
   "source": [
    "def criar_vetor_de_simbolos(tamanho):\n",
    "    \"\"\"\n",
    "    Cria um vetor (lista) de símbolos SymPy com o tamanho especificado.\n",
    "\n",
    "    Parameters:\n",
    "    tamanho (int): O número de símbolos a serem criados.\n",
    "\n",
    "    Returns:\n",
    "    list: Lista contendo os símbolos criados.\n",
    "    \"\"\"\n",
    "    # Cria os símbolos usando sp.symbols\n",
    "    return sp.symbols(f'x1:{tamanho+1}')"
   ]
  },
  {
   "cell_type": "code",
   "execution_count": 20,
   "metadata": {},
   "outputs": [
    {
     "data": {
      "text/latex": [
       "$\\displaystyle \\left[\\begin{matrix}x_{1} & x_{2}\\\\x_{3} & x_{4}\\end{matrix}\\right]$"
      ],
      "text/plain": [
       "Matrix([\n",
       "[x1, x2],\n",
       "[x3, x4]])"
      ]
     },
     "execution_count": 20,
     "metadata": {},
     "output_type": "execute_result"
    }
   ],
   "source": [
    "sp.Matrix(np.array_split(criar_vetor_de_simbolos(4), 2))"
   ]
  },
  {
   "cell_type": "code",
   "execution_count": 21,
   "metadata": {},
   "outputs": [],
   "source": [
    "# Função para calcular o produto Kronecker considerando binário exclusivo\n",
    "def kronecker_binary(vectors):\n",
    "    result = np.array([1])  # Inicia com o elemento neutro da multiplicação\n",
    "    for v in vectors:\n",
    "        result = np.kron(result, v)\n",
    "    return result"
   ]
  },
  {
   "cell_type": "code",
   "execution_count": 22,
   "metadata": {},
   "outputs": [
    {
     "data": {
      "text/plain": [
       "array([0, 1, 0, 0])"
      ]
     },
     "execution_count": 22,
     "metadata": {},
     "output_type": "execute_result"
    }
   ],
   "source": [
    "kronecker_binary([[1,0],[0,1]])"
   ]
  },
  {
   "cell_type": "code",
   "execution_count": 23,
   "metadata": {},
   "outputs": [
    {
     "data": {
      "text/latex": [
       "$\\displaystyle \\left[\\begin{matrix}x_{1} x_{3} x_{5}\\\\x_{1} x_{3} x_{6}\\\\x_{1} x_{4} x_{5}\\\\x_{1} x_{4} x_{6}\\\\x_{2} x_{3} x_{5}\\\\x_{2} x_{3} x_{6}\\\\x_{2} x_{4} x_{5}\\\\x_{2} x_{4} x_{6}\\end{matrix}\\right]$"
      ],
      "text/plain": [
       "Matrix([\n",
       "[x1*x3*x5],\n",
       "[x1*x3*x6],\n",
       "[x1*x4*x5],\n",
       "[x1*x4*x6],\n",
       "[x2*x3*x5],\n",
       "[x2*x3*x6],\n",
       "[x2*x4*x5],\n",
       "[x2*x4*x6]])"
      ]
     },
     "execution_count": 23,
     "metadata": {},
     "output_type": "execute_result"
    }
   ],
   "source": [
    "bits = 3\n",
    "variaveis = sp.Matrix(kronecker_binary(np.array_split(criar_vetor_de_simbolos(bits*2), bits)))\n",
    "variaveis"
   ]
  },
  {
   "cell_type": "code",
   "execution_count": 24,
   "metadata": {},
   "outputs": [
    {
     "name": "stdout",
     "output_type": "stream",
     "text": [
      "Linha 0: x1*x3*x5\n",
      "Linha 1: x1*x3*x6\n",
      "Linha 2: x1*x4*x5\n",
      "Linha 3: x1*x4*x6\n",
      "Linha 4: x2*x3*x5\n",
      "Linha 5: x2*x3*x6\n",
      "Linha 6: x2*x4*x5\n",
      "Linha 7: x2*x4*x6\n"
     ]
    }
   ],
   "source": [
    "# Iterando pelo vetor com o índice e o valor\n",
    "for linha, elemento in enumerate(variaveis):\n",
    "    print(f\"Linha {linha}: {elemento}\")"
   ]
  },
  {
   "cell_type": "code",
   "execution_count": 25,
   "metadata": {},
   "outputs": [],
   "source": [
    "def decimal_para_binario_vetor(numero_decimal, tamanho_bits=8):\n",
    "    \"\"\"\n",
    "    Converte um número decimal para um vetor binário usando produtos de Kronecker.\n",
    "\n",
    "    Args:\n",
    "        numero_decimal (int): Número decimal a ser convertido.\n",
    "        tamanho_bits (int, opcional): Número de bits para representar o número binário. Padrão é 8.\n",
    "\n",
    "    Returns:\n",
    "        np.ndarray: Vetor resultante da conversão.\n",
    "    \n",
    "    Raises:\n",
    "        ValueError: Se o número decimal for negativo ou se o tamanho de bits for insuficiente.\n",
    "    \"\"\"\n",
    "    # Mapeamento dos caracteres binários para os vetores desejados\n",
    "    mapeamento = {'0': [1, 0], '1': [0, 1]}\n",
    "\n",
    "    # Verifica se o número é um inteiro não negativo\n",
    "    if not isinstance(numero_decimal, int):\n",
    "        raise TypeError(\"O número decimal deve ser um inteiro.\")\n",
    "    if numero_decimal < 0:\n",
    "        raise ValueError(\"A função não suporta números decimais negativos.\")\n",
    "\n",
    "    # Converter o número decimal para binário e remover o prefixo '0b'\n",
    "    numero_binario = bin(numero_decimal)[2:]\n",
    "\n",
    "    # Verifica se o número binário cabe no tamanho de bits desejado\n",
    "    if len(numero_binario) > tamanho_bits:\n",
    "        raise ValueError(f\"O número binário '{numero_binario}' excede o tamanho de bits especificado ({tamanho_bits} bits).\")\n",
    "\n",
    "    # Adiciona zeros à esquerda para completar o tamanho de bits desejado\n",
    "    numero_binario = numero_binario.zfill(tamanho_bits)\n",
    "\n",
    "    # Inicializa o vetor com 1 para o produto de Kronecker\n",
    "    vetor = np.array([1])\n",
    "    \n",
    "    # Aplica o produto de Kronecker para cada dígito binário\n",
    "    for digito in numero_binario:\n",
    "        vetor = np.kron(vetor, mapeamento[digito])\n",
    "\n",
    "    return vetor"
   ]
  },
  {
   "cell_type": "code",
   "execution_count": 26,
   "metadata": {},
   "outputs": [
    {
     "data": {
      "text/latex": [
       "$\\displaystyle \\left[\\begin{matrix}1 & 1 & 1 & 1 & 1 & 1 & 1 & 0\\\\0 & 0 & 0 & 0 & 0 & 0 & 0 & 1\\end{matrix}\\right]$"
      ],
      "text/plain": [
       "Matrix([\n",
       "[1, 1, 1, 1, 1, 1, 1, 0],\n",
       "[0, 0, 0, 0, 0, 0, 0, 1]])"
      ]
     },
     "execution_count": 26,
     "metadata": {},
     "output_type": "execute_result"
    }
   ],
   "source": [
    "tabela_verdade = [\n",
    "\t0,\n",
    "\t0,\n",
    "\t0,\n",
    "\t0,\n",
    "\t0,\n",
    "\t0,\n",
    "\t0,\n",
    "\t1,\n",
    "]\n",
    "\n",
    "vetores_binarios = []\n",
    "tamanho_bits = 1\n",
    "\n",
    "for numero in tabela_verdade:\n",
    "    try:\n",
    "        vetor = decimal_para_binario_vetor(int(numero), tamanho_bits)\n",
    "        vetores_binarios.append(vetor)\n",
    "    except (TypeError, ValueError) as e:\n",
    "        print(f\"Erro ao converter o número {numero}: {e}\")\n",
    "\n",
    "vetores_binarios = np.array(vetores_binarios).T\n",
    "sp.Matrix(vetores_binarios)"
   ]
  },
  {
   "cell_type": "code",
   "execution_count": 27,
   "metadata": {},
   "outputs": [
    {
     "data": {
      "text/latex": [
       "$\\displaystyle \\left[\\begin{matrix}x_{1} x_{3} x_{5} + x_{1} x_{3} x_{6} + x_{1} x_{4} x_{5} + x_{1} x_{4} x_{6} + x_{2} x_{3} x_{5} + x_{2} x_{3} x_{6} + x_{2} x_{4} x_{5}\\\\x_{2} x_{4} x_{6}\\end{matrix}\\right]$"
      ],
      "text/plain": [
       "Matrix([\n",
       "[x1*x3*x5 + x1*x3*x6 + x1*x4*x5 + x1*x4*x6 + x2*x3*x5 + x2*x3*x6 + x2*x4*x5],\n",
       "[                                                                  x2*x4*x6]])"
      ]
     },
     "execution_count": 27,
     "metadata": {},
     "output_type": "execute_result"
    }
   ],
   "source": [
    "regra = sp.Matrix(np.dot(vetores_binarios, variaveis)) # expressões simbólicas\n",
    "regra"
   ]
  },
  {
   "cell_type": "code",
   "execution_count": 28,
   "metadata": {},
   "outputs": [],
   "source": [
    "def criar_substituicoes(bits):\n",
    "    simbolos = criar_vetor_de_simbolos(bits * 2)\n",
    "    substituicoes = {simbolos[i+1]: 1-simbolos[i] for i in range(0, len(simbolos), 2)}\n",
    "    return substituicoes"
   ]
  },
  {
   "cell_type": "code",
   "execution_count": 29,
   "metadata": {},
   "outputs": [
    {
     "data": {
      "text/plain": [
       "{x2: 1 - x1, x4: 1 - x3, x6: 1 - x5}"
      ]
     },
     "execution_count": 29,
     "metadata": {},
     "output_type": "execute_result"
    }
   ],
   "source": [
    "substituicoes = criar_substituicoes(3)\n",
    "substituicoes"
   ]
  },
  {
   "cell_type": "code",
   "execution_count": 30,
   "metadata": {},
   "outputs": [
    {
     "data": {
      "text/latex": [
       "$\\displaystyle \\left[\\begin{matrix}x_{1} x_{3} x_{5} - x_{1} x_{3} - x_{1} x_{5} + x_{1} - x_{3} x_{5} + x_{3} + x_{5}\\\\- \\left(x_{1} - 1\\right) \\left(x_{3} - 1\\right) \\left(x_{5} - 1\\right)\\end{matrix}\\right]$"
      ],
      "text/plain": [
       "Matrix([\n",
       "[x1*x3*x5 - x1*x3 - x1*x5 + x1 - x3*x5 + x3 + x5],\n",
       "[                    -(x1 - 1)*(x3 - 1)*(x5 - 1)]])"
      ]
     },
     "execution_count": 30,
     "metadata": {},
     "output_type": "execute_result"
    }
   ],
   "source": [
    "f = sp.simplify(regra.subs(substituicoes))\n",
    "f"
   ]
  },
  {
   "cell_type": "code",
   "execution_count": 31,
   "metadata": {},
   "outputs": [
    {
     "data": {
      "text/plain": [
       "{x1, x3, x5}"
      ]
     },
     "execution_count": 31,
     "metadata": {},
     "output_type": "execute_result"
    }
   ],
   "source": [
    "variaveis[0].free_symbols"
   ]
  },
  {
   "cell_type": "code",
   "execution_count": 32,
   "metadata": {},
   "outputs": [
    {
     "data": {
      "text/plain": [
       "{x1, x3, x5}"
      ]
     },
     "execution_count": 32,
     "metadata": {},
     "output_type": "execute_result"
    }
   ],
   "source": [
    "f[0].free_symbols"
   ]
  },
  {
   "cell_type": "code",
   "execution_count": 33,
   "metadata": {},
   "outputs": [
    {
     "data": {
      "text/plain": [
       "[(0, 0, 0),\n",
       " (0, 0, 1),\n",
       " (0, 1, 0),\n",
       " (0, 1, 1),\n",
       " (1, 0, 0),\n",
       " (1, 0, 1),\n",
       " (1, 1, 0),\n",
       " (1, 1, 1)]"
      ]
     },
     "execution_count": 33,
     "metadata": {},
     "output_type": "execute_result"
    }
   ],
   "source": [
    "from itertools import product\n",
    "\n",
    "# Passo 3: Gerar todas as combinações de 0 e 1 para as 3 variáveis\n",
    "entradas = list(product([0, 1], repeat=3))\n",
    "entradas"
   ]
  },
  {
   "cell_type": "code",
   "execution_count": 50,
   "metadata": {},
   "outputs": [
    {
     "data": {
      "text/latex": [
       "$$ F_{1}(x1, x3, x5) = x_{1} x_{3} x_{5} - x_{1} x_{3} - x_{1} x_{5} + x_{1} - x_{3} x_{5} + x_{3} + x_{5} $$"
      ],
      "text/plain": [
       "<IPython.core.display.Latex object>"
      ]
     },
     "metadata": {},
     "output_type": "display_data"
    },
    {
     "data": {
      "text/latex": [
       "$$ F_{1}(0,0,0) = (0) (0) (0) - (0) (0) - (0) (0) + (0) - (0) (0) + (0) + (0) = 0 $$"
      ],
      "text/plain": [
       "<IPython.core.display.Latex object>"
      ]
     },
     "metadata": {},
     "output_type": "display_data"
    },
    {
     "data": {
      "text/latex": [
       "$$ F_{1}(0,0,1) = (0) (0) (1) - (0) (0) - (0) (1) + (0) - (0) (1) + (0) + (1) = 1 $$"
      ],
      "text/plain": [
       "<IPython.core.display.Latex object>"
      ]
     },
     "metadata": {},
     "output_type": "display_data"
    },
    {
     "data": {
      "text/latex": [
       "$$ F_{1}(0,1,0) = (0) (1) (0) - (0) (1) - (0) (0) + (0) - (1) (0) + (1) + (0) = 1 $$"
      ],
      "text/plain": [
       "<IPython.core.display.Latex object>"
      ]
     },
     "metadata": {},
     "output_type": "display_data"
    },
    {
     "data": {
      "text/latex": [
       "$$ F_{1}(0,1,1) = (0) (1) (1) - (0) (1) - (0) (1) + (0) - (1) (1) + (1) + (1) = 1 $$"
      ],
      "text/plain": [
       "<IPython.core.display.Latex object>"
      ]
     },
     "metadata": {},
     "output_type": "display_data"
    },
    {
     "data": {
      "text/latex": [
       "$$ F_{1}(1,0,0) = (1) (0) (0) - (1) (0) - (1) (0) + (1) - (0) (0) + (0) + (0) = 1 $$"
      ],
      "text/plain": [
       "<IPython.core.display.Latex object>"
      ]
     },
     "metadata": {},
     "output_type": "display_data"
    },
    {
     "data": {
      "text/latex": [
       "$$ F_{1}(1,0,1) = (1) (0) (1) - (1) (0) - (1) (1) + (1) - (0) (1) + (0) + (1) = 1 $$"
      ],
      "text/plain": [
       "<IPython.core.display.Latex object>"
      ]
     },
     "metadata": {},
     "output_type": "display_data"
    },
    {
     "data": {
      "text/latex": [
       "$$ F_{1}(1,1,0) = (1) (1) (0) - (1) (1) - (1) (0) + (1) - (1) (0) + (1) + (0) = 1 $$"
      ],
      "text/plain": [
       "<IPython.core.display.Latex object>"
      ]
     },
     "metadata": {},
     "output_type": "display_data"
    },
    {
     "data": {
      "text/latex": [
       "$$ F_{1}(1,1,1) = (1) (1) (1) - (1) (1) - (1) (1) + (1) - (1) (1) + (1) + (1) = 1 $$"
      ],
      "text/plain": [
       "<IPython.core.display.Latex object>"
      ]
     },
     "metadata": {},
     "output_type": "display_data"
    },
    {
     "data": {
      "text/latex": [
       "$$ \\text{Nenhuma coluna é igual a } x_{1} x_{3} x_{5} - x_{1} x_{3} - x_{1} x_{5} + x_{1} - x_{3} x_{5} + x_{3} + x_{5} $$"
      ],
      "text/plain": [
       "<IPython.core.display.Latex object>"
      ]
     },
     "metadata": {},
     "output_type": "display_data"
    },
    {
     "data": {
      "text/latex": [
       "$$ F_{2}(x1, x3, x5) = - \\left(x_{1} - 1\\right) \\left(x_{3} - 1\\right) \\left(x_{5} - 1\\right) $$"
      ],
      "text/plain": [
       "<IPython.core.display.Latex object>"
      ]
     },
     "metadata": {},
     "output_type": "display_data"
    },
    {
     "data": {
      "text/latex": [
       "$$ F_{2}(0,0,0) = - \\left((0) - 1\\right) \\left((0) - 1\\right) \\left((0) - 1\\right) = 1 $$"
      ],
      "text/plain": [
       "<IPython.core.display.Latex object>"
      ]
     },
     "metadata": {},
     "output_type": "display_data"
    },
    {
     "data": {
      "text/latex": [
       "$$ F_{2}(0,0,1) = - \\left((0) - 1\\right) \\left((0) - 1\\right) \\left((1) - 1\\right) = 0 $$"
      ],
      "text/plain": [
       "<IPython.core.display.Latex object>"
      ]
     },
     "metadata": {},
     "output_type": "display_data"
    },
    {
     "data": {
      "text/latex": [
       "$$ F_{2}(0,1,0) = - \\left((0) - 1\\right) \\left((1) - 1\\right) \\left((0) - 1\\right) = 0 $$"
      ],
      "text/plain": [
       "<IPython.core.display.Latex object>"
      ]
     },
     "metadata": {},
     "output_type": "display_data"
    },
    {
     "data": {
      "text/latex": [
       "$$ F_{2}(0,1,1) = - \\left((0) - 1\\right) \\left((1) - 1\\right) \\left((1) - 1\\right) = 0 $$"
      ],
      "text/plain": [
       "<IPython.core.display.Latex object>"
      ]
     },
     "metadata": {},
     "output_type": "display_data"
    },
    {
     "data": {
      "text/latex": [
       "$$ F_{2}(1,0,0) = - \\left((1) - 1\\right) \\left((0) - 1\\right) \\left((0) - 1\\right) = 0 $$"
      ],
      "text/plain": [
       "<IPython.core.display.Latex object>"
      ]
     },
     "metadata": {},
     "output_type": "display_data"
    },
    {
     "data": {
      "text/latex": [
       "$$ F_{2}(1,0,1) = - \\left((1) - 1\\right) \\left((0) - 1\\right) \\left((1) - 1\\right) = 0 $$"
      ],
      "text/plain": [
       "<IPython.core.display.Latex object>"
      ]
     },
     "metadata": {},
     "output_type": "display_data"
    },
    {
     "data": {
      "text/latex": [
       "$$ F_{2}(1,1,0) = - \\left((1) - 1\\right) \\left((1) - 1\\right) \\left((0) - 1\\right) = 0 $$"
      ],
      "text/plain": [
       "<IPython.core.display.Latex object>"
      ]
     },
     "metadata": {},
     "output_type": "display_data"
    },
    {
     "data": {
      "text/latex": [
       "$$ F_{2}(1,1,1) = - \\left((1) - 1\\right) \\left((1) - 1\\right) \\left((1) - 1\\right) = 0 $$"
      ],
      "text/plain": [
       "<IPython.core.display.Latex object>"
      ]
     },
     "metadata": {},
     "output_type": "display_data"
    },
    {
     "data": {
      "text/latex": [
       "$$ \\text{Coluna } 1 \\text{ é igual a } - \\left(x_{1} - 1\\right) \\left(x_{3} - 1\\right) \\left(x_{5} - 1\\right) $$"
      ],
      "text/plain": [
       "<IPython.core.display.Latex object>"
      ]
     },
     "metadata": {},
     "output_type": "display_data"
    }
   ],
   "source": [
    "from IPython.display import display, Latex\n",
    "import sympy as sp\n",
    "\n",
    "for i, e in enumerate(f):\n",
    "    # Ordena os símbolos por nome para manter consistência\n",
    "    variaveis_ordenadas = sorted(e.free_symbols, key=lambda s: s.name)\n",
    "    \n",
    "    # Exibe a forma simbólica da função\n",
    "    nome_funcao = f\"F_{{{i+1}}}({', '.join(str(s) for s in variaveis_ordenadas)})\"\n",
    "    display(Latex(rf\"$$ {nome_funcao} = {sp.latex(e)} $$\"))\n",
    "    \n",
    "    bin_valor = []\n",
    "\n",
    "    for linha_vals in entradas:\n",
    "        # Mapeia os valores de entrada para os símbolos\n",
    "        subs_dict = {var: linha_vals[j] for j, var in enumerate(variaveis_ordenadas)}\n",
    "        entrada_str = \",\".join(str(v) for v in linha_vals)\n",
    "        \n",
    "        # Constrói a expressão em LaTeX com substituição literal\n",
    "        expr_latex = sp.latex(e)\n",
    "        for var in variaveis_ordenadas:\n",
    "            expr_latex = expr_latex.replace(sp.latex(var), f\"({subs_dict[var]})\")\n",
    "        \n",
    "        # Calcula o valor real da expressão\n",
    "        resultado = e.subs(subs_dict)\n",
    "        bin_valor.append(resultado)\n",
    "        \n",
    "        # Exibe a linha: substituição literal e resultado\n",
    "        display(Latex(\n",
    "            rf\"$$ F_{{{i+1}}}({entrada_str}) = {expr_latex} = {sp.latex(resultado)} $$\"\n",
    "        ))\n",
    "\n",
    "    # Inverte os valores da função para comparar com a tabela verdade\n",
    "    bin_valor = bin_valor[::-1]\n",
    "    \n",
    "    # Exibe verificação com a tabela verdade\n",
    "    if tabela_verdade == bin_valor:\n",
    "        display(Latex(rf\"$$ \\text{{Coluna }} {i} \\text{{ é igual a }} {sp.latex(e)} $$\"))\n",
    "    else:\n",
    "        display(Latex(rf\"$$ \\text{{Nenhuma coluna é igual a }} {sp.latex(e)} $$\"))\n"
   ]
  },
  {
   "cell_type": "code",
   "execution_count": 41,
   "metadata": {},
   "outputs": [
    {
     "name": "stdout",
     "output_type": "stream",
     "text": [
      "0\n"
     ]
    },
    {
     "data": {
      "text/latex": [
       "$$ \\left[\\begin{matrix}1 & 1 & 1 & 1 & 1 & 1 & 1 & 0\\\\0 & 0 & 0 & 0 & 0 & 0 & 0 & 1\\end{matrix}\\right] \\;\\cdot\\; \\left[\\begin{matrix}1\\\\0\\\\0\\\\0\\\\0\\\\0\\\\0\\\\0\\end{matrix}\\right] = \\left[\\begin{matrix}1\\\\0\\end{matrix}\\right] = 0 $$"
      ],
      "text/plain": [
       "<IPython.core.display.Latex object>"
      ]
     },
     "metadata": {},
     "output_type": "display_data"
    },
    {
     "name": "stdout",
     "output_type": "stream",
     "text": [
      "1\n"
     ]
    },
    {
     "data": {
      "text/latex": [
       "$$ \\left[\\begin{matrix}1 & 1 & 1 & 1 & 1 & 1 & 1 & 0\\\\0 & 0 & 0 & 0 & 0 & 0 & 0 & 1\\end{matrix}\\right] \\;\\cdot\\; \\left[\\begin{matrix}0\\\\1\\\\0\\\\0\\\\0\\\\0\\\\0\\\\0\\end{matrix}\\right] = \\left[\\begin{matrix}1\\\\0\\end{matrix}\\right] = 0 $$"
      ],
      "text/plain": [
       "<IPython.core.display.Latex object>"
      ]
     },
     "metadata": {},
     "output_type": "display_data"
    },
    {
     "name": "stdout",
     "output_type": "stream",
     "text": [
      "2\n"
     ]
    },
    {
     "data": {
      "text/latex": [
       "$$ \\left[\\begin{matrix}1 & 1 & 1 & 1 & 1 & 1 & 1 & 0\\\\0 & 0 & 0 & 0 & 0 & 0 & 0 & 1\\end{matrix}\\right] \\;\\cdot\\; \\left[\\begin{matrix}0\\\\0\\\\1\\\\0\\\\0\\\\0\\\\0\\\\0\\end{matrix}\\right] = \\left[\\begin{matrix}1\\\\0\\end{matrix}\\right] = 0 $$"
      ],
      "text/plain": [
       "<IPython.core.display.Latex object>"
      ]
     },
     "metadata": {},
     "output_type": "display_data"
    },
    {
     "name": "stdout",
     "output_type": "stream",
     "text": [
      "3\n"
     ]
    },
    {
     "data": {
      "text/latex": [
       "$$ \\left[\\begin{matrix}1 & 1 & 1 & 1 & 1 & 1 & 1 & 0\\\\0 & 0 & 0 & 0 & 0 & 0 & 0 & 1\\end{matrix}\\right] \\;\\cdot\\; \\left[\\begin{matrix}0\\\\0\\\\0\\\\1\\\\0\\\\0\\\\0\\\\0\\end{matrix}\\right] = \\left[\\begin{matrix}1\\\\0\\end{matrix}\\right] = 0 $$"
      ],
      "text/plain": [
       "<IPython.core.display.Latex object>"
      ]
     },
     "metadata": {},
     "output_type": "display_data"
    },
    {
     "name": "stdout",
     "output_type": "stream",
     "text": [
      "4\n"
     ]
    },
    {
     "data": {
      "text/latex": [
       "$$ \\left[\\begin{matrix}1 & 1 & 1 & 1 & 1 & 1 & 1 & 0\\\\0 & 0 & 0 & 0 & 0 & 0 & 0 & 1\\end{matrix}\\right] \\;\\cdot\\; \\left[\\begin{matrix}0\\\\0\\\\0\\\\0\\\\1\\\\0\\\\0\\\\0\\end{matrix}\\right] = \\left[\\begin{matrix}1\\\\0\\end{matrix}\\right] = 0 $$"
      ],
      "text/plain": [
       "<IPython.core.display.Latex object>"
      ]
     },
     "metadata": {},
     "output_type": "display_data"
    },
    {
     "name": "stdout",
     "output_type": "stream",
     "text": [
      "5\n"
     ]
    },
    {
     "data": {
      "text/latex": [
       "$$ \\left[\\begin{matrix}1 & 1 & 1 & 1 & 1 & 1 & 1 & 0\\\\0 & 0 & 0 & 0 & 0 & 0 & 0 & 1\\end{matrix}\\right] \\;\\cdot\\; \\left[\\begin{matrix}0\\\\0\\\\0\\\\0\\\\0\\\\1\\\\0\\\\0\\end{matrix}\\right] = \\left[\\begin{matrix}1\\\\0\\end{matrix}\\right] = 0 $$"
      ],
      "text/plain": [
       "<IPython.core.display.Latex object>"
      ]
     },
     "metadata": {},
     "output_type": "display_data"
    },
    {
     "name": "stdout",
     "output_type": "stream",
     "text": [
      "6\n"
     ]
    },
    {
     "data": {
      "text/latex": [
       "$$ \\left[\\begin{matrix}1 & 1 & 1 & 1 & 1 & 1 & 1 & 0\\\\0 & 0 & 0 & 0 & 0 & 0 & 0 & 1\\end{matrix}\\right] \\;\\cdot\\; \\left[\\begin{matrix}0\\\\0\\\\0\\\\0\\\\0\\\\0\\\\1\\\\0\\end{matrix}\\right] = \\left[\\begin{matrix}1\\\\0\\end{matrix}\\right] = 0 $$"
      ],
      "text/plain": [
       "<IPython.core.display.Latex object>"
      ]
     },
     "metadata": {},
     "output_type": "display_data"
    },
    {
     "name": "stdout",
     "output_type": "stream",
     "text": [
      "7\n"
     ]
    },
    {
     "data": {
      "text/latex": [
       "$$ \\left[\\begin{matrix}1 & 1 & 1 & 1 & 1 & 1 & 1 & 0\\\\0 & 0 & 0 & 0 & 0 & 0 & 0 & 1\\end{matrix}\\right] \\;\\cdot\\; \\left[\\begin{matrix}0\\\\0\\\\0\\\\0\\\\0\\\\0\\\\0\\\\1\\end{matrix}\\right] = \\left[\\begin{matrix}0\\\\1\\end{matrix}\\right] = 1 $$"
      ],
      "text/plain": [
       "<IPython.core.display.Latex object>"
      ]
     },
     "metadata": {},
     "output_type": "display_data"
    }
   ],
   "source": [
    "@latexify.function(reduce_assignments=True, use_math_symbols=True)\n",
    "def matrix_column_product(matrix, column_vector):\n",
    "    \"\"\"\n",
    "    Retorna o produto de 'matrix' por 'column_vector'.\n",
    "    \"\"\"\n",
    "    return matrix * column_vector\n",
    "\n",
    "# Loop pelas colunas da identidade\n",
    "for i in range(A.cols):\n",
    "    print(i)\n",
    "    result_expr = matrix_column_product(A, identity_matrix.col(i))\n",
    "    pos_1 = result_expr.tolist().index([1])\n",
    "    # Monta e exibe a equação completa em LaTeX\n",
    "    display(Latex(\n",
    "        rf\"$$ {sp.latex(A)} \\;\\cdot\\; {sp.latex(identity_matrix.col(i))}\"\n",
    "        rf\" = {sp.latex(result_expr)} = {sp.latex(pos_1)} $$\"\n",
    "    ))"
   ]
  },
  {
   "cell_type": "code",
   "execution_count": 39,
   "metadata": {},
   "outputs": [
    {
     "name": "stdout",
     "output_type": "stream",
     "text": [
      "F1(x1, x3, x5) = x1*x3*x5 - x1*x3 - x1*x5 + x1 - x3*x5 + x3 + x5\n",
      "-------------------------\n",
      "0 0 0 | 0\n",
      "0 0 1 | 1\n",
      "0 1 0 | 1\n",
      "0 1 1 | 1\n",
      "1 0 0 | 1\n",
      "1 0 1 | 1\n",
      "1 1 0 | 1\n",
      "1 1 1 | 1\n",
      "Nenhuma coluna é igual a x1*x3*x5 - x1*x3 - x1*x5 + x1 - x3*x5 + x3 + x5\n",
      "F2(x1, x3, x5) = -(x1 - 1)*(x3 - 1)*(x5 - 1)\n",
      "-------------------------\n",
      "0 0 0 | 1\n",
      "0 0 1 | 0\n",
      "0 1 0 | 0\n",
      "0 1 1 | 0\n",
      "1 0 0 | 0\n",
      "1 0 1 | 0\n",
      "1 1 0 | 0\n",
      "1 1 1 | 0\n",
      "Coluna 1 é igual a -(x1 - 1)*(x3 - 1)*(x5 - 1)\n"
     ]
    }
   ],
   "source": [
    "for i, e in enumerate(f):\n",
    "    variaveis_ordenadas = sorted(e.free_symbols, key=lambda s: s.name)\n",
    "    print(f\"F{i+1}({\", \".join(str(s) for s in variaveis_ordenadas)}) = {e}\")\n",
    "    print(\"-------------------------\")\n",
    "    bin_valor = []\n",
    "    for vals in entradas:\n",
    "        valor = e.subs({var: vals[i] for i, var in enumerate(variaveis_ordenadas)})\n",
    "        bin_valor.append(valor)\n",
    "        print(f\"{vals[0]} {vals[1]} {vals[2]} | {valor}\")\n",
    "    \n",
    "    bin_valor = bin_valor[::-1]\n",
    "    if tabela_verdade == bin_valor:\n",
    "        print(f\"Coluna {i} é igual a\",e)\n",
    "    else:\n",
    "        print(\"Nenhuma coluna é igual a\",e)"
   ]
  },
  {
   "cell_type": "code",
   "execution_count": 81,
   "metadata": {},
   "outputs": [
    {
     "name": "stdout",
     "output_type": "stream",
     "text": [
      "Linha 0: x1*x3*x5 + x1*x3*x6 + x1*x4*x5 + x1*x4*x6 + x2*x3*x5 + x2*x3*x6 + x2*x4*x5\n",
      "Linha 1: x2*x4*x6\n"
     ]
    }
   ],
   "source": [
    "# Iterando pelo vetor com o índice e o valor\n",
    "for linha, elemento in enumerate(regra):\n",
    "    print(f\"Linha {linha}: {elemento}\")"
   ]
  },
  {
   "cell_type": "code",
   "execution_count": 82,
   "metadata": {},
   "outputs": [
    {
     "data": {
      "text/plain": [
       "[]"
      ]
     },
     "execution_count": 82,
     "metadata": {},
     "output_type": "execute_result"
    }
   ],
   "source": [
    "lista = regra.tolist()[0]\n",
    "list(set([x for x in lista if lista.count(x) > 1]))"
   ]
  },
  {
   "cell_type": "code",
   "execution_count": 83,
   "metadata": {},
   "outputs": [
    {
     "ename": "ValueError",
     "evalue": "shapes (2,8) and (16,) not aligned: 8 (dim 1) != 16 (dim 0)",
     "output_type": "error",
     "traceback": [
      "\u001b[0;31m---------------------------------------------------------------------------\u001b[0m",
      "\u001b[0;31mValueError\u001b[0m                                Traceback (most recent call last)",
      "Cell \u001b[0;32mIn[83], line 1\u001b[0m\n\u001b[0;32m----> 1\u001b[0m np\u001b[38;5;241m.\u001b[39mdot(vetores_binarios, decimal_para_binario_vetor(\u001b[38;5;241m2\u001b[39m, \u001b[38;5;241m4\u001b[39m))\n",
      "\u001b[0;31mValueError\u001b[0m: shapes (2,8) and (16,) not aligned: 8 (dim 1) != 16 (dim 0)"
     ]
    }
   ],
   "source": [
    "np.dot(vetores_binarios, decimal_para_binario_vetor(2, 4))"
   ]
  },
  {
   "cell_type": "code",
   "execution_count": null,
   "metadata": {},
   "outputs": [],
   "source": [
    "from sympy.utilities.lambdify import lambdastr\n",
    "\n",
    "#  Lista para armazenar as funções\n",
    "funcoes = []\n",
    "\n",
    "# Variáveis que as funções irão receber\n",
    "variaveis = criar_vetor_de_simbolos(bits*2)\n",
    "\n",
    "# Iterar sobre cada elemento do vetor simbólico e criar uma função\n",
    "for expr in regra:\n",
    "    func = sp.lambdify(variaveis, expr)\n",
    "    funcoes.append(func)\n"
   ]
  },
  {
   "cell_type": "code",
   "execution_count": null,
   "metadata": {},
   "outputs": [
    {
     "name": "stdout",
     "output_type": "stream",
     "text": [
      "lambda x1,x2,x3,x4,x5,x6,x7,x8: (0)\n",
      "lambda x1,x2,x3,x4,x5,x6,x7,x8: (0)\n",
      "lambda x1,x2,x3,x4,x5,x6,x7,x8: (0)\n",
      "lambda x1,x2,x3,x4,x5,x6,x7,x8: (0)\n",
      "lambda x1,x2,x3,x4,x5,x6,x7,x8: (0)\n",
      "lambda x1,x2,x3,x4,x5,x6,x7,x8: (0)\n",
      "lambda x1,x2,x3,x4,x5,x6,x7,x8: (x1*x3*x5*x8)\n",
      "lambda x1,x2,x3,x4,x5,x6,x7,x8: (x1*x4*x6*x8)\n",
      "lambda x1,x2,x3,x4,x5,x6,x7,x8: (0)\n",
      "lambda x1,x2,x3,x4,x5,x6,x7,x8: (0)\n",
      "lambda x1,x2,x3,x4,x5,x6,x7,x8: (0)\n",
      "lambda x1,x2,x3,x4,x5,x6,x7,x8: (0)\n",
      "lambda x1,x2,x3,x4,x5,x6,x7,x8: (0)\n",
      "lambda x1,x2,x3,x4,x5,x6,x7,x8: (0)\n",
      "lambda x1,x2,x3,x4,x5,x6,x7,x8: (0)\n",
      "lambda x1,x2,x3,x4,x5,x6,x7,x8: (0)\n",
      "lambda x1,x2,x3,x4,x5,x6,x7,x8: (0)\n",
      "lambda x1,x2,x3,x4,x5,x6,x7,x8: (0)\n",
      "lambda x1,x2,x3,x4,x5,x6,x7,x8: (0)\n",
      "lambda x1,x2,x3,x4,x5,x6,x7,x8: (0)\n",
      "lambda x1,x2,x3,x4,x5,x6,x7,x8: (0)\n",
      "lambda x1,x2,x3,x4,x5,x6,x7,x8: (0)\n",
      "lambda x1,x2,x3,x4,x5,x6,x7,x8: (0)\n",
      "lambda x1,x2,x3,x4,x5,x6,x7,x8: (0)\n",
      "lambda x1,x2,x3,x4,x5,x6,x7,x8: (0)\n",
      "lambda x1,x2,x3,x4,x5,x6,x7,x8: (0)\n",
      "lambda x1,x2,x3,x4,x5,x6,x7,x8: (0)\n",
      "lambda x1,x2,x3,x4,x5,x6,x7,x8: (0)\n",
      "lambda x1,x2,x3,x4,x5,x6,x7,x8: (0)\n",
      "lambda x1,x2,x3,x4,x5,x6,x7,x8: (0)\n",
      "lambda x1,x2,x3,x4,x5,x6,x7,x8: (0)\n",
      "lambda x1,x2,x3,x4,x5,x6,x7,x8: (0)\n",
      "lambda x1,x2,x3,x4,x5,x6,x7,x8: (0)\n",
      "lambda x1,x2,x3,x4,x5,x6,x7,x8: (0)\n",
      "lambda x1,x2,x3,x4,x5,x6,x7,x8: (0)\n",
      "lambda x1,x2,x3,x4,x5,x6,x7,x8: (0)\n",
      "lambda x1,x2,x3,x4,x5,x6,x7,x8: (0)\n",
      "lambda x1,x2,x3,x4,x5,x6,x7,x8: (0)\n",
      "lambda x1,x2,x3,x4,x5,x6,x7,x8: (0)\n",
      "lambda x1,x2,x3,x4,x5,x6,x7,x8: (0)\n",
      "lambda x1,x2,x3,x4,x5,x6,x7,x8: (0)\n",
      "lambda x1,x2,x3,x4,x5,x6,x7,x8: (0)\n",
      "lambda x1,x2,x3,x4,x5,x6,x7,x8: (0)\n",
      "lambda x1,x2,x3,x4,x5,x6,x7,x8: (0)\n",
      "lambda x1,x2,x3,x4,x5,x6,x7,x8: (0)\n",
      "lambda x1,x2,x3,x4,x5,x6,x7,x8: (0)\n",
      "lambda x1,x2,x3,x4,x5,x6,x7,x8: (0)\n",
      "lambda x1,x2,x3,x4,x5,x6,x7,x8: (0)\n",
      "lambda x1,x2,x3,x4,x5,x6,x7,x8: (0)\n",
      "lambda x1,x2,x3,x4,x5,x6,x7,x8: (0)\n",
      "lambda x1,x2,x3,x4,x5,x6,x7,x8: (0)\n",
      "lambda x1,x2,x3,x4,x5,x6,x7,x8: (0)\n",
      "lambda x1,x2,x3,x4,x5,x6,x7,x8: (0)\n",
      "lambda x1,x2,x3,x4,x5,x6,x7,x8: (0)\n",
      "lambda x1,x2,x3,x4,x5,x6,x7,x8: (0)\n",
      "lambda x1,x2,x3,x4,x5,x6,x7,x8: (0)\n",
      "lambda x1,x2,x3,x4,x5,x6,x7,x8: (0)\n",
      "lambda x1,x2,x3,x4,x5,x6,x7,x8: (x2*x4*x5*x7)\n",
      "lambda x1,x2,x3,x4,x5,x6,x7,x8: (0)\n",
      "lambda x1,x2,x3,x4,x5,x6,x7,x8: (0)\n",
      "lambda x1,x2,x3,x4,x5,x6,x7,x8: (0)\n",
      "lambda x1,x2,x3,x4,x5,x6,x7,x8: (0)\n",
      "lambda x1,x2,x3,x4,x5,x6,x7,x8: (0)\n",
      "lambda x1,x2,x3,x4,x5,x6,x7,x8: (x1*x3*x5*x7)\n",
      "lambda x1,x2,x3,x4,x5,x6,x7,x8: (0)\n",
      "lambda x1,x2,x3,x4,x5,x6,x7,x8: (0)\n",
      "lambda x1,x2,x3,x4,x5,x6,x7,x8: (0)\n",
      "lambda x1,x2,x3,x4,x5,x6,x7,x8: (0)\n",
      "lambda x1,x2,x3,x4,x5,x6,x7,x8: (0)\n",
      "lambda x1,x2,x3,x4,x5,x6,x7,x8: (0)\n",
      "lambda x1,x2,x3,x4,x5,x6,x7,x8: (0)\n",
      "lambda x1,x2,x3,x4,x5,x6,x7,x8: (0)\n",
      "lambda x1,x2,x3,x4,x5,x6,x7,x8: (0)\n",
      "lambda x1,x2,x3,x4,x5,x6,x7,x8: (0)\n",
      "lambda x1,x2,x3,x4,x5,x6,x7,x8: (0)\n",
      "lambda x1,x2,x3,x4,x5,x6,x7,x8: (0)\n",
      "lambda x1,x2,x3,x4,x5,x6,x7,x8: (0)\n",
      "lambda x1,x2,x3,x4,x5,x6,x7,x8: (0)\n",
      "lambda x1,x2,x3,x4,x5,x6,x7,x8: (0)\n",
      "lambda x1,x2,x3,x4,x5,x6,x7,x8: (x1*x3*x6*x8)\n",
      "lambda x1,x2,x3,x4,x5,x6,x7,x8: (0)\n",
      "lambda x1,x2,x3,x4,x5,x6,x7,x8: (0)\n",
      "lambda x1,x2,x3,x4,x5,x6,x7,x8: (0)\n",
      "lambda x1,x2,x3,x4,x5,x6,x7,x8: (0)\n",
      "lambda x1,x2,x3,x4,x5,x6,x7,x8: (0)\n",
      "lambda x1,x2,x3,x4,x5,x6,x7,x8: (0)\n",
      "lambda x1,x2,x3,x4,x5,x6,x7,x8: (0)\n",
      "lambda x1,x2,x3,x4,x5,x6,x7,x8: (0)\n",
      "lambda x1,x2,x3,x4,x5,x6,x7,x8: (0)\n",
      "lambda x1,x2,x3,x4,x5,x6,x7,x8: (0)\n",
      "lambda x1,x2,x3,x4,x5,x6,x7,x8: (0)\n",
      "lambda x1,x2,x3,x4,x5,x6,x7,x8: (x1*x3*x6*x7)\n",
      "lambda x1,x2,x3,x4,x5,x6,x7,x8: (0)\n",
      "lambda x1,x2,x3,x4,x5,x6,x7,x8: (0)\n",
      "lambda x1,x2,x3,x4,x5,x6,x7,x8: (x2*x4*x5*x8)\n",
      "lambda x1,x2,x3,x4,x5,x6,x7,x8: (0)\n",
      "lambda x1,x2,x3,x4,x5,x6,x7,x8: (0)\n",
      "lambda x1,x2,x3,x4,x5,x6,x7,x8: (0)\n",
      "lambda x1,x2,x3,x4,x5,x6,x7,x8: (0)\n",
      "lambda x1,x2,x3,x4,x5,x6,x7,x8: (x1*x4*x5*x7)\n",
      "lambda x1,x2,x3,x4,x5,x6,x7,x8: (0)\n",
      "lambda x1,x2,x3,x4,x5,x6,x7,x8: (0)\n",
      "lambda x1,x2,x3,x4,x5,x6,x7,x8: (0)\n",
      "lambda x1,x2,x3,x4,x5,x6,x7,x8: (0)\n",
      "lambda x1,x2,x3,x4,x5,x6,x7,x8: (0)\n",
      "lambda x1,x2,x3,x4,x5,x6,x7,x8: (0)\n",
      "lambda x1,x2,x3,x4,x5,x6,x7,x8: (0)\n",
      "lambda x1,x2,x3,x4,x5,x6,x7,x8: (0)\n",
      "lambda x1,x2,x3,x4,x5,x6,x7,x8: (0)\n",
      "lambda x1,x2,x3,x4,x5,x6,x7,x8: (x1*x4*x5*x8)\n",
      "lambda x1,x2,x3,x4,x5,x6,x7,x8: (0)\n",
      "lambda x1,x2,x3,x4,x5,x6,x7,x8: (x2*x3*x5*x8)\n",
      "lambda x1,x2,x3,x4,x5,x6,x7,x8: (0)\n",
      "lambda x1,x2,x3,x4,x5,x6,x7,x8: (x2*x4*x6*x8)\n",
      "lambda x1,x2,x3,x4,x5,x6,x7,x8: (0)\n",
      "lambda x1,x2,x3,x4,x5,x6,x7,x8: (0)\n",
      "lambda x1,x2,x3,x4,x5,x6,x7,x8: (0)\n",
      "lambda x1,x2,x3,x4,x5,x6,x7,x8: (0)\n",
      "lambda x1,x2,x3,x4,x5,x6,x7,x8: (0)\n",
      "lambda x1,x2,x3,x4,x5,x6,x7,x8: (x2*x3*x6*x7)\n",
      "lambda x1,x2,x3,x4,x5,x6,x7,x8: (0)\n",
      "lambda x1,x2,x3,x4,x5,x6,x7,x8: (x2*x4*x6*x7)\n",
      "lambda x1,x2,x3,x4,x5,x6,x7,x8: (0)\n",
      "lambda x1,x2,x3,x4,x5,x6,x7,x8: (0)\n",
      "lambda x1,x2,x3,x4,x5,x6,x7,x8: (x2*x3*x6*x8)\n",
      "lambda x1,x2,x3,x4,x5,x6,x7,x8: (x1*x4*x6*x7)\n",
      "lambda x1,x2,x3,x4,x5,x6,x7,x8: (0)\n",
      "lambda x1,x2,x3,x4,x5,x6,x7,x8: (x2*x3*x5*x7)\n"
     ]
    }
   ],
   "source": [
    "from sympy.utilities.lambdify import lambdastr\n",
    "\n",
    "# Variáveis que as funções irão receber\n",
    "variaveis = criar_vetor_de_simbolos(bits*2)\n",
    "\n",
    "for expr in regra:\n",
    "    print(lambdastr(variaveis, expr))"
   ]
  },
  {
   "cell_type": "code",
   "execution_count": null,
   "metadata": {},
   "outputs": [
    {
     "name": "stdout",
     "output_type": "stream",
     "text": [
      "[1 0 1 0 1 0 1 0] [0, 0, 0, 0, 0, 0, 0, 0, 0, 0, 0, 0, 0, 0, 0, 0, 0, 0, 0, 0, 0, 0, 0, 0, 0, 0, 0, 0, 0, 0, 0, 0, 0, 0, 0, 0, 0, 0, 0, 0, 0, 0, 0, 0, 0, 0, 0, 0, 0, 0, 0, 0, 0, 0, 0, 0, 0, 0, 0, 0, 0, 0, 0, 1, 0, 0, 0, 0, 0, 0, 0, 0, 0, 0, 0, 0, 0, 0, 0, 0, 0, 0, 0, 0, 0, 0, 0, 0, 0, 0, 0, 0, 0, 0, 0, 0, 0, 0, 0, 0, 0, 0, 0, 0, 0, 0, 0, 0, 0, 0, 0, 0, 0, 0, 0, 0, 0, 0, 0, 0, 0, 0, 0, 0, 0, 0, 0, 0]\n",
      "[1 0 1 0 1 0 0 1] [0, 0, 0, 0, 0, 0, 1, 0, 0, 0, 0, 0, 0, 0, 0, 0, 0, 0, 0, 0, 0, 0, 0, 0, 0, 0, 0, 0, 0, 0, 0, 0, 0, 0, 0, 0, 0, 0, 0, 0, 0, 0, 0, 0, 0, 0, 0, 0, 0, 0, 0, 0, 0, 0, 0, 0, 0, 0, 0, 0, 0, 0, 0, 0, 0, 0, 0, 0, 0, 0, 0, 0, 0, 0, 0, 0, 0, 0, 0, 0, 0, 0, 0, 0, 0, 0, 0, 0, 0, 0, 0, 0, 0, 0, 0, 0, 0, 0, 0, 0, 0, 0, 0, 0, 0, 0, 0, 0, 0, 0, 0, 0, 0, 0, 0, 0, 0, 0, 0, 0, 0, 0, 0, 0, 0, 0, 0, 0]\n",
      "[1 0 1 0 0 1 1 0] [0, 0, 0, 0, 0, 0, 0, 0, 0, 0, 0, 0, 0, 0, 0, 0, 0, 0, 0, 0, 0, 0, 0, 0, 0, 0, 0, 0, 0, 0, 0, 0, 0, 0, 0, 0, 0, 0, 0, 0, 0, 0, 0, 0, 0, 0, 0, 0, 0, 0, 0, 0, 0, 0, 0, 0, 0, 0, 0, 0, 0, 0, 0, 0, 0, 0, 0, 0, 0, 0, 0, 0, 0, 0, 0, 0, 0, 0, 0, 0, 0, 0, 0, 0, 0, 0, 0, 0, 0, 0, 0, 1, 0, 0, 0, 0, 0, 0, 0, 0, 0, 0, 0, 0, 0, 0, 0, 0, 0, 0, 0, 0, 0, 0, 0, 0, 0, 0, 0, 0, 0, 0, 0, 0, 0, 0, 0, 0]\n",
      "[1 0 1 0 0 1 0 1] [0, 0, 0, 0, 0, 0, 0, 0, 0, 0, 0, 0, 0, 0, 0, 0, 0, 0, 0, 0, 0, 0, 0, 0, 0, 0, 0, 0, 0, 0, 0, 0, 0, 0, 0, 0, 0, 0, 0, 0, 0, 0, 0, 0, 0, 0, 0, 0, 0, 0, 0, 0, 0, 0, 0, 0, 0, 0, 0, 0, 0, 0, 0, 0, 0, 0, 0, 0, 0, 0, 0, 0, 0, 0, 0, 0, 0, 0, 0, 1, 0, 0, 0, 0, 0, 0, 0, 0, 0, 0, 0, 0, 0, 0, 0, 0, 0, 0, 0, 0, 0, 0, 0, 0, 0, 0, 0, 0, 0, 0, 0, 0, 0, 0, 0, 0, 0, 0, 0, 0, 0, 0, 0, 0, 0, 0, 0, 0]\n",
      "[1 0 0 1 1 0 1 0] [0, 0, 0, 0, 0, 0, 0, 0, 0, 0, 0, 0, 0, 0, 0, 0, 0, 0, 0, 0, 0, 0, 0, 0, 0, 0, 0, 0, 0, 0, 0, 0, 0, 0, 0, 0, 0, 0, 0, 0, 0, 0, 0, 0, 0, 0, 0, 0, 0, 0, 0, 0, 0, 0, 0, 0, 0, 0, 0, 0, 0, 0, 0, 0, 0, 0, 0, 0, 0, 0, 0, 0, 0, 0, 0, 0, 0, 0, 0, 0, 0, 0, 0, 0, 0, 0, 0, 0, 0, 0, 0, 0, 0, 0, 0, 0, 0, 0, 0, 1, 0, 0, 0, 0, 0, 0, 0, 0, 0, 0, 0, 0, 0, 0, 0, 0, 0, 0, 0, 0, 0, 0, 0, 0, 0, 0, 0, 0]\n",
      "[1 0 0 1 1 0 0 1] [0, 0, 0, 0, 0, 0, 0, 0, 0, 0, 0, 0, 0, 0, 0, 0, 0, 0, 0, 0, 0, 0, 0, 0, 0, 0, 0, 0, 0, 0, 0, 0, 0, 0, 0, 0, 0, 0, 0, 0, 0, 0, 0, 0, 0, 0, 0, 0, 0, 0, 0, 0, 0, 0, 0, 0, 0, 0, 0, 0, 0, 0, 0, 0, 0, 0, 0, 0, 0, 0, 0, 0, 0, 0, 0, 0, 0, 0, 0, 0, 0, 0, 0, 0, 0, 0, 0, 0, 0, 0, 0, 0, 0, 0, 0, 0, 0, 0, 0, 0, 0, 0, 0, 0, 0, 0, 0, 0, 0, 1, 0, 0, 0, 0, 0, 0, 0, 0, 0, 0, 0, 0, 0, 0, 0, 0, 0, 0]\n",
      "[1 0 0 1 0 1 1 0] [0, 0, 0, 0, 0, 0, 0, 0, 0, 0, 0, 0, 0, 0, 0, 0, 0, 0, 0, 0, 0, 0, 0, 0, 0, 0, 0, 0, 0, 0, 0, 0, 0, 0, 0, 0, 0, 0, 0, 0, 0, 0, 0, 0, 0, 0, 0, 0, 0, 0, 0, 0, 0, 0, 0, 0, 0, 0, 0, 0, 0, 0, 0, 0, 0, 0, 0, 0, 0, 0, 0, 0, 0, 0, 0, 0, 0, 0, 0, 0, 0, 0, 0, 0, 0, 0, 0, 0, 0, 0, 0, 0, 0, 0, 0, 0, 0, 0, 0, 0, 0, 0, 0, 0, 0, 0, 0, 0, 0, 0, 0, 0, 0, 0, 0, 0, 0, 0, 0, 0, 0, 0, 0, 0, 0, 1, 0, 0]\n",
      "[1 0 0 1 0 1 0 1] [0, 0, 0, 0, 0, 0, 0, 1, 0, 0, 0, 0, 0, 0, 0, 0, 0, 0, 0, 0, 0, 0, 0, 0, 0, 0, 0, 0, 0, 0, 0, 0, 0, 0, 0, 0, 0, 0, 0, 0, 0, 0, 0, 0, 0, 0, 0, 0, 0, 0, 0, 0, 0, 0, 0, 0, 0, 0, 0, 0, 0, 0, 0, 0, 0, 0, 0, 0, 0, 0, 0, 0, 0, 0, 0, 0, 0, 0, 0, 0, 0, 0, 0, 0, 0, 0, 0, 0, 0, 0, 0, 0, 0, 0, 0, 0, 0, 0, 0, 0, 0, 0, 0, 0, 0, 0, 0, 0, 0, 0, 0, 0, 0, 0, 0, 0, 0, 0, 0, 0, 0, 0, 0, 0, 0, 0, 0, 0]\n",
      "[0 1 1 0 1 0 1 0] [0, 0, 0, 0, 0, 0, 0, 0, 0, 0, 0, 0, 0, 0, 0, 0, 0, 0, 0, 0, 0, 0, 0, 0, 0, 0, 0, 0, 0, 0, 0, 0, 0, 0, 0, 0, 0, 0, 0, 0, 0, 0, 0, 0, 0, 0, 0, 0, 0, 0, 0, 0, 0, 0, 0, 0, 0, 0, 0, 0, 0, 0, 0, 0, 0, 0, 0, 0, 0, 0, 0, 0, 0, 0, 0, 0, 0, 0, 0, 0, 0, 0, 0, 0, 0, 0, 0, 0, 0, 0, 0, 0, 0, 0, 0, 0, 0, 0, 0, 0, 0, 0, 0, 0, 0, 0, 0, 0, 0, 0, 0, 0, 0, 0, 0, 0, 0, 0, 0, 0, 0, 0, 0, 0, 0, 0, 0, 1]\n",
      "[0 1 1 0 1 0 0 1] [0, 0, 0, 0, 0, 0, 0, 0, 0, 0, 0, 0, 0, 0, 0, 0, 0, 0, 0, 0, 0, 0, 0, 0, 0, 0, 0, 0, 0, 0, 0, 0, 0, 0, 0, 0, 0, 0, 0, 0, 0, 0, 0, 0, 0, 0, 0, 0, 0, 0, 0, 0, 0, 0, 0, 0, 0, 0, 0, 0, 0, 0, 0, 0, 0, 0, 0, 0, 0, 0, 0, 0, 0, 0, 0, 0, 0, 0, 0, 0, 0, 0, 0, 0, 0, 0, 0, 0, 0, 0, 0, 0, 0, 0, 0, 0, 0, 0, 0, 0, 0, 0, 0, 0, 0, 0, 0, 0, 0, 0, 0, 1, 0, 0, 0, 0, 0, 0, 0, 0, 0, 0, 0, 0, 0, 0, 0, 0]\n",
      "[0 1 1 0 0 1 1 0] [0, 0, 0, 0, 0, 0, 0, 0, 0, 0, 0, 0, 0, 0, 0, 0, 0, 0, 0, 0, 0, 0, 0, 0, 0, 0, 0, 0, 0, 0, 0, 0, 0, 0, 0, 0, 0, 0, 0, 0, 0, 0, 0, 0, 0, 0, 0, 0, 0, 0, 0, 0, 0, 0, 0, 0, 0, 0, 0, 0, 0, 0, 0, 0, 0, 0, 0, 0, 0, 0, 0, 0, 0, 0, 0, 0, 0, 0, 0, 0, 0, 0, 0, 0, 0, 0, 0, 0, 0, 0, 0, 0, 0, 0, 0, 0, 0, 0, 0, 0, 0, 0, 0, 0, 0, 0, 0, 0, 0, 0, 0, 0, 0, 0, 0, 0, 0, 0, 0, 1, 0, 0, 0, 0, 0, 0, 0, 0]\n",
      "[0 1 1 0 0 1 0 1] [0, 0, 0, 0, 0, 0, 0, 0, 0, 0, 0, 0, 0, 0, 0, 0, 0, 0, 0, 0, 0, 0, 0, 0, 0, 0, 0, 0, 0, 0, 0, 0, 0, 0, 0, 0, 0, 0, 0, 0, 0, 0, 0, 0, 0, 0, 0, 0, 0, 0, 0, 0, 0, 0, 0, 0, 0, 0, 0, 0, 0, 0, 0, 0, 0, 0, 0, 0, 0, 0, 0, 0, 0, 0, 0, 0, 0, 0, 0, 0, 0, 0, 0, 0, 0, 0, 0, 0, 0, 0, 0, 0, 0, 0, 0, 0, 0, 0, 0, 0, 0, 0, 0, 0, 0, 0, 0, 0, 0, 0, 0, 0, 0, 0, 0, 0, 0, 0, 0, 0, 0, 0, 0, 0, 1, 0, 0, 0]\n",
      "[0 1 0 1 1 0 1 0] [0, 0, 0, 0, 0, 0, 0, 0, 0, 0, 0, 0, 0, 0, 0, 0, 0, 0, 0, 0, 0, 0, 0, 0, 0, 0, 0, 0, 0, 0, 0, 0, 0, 0, 0, 0, 0, 0, 0, 0, 0, 0, 0, 0, 0, 0, 0, 0, 0, 0, 0, 0, 0, 0, 0, 0, 0, 1, 0, 0, 0, 0, 0, 0, 0, 0, 0, 0, 0, 0, 0, 0, 0, 0, 0, 0, 0, 0, 0, 0, 0, 0, 0, 0, 0, 0, 0, 0, 0, 0, 0, 0, 0, 0, 0, 0, 0, 0, 0, 0, 0, 0, 0, 0, 0, 0, 0, 0, 0, 0, 0, 0, 0, 0, 0, 0, 0, 0, 0, 0, 0, 0, 0, 0, 0, 0, 0, 0]\n",
      "[0 1 0 1 1 0 0 1] [0, 0, 0, 0, 0, 0, 0, 0, 0, 0, 0, 0, 0, 0, 0, 0, 0, 0, 0, 0, 0, 0, 0, 0, 0, 0, 0, 0, 0, 0, 0, 0, 0, 0, 0, 0, 0, 0, 0, 0, 0, 0, 0, 0, 0, 0, 0, 0, 0, 0, 0, 0, 0, 0, 0, 0, 0, 0, 0, 0, 0, 0, 0, 0, 0, 0, 0, 0, 0, 0, 0, 0, 0, 0, 0, 0, 0, 0, 0, 0, 0, 0, 0, 0, 0, 0, 0, 0, 0, 0, 0, 0, 0, 0, 1, 0, 0, 0, 0, 0, 0, 0, 0, 0, 0, 0, 0, 0, 0, 0, 0, 0, 0, 0, 0, 0, 0, 0, 0, 0, 0, 0, 0, 0, 0, 0, 0, 0]\n",
      "[0 1 0 1 0 1 1 0] [0, 0, 0, 0, 0, 0, 0, 0, 0, 0, 0, 0, 0, 0, 0, 0, 0, 0, 0, 0, 0, 0, 0, 0, 0, 0, 0, 0, 0, 0, 0, 0, 0, 0, 0, 0, 0, 0, 0, 0, 0, 0, 0, 0, 0, 0, 0, 0, 0, 0, 0, 0, 0, 0, 0, 0, 0, 0, 0, 0, 0, 0, 0, 0, 0, 0, 0, 0, 0, 0, 0, 0, 0, 0, 0, 0, 0, 0, 0, 0, 0, 0, 0, 0, 0, 0, 0, 0, 0, 0, 0, 0, 0, 0, 0, 0, 0, 0, 0, 0, 0, 0, 0, 0, 0, 0, 0, 0, 0, 0, 0, 0, 0, 0, 0, 0, 0, 0, 0, 0, 0, 1, 0, 0, 0, 0, 0, 0]\n",
      "[0 1 0 1 0 1 0 1] [0, 0, 0, 0, 0, 0, 0, 0, 0, 0, 0, 0, 0, 0, 0, 0, 0, 0, 0, 0, 0, 0, 0, 0, 0, 0, 0, 0, 0, 0, 0, 0, 0, 0, 0, 0, 0, 0, 0, 0, 0, 0, 0, 0, 0, 0, 0, 0, 0, 0, 0, 0, 0, 0, 0, 0, 0, 0, 0, 0, 0, 0, 0, 0, 0, 0, 0, 0, 0, 0, 0, 0, 0, 0, 0, 0, 0, 0, 0, 0, 0, 0, 0, 0, 0, 0, 0, 0, 0, 0, 0, 0, 0, 0, 0, 0, 0, 0, 0, 0, 0, 0, 0, 0, 0, 0, 0, 0, 0, 0, 0, 0, 0, 1, 0, 0, 0, 0, 0, 0, 0, 0, 0, 0, 0, 0, 0, 0]\n"
     ]
    }
   ],
   "source": [
    "import itertools\n",
    "\n",
    "# Usando produto cartesiano\n",
    "combinacoes = list(itertools.product([0, 1], repeat=4))\n",
    "\n",
    "for comb in combinacoes:\n",
    "\t# Converte cada bit da combinação para um vetor binário e achata em uma única dimensão\n",
    "\tvalores = np.array([decimal_para_binario_vetor(bit, 1) for bit in comb]).flatten()\n",
    "\tprint(valores,[f(*valores) for f in funcoes])"
   ]
  }
 ],
 "metadata": {
  "kernelspec": {
   "display_name": "base",
   "language": "python",
   "name": "python3"
  },
  "language_info": {
   "codemirror_mode": {
    "name": "ipython",
    "version": 3
   },
   "file_extension": ".py",
   "mimetype": "text/x-python",
   "name": "python",
   "nbconvert_exporter": "python",
   "pygments_lexer": "ipython3",
   "version": "3.12.7"
  }
 },
 "nbformat": 4,
 "nbformat_minor": 2
}
