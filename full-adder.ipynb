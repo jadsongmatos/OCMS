{
 "cells": [
  {
   "cell_type": "code",
   "execution_count": 1,
   "id": "89c75c22",
   "metadata": {},
   "outputs": [],
   "source": [
    "import numpy as np\n",
    "import sympy as sp"
   ]
  },
  {
   "cell_type": "code",
   "execution_count": 2,
   "id": "000ee946",
   "metadata": {},
   "outputs": [],
   "source": [
    "def criar_vetor_de_simbolos(tamanho):\n",
    "    \"\"\"\n",
    "    Cria um vetor (lista) de símbolos SymPy com o tamanho especificado.\n",
    "\n",
    "    Parameters:\n",
    "    tamanho (int): O número de símbolos a serem criados.\n",
    "\n",
    "    Returns:\n",
    "    list: Lista contendo os símbolos criados.\n",
    "    \"\"\"\n",
    "    # Cria os símbolos usando sp.symbols\n",
    "    return sp.symbols(f'x1:{tamanho+1}')"
   ]
  },
  {
   "cell_type": "code",
   "execution_count": 3,
   "id": "ba94d61a",
   "metadata": {},
   "outputs": [],
   "source": [
    "# Função para calcular o produto Kronecker considerando binário exclusivo\n",
    "def kronecker_binary(vectors):\n",
    "    result = np.array([1])  # Inicia com o elemento neutro da multiplicação\n",
    "    for v in vectors:\n",
    "        result = np.kron(result, v)\n",
    "    return result"
   ]
  },
  {
   "cell_type": "code",
   "execution_count": 4,
   "id": "d7ba8c55",
   "metadata": {},
   "outputs": [],
   "source": [
    "def decimal_para_binario_vetor(numero_decimal, tamanho_bits=8):\n",
    "    \"\"\"\n",
    "    Converte um número decimal para um vetor binário usando produtos de Kronecker.\n",
    "\n",
    "    Args:\n",
    "        numero_decimal (int): Número decimal a ser convertido.\n",
    "        tamanho_bits (int, opcional): Número de bits para representar o número binário. Padrão é 8.\n",
    "\n",
    "    Returns:\n",
    "        np.ndarray: Vetor resultante da conversão.\n",
    "    \n",
    "    Raises:\n",
    "        ValueError: Se o número decimal for negativo ou se o tamanho de bits for insuficiente.\n",
    "    \"\"\"\n",
    "    # Mapeamento dos caracteres binários para os vetores desejados\n",
    "    mapeamento = {'0': [1, 0], '1': [0, 1]}\n",
    "\n",
    "    # Verifica se o número é um inteiro não negativo\n",
    "    if not isinstance(numero_decimal, int):\n",
    "        print(numero_decimal)\n",
    "        raise TypeError(\"O número decimal deve ser um inteiro.\")\n",
    "    if numero_decimal < 0:\n",
    "        raise ValueError(\"A função não suporta números decimais negativos.\")\n",
    "\n",
    "    # Converter o número decimal para binário e remover o prefixo '0b'\n",
    "    numero_binario = bin(numero_decimal)[2:]\n",
    "\n",
    "    # Verifica se o número binário cabe no tamanho de bits desejado\n",
    "    if len(numero_binario) > tamanho_bits:\n",
    "        raise ValueError(f\"O número binário '{numero_binario}' excede o tamanho de bits especificado ({tamanho_bits} bits).\")\n",
    "\n",
    "    # Adiciona zeros à esquerda para completar o tamanho de bits desejado\n",
    "    numero_binario = numero_binario.zfill(tamanho_bits)\n",
    "\n",
    "    # Inicializa o vetor com 1 para o produto de Kronecker\n",
    "    vetor = np.array([1])\n",
    "    \n",
    "    # Aplica o produto de Kronecker para cada dígito binário\n",
    "    for digito in numero_binario:\n",
    "        vetor = np.kron(vetor, mapeamento[digito])\n",
    "\n",
    "    return vetor"
   ]
  },
  {
   "cell_type": "code",
   "execution_count": 27,
   "id": "715de1f0",
   "metadata": {},
   "outputs": [
    {
     "data": {
      "text/latex": [
       "$\\displaystyle \\left[\\begin{matrix}x_{1} x_{3} x_{5} x_{7} x_{9}\\\\x_{1} x_{10} x_{3} x_{5} x_{7}\\\\x_{1} x_{3} x_{5} x_{8} x_{9}\\\\x_{1} x_{10} x_{3} x_{5} x_{8}\\\\x_{1} x_{3} x_{6} x_{7} x_{9}\\\\x_{1} x_{10} x_{3} x_{6} x_{7}\\\\x_{1} x_{3} x_{6} x_{8} x_{9}\\\\x_{1} x_{10} x_{3} x_{6} x_{8}\\\\x_{1} x_{4} x_{5} x_{7} x_{9}\\\\x_{1} x_{10} x_{4} x_{5} x_{7}\\\\x_{1} x_{4} x_{5} x_{8} x_{9}\\\\x_{1} x_{10} x_{4} x_{5} x_{8}\\\\x_{1} x_{4} x_{6} x_{7} x_{9}\\\\x_{1} x_{10} x_{4} x_{6} x_{7}\\\\x_{1} x_{4} x_{6} x_{8} x_{9}\\\\x_{1} x_{10} x_{4} x_{6} x_{8}\\\\x_{2} x_{3} x_{5} x_{7} x_{9}\\\\x_{10} x_{2} x_{3} x_{5} x_{7}\\\\x_{2} x_{3} x_{5} x_{8} x_{9}\\\\x_{10} x_{2} x_{3} x_{5} x_{8}\\\\x_{2} x_{3} x_{6} x_{7} x_{9}\\\\x_{10} x_{2} x_{3} x_{6} x_{7}\\\\x_{2} x_{3} x_{6} x_{8} x_{9}\\\\x_{10} x_{2} x_{3} x_{6} x_{8}\\\\x_{2} x_{4} x_{5} x_{7} x_{9}\\\\x_{10} x_{2} x_{4} x_{5} x_{7}\\\\x_{2} x_{4} x_{5} x_{8} x_{9}\\\\x_{10} x_{2} x_{4} x_{5} x_{8}\\\\x_{2} x_{4} x_{6} x_{7} x_{9}\\\\x_{10} x_{2} x_{4} x_{6} x_{7}\\\\x_{2} x_{4} x_{6} x_{8} x_{9}\\\\x_{10} x_{2} x_{4} x_{6} x_{8}\\end{matrix}\\right]$"
      ],
      "text/plain": [
       "Matrix([\n",
       "[ x1*x3*x5*x7*x9],\n",
       "[x1*x10*x3*x5*x7],\n",
       "[ x1*x3*x5*x8*x9],\n",
       "[x1*x10*x3*x5*x8],\n",
       "[ x1*x3*x6*x7*x9],\n",
       "[x1*x10*x3*x6*x7],\n",
       "[ x1*x3*x6*x8*x9],\n",
       "[x1*x10*x3*x6*x8],\n",
       "[ x1*x4*x5*x7*x9],\n",
       "[x1*x10*x4*x5*x7],\n",
       "[ x1*x4*x5*x8*x9],\n",
       "[x1*x10*x4*x5*x8],\n",
       "[ x1*x4*x6*x7*x9],\n",
       "[x1*x10*x4*x6*x7],\n",
       "[ x1*x4*x6*x8*x9],\n",
       "[x1*x10*x4*x6*x8],\n",
       "[ x2*x3*x5*x7*x9],\n",
       "[x10*x2*x3*x5*x7],\n",
       "[ x2*x3*x5*x8*x9],\n",
       "[x10*x2*x3*x5*x8],\n",
       "[ x2*x3*x6*x7*x9],\n",
       "[x10*x2*x3*x6*x7],\n",
       "[ x2*x3*x6*x8*x9],\n",
       "[x10*x2*x3*x6*x8],\n",
       "[ x2*x4*x5*x7*x9],\n",
       "[x10*x2*x4*x5*x7],\n",
       "[ x2*x4*x5*x8*x9],\n",
       "[x10*x2*x4*x5*x8],\n",
       "[ x2*x4*x6*x7*x9],\n",
       "[x10*x2*x4*x6*x7],\n",
       "[ x2*x4*x6*x8*x9],\n",
       "[x10*x2*x4*x6*x8]])"
      ]
     },
     "execution_count": 27,
     "metadata": {},
     "output_type": "execute_result"
    }
   ],
   "source": [
    "bits = 5\n",
    "variaveis = sp.Matrix(kronecker_binary(np.array_split(criar_vetor_de_simbolos(bits*2), bits)))\n",
    "variaveis"
   ]
  },
  {
   "cell_type": "code",
   "execution_count": 17,
   "id": "38005c23",
   "metadata": {},
   "outputs": [
    {
     "data": {
      "application/vnd.microsoft.datawrangler.viewer.v0+json": {
       "columns": [
        {
         "name": "index",
         "rawType": "int64",
         "type": "integer"
        },
        {
         "name": "S1",
         "rawType": "int64",
         "type": "integer"
        },
        {
         "name": "S0",
         "rawType": "int64",
         "type": "integer"
        },
        {
         "name": "Cout",
         "rawType": "int64",
         "type": "integer"
        }
       ],
       "conversionMethod": "pd.DataFrame",
       "ref": "66c8a0e4-d597-4f72-9a66-4698d584105f",
       "rows": [
        [
         "0",
         "0",
         "0",
         "0"
        ],
        [
         "1",
         "0",
         "1",
         "0"
        ],
        [
         "2",
         "0",
         "1",
         "0"
        ],
        [
         "3",
         "1",
         "0",
         "0"
        ],
        [
         "4",
         "1",
         "0",
         "0"
        ],
        [
         "5",
         "1",
         "1",
         "0"
        ],
        [
         "6",
         "1",
         "1",
         "0"
        ],
        [
         "7",
         "0",
         "0",
         "1"
        ],
        [
         "8",
         "0",
         "1",
         "0"
        ],
        [
         "9",
         "1",
         "0",
         "0"
        ],
        [
         "10",
         "1",
         "0",
         "0"
        ],
        [
         "11",
         "1",
         "1",
         "0"
        ],
        [
         "12",
         "1",
         "1",
         "0"
        ],
        [
         "13",
         "0",
         "0",
         "1"
        ],
        [
         "14",
         "0",
         "0",
         "1"
        ],
        [
         "15",
         "0",
         "1",
         "1"
        ],
        [
         "16",
         "1",
         "0",
         "0"
        ],
        [
         "17",
         "1",
         "1",
         "0"
        ],
        [
         "18",
         "1",
         "1",
         "0"
        ],
        [
         "19",
         "0",
         "0",
         "1"
        ],
        [
         "20",
         "0",
         "0",
         "1"
        ],
        [
         "21",
         "0",
         "1",
         "1"
        ],
        [
         "22",
         "0",
         "1",
         "1"
        ],
        [
         "23",
         "1",
         "0",
         "1"
        ],
        [
         "24",
         "1",
         "1",
         "0"
        ],
        [
         "25",
         "0",
         "0",
         "1"
        ],
        [
         "26",
         "0",
         "0",
         "1"
        ],
        [
         "27",
         "0",
         "1",
         "1"
        ],
        [
         "28",
         "0",
         "1",
         "1"
        ],
        [
         "29",
         "1",
         "0",
         "1"
        ],
        [
         "30",
         "1",
         "0",
         "1"
        ],
        [
         "31",
         "1",
         "1",
         "1"
        ]
       ],
       "shape": {
        "columns": 3,
        "rows": 32
       }
      },
      "text/html": [
       "<div>\n",
       "<style scoped>\n",
       "    .dataframe tbody tr th:only-of-type {\n",
       "        vertical-align: middle;\n",
       "    }\n",
       "\n",
       "    .dataframe tbody tr th {\n",
       "        vertical-align: top;\n",
       "    }\n",
       "\n",
       "    .dataframe thead th {\n",
       "        text-align: right;\n",
       "    }\n",
       "</style>\n",
       "<table border=\"1\" class=\"dataframe\">\n",
       "  <thead>\n",
       "    <tr style=\"text-align: right;\">\n",
       "      <th></th>\n",
       "      <th>S1</th>\n",
       "      <th>S0</th>\n",
       "      <th>Cout</th>\n",
       "    </tr>\n",
       "  </thead>\n",
       "  <tbody>\n",
       "    <tr>\n",
       "      <th>0</th>\n",
       "      <td>0</td>\n",
       "      <td>0</td>\n",
       "      <td>0</td>\n",
       "    </tr>\n",
       "    <tr>\n",
       "      <th>1</th>\n",
       "      <td>0</td>\n",
       "      <td>1</td>\n",
       "      <td>0</td>\n",
       "    </tr>\n",
       "    <tr>\n",
       "      <th>2</th>\n",
       "      <td>0</td>\n",
       "      <td>1</td>\n",
       "      <td>0</td>\n",
       "    </tr>\n",
       "    <tr>\n",
       "      <th>3</th>\n",
       "      <td>1</td>\n",
       "      <td>0</td>\n",
       "      <td>0</td>\n",
       "    </tr>\n",
       "    <tr>\n",
       "      <th>4</th>\n",
       "      <td>1</td>\n",
       "      <td>0</td>\n",
       "      <td>0</td>\n",
       "    </tr>\n",
       "    <tr>\n",
       "      <th>5</th>\n",
       "      <td>1</td>\n",
       "      <td>1</td>\n",
       "      <td>0</td>\n",
       "    </tr>\n",
       "    <tr>\n",
       "      <th>6</th>\n",
       "      <td>1</td>\n",
       "      <td>1</td>\n",
       "      <td>0</td>\n",
       "    </tr>\n",
       "    <tr>\n",
       "      <th>7</th>\n",
       "      <td>0</td>\n",
       "      <td>0</td>\n",
       "      <td>1</td>\n",
       "    </tr>\n",
       "    <tr>\n",
       "      <th>8</th>\n",
       "      <td>0</td>\n",
       "      <td>1</td>\n",
       "      <td>0</td>\n",
       "    </tr>\n",
       "    <tr>\n",
       "      <th>9</th>\n",
       "      <td>1</td>\n",
       "      <td>0</td>\n",
       "      <td>0</td>\n",
       "    </tr>\n",
       "    <tr>\n",
       "      <th>10</th>\n",
       "      <td>1</td>\n",
       "      <td>0</td>\n",
       "      <td>0</td>\n",
       "    </tr>\n",
       "    <tr>\n",
       "      <th>11</th>\n",
       "      <td>1</td>\n",
       "      <td>1</td>\n",
       "      <td>0</td>\n",
       "    </tr>\n",
       "    <tr>\n",
       "      <th>12</th>\n",
       "      <td>1</td>\n",
       "      <td>1</td>\n",
       "      <td>0</td>\n",
       "    </tr>\n",
       "    <tr>\n",
       "      <th>13</th>\n",
       "      <td>0</td>\n",
       "      <td>0</td>\n",
       "      <td>1</td>\n",
       "    </tr>\n",
       "    <tr>\n",
       "      <th>14</th>\n",
       "      <td>0</td>\n",
       "      <td>0</td>\n",
       "      <td>1</td>\n",
       "    </tr>\n",
       "    <tr>\n",
       "      <th>15</th>\n",
       "      <td>0</td>\n",
       "      <td>1</td>\n",
       "      <td>1</td>\n",
       "    </tr>\n",
       "    <tr>\n",
       "      <th>16</th>\n",
       "      <td>1</td>\n",
       "      <td>0</td>\n",
       "      <td>0</td>\n",
       "    </tr>\n",
       "    <tr>\n",
       "      <th>17</th>\n",
       "      <td>1</td>\n",
       "      <td>1</td>\n",
       "      <td>0</td>\n",
       "    </tr>\n",
       "    <tr>\n",
       "      <th>18</th>\n",
       "      <td>1</td>\n",
       "      <td>1</td>\n",
       "      <td>0</td>\n",
       "    </tr>\n",
       "    <tr>\n",
       "      <th>19</th>\n",
       "      <td>0</td>\n",
       "      <td>0</td>\n",
       "      <td>1</td>\n",
       "    </tr>\n",
       "    <tr>\n",
       "      <th>20</th>\n",
       "      <td>0</td>\n",
       "      <td>0</td>\n",
       "      <td>1</td>\n",
       "    </tr>\n",
       "    <tr>\n",
       "      <th>21</th>\n",
       "      <td>0</td>\n",
       "      <td>1</td>\n",
       "      <td>1</td>\n",
       "    </tr>\n",
       "    <tr>\n",
       "      <th>22</th>\n",
       "      <td>0</td>\n",
       "      <td>1</td>\n",
       "      <td>1</td>\n",
       "    </tr>\n",
       "    <tr>\n",
       "      <th>23</th>\n",
       "      <td>1</td>\n",
       "      <td>0</td>\n",
       "      <td>1</td>\n",
       "    </tr>\n",
       "    <tr>\n",
       "      <th>24</th>\n",
       "      <td>1</td>\n",
       "      <td>1</td>\n",
       "      <td>0</td>\n",
       "    </tr>\n",
       "    <tr>\n",
       "      <th>25</th>\n",
       "      <td>0</td>\n",
       "      <td>0</td>\n",
       "      <td>1</td>\n",
       "    </tr>\n",
       "    <tr>\n",
       "      <th>26</th>\n",
       "      <td>0</td>\n",
       "      <td>0</td>\n",
       "      <td>1</td>\n",
       "    </tr>\n",
       "    <tr>\n",
       "      <th>27</th>\n",
       "      <td>0</td>\n",
       "      <td>1</td>\n",
       "      <td>1</td>\n",
       "    </tr>\n",
       "    <tr>\n",
       "      <th>28</th>\n",
       "      <td>0</td>\n",
       "      <td>1</td>\n",
       "      <td>1</td>\n",
       "    </tr>\n",
       "    <tr>\n",
       "      <th>29</th>\n",
       "      <td>1</td>\n",
       "      <td>0</td>\n",
       "      <td>1</td>\n",
       "    </tr>\n",
       "    <tr>\n",
       "      <th>30</th>\n",
       "      <td>1</td>\n",
       "      <td>0</td>\n",
       "      <td>1</td>\n",
       "    </tr>\n",
       "    <tr>\n",
       "      <th>31</th>\n",
       "      <td>1</td>\n",
       "      <td>1</td>\n",
       "      <td>1</td>\n",
       "    </tr>\n",
       "  </tbody>\n",
       "</table>\n",
       "</div>"
      ],
      "text/plain": [
       "    S1  S0  Cout\n",
       "0    0   0     0\n",
       "1    0   1     0\n",
       "2    0   1     0\n",
       "3    1   0     0\n",
       "4    1   0     0\n",
       "5    1   1     0\n",
       "6    1   1     0\n",
       "7    0   0     1\n",
       "8    0   1     0\n",
       "9    1   0     0\n",
       "10   1   0     0\n",
       "11   1   1     0\n",
       "12   1   1     0\n",
       "13   0   0     1\n",
       "14   0   0     1\n",
       "15   0   1     1\n",
       "16   1   0     0\n",
       "17   1   1     0\n",
       "18   1   1     0\n",
       "19   0   0     1\n",
       "20   0   0     1\n",
       "21   0   1     1\n",
       "22   0   1     1\n",
       "23   1   0     1\n",
       "24   1   1     0\n",
       "25   0   0     1\n",
       "26   0   0     1\n",
       "27   0   1     1\n",
       "28   0   1     1\n",
       "29   1   0     1\n",
       "30   1   0     1\n",
       "31   1   1     1"
      ]
     },
     "execution_count": 17,
     "metadata": {},
     "output_type": "execute_result"
    }
   ],
   "source": [
    "import pandas as pd\n",
    "\n",
    "data = {\n",
    "  \"S1\": [\"0\", \"0\", \"0\", \"1\", \"1\", \"1\", \"1\", \"0\", \"0\", \"1\", \"1\", \"1\", \"1\", \"0\", \"0\", \"0\", \"1\", \"1\", \"1\", \"0\", \"0\", \"0\", \"0\", \"1\", \"1\", \"0\", \"0\", \"0\", \"0\", \"1\", \"1\", \"1\"],\n",
    "  \"S0\": [\"0\", \"1\", \"1\", \"0\", \"0\", \"1\", \"1\", \"0\", \"1\", \"0\", \"0\", \"1\", \"1\", \"0\", \"0\", \"1\", \"0\", \"1\", \"1\", \"0\", \"0\", \"1\", \"1\", \"0\", \"1\", \"0\", \"0\", \"1\", \"1\", \"0\", \"0\", \"1\"],\n",
    "  \"Cout\": [\"0\", \"0\", \"0\", \"0\", \"0\", \"0\", \"0\", \"1\", \"0\", \"0\", \"0\", \"0\", \"0\", \"1\", \"1\", \"1\", \"0\", \"0\", \"0\", \"1\", \"1\", \"1\", \"1\", \"1\", \"0\", \"1\", \"1\", \"1\", \"1\", \"1\", \"1\", \"1\"]\n",
    "}\n",
    "\n",
    "tabela_verdade = pd.DataFrame(data)\n",
    "tabela_verdade = tabela_verdade.astype(int)\n",
    "tabela_verdade"
   ]
  },
  {
   "cell_type": "code",
   "execution_count": 18,
   "id": "3c9e909f",
   "metadata": {},
   "outputs": [
    {
     "name": "stdout",
     "output_type": "stream",
     "text": [
      "S1      int64\n",
      "S0      int64\n",
      "Cout    int64\n",
      "dtype: object\n"
     ]
    }
   ],
   "source": [
    "print(tabela_verdade.dtypes)"
   ]
  },
  {
   "cell_type": "code",
   "execution_count": 19,
   "id": "6845aa89",
   "metadata": {},
   "outputs": [
    {
     "data": {
      "text/plain": [
       "array([0, 2, 2, 4, 4, 6, 6, 1, 2, 4, 4, 6, 6, 1, 1, 3, 4, 6, 6, 1, 1, 3,\n",
       "       3, 5, 6, 1, 1, 3, 3, 5, 5, 7])"
      ]
     },
     "execution_count": 19,
     "metadata": {},
     "output_type": "execute_result"
    }
   ],
   "source": [
    "vetor_dec = np.array([int(\"\".join(map(str, row)), 2) for row in tabela_verdade.to_numpy()])\n",
    "vetor_dec"
   ]
  },
  {
   "cell_type": "code",
   "execution_count": 26,
   "id": "f8f4baed",
   "metadata": {},
   "outputs": [
    {
     "data": {
      "text/latex": [
       "$\\displaystyle \\left[\\begin{array}{cccccccccccccccccccccccccccccccc}1 & 0 & 0 & 0 & 0 & 0 & 0 & 0 & 0 & 0 & 0 & 0 & 0 & 0 & 0 & 0 & 0 & 0 & 0 & 0 & 0 & 0 & 0 & 0 & 0 & 0 & 0 & 0 & 0 & 0 & 0 & 0\\\\0 & 0 & 0 & 0 & 0 & 0 & 0 & 1 & 0 & 0 & 0 & 0 & 0 & 1 & 1 & 0 & 0 & 0 & 0 & 1 & 1 & 0 & 0 & 0 & 0 & 1 & 1 & 0 & 0 & 0 & 0 & 0\\\\0 & 1 & 1 & 0 & 0 & 0 & 0 & 0 & 1 & 0 & 0 & 0 & 0 & 0 & 0 & 0 & 0 & 0 & 0 & 0 & 0 & 0 & 0 & 0 & 0 & 0 & 0 & 0 & 0 & 0 & 0 & 0\\\\0 & 0 & 0 & 0 & 0 & 0 & 0 & 0 & 0 & 0 & 0 & 0 & 0 & 0 & 0 & 1 & 0 & 0 & 0 & 0 & 0 & 1 & 1 & 0 & 0 & 0 & 0 & 1 & 1 & 0 & 0 & 0\\\\0 & 0 & 0 & 1 & 1 & 0 & 0 & 0 & 0 & 1 & 1 & 0 & 0 & 0 & 0 & 0 & 1 & 0 & 0 & 0 & 0 & 0 & 0 & 0 & 0 & 0 & 0 & 0 & 0 & 0 & 0 & 0\\\\0 & 0 & 0 & 0 & 0 & 0 & 0 & 0 & 0 & 0 & 0 & 0 & 0 & 0 & 0 & 0 & 0 & 0 & 0 & 0 & 0 & 0 & 0 & 1 & 0 & 0 & 0 & 0 & 0 & 1 & 1 & 0\\\\0 & 0 & 0 & 0 & 0 & 1 & 1 & 0 & 0 & 0 & 0 & 1 & 1 & 0 & 0 & 0 & 0 & 1 & 1 & 0 & 0 & 0 & 0 & 0 & 1 & 0 & 0 & 0 & 0 & 0 & 0 & 0\\\\0 & 0 & 0 & 0 & 0 & 0 & 0 & 0 & 0 & 0 & 0 & 0 & 0 & 0 & 0 & 0 & 0 & 0 & 0 & 0 & 0 & 0 & 0 & 0 & 0 & 0 & 0 & 0 & 0 & 0 & 0 & 1\\end{array}\\right]$"
      ],
      "text/plain": [
       "Matrix([\n",
       "[1, 0, 0, 0, 0, 0, 0, 0, 0, 0, 0, 0, 0, 0, 0, 0, 0, 0, 0, 0, 0, 0, 0, 0, 0, 0, 0, 0, 0, 0, 0, 0],\n",
       "[0, 0, 0, 0, 0, 0, 0, 1, 0, 0, 0, 0, 0, 1, 1, 0, 0, 0, 0, 1, 1, 0, 0, 0, 0, 1, 1, 0, 0, 0, 0, 0],\n",
       "[0, 1, 1, 0, 0, 0, 0, 0, 1, 0, 0, 0, 0, 0, 0, 0, 0, 0, 0, 0, 0, 0, 0, 0, 0, 0, 0, 0, 0, 0, 0, 0],\n",
       "[0, 0, 0, 0, 0, 0, 0, 0, 0, 0, 0, 0, 0, 0, 0, 1, 0, 0, 0, 0, 0, 1, 1, 0, 0, 0, 0, 1, 1, 0, 0, 0],\n",
       "[0, 0, 0, 1, 1, 0, 0, 0, 0, 1, 1, 0, 0, 0, 0, 0, 1, 0, 0, 0, 0, 0, 0, 0, 0, 0, 0, 0, 0, 0, 0, 0],\n",
       "[0, 0, 0, 0, 0, 0, 0, 0, 0, 0, 0, 0, 0, 0, 0, 0, 0, 0, 0, 0, 0, 0, 0, 1, 0, 0, 0, 0, 0, 1, 1, 0],\n",
       "[0, 0, 0, 0, 0, 1, 1, 0, 0, 0, 0, 1, 1, 0, 0, 0, 0, 1, 1, 0, 0, 0, 0, 0, 1, 0, 0, 0, 0, 0, 0, 0],\n",
       "[0, 0, 0, 0, 0, 0, 0, 0, 0, 0, 0, 0, 0, 0, 0, 0, 0, 0, 0, 0, 0, 0, 0, 0, 0, 0, 0, 0, 0, 0, 0, 1]])"
      ]
     },
     "execution_count": 26,
     "metadata": {},
     "output_type": "execute_result"
    }
   ],
   "source": [
    "vetores_binarios = []\n",
    "tamanho_bits = tabela_verdade.columns.size\n",
    "\n",
    "for numero in vetor_dec:\n",
    "    try:\n",
    "        vetor = decimal_para_binario_vetor(int(numero), tamanho_bits)\n",
    "        vetores_binarios.append(vetor)\n",
    "    except (TypeError, ValueError) as e:\n",
    "        print(f\"Erro ao converter o número {numero}: {e}\")\n",
    "\n",
    "vetores_binarios = np.array(vetores_binarios).T\n",
    "sp.Matrix(vetores_binarios)"
   ]
  },
  {
   "cell_type": "code",
   "execution_count": 31,
   "id": "b6362e3a",
   "metadata": {},
   "outputs": [
    {
     "data": {
      "text/latex": [
       "$\\displaystyle \\left[\\begin{matrix}x_{1} x_{3} x_{5} x_{7} x_{9}\\\\x_{1} x_{10} x_{3} x_{6} x_{8} + x_{1} x_{10} x_{4} x_{6} x_{7} + x_{1} x_{4} x_{6} x_{8} x_{9} + x_{10} x_{2} x_{3} x_{5} x_{8} + x_{10} x_{2} x_{4} x_{5} x_{7} + x_{2} x_{3} x_{6} x_{7} x_{9} + x_{2} x_{4} x_{5} x_{8} x_{9}\\\\x_{1} x_{10} x_{3} x_{5} x_{7} + x_{1} x_{3} x_{5} x_{8} x_{9} + x_{1} x_{4} x_{5} x_{7} x_{9}\\\\x_{1} x_{10} x_{4} x_{6} x_{8} + x_{10} x_{2} x_{3} x_{6} x_{7} + x_{10} x_{2} x_{4} x_{5} x_{8} + x_{2} x_{3} x_{6} x_{8} x_{9} + x_{2} x_{4} x_{6} x_{7} x_{9}\\\\x_{1} x_{10} x_{3} x_{5} x_{8} + x_{1} x_{10} x_{4} x_{5} x_{7} + x_{1} x_{3} x_{6} x_{7} x_{9} + x_{1} x_{4} x_{5} x_{8} x_{9} + x_{2} x_{3} x_{5} x_{7} x_{9}\\\\x_{10} x_{2} x_{3} x_{6} x_{8} + x_{10} x_{2} x_{4} x_{6} x_{7} + x_{2} x_{4} x_{6} x_{8} x_{9}\\\\x_{1} x_{10} x_{3} x_{6} x_{7} + x_{1} x_{10} x_{4} x_{5} x_{8} + x_{1} x_{3} x_{6} x_{8} x_{9} + x_{1} x_{4} x_{6} x_{7} x_{9} + x_{10} x_{2} x_{3} x_{5} x_{7} + x_{2} x_{3} x_{5} x_{8} x_{9} + x_{2} x_{4} x_{5} x_{7} x_{9}\\\\x_{10} x_{2} x_{4} x_{6} x_{8}\\end{matrix}\\right]$"
      ],
      "text/plain": [
       "Matrix([\n",
       "[                                                                                                          x1*x3*x5*x7*x9],\n",
       "[x1*x10*x3*x6*x8 + x1*x10*x4*x6*x7 + x1*x4*x6*x8*x9 + x10*x2*x3*x5*x8 + x10*x2*x4*x5*x7 + x2*x3*x6*x7*x9 + x2*x4*x5*x8*x9],\n",
       "[                                                                       x1*x10*x3*x5*x7 + x1*x3*x5*x8*x9 + x1*x4*x5*x7*x9],\n",
       "[                                   x1*x10*x4*x6*x8 + x10*x2*x3*x6*x7 + x10*x2*x4*x5*x8 + x2*x3*x6*x8*x9 + x2*x4*x6*x7*x9],\n",
       "[                                    x1*x10*x3*x5*x8 + x1*x10*x4*x5*x7 + x1*x3*x6*x7*x9 + x1*x4*x5*x8*x9 + x2*x3*x5*x7*x9],\n",
       "[                                                                      x10*x2*x3*x6*x8 + x10*x2*x4*x6*x7 + x2*x4*x6*x8*x9],\n",
       "[ x1*x10*x3*x6*x7 + x1*x10*x4*x5*x8 + x1*x3*x6*x8*x9 + x1*x4*x6*x7*x9 + x10*x2*x3*x5*x7 + x2*x3*x5*x8*x9 + x2*x4*x5*x7*x9],\n",
       "[                                                                                                         x10*x2*x4*x6*x8]])"
      ]
     },
     "execution_count": 31,
     "metadata": {},
     "output_type": "execute_result"
    }
   ],
   "source": [
    "regra = sp.Matrix(np.dot(vetores_binarios, variaveis)) # expressões simbólicas\n",
    "regra"
   ]
  },
  {
   "cell_type": "code",
   "execution_count": 29,
   "id": "0d017a42",
   "metadata": {},
   "outputs": [],
   "source": [
    "def criar_substituicoes(bits):\n",
    "    simbolos = criar_vetor_de_simbolos(bits * 2)\n",
    "    substituicoes = {simbolos[i+1]: 1-simbolos[i] for i in range(0, len(simbolos), 2)}\n",
    "    return substituicoes"
   ]
  },
  {
   "cell_type": "code",
   "execution_count": 30,
   "id": "7233443e",
   "metadata": {},
   "outputs": [
    {
     "name": "stdout",
     "output_type": "stream",
     "text": [
      "5\n"
     ]
    },
    {
     "data": {
      "text/plain": [
       "{x2: 1 - x1, x4: 1 - x3, x6: 1 - x5, x8: 1 - x7, x10: 1 - x9}"
      ]
     },
     "execution_count": 30,
     "metadata": {},
     "output_type": "execute_result"
    }
   ],
   "source": [
    "print(bits)\n",
    "substituicoes = criar_substituicoes(bits)\n",
    "substituicoes"
   ]
  },
  {
   "cell_type": "code",
   "execution_count": 14,
   "id": "64eff115",
   "metadata": {},
   "outputs": [
    {
     "data": {
      "text/latex": [
       "$\\displaystyle \\left[\\begin{matrix}x_{1} x_{3} x_{5} x_{7} x_{9}\\\\- x_{1} x_{3} \\left(x_{5} - 1\\right) \\left(x_{7} - 1\\right) \\left(x_{9} - 1\\right) - x_{1} x_{7} \\left(x_{3} - 1\\right) \\left(x_{5} - 1\\right) \\left(x_{9} - 1\\right) - x_{1} x_{9} \\left(x_{3} - 1\\right) \\left(x_{5} - 1\\right) \\left(x_{7} - 1\\right) - x_{3} x_{5} \\left(x_{1} - 1\\right) \\left(x_{7} - 1\\right) \\left(x_{9} - 1\\right) + x_{3} x_{7} x_{9} \\left(x_{1} - 1\\right) \\left(x_{5} - 1\\right) - x_{5} x_{7} \\left(x_{1} - 1\\right) \\left(x_{3} - 1\\right) \\left(x_{9} - 1\\right) - x_{5} x_{9} \\left(x_{1} - 1\\right) \\left(x_{3} - 1\\right) \\left(x_{7} - 1\\right)\\\\x_{1} x_{5} \\left(- 3 x_{3} x_{7} x_{9} + x_{3} x_{7} + x_{3} x_{9} + x_{7} x_{9}\\right)\\\\x_{1} \\left(x_{3} - 1\\right) \\left(x_{5} - 1\\right) \\left(x_{7} - 1\\right) \\left(x_{9} - 1\\right) - x_{3} x_{7} \\left(x_{1} - 1\\right) \\left(x_{5} - 1\\right) \\left(x_{9} - 1\\right) - x_{3} x_{9} \\left(x_{1} - 1\\right) \\left(x_{5} - 1\\right) \\left(x_{7} - 1\\right) + x_{5} \\left(x_{1} - 1\\right) \\left(x_{3} - 1\\right) \\left(x_{7} - 1\\right) \\left(x_{9} - 1\\right) - x_{7} x_{9} \\left(x_{1} - 1\\right) \\left(x_{3} - 1\\right) \\left(x_{5} - 1\\right)\\\\x_{1} x_{3} x_{5} \\left(x_{7} - 1\\right) \\left(x_{9} - 1\\right) - x_{1} x_{3} x_{7} x_{9} \\left(x_{5} - 1\\right) + x_{1} x_{5} x_{7} \\left(x_{3} - 1\\right) \\left(x_{9} - 1\\right) + x_{1} x_{5} x_{9} \\left(x_{3} - 1\\right) \\left(x_{7} - 1\\right) - x_{3} x_{5} x_{7} x_{9} \\left(x_{1} - 1\\right)\\\\\\left(x_{1} - 1\\right) \\left(x_{5} - 1\\right) \\left(x_{3} \\left(x_{7} - 1\\right) \\left(x_{9} - 1\\right) + x_{7} \\left(x_{3} - 1\\right) \\left(x_{9} - 1\\right) + x_{9} \\left(x_{3} - 1\\right) \\left(x_{7} - 1\\right)\\right)\\\\x_{1} x_{3} x_{7} \\left(x_{5} - 1\\right) \\left(x_{9} - 1\\right) + x_{1} x_{3} x_{9} \\left(x_{5} - 1\\right) \\left(x_{7} - 1\\right) - x_{1} x_{5} \\left(x_{3} - 1\\right) \\left(x_{7} - 1\\right) \\left(x_{9} - 1\\right) + x_{1} x_{7} x_{9} \\left(x_{3} - 1\\right) \\left(x_{5} - 1\\right) + x_{3} x_{5} x_{7} \\left(x_{1} - 1\\right) \\left(x_{9} - 1\\right) + x_{3} x_{5} x_{9} \\left(x_{1} - 1\\right) \\left(x_{7} - 1\\right) + x_{5} x_{7} x_{9} \\left(x_{1} - 1\\right) \\left(x_{3} - 1\\right)\\\\- \\left(x_{1} - 1\\right) \\left(x_{3} - 1\\right) \\left(x_{5} - 1\\right) \\left(x_{7} - 1\\right) \\left(x_{9} - 1\\right)\\end{matrix}\\right]$"
      ],
      "text/plain": [
       "Matrix([\n",
       "[                                                                                                                                                                                                                               x1*x3*x5*x7*x9],\n",
       "[-x1*x3*(x5 - 1)*(x7 - 1)*(x9 - 1) - x1*x7*(x3 - 1)*(x5 - 1)*(x9 - 1) - x1*x9*(x3 - 1)*(x5 - 1)*(x7 - 1) - x3*x5*(x1 - 1)*(x7 - 1)*(x9 - 1) + x3*x7*x9*(x1 - 1)*(x5 - 1) - x5*x7*(x1 - 1)*(x3 - 1)*(x9 - 1) - x5*x9*(x1 - 1)*(x3 - 1)*(x7 - 1)],\n",
       "[                                                                                                                                                                                                  x1*x5*(-3*x3*x7*x9 + x3*x7 + x3*x9 + x7*x9)],\n",
       "[                                                     x1*(x3 - 1)*(x5 - 1)*(x7 - 1)*(x9 - 1) - x3*x7*(x1 - 1)*(x5 - 1)*(x9 - 1) - x3*x9*(x1 - 1)*(x5 - 1)*(x7 - 1) + x5*(x1 - 1)*(x3 - 1)*(x7 - 1)*(x9 - 1) - x7*x9*(x1 - 1)*(x3 - 1)*(x5 - 1)],\n",
       "[                                                                                                           x1*x3*x5*(x7 - 1)*(x9 - 1) - x1*x3*x7*x9*(x5 - 1) + x1*x5*x7*(x3 - 1)*(x9 - 1) + x1*x5*x9*(x3 - 1)*(x7 - 1) - x3*x5*x7*x9*(x1 - 1)],\n",
       "[                                                                                                                                                       (x1 - 1)*(x5 - 1)*(x3*(x7 - 1)*(x9 - 1) + x7*(x3 - 1)*(x9 - 1) + x9*(x3 - 1)*(x7 - 1))],\n",
       "[                               x1*x3*x7*(x5 - 1)*(x9 - 1) + x1*x3*x9*(x5 - 1)*(x7 - 1) - x1*x5*(x3 - 1)*(x7 - 1)*(x9 - 1) + x1*x7*x9*(x3 - 1)*(x5 - 1) + x3*x5*x7*(x1 - 1)*(x9 - 1) + x3*x5*x9*(x1 - 1)*(x7 - 1) + x5*x7*x9*(x1 - 1)*(x3 - 1)],\n",
       "[                                                                                                                                                                                                -(x1 - 1)*(x3 - 1)*(x5 - 1)*(x7 - 1)*(x9 - 1)]])"
      ]
     },
     "execution_count": 14,
     "metadata": {},
     "output_type": "execute_result"
    }
   ],
   "source": [
    "f = sp.simplify(regra.subs(substituicoes))\n",
    "f"
   ]
  },
  {
   "cell_type": "code",
   "execution_count": 15,
   "id": "7f5e1bd9",
   "metadata": {},
   "outputs": [
    {
     "data": {
      "text/plain": [
       "[(0, 0, 0),\n",
       " (0, 0, 1),\n",
       " (0, 1, 0),\n",
       " (0, 1, 1),\n",
       " (1, 0, 0),\n",
       " (1, 0, 1),\n",
       " (1, 1, 0),\n",
       " (1, 1, 1)]"
      ]
     },
     "execution_count": 15,
     "metadata": {},
     "output_type": "execute_result"
    }
   ],
   "source": [
    "from itertools import product\n",
    "\n",
    "# Gerar todas as combinações de 0 e 1 para as 5 variáveis\n",
    "entradas = list(product([0, 1], repeat=3))\n",
    "entradas"
   ]
  },
  {
   "cell_type": "code",
   "execution_count": null,
   "id": "ad780267",
   "metadata": {},
   "outputs": [],
   "source": [
    "for i, e in enumerate(f):\n",
    "    variaveis_ordenadas = sorted(e.free_symbols, key=lambda s: s.name)\n",
    "    print(f\"F{i+1}({\", \".join(str(s) for s in variaveis_ordenadas)}) = {e}\")\n",
    "    print(\"-------------------------\")\n",
    "    for vals in entradas:\n",
    "        valor = e.subs({var: vals[i] for i, var in enumerate(variaveis_ordenadas)})\n",
    "        print(f\"{vals[0]}  {vals[1]}  {vals[2]}  |    {valor}\")"
   ]
  }
 ],
 "metadata": {
  "kernelspec": {
   "display_name": "base",
   "language": "python",
   "name": "python3"
  },
  "language_info": {
   "codemirror_mode": {
    "name": "ipython",
    "version": 3
   },
   "file_extension": ".py",
   "mimetype": "text/x-python",
   "name": "python",
   "nbconvert_exporter": "python",
   "pygments_lexer": "ipython3",
   "version": "3.12.7"
  }
 },
 "nbformat": 4,
 "nbformat_minor": 5
}
